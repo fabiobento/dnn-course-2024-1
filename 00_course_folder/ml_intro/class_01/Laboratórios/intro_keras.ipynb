{
  "cells": [
    {
      "cell_type": "markdown",
      "metadata": {
        "id": "YHI3vyhv5p85"
      },
      "source": [
        "# Lista de exercícios sobre TensorFlow com Keras - Funcionamento Básico"
      ]
    },
    {
      "cell_type": "markdown",
      "metadata": {
        "id": "mUOh9sSXQ1qh"
      },
      "source": [
        "## Introdução a KERAS"
      ]
    },
    {
      "cell_type": "markdown",
      "metadata": {
        "id": "B6aeLRH9Q14W"
      },
      "source": [
        "Keras é um framework em python para DL  que fornece uma maneira conveniente de definir e treinar quase qualquer tipo de modelo de DL. Keras foi inicialmente desenvolvido para pesquisadores, com o objetivo de permitir uma rápida experimentação.\n",
        "​\n",
        "Keras possui os seguintes recursos principais:\n",
        "* Permite que o mesmo código seja executado sem problemas na CPU ou na GPU.\n",
        "* Possui uma API amigável que facilita a prototipagem rápida de modelos de DL.\n",
        "* Tem suporte embutido para redes convolucionais (para visão computacional), redes recorrentes (para processamento sequencial) e qualquer combinação de ambos.\n",
        "* Suporta arquiteturas de rede arbitrárias:\n",
        "  * modelos com múltiplas entradas ou múltiplas saídas,\n",
        "  * compartilhamento de camadas,\n",
        "  * compartilhamento de modelos e assim por diante.\n",
        "  \n",
        "Isso significa que Keras é apropriado para construir essencialmente qualquer modelo de DL, desde uma *generative adversarial network* a uma *neural Turing machine*.\n",
        "\n",
        "Keras é distribuído sob a licença MIT permissiva, o que significa que pode ser usado livremente em projetos comerciais. É compatível com qualquer versão do Python de 2.7 a 3.6 (a partir de meados de 2017).\n",
        "​\n",
        "Keras tem mais de 200.000 usuários, desde pesquisadores acadêmicos e engenheiros de startups e grandes empresas até estudantes de pós-graduação e amadores. Keras é usado no Google, Netflix, Uber, CERN, Yelp, Square e centenas de startups trabalhando em uma ampla gama de problemas. Keras também é uma estrutura popular no Kaggle, o site de competição de ML, onde quase todas as competições recentes de DL foram vencidas usando modelos Keras."
      ]
    },
    {
      "cell_type": "markdown",
      "metadata": {
        "id": "TVxdEGfxRNbX"
      },
      "source": [
        "### Desenvolvendo com Keras: uma visão geral rápida"
      ]
    },
    {
      "cell_type": "markdown",
      "metadata": {
        "id": "YgTFwT9KRTnq"
      },
      "source": [
        "O fluxo de trabalho típico do Keras segue a seguinte sequência de passos:\n",
        "1. ** Defina seus dados de treinamento **: tensores de entrada e tensores de destino.\n",
        "1. ** Defina uma rede de camadas ** (ou modelo) que mapeie suas entradas para seus destinos.\n",
        "1. ** Configure o processo de aprendizado ** escolhendo uma ** função de perda **, um ** otimizador ** e algumas ** métricas ** para monitorar.\n",
        "1. ** Iterar em seus dados de treinamento ** chamando o método `fit()` do seu modelo.\n",
        "\n",
        "Existem duas formas de definir um modelo:\n",
        "1. usando a classe ** Sequential ** (somente para pilhas lineares de camadas, que é a arquitetura de rede mais comum) ou\n",
        "1. a ** API funcional ** (para gráficos acíclicos dirigidos de camadas, que permite construir arquiteturas completamente arbitrárias).\n",
        "\n",
        "Antes de iniciar vamos importar o Tensorflow especificando a versão desejada ([The %tensorflow_version magic](https://colab.research.google.com/notebooks/tensorflow_version.ipynb#scrollTo=aR_btJrKGdw7)) e imprimir a versão que foi importada:"
      ]
    },
    {
      "cell_type": "code",
      "execution_count": null,
      "metadata": {
        "colab": {
          "base_uri": "https://localhost:8080/",
          "height": 35
        },
        "id": "_tKoNpYCQcwc",
        "outputId": "13937798-0d35-4c9f-80f4-989968801cd2"
      },
      "outputs": [
        {
          "name": "stdout",
          "output_type": "stream",
          "text": [
            "2.1.0\n"
          ]
        }
      ],
      "source": [
        "try:\n",
        "  # A diretiva \"magic\" %tensorflow_version só existe no Colab.\n",
        "  %tensorflow_version 2.x\n",
        "except Exception:\n",
        "  pass\n",
        "\n",
        "import tensorflow as tf\n",
        "\n",
        "print(tf.__version__)"
      ]
    },
    {
      "cell_type": "markdown",
      "metadata": {
        "id": "M1W6dGCfRcac"
      },
      "source": [
        "Como exemplo, veja um modelo de duas camadas definido usando a classe `Sequential` (observe que estamos passando a forma esperada dos dados de entrada para a primeira camada):"
      ]
    },
    {
      "cell_type": "code",
      "execution_count": null,
      "metadata": {
        "colab": {
          "base_uri": "https://localhost:8080/",
          "height": 235
        },
        "id": "VTWBffvXReeo",
        "outputId": "2a414479-771c-4df2-9ddb-a7744db925cb"
      },
      "outputs": [
        {
          "name": "stdout",
          "output_type": "stream",
          "text": [
            "Model: \"sequential\"\n",
            "_________________________________________________________________\n",
            "Layer (type)                 Output Shape              Param #   \n",
            "=================================================================\n",
            "dense (Dense)                (None, 32)                25120     \n",
            "_________________________________________________________________\n",
            "dense_1 (Dense)              (None, 10)                330       \n",
            "=================================================================\n",
            "Total params: 25,450\n",
            "Trainable params: 25,450\n",
            "Non-trainable params: 0\n",
            "_________________________________________________________________\n"
          ]
        }
      ],
      "source": [
        "model = tf.keras.Sequential()\n",
        "model.add(tf.keras.layers.Dense(32, activation='relu', input_shape=(784,)))\n",
        "model.add(tf.keras.layers.Dense(10, activation='softmax'))\n",
        "\n",
        "model.summary()"
      ]
    },
    {
      "cell_type": "markdown",
      "metadata": {
        "id": "hBzTAo42RfPI"
      },
      "source": [
        "E aqui está o mesmo modelo definido usando a `functional API`:"
      ]
    },
    {
      "cell_type": "code",
      "execution_count": null,
      "metadata": {
        "colab": {
          "base_uri": "https://localhost:8080/",
          "height": 272
        },
        "id": "dZTt9va9RwBa",
        "outputId": "0ae507f9-f8de-42d3-974d-de32a63c6851"
      },
      "outputs": [
        {
          "name": "stdout",
          "output_type": "stream",
          "text": [
            "Model: \"model\"\n",
            "_________________________________________________________________\n",
            "Layer (type)                 Output Shape              Param #   \n",
            "=================================================================\n",
            "input_1 (InputLayer)         [(None, 784)]             0         \n",
            "_________________________________________________________________\n",
            "dense_2 (Dense)              (None, 32)                25120     \n",
            "_________________________________________________________________\n",
            "dense_3 (Dense)              (None, 10)                330       \n",
            "=================================================================\n",
            "Total params: 25,450\n",
            "Trainable params: 25,450\n",
            "Non-trainable params: 0\n",
            "_________________________________________________________________\n"
          ]
        }
      ],
      "source": [
        "input_tensor = tf.keras.layers.Input(shape=(784,))\n",
        "x = tf.keras.layers.Dense(32, activation='relu')(input_tensor)\n",
        "output_tensor = tf.keras.layers.Dense(10, activation='softmax')(x)\n",
        "model = tf.keras.Model(inputs=input_tensor, outputs=output_tensor)\n",
        "\n",
        "model.summary()"
      ]
    },
    {
      "cell_type": "markdown",
      "metadata": {
        "id": "H2o3Z0lOUCB0"
      },
      "source": [
        "** Com a API funcional, você está manipulando os tensores de dados que o modelo processa e aplicando camadas a esse tensores como se fossem funções. **\n",
        "\n",
        "Depois que a arquitetura do modelo for definida, não importa se você usou um modelo sequencial ou a `functional API`. Todas as etapas a seguir são as mesmas.\n",
        "\n",
        "O processo de aprendizado é configurado na etapa de compilação, na qual você especifica as funções do otimizador e da perda que o modelo deve usar, bem como as métricas que deseja monitorar durante o treinamento.\n",
        "\n",
        "Veja um exemplo com uma única função de perda, que é de longe o caso mais comum:"
      ]
    },
    {
      "cell_type": "code",
      "execution_count": null,
      "metadata": {
        "id": "1Ngf_K_kUKyy"
      },
      "outputs": [],
      "source": [
        "model.compile(optimizer=tf.keras.optimizers.RMSprop(lr=0.001),loss='mse',metrics=['accuracy'])"
      ]
    },
    {
      "cell_type": "markdown",
      "metadata": {
        "id": "IVg5BptnUQIi"
      },
      "source": [
        "Agora veremos todos estos passos em detalhe, usando um exemplo muito didatico de como construir um modelo em Keras, proposto no curso de [Udacity sobre tensorflow 2.0](https://www.udacity.com/course/intro-to-tensorflow-for-deep-learning--ud187). Os vídeos do curso recomendados para a próxima seção estão listados a seguir:\n",
        "\n",
        "1. [What is Machine Learning?](https://www.youtube.com/watch?time_continue=4&v=UxKbUwj5hmU)\n",
        "1. [Colab: Converting Celsius to Fahrenheit](https://www.youtube.com/watch?v=BmZJDptVYB0)\n",
        "1. [Dense Layers](https://www.youtube.com/watch?time_continue=3&v=lYC2rHBYcCI)"
      ]
    },
    {
      "cell_type": "markdown",
      "metadata": {
        "id": "3NcjQKM-tIoC"
      },
      "source": [
        "## Criando o primeiro modelo"
      ]
    },
    {
      "cell_type": "markdown",
      "metadata": {
        "id": "qBoQE7tLxQJu"
      },
      "source": [
        "### Introdução"
      ]
    },
    {
      "cell_type": "markdown",
      "metadata": {
        "id": "F8YVA_634OFk"
      },
      "source": [
        "Vamos tentar manter as coisas simples aqui e apenas introduzir conceitos básicos. Mais tarde, cobriremos problemas mais avançados.\n",
        "\n",
        "O problema que vamos resolver é converter de Celsius para Fahrenheit, onde a fórmula aproximada é:\n",
        "\n",
        "\n",
        "$$ f = c \\times 1.8 + 32 $$\n",
        "\n",
        "\n",
        "Naturalmente, seria simples o suficiente criar uma função Python convencional que realiza diretamente esse cálculo, mas isso não seria aprendizado de máquina.\n",
        "\n",
        "\n",
        "Em vez disso, forneceremos ao TensorFlow alguns valores de amostra Celsius (0, 8, 15, 22, 38) e seus valores Fahrenheit correspondentes (32, 46, 59, 72, 100).\n",
        "Então, vamos treinar um modelo que descubra a fórmula acima através do processo de treinamento."
      ]
    },
    {
      "cell_type": "markdown",
      "metadata": {
        "id": "RC1vn5E64Gk5"
      },
      "source": [
        "### Importar dependências"
      ]
    },
    {
      "cell_type": "markdown",
      "metadata": {
        "id": "fA93WUy1zzWf"
      },
      "source": [
        "Primeiro, importe o TensorFlow. Aqui, estamos chamando `tf` para facilidade de uso. Também dizemos para exibir apenas erros.\n",
        "\n",
        "Em seguida, importe [NumPy](http://www.numpy.org/) como `np`. `Numpy` nos ajuda a representar nossos dados como listas de alto desempenho"
      ]
    },
    {
      "cell_type": "code",
      "execution_count": null,
      "metadata": {
        "id": "X9uIpOS2zx7k"
      },
      "outputs": [],
      "source": [
        "from __future__ import absolute_import, division, print_function\n",
        "\n",
        "try:\n",
        "  # A diretiva \"magic\" %tensorflow_version só existe no Colab.\n",
        "  %tensorflow_version 2.x\n",
        "except Exception:\n",
        "  pass\n",
        "\n",
        "import tensorflow as tf\n",
        "\n",
        "tf.compat.v1.logging.set_verbosity(tf.compat.v1.logging.ERROR)\n",
        "\n",
        "import numpy as np"
      ]
    },
    {
      "cell_type": "markdown",
      "metadata": {
        "id": "suFoJQTAPHSF"
      },
      "source": [
        "### Configurando os dados de treinamento"
      ]
    },
    {
      "cell_type": "markdown",
      "metadata": {
        "id": "AC3EQFi20buB"
      },
      "source": [
        "**ML supervisionado** trata em descobrir os parâmetros de um modelo dado um conjunto de entradas e saídas.\n",
        "* Como a tarefa neste Codelab é criar um modelo que possa fornecer a temperatura em Fahrenheit quando recebermos os graus em Celsius, criamos duas listas `celsius_q` e` fahrenheit_a` que podemos usar para treinar nosso modelo."
      ]
    },
    {
      "cell_type": "code",
      "execution_count": null,
      "metadata": {
        "colab": {
          "base_uri": "https://localhost:8080/",
          "height": 145
        },
        "id": "gg4pn6aI1vms",
        "outputId": "059dda83-4675-443c-b081-fbe667ec18f8"
      },
      "outputs": [
        {
          "name": "stdout",
          "output_type": "stream",
          "text": [
            "-40.0 degrees Celsius = -40.0 degrees Fahrenheit\n",
            "-10.0 degrees Celsius = 14.0 degrees Fahrenheit\n",
            "0.0 degrees Celsius = 32.0 degrees Fahrenheit\n",
            "8.0 degrees Celsius = 46.0 degrees Fahrenheit\n",
            "15.0 degrees Celsius = 59.0 degrees Fahrenheit\n",
            "22.0 degrees Celsius = 72.0 degrees Fahrenheit\n",
            "38.0 degrees Celsius = 100.0 degrees Fahrenheit\n"
          ]
        }
      ],
      "source": [
        "celsius_q    = np.array([-40, -10,  0,  8, 15, 22,  38],  dtype=float)\n",
        "fahrenheit_a = np.array([-40,  14, 32, 46, 59, 72, 100],  dtype=float)\n",
        "\n",
        "for i,c in enumerate(celsius_q):\n",
        "  print(\"{} degrees Celsius = {} degrees Fahrenheit\".format(c, fahrenheit_a[i]))"
      ]
    },
    {
      "cell_type": "markdown",
      "metadata": {
        "id": "oSiwoxfd4OgG"
      },
      "source": [
        "#### Alguma terminologia de Machine Learning"
      ]
    },
    {
      "cell_type": "markdown",
      "metadata": {
        "id": "wwJGmDrQ0EoB"
      },
      "source": [
        "- **Características (*Features*)** - A(s) entrada(s) para o nosso modelo. Neste caso, um único valor - a temperatura em graus Celsius.\n",
        "\n",
        "- **Rotulos (*Labels*)** - A saída prevista pelo nosso modelo. Neste caso, um único valor - a temperatura em Fahrenheit.\n",
        "\n",
        "- **Exemplos** - Um par de entradas / saídas usadas durante o treinamento. No nosso caso de valores de `celsius_q` e` fahrenheit_a` em um índice específico, como` (22,72) `..\n"
      ]
    },
    {
      "cell_type": "markdown",
      "metadata": {
        "id": "BEmvJ3RjL29C"
      },
      "source": [
        "### Criando o modelo"
      ]
    },
    {
      "cell_type": "markdown",
      "metadata": {
        "id": "Ysb8V5PHMFED"
      },
      "source": [
        "Usaremos o modelo mais simples possível. uma rede Densa. Como o problema é simples, essa rede exigirá apenas uma única camada, com um único neurônio."
      ]
    },
    {
      "cell_type": "markdown",
      "metadata": {
        "id": "eDTCzi30MIkx"
      },
      "source": [
        "#### Construindo uma camada (*layer*)"
      ]
    },
    {
      "cell_type": "markdown",
      "metadata": {
        "id": "VM7_9Klvq7MO"
      },
      "source": [
        "Vamos chamar a camada como `l0` e criá-la instanciando` tf.keras.layers.Dense` com a seguinte configuração:\n",
        "\n",
        "* `input_shape = [1]` - Isso especifica que a entrada para esta camada é um valor único. Ou seja, o `shape` é uma matriz unidimensional com um unico elemento. Como essa é a primeira (e única) camada, essa forma de entrada é a forma de entrada do modelo inteiro. O valor único é um número de ponto flutuante, representando graus Celsius.\n",
        "\n",
        "* `units = 1` - Isto especifica o número de neurônios na camada. O número de neurônios define quantas variáveis internas a camada tem que tentar aprender para resolver o problema (mais tarde). Já que essa é a camada final, ela também é o tamanho da saída do modelo - um único valor flutuante representando graus Fahrenheit. (Em uma rede multicamadas, o tamanho e a forma da camada precisariam corresponder ao `input_shape` da próxima camada.)"
      ]
    },
    {
      "cell_type": "code",
      "execution_count": null,
      "metadata": {
        "id": "pRllo2HLfXiu"
      },
      "outputs": [],
      "source": [
        "l0 = tf.keras.layers.Dense(units=1, input_shape=[1])"
      ]
    },
    {
      "cell_type": "markdown",
      "metadata": {
        "id": "cJeeP7whMPth"
      },
      "source": [
        "#### Montando camadas no modelo"
      ]
    },
    {
      "cell_type": "markdown",
      "metadata": {
        "id": "_F00_J9duLBD"
      },
      "source": [
        "Depois que as camadas são definidas, elas precisam ser montadas em um modelo. A definição de modelo sequencial usa uma lista de camadas como argumento, especificando a ordem de cálculo da entrada para a saída.\n",
        "\n",
        "Este modelo tem apenas uma camada, `l0`"
      ]
    },
    {
      "cell_type": "code",
      "execution_count": null,
      "metadata": {
        "colab": {
          "base_uri": "https://localhost:8080/",
          "height": 185
        },
        "id": "cSp-GpLSuMRq",
        "outputId": "b52df7aa-c8d1-4df1-9019-81b18dc74c85"
      },
      "outputs": [
        {
          "name": "stdout",
          "output_type": "stream",
          "text": [
            "Model: \"sequential_3\"\n",
            "_________________________________________________________________\n",
            "Layer (type)                 Output Shape              Param #   \n",
            "=================================================================\n",
            "dense_9 (Dense)              (None, 1)                 2         \n",
            "=================================================================\n",
            "Total params: 2\n",
            "Trainable params: 2\n",
            "Non-trainable params: 0\n",
            "_________________________________________________________________\n"
          ]
        }
      ],
      "source": [
        "model = tf.keras.Sequential([l0])\n",
        "\n",
        "model.summary()"
      ]
    },
    {
      "cell_type": "markdown",
      "metadata": {
        "id": "t7pfHfWxust0"
      },
      "source": [
        "**NOTA**. Muitas vezes, você verá as camadas definidas dentro da definição do modelo, em vez codigo mostrado anteriormente, ou seja:\n",
        "\n",
        "```python\n",
        "model = tf.keras.Sequential([tf.keras.layers.Dense(units=1, input_shape=[1])])\n",
        "```"
      ]
    },
    {
      "cell_type": "markdown",
      "metadata": {
        "id": "qQJHWgTqL-zx"
      },
      "source": [
        "### Compile o modelo, com as funções `loss` e `optimizer`"
      ]
    },
    {
      "cell_type": "markdown",
      "metadata": {
        "id": "kiZG7uhm8qCF"
      },
      "source": [
        "Antes do treino, o modelo deve ser compilado. Neste caso, ao ser compilado, o modelo deve especificar:\n",
        "\n",
        "- **Função de perda (*Loss Function*)** - Uma maneira de medir o quão longe as previsões estão do resultado desejado. (A diferença medida é chamada de **perda (loss)**).\n",
        "\n",
        "- **Função de otimização (*Optimizer function*)** - Uma maneira de ajustar os valores internos para reduzir a perda.\n"
      ]
    },
    {
      "cell_type": "code",
      "execution_count": null,
      "metadata": {
        "id": "m8YQN1H41L-Y"
      },
      "outputs": [],
      "source": [
        "model.compile(loss='mean_squared_error', optimizer=tf.keras.optimizers.Adam(0.1))"
      ]
    },
    {
      "cell_type": "markdown",
      "metadata": {
        "id": "17M3Pqv4P52R"
      },
      "source": [
        "\n",
        "As funções de perda e de otimização são usadas durante o treinamento (`model.fit ()`, abaixo). Primeiro é calculada a perda em cada ponto e depois minimizada via a otimização dos parâmetros da camadad. **O ato de calcular a perda atual de um modelo e depois aperfeiçoá-lo é precisamente o que é chamado de treinamento.**\n",
        "\n",
        "Durante o treinamento, a função de otimização é usada para calcular os ajustes nos parâmetros internos do modelo.\n",
        "* O objetivo é ajustar os parâmetros internos até que o modelo (que é realmente uma função matemática) espelhe a equação real para converter Celsius em Fahrenheit.\n",
        "\n",
        "TensorFlow usa análise numérica para realizar esse ajuste, e toda essa complexidade está transparente para o usuario, então não entraremos nos detalhes aqui. O que é útil saber sobre esses parâmetros é:\n",
        "\n",
        "A função de perda ([mean squared error](https://en.wikipedia.org/wiki/Mean_squared_error)) e o otimizador ([Adam](https://machinelearningmastery.com/adam-optimization-algorithm-for-deep -aprendizagem /)) usados aqui são o padrão para modelos simples como este, mas muitos outros estão disponíveis. Não é importante saber como essas funções específicas funcionam neste momento.\n",
        "\n",
        "Um hiper-parâmetro do otimizador que você precisa entender ao criar seus próprios modelos é a taxa de aprendizado ($0.1$ no código acima). Este é o tamanho do passo tomado ao ajustar os parâmetros do modelo.\n",
        "* Se o valor for muito pequeno, serão necessárias muitas iterações para treinar o modelo.\n",
        "* Demasiado grande e a precisão diminui.\n",
        "Encontrar um bom valor geralmente envolve alguma tentativa e erro, mas o intervalo geralmente é de $0,001$ (padrão) e $0,1$."
      ]
    },
    {
      "cell_type": "markdown",
      "metadata": {
        "id": "i6qERyOSMkwD"
      },
      "source": [
        "### Treinar o modelo"
      ]
    },
    {
      "cell_type": "markdown",
      "metadata": {
        "id": "c-Jk4dG91dvD"
      },
      "source": [
        "Treine o modelo chamando o método `fit`.\n",
        "\n",
        "Durante o treinamento, o modelo aceita valores Celsius, realiza um cálculo usando os parâmetros internos atuais (chamadas de **pesos**) e gera valores que são equivalentes a Fahrenheit. Como os pesos são inicialmente definidos aleatoriamente, a saída não estará próxima do valor correto. A diferença entre a saída real e a saída desejada é calculada usando a função de perda, e a função do otimização direciona como os pesos devem ser ajustados.\n",
        "\n",
        "Este ciclo de calcular, comparar, ajustar é controlado pelo método `fit`.\n",
        "* O primeiro argumento é as entradas.\n",
        "* O segundo argumento são as saídas desejadas.\n",
        "* O argumento `epochs` especifica quantas vezes este ciclo deve ser executado.\n",
        "* O argumento` verbose` controla quanta saída o método produz."
      ]
    },
    {
      "cell_type": "code",
      "execution_count": null,
      "metadata": {
        "colab": {
          "base_uri": "https://localhost:8080/",
          "height": 34
        },
        "id": "lpRrl7WK10Pq",
        "outputId": "20d652d9-d8fc-438f-c4b5-38e1e1d7331c"
      },
      "outputs": [
        {
          "name": "stdout",
          "output_type": "stream",
          "text": [
            "Finished training the model\n"
          ]
        }
      ],
      "source": [
        "history = model.fit(celsius_q, fahrenheit_a, epochs=500, verbose=False)\n",
        "print(\"Finished training the model\")"
      ]
    },
    {
      "cell_type": "markdown",
      "metadata": {
        "id": "Kgysn9WpQEEG"
      },
      "source": [
        "### Exibindo estatísticas de treinamento"
      ]
    },
    {
      "cell_type": "markdown",
      "metadata": {
        "id": "0-QsNCLD4MJZ"
      },
      "source": [
        "O método `fit` retorna um objeto chamado `history`. Podemos usar esse objeto para plotar como a perda de nosso modelo diminui após cada época de treinamento. Uma perda alta significa que os graus Fahrenheit que o modelo prevê estão longe do valor correspondente em `fahrenheit_a`.\n",
        "\n",
        "Usaremos o [Matplotlib](https://matplotlib.org/) para visualizar isso (você pode usar outra ferramenta).\n",
        "Como você pode ver, nosso modelo melhora muito rapidamente no início, e então tem uma melhora constante e lenta até que esteja muito próximo do \"perfeito\" no final.\n"
      ]
    },
    {
      "cell_type": "code",
      "execution_count": null,
      "metadata": {
        "colab": {
          "base_uri": "https://localhost:8080/",
          "height": 296
        },
        "id": "IeK6BzfbdO6_",
        "outputId": "6e9c8f59-86d1-455e-cce1-e1fa60f23ca6"
      },
      "outputs": [
        {
          "data": {
            "text/plain": [
              "[<matplotlib.lines.Line2D at 0x7ff6700e1080>]"
            ]
          },
          "execution_count": 17,
          "metadata": {
            "tags": []
          },
          "output_type": "execute_result"
        },
        {
          "data": {
            "image/png": "[encoded data removed]",
            "text/plain": [
              "<Figure size 432x288 with 1 Axes>"
            ]
          },
          "metadata": {
            "tags": []
          },
          "output_type": "display_data"
        }
      ],
      "source": [
        "import matplotlib.pyplot as plt\n",
        "plt.xlabel('Epoch Number')\n",
        "plt.ylabel(\"Loss Magnitude\")\n",
        "plt.plot(history.history['loss'])"
      ]
    },
    {
      "cell_type": "markdown",
      "metadata": {
        "id": "q-_nsSEgQ48O"
      },
      "source": [
        "### Use o modelo para prever valores"
      ]
    },
    {
      "cell_type": "markdown",
      "metadata": {
        "id": "LtQGDMob5LOD"
      },
      "source": [
        "Agora você tem um modelo que foi treinado para aprender a relação entre `celsius_q` e` fahrenheit_a`. Você pode usar o método de previsão para calcular os graus Fahrenheit para graus Celsius anteriormente desconhecidos.\n",
        "\n",
        "Então, por exemplo, se o valor Celsius for 100, o que você acha que será o resultado Fahrenheit? Tome uma suposição antes de você executar este código."
      ]
    },
    {
      "cell_type": "code",
      "execution_count": null,
      "metadata": {
        "colab": {
          "base_uri": "https://localhost:8080/",
          "height": 34
        },
        "id": "oxNzL4lS2Gui",
        "outputId": "ba20f3d5-87e5-430d-fb70-8bf0b1e82a2c"
      },
      "outputs": [
        {
          "name": "stdout",
          "output_type": "stream",
          "text": [
            "[[211.33437]]\n"
          ]
        }
      ],
      "source": [
        "print(model.predict([100.0]))"
      ]
    },
    {
      "cell_type": "markdown",
      "metadata": {
        "id": "jApk6tZ1fBg1"
      },
      "source": [
        "A resposta correta é $100 \\times 1.8 + 32 = 212$, então nosso modelo está indo muito bem.\n",
        "\n",
        "#### Recapitulando\n",
        "\n",
        "* Criamos um modelo com uma camada Densa.\n",
        "* Treinamos com 3500 exemplos (7 pares, mais de 500 épocas).\n",
        "\n",
        "Nosso modelo ajustou os parâmetros (pesos) na camada Densa até que ele pudesse retornar o valor Fahrenheit correto para qualquer valor Celsius. (Lembre-se, 100 Celsius não fazia parte dos nossos dados de treinamento).\n",
        "\n"
      ]
    },
    {
      "cell_type": "markdown",
      "metadata": {
        "id": "YjgYYERKTVrt"
      },
      "source": [
        "### Olhando para os pesos da camada"
      ]
    },
    {
      "cell_type": "markdown",
      "metadata": {
        "id": "zRrOky5gm20Z"
      },
      "source": [
        "Finalmente, vamos imprimir as parâmetros internas da camada Densa."
      ]
    },
    {
      "cell_type": "code",
      "execution_count": null,
      "metadata": {
        "colab": {
          "base_uri": "https://localhost:8080/",
          "height": 34
        },
        "id": "kmIkVdkbnZJI",
        "outputId": "a2842bc9-3e9f-4ff5-c202-3a35b6655ca1"
      },
      "outputs": [
        {
          "name": "stdout",
          "output_type": "stream",
          "text": [
            "These are the layer variables: [array([[1.8211087]], dtype=float32), array([29.22349], dtype=float32)]\n"
          ]
        }
      ],
      "source": [
        "print(\"These are the layer variables: {}\".format(l0.get_weights()))"
      ]
    },
    {
      "cell_type": "markdown",
      "metadata": {
        "id": "RSplSnMvnWC-"
      },
      "source": [
        "A primeira variável está próxima de ~ 1,8 e a segunda de ~ 32. Esses valores (1,8 e 32) são as variáveis reais na fórmula de conversão real.\n",
        "\n",
        "Isso está realmente próximo dos valores na fórmula de conversão. Realmente uma camada Densa funciona para um único neurônio com uma única entrada e uma única saída, a matemática interna parece a mesma que [a equação de uma linha](https: / /pt.wikipedia.org/wiki/Linear_equation#Slope%E2%80%93intercept_form), $y = mx + b$, que tem a mesma forma que a equação de conversão, $f = 1.8c + 32$.\n",
        "\n",
        "Ja que a forma é a mesma, os parâmetros devem convergir nos valores padrão de $1,8$ e $32$ o que é exatamente o que aconteceu.\n",
        "\n",
        "Com neurônios adicionais, entradas adicionais e saídas adicionais, a fórmula se torna muito mais complexa, mas a ideia é a mesma."
      ]
    },
    {
      "cell_type": "markdown",
      "metadata": {
        "id": "wLvSkbZyrhmn"
      },
      "source": [
        "#### Um pequeno experimento"
      ]
    },
    {
      "cell_type": "markdown",
      "metadata": {
        "id": "WtCE4TUqrgLZ"
      },
      "source": [
        "\n",
        "Apenas por diversão, e se criarmos camadas densas com diferentes unidades, implicando que também temos mais parâmetros?"
      ]
    },
    {
      "cell_type": "code",
      "execution_count": null,
      "metadata": {
        "colab": {
          "base_uri": "https://localhost:8080/",
          "height": 538
        },
        "id": "Y2zTA-rDS5Xk",
        "outputId": "61fcfed1-65fc-4dd4-a481-087d85303874"
      },
      "outputs": [
        {
          "name": "stdout",
          "output_type": "stream",
          "text": [
            "Model: \"sequential_4\"\n",
            "_________________________________________________________________\n",
            "Layer (type)                 Output Shape              Param #   \n",
            "=================================================================\n",
            "dense_10 (Dense)             (None, 4)                 8         \n",
            "_________________________________________________________________\n",
            "dense_11 (Dense)             (None, 4)                 20        \n",
            "_________________________________________________________________\n",
            "dense_12 (Dense)             (None, 1)                 5         \n",
            "=================================================================\n",
            "Total params: 33\n",
            "Trainable params: 33\n",
            "Non-trainable params: 0\n",
            "_________________________________________________________________\n",
            "Finished training the model\n",
            "[[211.74744]]\n",
            "Model predicts that 100 degrees Celsius is: [[211.74744]] degrees Fahrenheit\n",
            "These are the l0 variables: [array([[ 0.17612968,  0.7264293 , -0.270562  , -0.08248407]],\n",
            "      dtype=float32), array([-0.77135736,  3.528617  , -3.3204653 ,  2.992622  ], dtype=float32)]\n",
            "\n",
            "These are the l1 variables: [array([[ 0.49111125,  0.06399501,  0.06550459,  0.02836283],\n",
            "       [-0.93707514,  0.14865969, -0.4193285 ,  1.0387841 ],\n",
            "       [ 0.8914722 ,  0.31446204,  0.53367865, -0.30922005],\n",
            "       [-0.38411075,  0.43954465, -0.9709107 ,  0.2914197 ]],\n",
            "      dtype=float32), array([-3.5982   ,  2.6704834, -3.4081178,  3.2857616], dtype=float32)]\n",
            "\n",
            "These are the l2 variables: [array([[-0.66238326],\n",
            "       [ 0.32731274],\n",
            "       [-1.096439  ],\n",
            "       [ 1.0673487 ]], dtype=float32), array([3.3213942], dtype=float32)]\n",
            "\n"
          ]
        }
      ],
      "source": [
        "l0 = tf.keras.layers.Dense(units=4, input_shape=[1])\n",
        "l1 = tf.keras.layers.Dense(units=4)\n",
        "l2 = tf.keras.layers.Dense(units=1)\n",
        "model = tf.keras.Sequential([l0, l1, l2])\n",
        "\n",
        "model.summary()\n",
        "\n",
        "model.compile(loss='mean_squared_error', optimizer=tf.keras.optimizers.Adam(0.1))\n",
        "\n",
        "model.fit(celsius_q, fahrenheit_a, epochs=500, verbose=False)\n",
        "\n",
        "print(\"Finished training the model\")\n",
        "\n",
        "print(model.predict([100.0]))\n",
        "\n",
        "print(\"Model predicts that 100 degrees Celsius is: {} degrees Fahrenheit\".format(model.predict([100.0])))\n",
        "\n",
        "print(\"These are the l0 variables: {}\\n\".format(l0.get_weights()))\n",
        "print(\"These are the l1 variables: {}\\n\".format(l1.get_weights()))\n",
        "print(\"These are the l2 variables: {}\\n\".format(l2.get_weights()))"
      ]
    },
    {
      "cell_type": "markdown",
      "metadata": {
        "id": "xrpFFlgYhCty"
      },
      "source": [
        "Como você pode ver, este modelo também é capaz de prever o valor Fahrenheit correspondente muito bem. Mas quando você olha para as variáveis (pesos) nas camadas `l0` e` l1`, elas não são nada perto de ~ 1.8 e ~ 32. A complexidade adicionada oculta a forma \"simples\" da equação de conversão."
      ]
    },
    {
      "cell_type": "markdown",
      "metadata": {
        "id": "JqpZ-P87uVxF"
      },
      "source": [
        "## Recapitulando"
      ]
    },
    {
      "cell_type": "markdown",
      "metadata": {
        "id": "Q23sjl4gubQA"
      },
      "source": [
        "Parabéns! Você acabou de treinar seu primeiro modelo de aprendizado de máquina. Vimos que, treinando o modelo com dados de entrada e a saída correspondente, o modelo aprendeu a multiplicar a entrada por 1,8 e depois adicionar 32 para obter o resultado correto.\n",
        "\n",
        "<img src='https://drive.google.com/uc?id=1ENCDPR3g0WqydjGzKDttlT_lx-w-sLEF'>\n",
        "\n",
        "Isso foi realmente impressionante, considerando que precisávamos apenas de algumas linhas de código:\n",
        "\n",
        "```python\n",
        "l0 = tf.keras.layers.Dense(units=1, input_shape=[1])\n",
        "model = tf.keras.Sequential([l0])\n",
        "model.compile(loss='mean_squared_error', optimizer=tf.keras.optimizers.Adam(0.1))\n",
        "history = model.fit(celsius_q, fahrenheit_a, epochs=500, verbose=False)\n",
        "model.predict([100.0])\n",
        "\n",
        "```\n",
        "\n",
        "Este exemplo é o plano geral de qualquer programa de aprendizado de máquina. Você usará a mesma estrutura para criar e treinar sua rede neural e usá-la para fazer previsões."
      ]
    },
    {
      "cell_type": "markdown",
      "metadata": {
        "id": "k7LLxU51u82T"
      },
      "source": [
        "### O processo de treinamento"
      ]
    },
    {
      "cell_type": "markdown",
      "metadata": {
        "id": "zYwjuxiZvftp"
      },
      "source": [
        "No processo de treinamento (que acontece quando é chamado o metodo `model.fit (...)`) os  parâmetros internos do modelo são ajustados com o intuito de obter os melhores valores possíveis, de modo que permitam um correto mapeamento da entrada para a saída. Tal processo de ajuste é efetuado por meio de um algoritmo de otimização denominado Gradiente Descente, que usa análise numérica para encontrar os melhores valores possíveis para os parâmetros internos do modelo.\n",
        "* **O Gradiente Descendente** ajusta iterativamente os parâmetros do modelo, dislocando-os na direção correta um pouco de cada vez até que alcancem os melhores valores. Nesse caso, “melhores valores” significa que modifica-los mais levaria o modelo a um pior desempenho. A função que mede quão bom ou ruim o modelo é durante cada iteração é chamada de “função de perda”, e o objetivo de cada dislocamento é “minimizar a função de perda”.\n",
        "\n",
        "O processo de treinamento começa com um propagação para frente (*forward pass*), onde os dados de entrada são enviados para o modelo (veja a Fig.1). Em seguida, o modelo aplica sua matemática interna na entradas e parâmetros internos do modelo para prever uma resposta (\"O nodelo Prevê um valor\" na Figura 1).\n",
        "* Em nosso exemplo, a entrada foi os graus em Celsius, e o modelo previu os graus correspondentes em Fahrenheit.\n",
        "\n",
        "\n",
        "<center>\n",
        "**Figura 1**. Forward Pass.  \n",
        "</center>\n",
        "<center>\n",
        "<img src='https://drive.google.com/uc?id=1qF9zvCc2KrvefN2AN99g9GLQOOxIIqUx' width=100%>\n",
        "</center>\n",
        "\n",
        "Quando um valor é previsto, a diferença entre esse valor previsto e o valor correto é calculada. Essa diferença é chamada de perda e é uma medida de quão bem o modelo executou a tarefa de mapeamento. O valor da perda é calculado usando uma função de perda, que especificamos com o parâmetro `loss` ao chamar ao método `model.compile()`.\n",
        "\n",
        "Depois que a perda é calculada, as parâmetros internos (pesos e vieses) de todas as camadas do modelo são ajustadas, de modo a minimizar essa perda - isto é, tornar o valor da saída mais próximo do valor correto (ver Fig. 2). ).\n",
        "\n",
        "<center>\n",
        "**Figura 2**. Backward Pass.  \n",
        "</center>\n",
        "<center>\n",
        "<img src='https://drive.google.com/uc?id=1IQ4Xqsk-Thv_hkv3hY-ogJg-4vlzEvjP' width=100%>\n",
        "</center>\n",
        "\n",
        "Esse processo de otimização é chamado de gradiente descendente. O algoritmo específico usado para calcular o novo valor de cada variável interna é especificado pelo parâmetro `optimizer` ao chamar ao método `model.compile(...)`. Neste exemplo, usamos o otimizador `Adam`.\n",
        "* Se você tiver interesse em saber mais detalhes sobre como o processo de treinamento funciona, consulte a [lição sobre como reduzir a perda no curso intensivo de aprendizado de máquina do Google](https://developers.google.com/machine-learning/crash-course/reducing-loss/video-lecture).\n",
        "\n",
        "Até este momento você deve estar familizarizado com os seguintes termos:\n",
        "* **Característica (*feature*)**: A(s) entrada(s) ao nosso modelo.\n",
        "* **Exemplos**: um par de entrada / saída usado para treinamento\n",
        "* **Rotulos (*labels*)**: A saída do modelo.\n",
        "* **Camada (*layer*)**: Uma coleção de nós conectados juntos dentro de uma rede neural.\n",
        "* **Modelo**: A representação da sua rede neural\n",
        "* **Camadas Densas e totalmente conectadas (FC)**: cada nó em uma camada é conectada a cada nó na camada anterior.\n",
        "* **Pesos e vieses (*weights and biases*)**: os parâmetros internos do modelo\n",
        "* **Perda (*Loss*)**: A discrepância entre a saída desejada e a saída real\n",
        "* **MSE**: Erro quadrático médio, um tipo de função de perda que conta um pequeno número de grandes discrepâncias como pior do que um grande número de pequenas.\n",
        "* **Gradiente Descendente**: Um algoritmo que altera as parâmetros internos um pouco de cada vez para reduzir gradualmente a função de perda.\n",
        "* **Otimizador**: Uma implementação específica do algoritmo de gradiente descendente.\n",
        "* **Taxa de aprendizado (*Learning rate*)**: O “tamanho do passo” para melhoria da perda durante a descida do gradiente.\n",
        "* **Lote (*Batch*)**: O conjunto de exemplos usados durante o treinamento do modelo\n",
        "* **Época (Epoch)**: uma passagem completa sobre todo o conjunto de dados de treinamento\n",
        "* **Propagação para Frente (*Forward pass*)**: O cálculo dos valores de saída a partir entrada\n",
        "* **Propagação para Atras/retropropagação (*Backward pass/backpropagation*)**: O cálculo dos ajustes das parâmetros tinternos do modelo de acordo com o algoritmo otimizador, começando da camada de saída e retornando através de cada camada até a entrada.\n"
      ]
    },
    {
      "cell_type": "markdown",
      "metadata": {
        "id": "VAdpMTkwxHn3"
      },
      "source": [
        "## PROBLEMAS"
      ]
    },
    {
      "cell_type": "markdown",
      "metadata": {
        "id": "B5UaiajUyW2n"
      },
      "source": [
        "**Problema 1 **. Usando `numpy` você deve criar 500 pontos aleatórios ao redor da equação $y = 0.22x + 0.78$. Exemplo:\n",
        "\n",
        "```python\n",
        "number_of_points = 500\n",
        "x_point\t=\t[]\n",
        "y_point\t=\t[]\n",
        "...  \n",
        "plt.plot(x_point,y_point,\t'o',\tlabel='Input\tData')\n",
        "plt.legend()\n",
        "plt.show()\n",
        "```\n",
        "\n"
      ]
    },
    {
      "cell_type": "code",
      "execution_count": null,
      "metadata": {
        "colab": {
          "base_uri": "https://localhost:8080/",
          "height": 279
        },
        "id": "aRf00M-IzlTP",
        "outputId": "5545b671-94b1-4d39-d738-bbf1411312b5"
      },
      "outputs": [
        {
          "data": {
            "image/png": "[encoded data removed]",
            "text/plain": [
              "<Figure size 432x288 with 1 Axes>"
            ]
          },
          "metadata": {
            "tags": []
          },
          "output_type": "display_data"
        }
      ],
      "source": [
        "import numpy as np\n",
        "import matplotlib.pyplot as plt\n",
        "\n",
        "number_of_points = 500\n",
        "x_inicial = -number_of_points/4\n",
        "x_final = number_of_points/4\n",
        "x_point = np.linspace(x_inicial, x_final, number_of_points)\n",
        "ruido = (np.random.randn(number_of_points))/2\n",
        "y_point = 0.22*x_point + 0.78 + ruido\n",
        "coord = list(zip(x_point, y_point))\n",
        "plt.plot(x_point,y_point,    'o',    label='Input    Data ')\n",
        "plt.legend()\n",
        "plt.xlabel('Pontos X')\n",
        "plt.ylabel('Pontos Y')\n",
        "plt.show()"
      ]
    },
    {
      "cell_type": "markdown",
      "metadata": {
        "id": "81m4w59Y0OsB"
      },
      "source": [
        "**Problema 2 **. Tomando como referência os pasos descritos na sessão  **Criando o Primeiro Modelo**, construa um modelo linear do conjunto de dados 2D gerados no problema 1. Os hiperparametros a usar para o otimizador devem ser:\n",
        "  *  `loss` = `mean_squared_error`;\n",
        "  *  `optimizer` = `Adam`;\n",
        "  * `learning_rate` = $0.1$;\n",
        "  *  `Epooch` = $10$.\n",
        "  \n",
        "  Grafique a curva que gera o modelo sobre o conjunto de dados"
      ]
    },
    {
      "cell_type": "code",
      "execution_count": null,
      "metadata": {
        "colab": {
          "base_uri": "https://localhost:8080/",
          "height": 498
        },
        "id": "lbdVppTW0zfI",
        "outputId": "1fd2bd6c-ada6-4327-f6cb-1e00be851f80"
      },
      "outputs": [
        {
          "name": "stdout",
          "output_type": "stream",
          "text": [
            "Model: \"sequential_5\"\n",
            "_________________________________________________________________\n",
            "Layer (type)                 Output Shape              Param #   \n",
            "=================================================================\n",
            "dense_13 (Dense)             (None, 1)                 2         \n",
            "=================================================================\n",
            "Total params: 2\n",
            "Trainable params: 2\n",
            "Non-trainable params: 0\n",
            "_________________________________________________________________\n",
            "Finished training the model\n",
            "[[0.77476466]]\n"
          ]
        },
        {
          "data": {
            "text/plain": [
              "[<matplotlib.lines.Line2D at 0x7ff61c0aca90>]"
            ]
          },
          "execution_count": 22,
          "metadata": {
            "tags": []
          },
          "output_type": "execute_result"
        },
        {
          "data": {
            "image/png": "[encoded data removed]",
            "text/plain": [
              "<Figure size 432x288 with 1 Axes>"
            ]
          },
          "metadata": {
            "tags": []
          },
          "output_type": "display_data"
        }
      ],
      "source": [
        "import numpy as np\n",
        "import tensorflow as tf\n",
        "import matplotlib.pyplot as plt\n",
        "\n",
        "# Criando pontos\n",
        "number_of_points = 500\n",
        "x_inicial = -number_of_points/4\n",
        "x_final = number_of_points/4\n",
        "x_point = np.linspace(x_inicial, x_final, number_of_points)\n",
        "ruido = (np.random.randn(number_of_points))/2\n",
        "y_point = 0.22*x_point + 0.78 + ruido\n",
        "y_antes=y_point\n",
        "x_antes=x_point\n",
        "\n",
        "# Modelo\n",
        "model = tf.keras.Sequential([tf.keras.layers.Dense(units=1, input_shape=[1])])\n",
        "model.summary()\n",
        "model.compile(loss='mean_squared_error', optimizer=tf.keras.optimizers.Adam(0.1))\n",
        "\n",
        "# Treinando o Modelo\n",
        "history = model.fit(x_point, y_point, epochs=10, verbose=False)\n",
        "print(\"Finished training the model\")\n",
        "\n",
        "print(model.predict([0]))\n",
        "\n",
        "plt.xlabel('Epoch Number')\n",
        "plt.ylabel(\"Loss Magnitude\")\n",
        "plt.plot(history.history['loss'])"
      ]
    },
    {
      "cell_type": "markdown",
      "metadata": {
        "id": "37zgcOjHALd8"
      },
      "source": [
        "**Problema 3 **. Usando Sklearn, carregamos o banco de dados Iris flower data set\n",
        "\n",
        "```python\n",
        "from sklearn import datasets\n",
        "\n",
        "iris = datasets.load_iris()\n",
        "x_point = np.array([x[3] for x in iris.data])\n",
        "y_point = np.array([y[0] for y in iris.data])\n",
        "\n",
        "plt.plot(x_point,y_point,\t'o',\tlabel='Input\tData')\n",
        "plt.legend()\n",
        "plt.show()\n",
        "```\n",
        "Determine o modelo linear do conjunto de dados 2D gerados apartir do Iris flower data set. Os hiperparametros a usar para o otimizador devem ser:\n",
        "  *  `loss` = `mean_squared_error`;\n",
        "  *  `optimizer` = `Adam`;\n",
        "  * `learning_rate` = $0.1$;\n",
        "  *  `Epooch` = definido pelo usuario.\n",
        "  \n",
        "Grafique a curva que gera o modelo sobre o conjunto de dados."
      ]
    },
    {
      "cell_type": "code",
      "execution_count": null,
      "metadata": {
        "colab": {
          "base_uri": "https://localhost:8080/",
          "height": 546
        },
        "id": "pn55I7MMVEq1",
        "outputId": "5449fa2b-6af7-4fb7-c35f-df77b2a74b7e"
      },
      "outputs": [
        {
          "name": "stdout",
          "output_type": "stream",
          "text": [
            "Digite o número de epocas desejado10\n"
          ]
        },
        {
          "data": {
            "image/png": "[encoded data removed]",
            "text/plain": [
              "<Figure size 432x288 with 1 Axes>"
            ]
          },
          "metadata": {
            "tags": []
          },
          "output_type": "display_data"
        },
        {
          "name": "stdout",
          "output_type": "stream",
          "text": [
            "Finished training the model\n"
          ]
        },
        {
          "data": {
            "image/png": "[encoded data removed]",
            "text/plain": [
              "<Figure size 432x288 with 1 Axes>"
            ]
          },
          "metadata": {
            "tags": []
          },
          "output_type": "display_data"
        }
      ],
      "source": [
        "from sklearn import datasets\n",
        "import numpy as np\n",
        "import tensorflow as tf\n",
        "import matplotlib.pyplot as plt\n",
        "\n",
        "ep=int(input(\"Digite o número de epocas desejado\"))\n",
        "iris = datasets.load_iris()\n",
        "x_point = np.array([x[3] for x in iris.data])\n",
        "y_point = np.array([y[0] for y in iris.data])\n",
        "\n",
        "plt.plot(x_point,y_point,    'o',    label='Input    Data')\n",
        "plt.legend()\n",
        "plt.show()\n",
        "\n",
        "# Modelo\n",
        "model = tf.keras.Sequential([tf.keras.layers.Dense(units=1, input_shape=[1])])\n",
        "model.compile(loss='mean_squared_error', optimizer=tf.keras.optimizers.Adam(0.1))\n",
        "\n",
        "# Treinando o Modelo\n",
        "history = model.fit(x_point, y_point, epochs=ep, verbose=False)\n",
        "print(\"Finished training the model\")\n",
        "\n",
        "plt.plot(x_point,y_point,    'o',    label='Input    Data')\n",
        "plt.legend()\n",
        "plt.show()"
      ]
    }
  ],
  "metadata": {
    "accelerator": "GPU",
    "colab": {
      "provenance": []
    },
    "kernelspec": {
      "display_name": "Python 3",
      "name": "python3"
    }
  },
  "nbformat": 4,
  "nbformat_minor": 0
}
