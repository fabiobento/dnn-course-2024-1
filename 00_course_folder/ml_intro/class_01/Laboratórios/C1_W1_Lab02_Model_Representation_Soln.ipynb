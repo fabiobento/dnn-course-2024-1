{
 "cells": [
  {
   "cell_type": "markdown",
   "id": "10b50155",
   "metadata": {},
   "source": [
    "[adaptado de [Programa de cursos integrados Aprendizado de máquina](https://www.coursera.org/specializations/machine-learning-introduction) de [Andrew Ng](https://www.coursera.org/instructor/andrewng)  ([Stanford University](http://online.stanford.edu/), [DeepLearning.AI](https://www.deeplearning.ai/) ) ]"
   ]
  },
  {
   "cell_type": "markdown",
   "metadata": {},
   "source": [
    "# Representação de Modelo\n",
    "\n",
    "<figure>\n",
    " <img src=\"./images/C1_W1_L3_S1_Lecture_b.png\"   style=\"width:600px;height:200px;\">\n",
    "</figure>"
   ]
  },
  {
   "cell_type": "markdown",
   "metadata": {},
   "source": [
    "## Objetivos\n",
    "Neste laboratório, você irá:\n",
    "- Aprender a implementar o modelo $f_{w,b}$ para regressão linear com uma variável"
   ]
  },
  {
   "cell_type": "markdown",
   "metadata": {},
   "source": [
    "## Notação\n",
    "Aqui está um sumário de algumas notações que você encontrará\n",
    "\n",
    "|Notação Geral  <img width=70/> | Descrição<img width=350/>| Python (se aplicável) |\n",
    "| ------------| ------------------------------------------------------------|-|\n",
    "| $a$ | scalar, não negrito                                                      |-|\n",
    "| $\\mathbf{a}$ | vetor, negrito                                                      |-|\n",
    "| **Regression** |-|- |-|\n",
    "|  $\\mathbf{x}$ | valores de recursos de exemplos de treino (nesse lab. - Size (1000 sqft))  | `x_train` |   \n",
    "|  $\\mathbf{y}$  | alvos de exemplos de treino (nesse lab. - Price (1000s de dolars))  | `y_train`| \n",
    "|  $x^{(i)}$, $y^{(i)}$ | $i_{th}$ exemplo de treino | `x_i`, `y_i`|\n",
    "| m | quantidades de exemplos de treino | `m`|\n",
    "|  $w$  |  parâmetro: peso (_weight_)|                                 | `w`    |\n",
    "|  $b$           |  parâmtro: viés (_bias_)                                           | `b`    |     \n",
    "| $f_{w,b}(x^{(i)})$ | o resultado da avaliação do modelo em $x^{(i)}$ parametrizado por $w,b$: $f_{w,b}(x^{(i)}) = wx^{(i)}+b$  | `f_wb` | \n"
   ]
  },
  {
   "cell_type": "markdown",
   "metadata": {},
   "source": [
    "## Ferramentas\n",
    "Neste laboratório, você usará: \n",
    "- NumPy, uma biblioteca popular para computação científica\n",
    "- Matplotlib, uma biblioteca popular para plotagem de dados"
   ]
  },
  {
   "cell_type": "code",
   "execution_count": 1,
   "id": "cf27e3b3",
   "metadata": {},
   "outputs": [],
   "source": [
    "import numpy as np\n",
    "import matplotlib.pyplot as plt\n",
    "plt.style.use('./deeplearning.mplstyle')\n",
    "#sorted(plt.style.available)\n",
    "plt.style.use('classic')"
   ]
  },
  {
   "cell_type": "markdown",
   "metadata": {},
   "source": [
    "# Definição do problema\n",
    "<img align=\"left\" src=\"./images/C1_W1_L3_S1_trainingdata.png\"    style=\" width:380px; padding: 10px;  \" /> \n",
    "\n",
    "Conforme mencionado na aula teórica, você usará o exemplo da previsão de preços de imóveis.  \n",
    "Este laboratório usará um conjunto de dados simples com apenas dois pontos de dados: uma casa com 1.000 pés quadrados (sqft) vendida por \\$300.000 e uma casa com 2.000 pés quadrados vendida por \\$500.000. Esses dois pontos constituirão nosso *conjunto de dados ou de treinamento*. Neste laboratório, as unidades de tamanho são 1000 pés quadrados e as unidades de preço são milhares de dólares.\n",
    "\n",
    "\n",
    "| Size (1000 sqft)     | Price (1000s de dólares) |\n",
    "| -------------------| ------------------------ |\n",
    "| 1.0               | 300                      |\n",
    "| 2.0               | 500                      |\n",
    "\n",
    "Você pode ajustar um modelo de regressão linear (mostrado acima como a linha reta azul) por meio desses dois pontos, para poder prever o preço de outras casas - por exemplo, uma casa com 1.200 pés quadrados."
   ]
  },
  {
   "cell_type": "markdown",
   "metadata": {},
   "source": [
    "Execute a seguinte célula de código para criar suas variáveis `x_train` e `y_train`. Os dados são armazenados em matrizes NumPy unidimensionais."
   ]
  },
  {
   "cell_type": "code",
   "execution_count": 2,
   "id": "ecdf9c82",
   "metadata": {},
   "outputs": [
    {
     "name": "stdout",
     "output_type": "stream",
     "text": [
      "x_train = [1. 2.]\n",
      "y_train = [300. 500.]\n"
     ]
    }
   ],
   "source": [
    "# x_train é a variável de entrada (tamanho em 1000 pés quadrados)\n",
    "# y_train é o alvo (preço 1000s de dólares)\n",
    "x_train = np.array([1.0, 2.0])\n",
    "y_train = np.array([300.0, 500.0])\n",
    "print(f\"x_train = {x_train}\")\n",
    "print(f\"y_train = {y_train}\")"
   ]
  },
  {
   "cell_type": "markdown",
   "metadata": {},
   "source": [
    ">**Nota**: Nessa disciplina frequentemente utilizaremos a formatação de saída 'f-string' do python descrita [aqui](https://docs.python.org/3/tutorial/inputoutput.html) ao imprimir. O conteúdo entre chaves é avaliado ao produzir a saída."
   ]
  },
  {
   "cell_type": "markdown",
   "metadata": {},
   "source": [
    "### Número de exemplos de treinamento `m`\n",
    "Você usará `m` para indicar o número de exemplos de treinamento. As matrizes Numpy têm um parâmetro `.shape`, portanto, `x_train.shape` retorna uma tupla python com uma entrada para cada dimensão. `x_train.shape[0]` é o comprimento da matriz e o número de exemplos, conforme mostrado abaixo."
   ]
  },
  {
   "cell_type": "code",
   "execution_count": 3,
   "id": "473925e0",
   "metadata": {},
   "outputs": [
    {
     "name": "stdout",
     "output_type": "stream",
     "text": [
      "x_train.shape: (2,)\n",
      "A quantidade de exemplos de treino: 2\n"
     ]
    }
   ],
   "source": [
    "# m é a quantidade de exemplos de treino\n",
    "print(f\"x_train.shape: {x_train.shape}\")\n",
    "m = x_train.shape[0]\n",
    "print(f\"Quantidade de exemplos de treino: {m}\")"
   ]
  },
  {
   "cell_type": "markdown",
   "metadata": {},
   "source": [
    "Você também pode usar a função Python `len()` conforme mostrado abaixo."
   ]
  },
  {
   "cell_type": "code",
   "execution_count": 5,
   "id": "bdbe5450",
   "metadata": {},
   "outputs": [
    {
     "name": "stdout",
     "output_type": "stream",
     "text": [
      "A quantidade de exemplos de treino: 2\n"
     ]
    }
   ],
   "source": [
    "# m é a quantidade de exemplos de treino\n",
    "m = len(x_train)\n",
    "print(f\"Quantidade de exemplos de treino: {m}\")"
   ]
  },
  {
   "cell_type": "markdown",
   "metadata": {},
   "source": [
    "### Training example `x_i, y_i`\n",
    "\n",
    "You will use (x$^{(i)}$, y$^{(i)}$) to denote the $i^{th}$ training example. Since Python is zero indexed, (x$^{(0)}$, y$^{(0)}$) is (1.0, 300.0) and (x$^{(1)}$, y$^{(1)}$) is (2.0, 500.0). \n",
    "\n",
    "To access a value in a Numpy array, one indexes the array with the desired offset. For example the syntax to access location zero of `x_train` is `x_train[0]`.\n",
    "Run the next code block below to get the $i^{th}$ training example.\n",
    "\n",
    "\n",
    "### Exemplo de treinamento `x_i, y_i`\n",
    "\n",
    "Você usará $(x^{(i)}, y^{(i)})$ para denotar o $i^{th}$ exemplo de treinamento. Como o Python tem índice zero, $(x^{(0)}, y^{(0)})$ é (1.0, 300.0) e $(x^{(1)}, y^{(1)})$ é (2.0, 500.0). \n",
    "\n",
    "Para acessar um valor em uma matriz Numpy, indexa-se a matriz com o deslocamento desejado. Por exemplo, a sintaxe para acessar o local zero de `x_train` é `x_train[0]`.\n",
    "Execute o próximo bloco de código abaixo para obter o exemplo de treinamento $i^{th}$."
   ]
  },
  {
   "cell_type": "code",
   "execution_count": 9,
   "id": "ecf90488",
   "metadata": {},
   "outputs": [
    {
     "name": "stdout",
     "output_type": "stream",
     "text": [
      "(x^(0), y^(0)) = (1.0, 300.0)\n"
     ]
    }
   ],
   "source": [
    "i = 0 # Mude para 1 se quiser ver (x^1, y^1)\n",
    "\n",
    "x_i = x_train[i]\n",
    "y_i = y_train[i]\n",
    "print(f\"(x^({i}), y^({i})) = ({x_i}, {y_i})\")"
   ]
  },
  {
   "cell_type": "markdown",
   "metadata": {},
   "source": [
    "### Plotagem dos dados"
   ]
  },
  {
   "cell_type": "markdown",
   "metadata": {},
   "source": [
    "Você pode plotar esses dois pontos usando a função `scatter()` da biblioteca `matplotlib`, conforme mostrado na célula abaixo. \n",
    "- Os argumentos da função `marker` e `c` mostram os pontos como cruzes vermelhas (o padrão são pontos azuis).\n",
    "\n",
    "Você pode usar outras funções da biblioteca `matplotlib` para definir o título e os rótulos a serem exibidos.\n"
   ]
  },
  {
   "cell_type": "code",
   "execution_count": 10,
   "id": "525af48e",
   "metadata": {},
   "outputs": [
    {
     "data": {
      "image/png": "[encoded data removed]",
      "text/plain": [
       "<Figure size 640x480 with 1 Axes>"
      ]
     },
     "metadata": {},
     "output_type": "display_data"
    }
   ],
   "source": [
    "# Plotar os pontos de dados\n",
    "plt.scatter(x_train, y_train, marker='x', c='r')\n",
    "# Definir o título\n",
    "plt.title(\"Housing Prices\")\n",
    "# Definir o rótulo do eixo y\n",
    "plt.ylabel('Price (em 1000s dólares)')\n",
    "# Definir o rótulo do eixo x\n",
    "plt.xlabel('Size (1000 sqft)')\n",
    "plt.show()"
   ]
  },
  {
   "cell_type": "markdown",
   "metadata": {},
   "source": [
    "## Função do modelo\n",
    "\n",
    "<img align=\"left\" src=\"./images/C1_W1_L3_S1_model.png\"     style=\" width:380px; padding: 10px; \" > Conforme descrito na aula, o modelo da função para a regressão linear(que é uma função que mapeia `x` para `y`) é representado como\n",
    "\n",
    "$$ f_{w,b}(x^{(i)}) = wx^{(i)} + b \\tag{1}$$\n",
    "\n",
    "A fórmula acima é como você pode representar linhas retas - diferente valores de $w$ e $b$ retornam diferentes linhas retas no gráfico. <br/> <br/> <br/> <br/> <br/> \n",
    "\n",
    "Vamos começar com $w = 100$ e $b = 100$.\n",
    "\n",
    "**Nota: Você pode voltar a esta célula para ajustar os parâmetros w e b do modelo**"
   ]
  },
  {
   "cell_type": "code",
   "execution_count": 20,
   "id": "c3da9fd8",
   "metadata": {},
   "outputs": [
    {
     "name": "stdout",
     "output_type": "stream",
     "text": [
      "w: 100\n",
      "b: 100\n"
     ]
    }
   ],
   "source": [
    "w = 100\n",
    "b = 100\n",
    "print(f\"w: {w}\")\n",
    "print(f\"b: {b}\")"
   ]
  },
  {
   "cell_type": "markdown",
   "metadata": {},
   "source": [
    "Agora, vamos calcular o valor de $f_{w,b}(x^{(i)})$ para seus dois pontos de dados. Você pode escrever isso explicitamente para cada ponto de dados como -\n",
    "\n",
    "para $x^{(0)}$, `f_wb = w * x[0] + b`\n",
    "\n",
    "para $x^{(1)}$, `f_wb = w * x[1] + b`\n",
    "\n",
    "Para um grande número de pontos de dados, isso pode se tornar complicado e repetitivo. Portanto, em vez disso, você pode calcular a saída da função em um loop `for`, conforme mostrado na função `compute_model_output` abaixo.\n",
    "> **Nota**: A descrição do argumento `(ndarray (m,))` descreve um array n-dimensional do Numpy com a forma (m,). `(scalar)` descreve um argumento sem dimensões, apenas uma magnitude.  \n",
    "> **Nota**: `np.zero(n)` retornará uma matriz numpy unidimensional com $n$ entradas"
   ]
  },
  {
   "cell_type": "code",
   "execution_count": 21,
   "id": "f62f5632",
   "metadata": {},
   "outputs": [],
   "source": [
    "def compute_model_output(x, w, b):\n",
    "    \"\"\"\n",
    "    Calcula a previsão de um modelo linear\n",
    "    Args:\n",
    "      x (ndarray (m,)): Dados, m exemplos \n",
    "      w,b (scalar)    : parâmetros do modelo\n",
    "    Returns\n",
    "      f_wb (ndarray (m,)): predição do modelo\n",
    "    \"\"\"\n",
    "    m = x.shape[0]\n",
    "    f_wb = np.zeros(m)\n",
    "    for i in range(m):\n",
    "        f_wb[i] = w * x[i] + b\n",
    "        \n",
    "    return f_wb"
   ]
  },
  {
   "cell_type": "markdown",
   "id": "a5f625c0",
   "metadata": {},
   "source": [
    "Agora, vamos chamar a função `compute_model_output` e plotar o resultado."
   ]
  },
  {
   "cell_type": "code",
   "execution_count": 22,
   "id": "8992d346",
   "metadata": {},
   "outputs": [
    {
     "data": {
      "image/png": "[encoded data removed]",
      "text/plain": [
       "<Figure size 640x480 with 1 Axes>"
      ]
     },
     "metadata": {},
     "output_type": "display_data"
    }
   ],
   "source": [
    "tmp_f_wb = compute_model_output(x_train, w, b,)\n",
    "\n",
    "# PLotar e predição de nosso modelo\n",
    "plt.plot(x_train, tmp_f_wb, c='b',label='Nossa Predição')\n",
    "\n",
    "# Plotar os pontos de dados\n",
    "plt.scatter(x_train, y_train, marker='x', c='r',label='Valores Reais')\n",
    "\n",
    "# Definir o título\n",
    "plt.title(\"Housing Prices\")\n",
    "# Definir o rótulo do eixo y\n",
    "plt.ylabel('Price (em 1000s de dólares)')\n",
    "# Definir o rótulo do eixo x\n",
    "plt.xlabel('Size (1000 sqft)')\n",
    "plt.legend()\n",
    "plt.show()"
   ]
  },
  {
   "cell_type": "markdown",
   "metadata": {},
   "source": [
    "Como você pode ver, definir $w = 100$ e $b = 100$ *não* resulta em uma linha que se ajusta aos nossos dados. \n",
    "\n",
    "### Desafio\n",
    "Tente fazer experimentos com valores diferentes de $w$ e $b$. Quais devem ser os valores para uma linha que se ajuste aos nossos dados?\n",
    "\n",
    "#### Dica:\n",
    "Você pode usar o mouse para clicar nas \"Dicas\" verdes abaixo para revelar algumas dicas para escolher b e w."
   ]
  },
  {
   "cell_type": "markdown",
   "metadata": {},
   "source": [
    "<details>\n",
    "<summary>\n",
    "    <font size='3', color='darkgreen'><b>Dicas</b></font>\n",
    "</summary>\n",
    "    <p>\n",
    "    <ul>\n",
    "        <li>Tente $w = 200$ e $b = 100$ </li>\n",
    "    </ul>\n",
    "    </p>"
   ]
  },
  {
   "cell_type": "markdown",
   "metadata": {},
   "source": [
    "### Previsão\n",
    "Agora que temos um modelo, podemos usá-lo para fazer nossa previsão original. Vamos prever o preço de uma casa com 1.200 pés quadrados. Como as unidades de $x$ estão em milhares de pés quadrados, $x$ é 1,2."
   ]
  },
  {
   "cell_type": "code",
   "execution_count": 16,
   "id": "196bdbbc",
   "metadata": {},
   "outputs": [
    {
     "name": "stdout",
     "output_type": "stream",
     "text": [
      "$340 milhares de dólares\n"
     ]
    }
   ],
   "source": [
    "w = 200                         \n",
    "b = 100    \n",
    "x_i = 1.2\n",
    "cost_1200sqft = w * x_i + b    \n",
    "\n",
    "print(f\"${cost_1200sqft:.0f} milhares de dólares\")"
   ]
  },
  {
   "cell_type": "markdown",
   "metadata": {},
   "source": [
    "# Parabéns!\n",
    "Neste laboratório, você aprendeu:\n",
    " - A regressão linear cria um modelo que estabelece uma relação entre características e metas\n",
    "     - No exemplo acima, o recurso era o tamanho da casa e o alvo era o preço da casa\n",
    "     - Para a regressão linear simples, o modelo tem dois parâmetros $w$ e $b$ cujos valores são \"ajustados\" usando *dados de treinamento*.\n",
    "     - Uma vez que os parâmetros de um modelo tenham sido determinados, o modelo pode ser usado para fazer previsões sobre novos dados."
   ]
  }
 ],
 "metadata": {
  "kernelspec": {
   "display_name": "Python 3",
   "language": "python",
   "name": "python3"
  },
  "language_info": {
   "codemirror_mode": {
    "name": "ipython",
    "version": 3
   },
   "file_extension": ".py",
   "mimetype": "text/x-python",
   "name": "python",
   "nbconvert_exporter": "python",
   "pygments_lexer": "ipython3",
   "version": "3.11.0"
  },
  "toc-autonumbering": false
 },
 "nbformat": 4,
 "nbformat_minor": 5
}
