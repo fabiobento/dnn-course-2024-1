{
 "cells": [
  {
   "cell_type": "markdown",
   "id": "39e75828",
   "metadata": {},
   "source": [
    "[adaptado de [Programa de cursos integrados Aprendizado de máquina](https://www.coursera.org/specializations/machine-learning-introduction) de [Andrew Ng](https://www.coursera.org/instructor/andrewng)  ([Stanford University](http://online.stanford.edu/), [DeepLearning.AI](https://www.deeplearning.ai/) ) ]"
   ]
  },
  {
   "cell_type": "code",
   "execution_count": null,
   "id": "9bde0682",
   "metadata": {},
   "outputs": [],
   "source": [
    "# Baixar arquivos adicionais para o laboratório.\n",
    "!wget https://github.com/fabiobento/dnn-course-2024-1/raw/main/00_course_folder/ml_intro/class_02/Laborat%C3%B3rios/lab_utils_ml_intro_week_2.zip\n",
    "!unzip -n -q lab_utils_ml_intro_week_2.zip"
   ]
  },
  {
   "cell_type": "markdown",
   "metadata": {},
   "source": [
    "# Regressão usando o Scikit-Learn"
   ]
  },
  {
   "cell_type": "markdown",
   "metadata": {},
   "source": [
    "Há um kit de ferramentas de aprendizado de máquina de código aberto e comercialmente utilizável chamado [scikit-learn](https://scikit-learn.org/stable/index.html). Esse kit de ferramentas contém implementações de muitos dos algoritmos com os quais você trabalhará neste curso.\n",
    "\n"
   ]
  },
  {
   "cell_type": "markdown",
   "metadata": {},
   "source": [
    "## Objetivos\n",
    "Neste laboratório, você fará o seguinte\n",
    "- Utilizar o scikit-learn para implementar a regressão linear usando o Gradient Descent"
   ]
  },
  {
   "cell_type": "markdown",
   "metadata": {},
   "source": [
    "## Ferramentas\n",
    "Você utilizará funções do scikit-learn, bem como do matplotlib e do NumPy. "
   ]
  },
  {
   "cell_type": "code",
   "execution_count": null,
   "id": "d5a6f611",
   "metadata": {},
   "outputs": [],
   "source": [
    "import numpy as np\n",
    "import matplotlib.pyplot as plt\n",
    "from sklearn.linear_model import SGDRegressor\n",
    "from sklearn.preprocessing import StandardScaler\n",
    "from lab_utils_multi import  load_house_data\n",
    "from lab_utils_common import dlc\n",
    "np.set_printoptions(precision=2)\n",
    "plt.style.use('./deeplearning.mplstyle')"
   ]
  },
  {
   "cell_type": "markdown",
   "id": "c8263cdb",
   "metadata": {},
   "source": [
    "# Gradiente Descendente\n",
    "O Scikit-learn tem um modelo de regressão de descida de gradiente [sklearn.linear_model.SGDRegressor](https://scikit-learn.org/stable/modules/generated/sklearn.linear_model.SGDRegressor.html#examples-using-sklearn-linear-model-sgdregressor).  Como sua implementação anterior de descida de gradiente, esse modelo tem melhor desempenho com entradas normalizadas. O [sklearn.preprocessing.StandardScaler](https://scikit-learn.org/stable/modules/generated/sklearn.preprocessing.StandardScaler.html#sklearn.preprocessing.StandardScaler) executará a normalização _z-score_ como em um laboratório anterior. Aqui ela é chamada de \"_standard score_\"."
   ]
  },
  {
   "cell_type": "markdown",
   "id": "af28bef3",
   "metadata": {},
   "source": [
    "### Carregar o Conjunto de Dados"
   ]
  },
  {
   "cell_type": "code",
   "execution_count": null,
   "id": "0d909cea",
   "metadata": {},
   "outputs": [],
   "source": [
    "X_train, y_train = load_house_data()\n",
    "X_features = ['tamanho(sqft)','quartos','andares','idade']"
   ]
  },
  {
   "cell_type": "markdown",
   "id": "31eb1b03",
   "metadata": {},
   "source": [
    "### Escalar/normalizar o conjunto de treino"
   ]
  },
  {
   "cell_type": "code",
   "execution_count": null,
   "id": "30ad8547",
   "metadata": {},
   "outputs": [],
   "source": [
    "scaler = StandardScaler()\n",
    "X_norm = scaler.fit_transform(X_train)\n",
    "print(f\" Faixa de pico a pico por coluna em dos dados originais em X:{np.ptp(X_train,axis=0)}\")   \n",
    "print(f\" Faixa de pico a pico por coluna em dos dados de X normalizados:{np.ptp(X_norm,axis=0)}\")"
   ]
  },
  {
   "cell_type": "markdown",
   "id": "abe84ce0",
   "metadata": {},
   "source": [
    "### Criar e ajustar o modelo de regressão"
   ]
  },
  {
   "cell_type": "code",
   "execution_count": null,
   "id": "4196db66",
   "metadata": {},
   "outputs": [],
   "source": [
    "sgdr = SGDRegressor(max_iter=1000)\n",
    "sgdr.fit(X_norm, y_train)\n",
    "print(sgdr)\n",
    "print(f\"quantidade de iterações completadas: {sgdr.n_iter_}, quantidade de atualizações de peso: {sgdr.t_}\")"
   ]
  },
  {
   "cell_type": "markdown",
   "id": "fdf82c0a",
   "metadata": {},
   "source": [
    "### Exibir parâmetros\n",
    "Observe que os parâmetros estão associados aos dados de entrada *normalizados*. Os parâmetros de ajuste são muito próximos aos encontrados no laboratório anterior com esses dados."
   ]
  },
  {
   "cell_type": "code",
   "execution_count": null,
   "id": "0cd926c0",
   "metadata": {},
   "outputs": [],
   "source": [
    "b_norm = sgdr.intercept_\n",
    "w_norm = sgdr.coef_\n",
    "print(f\"parâmetros do modelo:                   w: {w_norm}, b:{b_norm}\")\n",
    "print( \"parâmetros do modelo do laboratório anterior: w: [110.56 -21.27 -32.71 -37.97], b: 363.16\")"
   ]
  },
  {
   "cell_type": "markdown",
   "id": "7f02b807",
   "metadata": {},
   "source": [
    "### Fazer previsões\n",
    "Preveja os alvos dos dados de treinamento. Use a rotina `predict` e calcule usando $w$ e $b$."
   ]
  },
  {
   "cell_type": "code",
   "execution_count": null,
   "id": "c3703f97",
   "metadata": {},
   "outputs": [],
   "source": [
    "# Fazer uma previsão usando sgdr.predict()\n",
    "y_pred_sgd = sgdr.predict(X_norm)\n",
    "# Faça uma previsão usando w,b. \n",
    "y_pred = np.dot(X_norm, w_norm) + b_norm  \n",
    "print(f\"previsão usando np.dot() e sgdr.predict são iguais? {(y_pred == y_pred_sgd).all()}\")\n",
    "\n",
    "print(f\"Predição no conjunto de treino:\\n{y_pred[:4]}\" )\n",
    "print(f\"Valores alvo \\n{y_train[:4]}\")"
   ]
  },
  {
   "cell_type": "markdown",
   "id": "840d84e4",
   "metadata": {},
   "source": [
    "### Plotar resultados\n",
    "Vamos plotar as previsões em relação aos valores-alvo."
   ]
  },
  {
   "cell_type": "code",
   "execution_count": null,
   "id": "13f7c889",
   "metadata": {},
   "outputs": [],
   "source": [
    "# Plotar previsões e alvos versus recursos originais    \n",
    "fig,ax=plt.subplots(1,4,figsize=(12,3),sharey=True)\n",
    "for i in range(len(ax)):\n",
    "    ax[i].scatter(X_train[:,i],y_train, label = 'alvo')\n",
    "    ax[i].set_xlabel(X_features[i])\n",
    "    ax[i].scatter(X_train[:,i],y_pred,color=dlc[\"dlorange\"], label = 'predito')\n",
    "ax[0].set_ylabel(\"Preço\"); ax[0].legend();\n",
    "fig.suptitle(\"alvo versus previsão usando o modelo normalizado com z-score\")\n",
    "plt.show()"
   ]
  },
  {
   "cell_type": "markdown",
   "metadata": {},
   "source": [
    "## Parabéns!\n",
    "Neste laboratório, você:\n",
    "- utilizou um kit de ferramentas de aprendizado de máquina de código aberto, o scikit-learn\n",
    "- implementou a regressão linear usando a descida de gradiente e a normalização de recursos desse kit de ferramentas"
   ]
  },
  {
   "cell_type": "code",
   "execution_count": null,
   "metadata": {},
   "outputs": [],
   "source": []
  }
 ],
 "metadata": {
  "kernelspec": {
   "display_name": "Python 3",
   "language": "python",
   "name": "python3"
  },
  "language_info": {
   "codemirror_mode": {
    "name": "ipython",
    "version": 3
   },
   "file_extension": ".py",
   "mimetype": "text/x-python",
   "name": "python",
   "nbconvert_exporter": "python",
   "pygments_lexer": "ipython3",
   "version": "3.11.0"
  }
 },
 "nbformat": 4,
 "nbformat_minor": 5
}
