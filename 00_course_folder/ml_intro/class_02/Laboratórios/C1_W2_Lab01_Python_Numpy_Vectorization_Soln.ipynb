{
 "cells": [
  {
   "cell_type": "markdown",
   "metadata": {},
   "source": [
    "[adaptado de [Programa de cursos integrados Aprendizado de máquina](https://www.coursera.org/specializations/machine-learning-introduction) de [Andrew Ng](https://www.coursera.org/instructor/andrewng)  ([Stanford University](http://online.stanford.edu/), [DeepLearning.AI](https://www.deeplearning.ai/) ) ]"
   ]
  },
  {
   "cell_type": "code",
   "execution_count": null,
   "metadata": {},
   "outputs": [],
   "source": [
    "# Baixar arquivos adicionais para o laboratório.\n",
    "!wget https://github.com/fabiobento/dnn-course-2024-1/raw/main/00_course_folder/ml_intro/class_02/Laborat%C3%B3rios/lab_utils_ml_intro_week_2.zip\n",
    "!unzip -n -q lab_utils_ml_intro_week_2.zip"
   ]
  },
  {
   "cell_type": "markdown",
   "metadata": {},
   "source": [
    "# Python, NumPy e Vetorização\n",
    "Esse notebook é uma breve introdução a alguns dos recursos de computação científica usados neste curso. Em particular, o pacote de computação científica NumPy e seu uso com python.\n",
    "\n",
    "# Tópicos\n",
    "- [&nbsp;&nbsp;1.1 Objetivos](#toc_40015_1.1)\n",
    "- [&nbsp;&nbsp;1.2 Referências Úteis](#toc_40015_1.2)\n",
    "- [2 Python e NumPy <a name='Python e NumPy'></a>](#toc_40015_2)\n",
    "- [3 Vetores](#toc_40015_3)\n",
    "- [&nbsp;&nbsp;3.1 Resumo](#toc_40015_3.1)\n",
    "- [&nbsp;&nbsp;3.2 Vetores NumPy](#toc_40015_3.2)\n",
    "- [&nbsp;&nbsp;3.3 Criação de Vetores Numpy](#toc_40015_3.3)\n",
    "- [&nbsp;&nbsp;3.4 Operações em Vetores](#toc_40015_3.4)\n",
    "- [4 Matrices](#toc_40015_4)\n",
    "- [&nbsp;&nbsp;4.1 Resumo](#toc_40015_4.1)\n",
    "- [&nbsp;&nbsp;4.2 Vetores Numpy](#toc_40015_4.2)\n",
    "- [&nbsp;&nbsp;4.3 Criação de Matrizes](#toc_40015_4.3)\n",
    "- [&nbsp;&nbsp;4.4 Operações em Matrizes](#toc_40015_4.4)\n"
   ]
  },
  {
   "cell_type": "code",
   "execution_count": null,
   "metadata": {},
   "outputs": [],
   "source": [
    "import numpy as np    # é um padrão não oficial usar np para numpy\n",
    "import time"
   ]
  },
  {
   "cell_type": "markdown",
   "metadata": {},
   "source": [
    "<a name=\"toc_40015_1.1\"></a>\n",
    "## 1.1 Objetivos\n",
    "Este laboratório mostrará como usar o NumPy para implementar as operações matemáticas de criação de vetores e matrizes, além de realizar produtos escalares e multiplicações de matrizes no código.  Essas operações do NumPy usam a vetorização nos \"bastidores\" para acelerar a execução do código!\n",
    "\n",
    "Este laboratório apresenta uma quantidade razoável de sintaxe numpy nova, portanto, não se preocupe em entender tudo isso imediatamente.  Mas você pode salvar este notebook e usá-lo como referência quando estiver trabalhando com dados armazenados em matrizes numpy."
   ]
  },
  {
   "cell_type": "markdown",
   "metadata": {},
   "source": [
    "<a name=\"toc_40015_1.2\"></a>\n",
    "## 1.2 Referências Úteis\n",
    "- Documentação do NumPy, incluindo uma introdução básica: [NumPy.org](https://NumPy.org/doc/stable/)\n",
    "- Um tópico sobre um recurso desafiador: [NumPy Broadcasting](https://NumPy.org/doc/stable/user/basics.broadcasting.html)\n"
   ]
  },
  {
   "cell_type": "markdown",
   "metadata": {},
   "source": [
    "<a name=\"toc_40015_2\"></a>\n",
    "# 2 Python e NumPy <a name='Python e NumPy'></a>\n",
    "Python é a linguagem de programação que usaremos neste curso. Ela tem um conjunto de tipos de dados numéricos e operações aritméticas. O NumPy é uma biblioteca que amplia os recursos básicos do python para adicionar um conjunto de dados mais rico, incluindo mais tipos numéricos, vetores, matrizes e muitas funções de matriz. O NumPy e o python trabalham juntos de forma bastante integrada. Os operadores aritméticos do Python funcionam nos tipos de dados do NumPy e muitas funções do NumPy aceitam os tipos de dados do python."
   ]
  },
  {
   "cell_type": "markdown",
   "metadata": {},
   "source": [
    "<a name=\"toc_40015_3\"></a>\n",
    "# 3 Vetores\n",
    "<a name=\"toc_40015_3.1\"></a>\n",
    "## 3.1 Resumo\n",
    "<img align=\"right\" src=\"./images/C1_W2_Lab04_Vectors.PNG\" style=\"width:340px;\" > Os vetores, como você os usará neste curso, são matrizes ordenadas de números. Na notação, os vetores são indicados com letras minúsculas e em negrito, como $\\mathbf{x}$.  Os elementos de um vetor são todos do mesmo tipo. Um vetor não contém, por exemplo, caracteres e números. O número de elementos no vetor é geralmente chamado de *dimensão*, embora os matemáticos prefiram *rank*. O vetor mostrado tem uma dimensão de $n$. Os elementos de um vetor podem ser referenciados com um índice. Nas configurações matemáticas, os índices normalmente vão de 1 a n. Na ciência da computação e nesses laboratórios, a indexação normalmente vai de 0 a n-1.  Na notação, os elementos de um vetor, quando referenciados individualmente, indicarão o índice em um subscrito, por exemplo, o $0-\\text{ésimo}$ elemento do vetor $\\mathbf{x}$ é $x_0$. Observe que, nesse caso, o x não está em negrito."
   ]
  },
  {
   "cell_type": "markdown",
   "metadata": {},
   "source": [
    "<a name=\"toc_40015_3.2\"></a>\n",
    "## 3.2 NumPy Arrays\n",
    "\n",
    "A estrutura básica de dados do NumPy é um *array* indexável e n-dimensional que contém elementos do mesmo tipo (`dtype`). Logo de cara, você pode notar que sobrecarregamos o termo \"dimensão\". Antes, era o número de elementos no vetor; aqui, dimensão refere-se ao número de índices de uma matriz. Uma matriz unidimensional ou 1-D tem um índice.\n",
    "\n",
    " - Matriz 1-D, forma (n,): n elementos indexados de [0] a [n-1]\n",
    " "
   ]
  },
  {
   "cell_type": "markdown",
   "metadata": {},
   "source": [
    "<a name=\"toc_40015_3.3\"></a>\n",
    "## 3.3 Criação de Vetores Numpy\n"
   ]
  },
  {
   "cell_type": "markdown",
   "metadata": {},
   "source": [
    "As rotinas de criação de dados no NumPy geralmente têm um primeiro parâmetro que é a forma do objeto. Ele pode ser um valor único para um resultado 1-D ou uma tupla (n,m,...) especificando a forma do resultado. Abaixo estão exemplos de criação de vetores usando essas rotinas."
   ]
  },
  {
   "cell_type": "code",
   "execution_count": null,
   "metadata": {},
   "outputs": [],
   "source": [
    "# Rotinas NumPy que alocam memória e preenchem matrizes com valores\n",
    "a = np.zeros(4);                print(f\"np.zeros(4) :   a = {a}, formato de a shape = {a.shape}, tipo de dados de a = {a.dtype}\")\n",
    "a = np.zeros((4,));             print(f\"np.zeros(4,) :  a = {a}, formato de  = {a.shape}, tipo de dados de a = {a.dtype}\")\n",
    "a = np.random.random_sample(4); print(f\"np.random.random_sample(4): a = {a}, a shape = {a.shape}, a data type = {a.dtype}\")"
   ]
  },
  {
   "cell_type": "markdown",
   "metadata": {},
   "source": [
    "Algumas rotinas de criação de dados não aceitam um formato tuple:"
   ]
  },
  {
   "cell_type": "code",
   "execution_count": null,
   "metadata": {},
   "outputs": [],
   "source": [
    "# Rotinas NumPy que alocam memória e preenchem matrizes com valores, mas não aceitam a forma como argumento de entrada\n",
    "a = np.arange(4.);              print(f\"np.arange(4.):     a = {a}, formato de a = {a.shape}, tipo de dados de a = {a.dtype}\")\n",
    "a = np.random.rand(4);          print(f\"np.random.rand(4): a = {a}, formato de a = {a.shape}, tipo de dados de a = {a.dtype}\")"
   ]
  },
  {
   "cell_type": "markdown",
   "metadata": {},
   "source": [
    "também podem ser especificados manualmente."
   ]
  },
  {
   "cell_type": "code",
   "execution_count": null,
   "metadata": {},
   "outputs": [],
   "source": [
    "# Rotinas NumPy que alocam memória e a preenchem com valores especificados pelo usuário\n",
    "a = np.array([5,4,3,2]);  print(f\"np.array([5,4,3,2]):  a = {a}, formato de a = {a.shape}, tipo de dados de a {a.dtype}\")\n",
    "a = np.array([5.,4,3,2]); print(f\"np.array([5.,4,3,2]): a = {a}, formato de a = {a.shape}, tipo de dados de a {a.dtype}\")"
   ]
  },
  {
   "cell_type": "markdown",
   "metadata": {},
   "source": [
    "Todos esses códigos anteriores criaram um vetor unidimensional `a` com quatro elementos. `a.shape` retorna as dimensões. Aqui vemos a.shape = `(4,)` indicando um vetor unidimensional com 4 elementos."
   ]
  },
  {
   "cell_type": "markdown",
   "metadata": {},
   "source": [
    "<a name=\"toc_40015_3.4\"></a>\n",
    "## 3.4 Operações em Vetores\n",
    "Vamos explorar algumas operações utilizando vetores.\n",
    "<a name=\"toc_40015_3.4.1\"></a>\n",
    "### 3.4.1 Indexando\n",
    "Os elementos dos vetores podem ser acessados por meio de indexação e divisão. O NumPy oferece um conjunto muito completo de recursos de indexação e fatiamento. Aqui, exploraremos apenas o básico necessário para o curso. Referência: [Slicing and Indexing](https://NumPy.org/doc/stable/reference/arrays.indexing.html) para mais detalhes.  \n",
    "**Indexação** significa referir-se a *um elemento* de uma matriz por sua posição dentro da matriz.  \n",
    "**Slicing** significa obter um *subconjunto* de elementos de uma matriz com base em seus índices.  \n",
    "O NumPy inicia a indexação em zero, de modo que o terceiro elemento de um vetor $\\mathbf{a}$ é `a[2]`."
   ]
  },
  {
   "cell_type": "code",
   "execution_count": null,
   "metadata": {},
   "outputs": [],
   "source": [
    "#Operações de indexação em vetores 1-D\n",
    "a = np.arange(10)\n",
    "print(a)\n",
    "\n",
    "#acessar um elemento\n",
    "print(f\"a[2].shape: {a[2].shape} a[2]  = {a[2]}, O acesso a um elemento retorna um escalar\")\n",
    "\n",
    "# acessar o último elemento, os índices negativos contam a partir do final\n",
    "print(f\"a[-1] = {a[-1]}\")\n",
    "\n",
    "#os índices devem estar dentro do intervalo do vetor ou produzirão um erro\n",
    "try:\n",
    "    c = a[10]\n",
    "except Exception as e:\n",
    "    print(\"A mensagem de erro que você verá é:\")\n",
    "    print(e)"
   ]
  },
  {
   "cell_type": "markdown",
   "metadata": {},
   "source": [
    "<a name=\"toc_40015_3.4.2\"></a>\n",
    "### 3.4.2 Fatiamento (_Slicing_)\n",
    "O slicing cria uma matriz de índices usando um conjunto de três valores (`start:stop:step`). Um subconjunto de valores também é válido. A melhor forma de explicar seu uso é por meio de um exemplo:"
   ]
  },
  {
   "cell_type": "code",
   "execution_count": null,
   "metadata": {},
   "outputs": [],
   "source": [
    "#Operações de fatiamento de vetores\n",
    "a = np.arange(10)\n",
    "print(f\"a         = {a}\")\n",
    "\n",
    "#acessar 5 elementos consecutivos (início:parada:etapa)\n",
    "c = a[2:7:1];     print(\"a[2:7:1] = \", c)\n",
    "\n",
    "# Acesso a 3 elementos separados por dois\n",
    "c = a[2:7:2];     print(\"a[2:7:2] = \", c)\n",
    "\n",
    "# Acesse todos os elementos com índice 3 e acima\n",
    "c = a[3:];        print(\"a[3:]    = \", c)\n",
    "\n",
    "# Acessar todos os elementos abaixo do índice 3\n",
    "c = a[:3];        print(\"a[:3]    = \", c)\n",
    "\n",
    "# Acessar todos os elementos\n",
    "c = a[:];         print(\"a[:]     = \", c)"
   ]
  },
  {
   "cell_type": "markdown",
   "metadata": {},
   "source": [
    "<a name=\"toc_40015_3.4.3\"></a>\n",
    "### 3.4.3 Operações de vetor único\n",
    "Há várias operações úteis que envolvem operações em um único vetor."
   ]
  },
  {
   "cell_type": "code",
   "execution_count": null,
   "metadata": {},
   "outputs": [],
   "source": [
    "a = np.array([1,2,3,4])\n",
    "print(f\"a             : {a}\")\n",
    "# negar elementos de a\n",
    "b = -a \n",
    "print(f\"b = -a        : {b}\")\n",
    "\n",
    "# soma todos os elementos de a, retorna um escalar\n",
    "b = np.sum(a) \n",
    "print(f\"b = np.sum(a) : {b}\")\n",
    "\n",
    "# média todos os elementos de a, retorna um escalar\n",
    "b = np.mean(a)\n",
    "print(f\"b = np.mean(a): {b}\")\n",
    "\n",
    "# elevar ao quadrado todos os elementos de a, retorna um escalar\n",
    "b = a**2\n",
    "print(f\"b = a**2      : {b}\")"
   ]
  },
  {
   "cell_type": "markdown",
   "metadata": {},
   "source": [
    "<a name=\"toc_40015_3.4.4\"></a>\n",
    "### 3.4.4 Operações Entre Vetores ()\n",
    "A maioria das operações aritméticas, lógicas e de comparação do NumPy também se aplica a vetores. Esses operadores funcionam em uma base de elemento por elemento. Por exemplo \n",
    "$$ c_i = a_i + b_i $$"
   ]
  },
  {
   "cell_type": "code",
   "execution_count": null,
   "metadata": {},
   "outputs": [],
   "source": [
    "a = np.array([ 1, 2, 3, 4])\n",
    "b = np.array([-1,-2, 3, 4])\n",
    "print(f\"Operadores funcionam elemento-a-elemento: {a + b}\")"
   ]
  },
  {
   "cell_type": "markdown",
   "metadata": {},
   "source": [
    "Obviamente, para que isso funcione corretamente, os vetores devem ter o mesmo tamanho:"
   ]
  },
  {
   "cell_type": "code",
   "execution_count": null,
   "metadata": {},
   "outputs": [],
   "source": [
    "#tentar uma operação vetorial incompatível\n",
    "c = np.array([1, 2])\n",
    "try:\n",
    "    d = a + c\n",
    "except Exception as e:\n",
    "    print(\"A mensagem de erro que você verá é:\")\n",
    "    print(e)"
   ]
  },
  {
   "cell_type": "markdown",
   "metadata": {},
   "source": [
    "<a name=\"toc_40015_3.4.5\"></a>\n",
    "### 3.4.5 Operações entre Escalar e Vetor\n",
    "Os vetores podem ser \"escalonados\" por valores escalares. Um valor escalar é apenas um número. O escalar multiplica todos os elementos do vetor."
   ]
  },
  {
   "cell_type": "code",
   "execution_count": null,
   "metadata": {},
   "outputs": [],
   "source": [
    "a = np.array([1, 2, 3, 4])\n",
    "\n",
    "# Multiplicar a por um escalar\n",
    "b = 5 * a \n",
    "print(f\"b = 5 * a : {b}\")"
   ]
  },
  {
   "cell_type": "markdown",
   "metadata": {},
   "source": [
    "<a name=\"toc_40015_3.4.6\"></a>\n",
    "### 3.4.6 Vetor Produto escalar vetorial\n",
    "O produto escalar é um dos pilares da Álgebra Linear e do NumPy. Essa é uma operação usada extensivamente neste curso e deve ser bem compreendida. O produto escalar é mostrado abaixo."
   ]
  },
  {
   "cell_type": "markdown",
   "metadata": {},
   "source": [
    "<img src=\"./images/C1_W2_Lab04_dot_notrans.gif\" width=800> "
   ]
  },
  {
   "cell_type": "markdown",
   "metadata": {},
   "source": [
    "O produto escalar multiplica os valores em dois vetores por elementos e, em seguida, soma o resultado.\n",
    "O produto escalar vetorial exige que as dimensões dos dois vetores sejam as mesmas."
   ]
  },
  {
   "cell_type": "markdown",
   "metadata": {},
   "source": [
    "Vamos implementar nossa própria versão do produto escalar abaixo:\n",
    "\n",
    "**Usando um loop for**, implemente uma função que retorne o produto escalar de dois vetores. A função deve retornar as entradas $a$ e $b$:\n",
    "$$ x = \\sum_{i=0}^{n-1} a_i b_i $$\n",
    "Suponha que `a` e `b` tenham o mesmo formato."
   ]
  },
  {
   "cell_type": "code",
   "execution_count": null,
   "metadata": {},
   "outputs": [],
   "source": [
    "def my_dot(a, b): \n",
    "    \"\"\"\n",
    "   Calcula o produto escalar de doi vetores\n",
    " \n",
    "    Args:\n",
    "      a (ndarray (n,)):  vetor de entrada\n",
    "      b (ndarray (n,)):  vetor de entrada com a mesma dimensão que a\n",
    "    \n",
    "    Returns:\n",
    "      x (escalar): \n",
    "    \"\"\"\n",
    "    x=0\n",
    "    for i in range(a.shape[0]):\n",
    "        x = x + a[i] * b[i]\n",
    "    return x"
   ]
  },
  {
   "cell_type": "code",
   "execution_count": null,
   "metadata": {},
   "outputs": [],
   "source": [
    "# test 1-D\n",
    "a = np.array([1, 2, 3, 4])\n",
    "b = np.array([-1, 4, 3, 2])\n",
    "print(f\"my_dot(a, b) = {my_dot(a, b)}\")"
   ]
  },
  {
   "cell_type": "markdown",
   "metadata": {},
   "source": [
    "Observe que se espera que o produto escalar retorne um valor escalar. \n",
    "\n",
    "Vamos tentar as mesmas operações usando `np.dot`."
   ]
  },
  {
   "cell_type": "code",
   "execution_count": null,
   "metadata": {},
   "outputs": [],
   "source": [
    "# teste 1-D\n",
    "a = np.array([1, 2, 3, 4])\n",
    "b = np.array([-1, 4, 3, 2])\n",
    "c = np.dot(a, b)\n",
    "print(f\"NumPy 1-D np.dot(a, b) = {c}, np.dot(a, b).shape = {c.shape} \") \n",
    "c = np.dot(b, a)\n",
    "print(f\"NumPy 1-D np.dot(b, a) = {c}, np.dot(a, b).shape = {c.shape} \")\n"
   ]
  },
  {
   "cell_type": "markdown",
   "metadata": {},
   "source": [
    "Acima, você notará que os resultados para 1-D correspondem à nossa implementação."
   ]
  },
  {
   "cell_type": "markdown",
   "metadata": {},
   "source": [
    "<a name=\"toc_40015_3.4.7\"></a>\n",
    "### 3.4.7 _The Need for Speed_: vetor vs loop for\n",
    "Utilizamos a biblioteca NumPy porque ela aumenta a eficiência da velocidade da memória. Vamos demonstrar:"
   ]
  },
  {
   "cell_type": "code",
   "execution_count": null,
   "metadata": {},
   "outputs": [],
   "source": [
    "np.random.seed(1)\n",
    "a = np.random.rand(10000000)  # vetores muito grandes\n",
    "b = np.random.rand(10000000)\n",
    "\n",
    "tic = time.time()  # capturar o tempo inicial\n",
    "c = np.dot(a, b)\n",
    "toc = time.time()  # capturar o tempo final\n",
    "\n",
    "print(f\"np.dot(a, b) =  {c:.4f}\")\n",
    "print(f\"Duração da versão vetorizeda: {1000*(toc-tic):.4f} ms \")\n",
    "\n",
    "tic = time.time()  # capturar o tempo inicial\n",
    "c = my_dot(a,b)\n",
    "toc = time.time()  # capturar o tempo final\n",
    "\n",
    "print(f\"my_dot(a, b) =  {c:.4f}\")\n",
    "print(f\"Duração da versão com loop: {1000*(toc-tic):.4f} ms \")\n",
    "\n",
    "del(a);del(b) #remover esses vetores grandes da memória"
   ]
  },
  {
   "cell_type": "markdown",
   "metadata": {},
   "source": [
    "Portanto, a vetorização proporciona um grande aumento de velocidade neste exemplo. Isso ocorre porque o NumPy faz melhor uso do paralelismo de dados disponível no hardware subjacente. As GPUs e as CPUs modernas implementam pipelines de instrução única e dados múltiplos (SIMD), permitindo que várias operações sejam executadas em paralelo. Isso é fundamental no aprendizado de máquina, em que os conjuntos de dados costumam ser muito grandes."
   ]
  },
  {
   "cell_type": "markdown",
   "metadata": {},
   "source": [
    "<a name=\"toc_12345_3.4.8\"></a>\n",
    "### 3.4.8 Operações Vetor-Vetor\n",
    "As operações vetoriais aparecerão com frequência no curso. Veja por quê:\n",
    "- A partir de agora, nossos exemplos serão armazenados em uma matriz, `X_train` de dimensão (m,n). Isso será explicado mais detalhadamente no contexto, mas aqui é importante observar que se trata de uma matriz ou matriz bidimensional (consulte a próxima seção sobre matrizes).\n",
    "- `w` será um vetor unidimensional de forma (n,).\n",
    "- Realizaremos as operações percorrendo os exemplos, extraindo cada exemplo para trabalhar individualmente por meio da indexação de X. Por exemplo: `X[i]`\n",
    "- `X[i]` retorna um valor de shape (n,), um vetor unidimensional. Consequentemente, as operações que envolvem `X[i]` são frequentemente vetoriais.  \n",
    "\n",
    "Essa é uma explicação um pouco longa, mas alinhar e compreender as formas de seus operandos é importante ao realizar operações vetoriais."
   ]
  },
  {
   "cell_type": "code",
   "execution_count": null,
   "metadata": {},
   "outputs": [],
   "source": [
    "# Mostrar exemplo de curso 1 comum\n",
    "X = np.array([[1],[2],[3],[4]])\n",
    "w = np.array([2])\n",
    "c = np.dot(X[1], w)\n",
    "\n",
    "print(f\"X[1] tem o formato {X[1].shape}\")\n",
    "print(f\"w tem o formato {w.shape}\")\n",
    "print(f\"c tem o formato {c.shape}\")"
   ]
  },
  {
   "cell_type": "markdown",
   "metadata": {},
   "source": [
    "<a name=\"toc_40015_4\"></a>\n",
    "# 4 Matrizes\n"
   ]
  },
  {
   "cell_type": "markdown",
   "metadata": {},
   "source": [
    "<a name=\"toc_40015_4.1\"></a>\n",
    "## 4.1 Resumo\n",
    "As matrizes são conjuntos de duas dimensões. Os elementos de uma matriz são todos do mesmo tipo. Na notação, as matrizes são indicadas com letras maiúsculas e em negrito, como $\\mathbf{X}$. Neste e em outros laboratórios, `m` é geralmente o número de linhas e `n` o número de colunas. Os elementos de uma matriz podem ser referenciados com um índice bidimensional. Nas configurações matemáticas, os números no índice normalmente vão de 1 a n. Na ciência da computação e nestes laboratórios, a indexação vai de 0 a n-1.\n",
    "<figure>\n",
    "    <center> <img src=\"./images/C1_W2_Lab04_Matrices.PNG\"  alt='missing'  width=900><center/>\n",
    "    <figcaption> Notação de matriz genérica, o primeiro índice é a linha, o segundo é a coluna </figcaption>\n",
    "<figure/>"
   ]
  },
  {
   "cell_type": "markdown",
   "metadata": {},
   "source": [
    "<a name=\"toc_40015_4.2\"></a>\n",
    "## 4.2 Vetores NumPy\n",
    "\n",
    "A estrutura básica de dados do NumPy é um *array* indexável e n-dimensional que contém elementos do mesmo tipo (`dtype`). Esses elementos foram descritos anteriormente. As matrizes têm um índice bidimensional (2-D) [m,n].\n",
    "\n",
    "Nesse curso, as matrizes bidimensionais são usadas para armazenar dados de treinamento. Os dados de treinamento são $m$ exemplos por $n$ recursos, criando uma matriz (m,n). A seguir, você fará uma revisão: \n",
    "- criação de dados\n",
    "- divisão e indexação"
   ]
  },
  {
   "cell_type": "markdown",
   "metadata": {},
   "source": [
    "<a name=\"toc_40015_4.3\"></a>\n",
    "## 4.3 Criação de Matrizes\n",
    "As mesmas funções que criaram vetores 1-D criarão matrizes 2-D ou n-D. Aqui estão alguns exemplos\n"
   ]
  },
  {
   "cell_type": "markdown",
   "metadata": {},
   "source": [
    "Abaixo, a tupla de forma é fornecida para obter um resultado 2-D. Observe como o NumPy usa colchetes para denotar cada dimensão. Observe também que o NumPy, ao imprimir, imprimirá uma linha por linha."
   ]
  },
  {
   "cell_type": "code",
   "execution_count": null,
   "metadata": {},
   "outputs": [],
   "source": [
    "a = np.zeros((1, 5))                                       \n",
    "print(f\"formato de a= {a.shape}, a = {a}\")                     \n",
    "\n",
    "a = np.zeros((2, 1))                                                                   \n",
    "print(f\"formato de a= {a.shape}, a = {a}\") \n",
    "\n",
    "a = np.random.random_sample((1, 1))  \n",
    "print(f\" shape a= {a.shape}, a = {a}\") "
   ]
  },
  {
   "cell_type": "markdown",
   "metadata": {},
   "source": [
    "Também é possível especificar os dados manualmente. As dimensões são especificadas com colchetes adicionais que correspondem ao formato da impressão acima."
   ]
  },
  {
   "cell_type": "code",
   "execution_count": null,
   "metadata": {},
   "outputs": [],
   "source": [
    "# Rotinas NumPy que alocam memória e a preenchem com valores especificados pelo usuário\n",
    "a = np.array([[5], [4], [3]]);   print(f\" formato de a= {a.shape}, np.array: a = {a}\")\n",
    "a = np.array([[5],   # Você também \n",
    "              [4],   # separar os valores\n",
    "              [3]]); # em linhas separadas\n",
    "print(f\" Formato de a = {a.shape}, np.array: a = {a}\")"
   ]
  },
  {
   "cell_type": "markdown",
   "metadata": {},
   "source": [
    "<a name=\"toc_40015_4.4\"></a>\n",
    "## 4.4 Operações em Matrizes\n",
    "Vamos explorar algumas operações usando matrizes."
   ]
  },
  {
   "cell_type": "markdown",
   "metadata": {},
   "source": [
    "<a name=\"toc_40015_4.4.1\"></a>\n",
    "### 4.4.1 Indexing\n"
   ]
  },
  {
   "cell_type": "markdown",
   "metadata": {},
   "source": [
    "As matrizes incluem um segundo índice. Os dois índices descrevem [linha, coluna]. O acesso pode retornar um elemento ou uma linha/coluna. Veja abaixo:"
   ]
  },
  {
   "cell_type": "code",
   "execution_count": null,
   "metadata": {},
   "outputs": [],
   "source": [
    "# Operações de indexação de vetores em matrizes\n",
    "a = np.arange(6).reshape(-1, 2) #reshape é uma maneira conveniente de criar matrizes\n",
    "print(f\"a.shape: {a.shape}, \\na= {a}\")\n",
    "\n",
    "# Acesse um elemento\n",
    "print(f\"\\na[2,0].shape:   {a[2, 0].shape}, a[2,0] = {a[2, 0]},     type(a[2,0]) = {type(a[2, 0])} O acesso a um elemento retorna um escalar\\n\")\n",
    "\n",
    "# Acesse uma linha\n",
    "print(f\"a[2].shape:   {a[2].shape}, a[2]   = {a[2]}, type(a[2])   = {type(a[2])}\")"
   ]
  },
  {
   "cell_type": "markdown",
   "metadata": {},
   "source": [
    "Vale a pena chamar a atenção para o último exemplo. O acesso a uma matriz especificando apenas a linha retornará um vetor *1-D*."
   ]
  },
  {
   "cell_type": "markdown",
   "metadata": {},
   "source": [
    "**Reshape**  \n",
    "O exemplo anterior usou [reshape](https://numpy.org/doc/stable/reference/generated/numpy.reshape.html) para moldar a matriz.  \n",
    "`a = np.arange(6).reshape(-1, 2) `   \n",
    "Essa linha de código criou primeiro um vetor *1-D* de seis elementos. Em seguida, reformulou esse vetor em uma matriz *2-D* usando o comando reshape. Isso poderia ter sido escrito: \n",
    "`a = np.arange(6).reshape(3, 2) `  \n",
    "Para chegar à mesma matriz de 3 linhas e 2 colunas.\n",
    "O argumento -1 diz à rotina para computar o número de linhas dado o tamanho da matriz e o número de colunas."
   ]
  },
  {
   "cell_type": "markdown",
   "metadata": {},
   "source": [
    "<a name=\"toc_40015_4.4.2\"></a>\n",
    "### 4.4.2 Slicing\n",
    "O fatiamento cria uma matriz de índices usando um conjunto de três valores (`start:stop:step`). Um subconjunto de valores também é válido. A melhor forma de explicar seu uso é por meio de um exemplo:"
   ]
  },
  {
   "cell_type": "code",
   "execution_count": null,
   "metadata": {},
   "outputs": [],
   "source": [
    "#Operações de corte 2-D do vetor\n",
    "a = np.arange(20).reshape(-1, 10)\n",
    "print(f\"a = \\n{a}\")\n",
    "\n",
    "#acessar 5 elementos consecutivos (início:parada:etapa)\n",
    "print(\"a[0, 2:7:1] = \", a[0, 2:7:1], \",  a[0, 2:7:1].shape =\", a[0, 2:7:1].shape, \"a 1-D array\")\n",
    "\n",
    "#acessar 5 elementos consecutivos (start:stop:step) em duas linhas\n",
    "print(\"a[:, 2:7:1] = \\n\", a[:, 2:7:1], \",  a[:, 2:7:1].shape =\", a[:, 2:7:1].shape, \"a 2-D array\")\n",
    "\n",
    "# acessar todos os elementos em uma linha (uso muito comum)\n",
    "print(\"a[:,:] = \\n\", a[:,:], \",  a[:,:].shape =\", a[:,:].shape)\n",
    "\n",
    "# acessar todos os elementos em uma linha (uso muito comum)\n",
    "print(\"a[1,:] = \", a[1,:], \",  a[1,:].shape =\", a[1,:].shape, \"a 1-D array\")\n",
    "# que é o mesmo que\n",
    "print(\"a[1]   = \", a[1],   \",  a[1].shape   =\", a[1].shape, \"a 1-D array\")\n"
   ]
  },
  {
   "cell_type": "markdown",
   "metadata": {},
   "source": [
    "<a name=\"toc_40015_5.0\"></a>\n",
    "## Parabéns!\n",
    "Neste laboratório, você dominou os recursos do Python e do NumPy que são necessários para o curso."
   ]
  }
 ],
 "metadata": {
  "dl_toc_settings": {
   "rndtag": "40015"
  },
  "kernelspec": {
   "display_name": "Python 3",
   "language": "python",
   "name": "python3"
  },
  "language_info": {
   "codemirror_mode": {
    "name": "ipython",
    "version": 3
   },
   "file_extension": ".py",
   "mimetype": "text/x-python",
   "name": "python",
   "nbconvert_exporter": "python",
   "pygments_lexer": "ipython3",
   "version": "3.11.0rc1"
  },
  "toc-autonumbering": false
 },
 "nbformat": 4,
 "nbformat_minor": 4
}
