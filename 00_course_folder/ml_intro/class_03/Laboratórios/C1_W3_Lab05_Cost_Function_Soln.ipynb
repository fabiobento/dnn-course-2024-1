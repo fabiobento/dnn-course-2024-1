{
 "cells": [
  {
   "cell_type": "markdown",
   "id": "3c638081",
   "metadata": {},
   "source": [
    "[adaptado de [Programa de cursos integrados Aprendizado de máquina](https://www.coursera.org/specializations/machine-learning-introduction) de [Andrew Ng](https://www.coursera.org/instructor/andrewng)  ([Stanford University](http://online.stanford.edu/), [DeepLearning.AI](https://www.deeplearning.ai/) ) ]"
   ]
  },
  {
   "cell_type": "code",
   "execution_count": null,
   "id": "4beb32c6",
   "metadata": {},
   "outputs": [],
   "source": [
    "# Baixar arquivos adicionais para o laboratório.\n",
    "!wget https://github.com/fabiobento/dnn-course-2024-1/raw/main/00_course_folder/ml_intro/class_03/Laborat%C3%B3rios/lab_utils_ml_intro_week_3.zip\n",
    "!unzip -n -q lab_utils_ml_intro_week_3.zip"
   ]
  },
  {
   "cell_type": "code",
   "execution_count": null,
   "id": "97721b0b",
   "metadata": {},
   "outputs": [],
   "source": [
    "# Testar se estamos no Google Colab\n",
    "try:\n",
    "  import google.colab\n",
    "  IN_COLAB = True\n",
    "  from google.colab import output\n",
    "  output.enable_custom_widget_manager()\n",
    "except:\n",
    "  IN_COLAB = False"
   ]
  },
  {
   "cell_type": "markdown",
   "metadata": {},
   "source": [
    "# Função de Custo para Regressão Logística\n",
    "\n",
    "## Objetivos\n",
    "Neste laboratório, você irá:\n",
    "- examinar a implementação e utilizar a função de custo para regressão logística."
   ]
  },
  {
   "cell_type": "code",
   "execution_count": null,
   "id": "e95c9473",
   "metadata": {},
   "outputs": [],
   "source": [
    "!pip install ipympl"
   ]
  },
  {
   "cell_type": "code",
   "execution_count": null,
   "id": "5994721e",
   "metadata": {},
   "outputs": [],
   "source": [
    "import numpy as np\n",
    "%matplotlib widget\n",
    "import matplotlib.pyplot as plt\n",
    "from lab_utils_common import  plot_data, sigmoid, dlc\n",
    "plt.style.use('./deeplearning.mplstyle')"
   ]
  },
  {
   "cell_type": "markdown",
   "id": "4e099e96",
   "metadata": {},
   "source": [
    "## Conjunto de dados\n",
    "Vamos começar com o mesmo conjunto de dados usado no laboratório de fronteira de decisão."
   ]
  },
  {
   "cell_type": "code",
   "execution_count": null,
   "id": "94dc38d6",
   "metadata": {
    "tags": []
   },
   "outputs": [],
   "source": [
    "X_train = np.array([[0.5, 1.5], [1,1], [1.5, 0.5], [3, 0.5], [2, 2], [1, 2.5]])  #(m,n)\n",
    "y_train = np.array([0, 0, 0, 1, 1, 1])                                           #(m,)"
   ]
  },
  {
   "cell_type": "markdown",
   "id": "c4043345",
   "metadata": {},
   "source": [
    "Usaremos uma função auxiliar para plotar esses dados. Os pontos de dados com rótulo $y=1$ são mostrados como cruzes vermelhas, enquanto os pontos de dados com rótulo $y=0$ são mostrados como círculos azuis."
   ]
  },
  {
   "cell_type": "code",
   "execution_count": null,
   "id": "d24ef900",
   "metadata": {},
   "outputs": [],
   "source": [
    "fig,ax = plt.subplots(1,1,figsize=(4,4))\n",
    "plot_data(X_train, y_train, ax)\n",
    "\n",
    "# Defina ambos os eixos como 0-4\n",
    "ax.axis([0, 4, 0, 3.5])\n",
    "ax.set_ylabel('$x_1$', fontsize=12)\n",
    "ax.set_xlabel('$x_0$', fontsize=12)\n",
    "plt.show()"
   ]
  },
  {
   "cell_type": "markdown",
   "id": "b5553e83",
   "metadata": {},
   "source": [
    "## Função de custo\n",
    "\n",
    "Em um laboratório anterior, você desenvolveu a função *perda logística*. Lembre-se, a perda é definida para ser aplicada a um exemplo. Aqui você combina as perdas para formar o **custo**, que inclui todos os exemplos.\n",
    "\n",
    "\n",
    "Lembre-se de que para regressão logística, a função de custo tem a forma\n",
    "\n",
    "$$ J(\\mathbf{w},b) = \\frac{1}{m} \\sum_{i=0}^{m-1} \\left[ loss(f_{\\mathbf{w},b}(\\mathbf{x}^{(i)}), y^{(i)}) \\right] \\tag{1}$$\n",
    "\n",
    "onde\n",
    "* $loss(f_{\\mathbf{w},b}(\\mathbf{x}^{(i)}), y^{(i)})$ é o custo de um único ponto de dados, que é:\n",
    "\n",
    "    $$loss(f_{\\mathbf{w},b}(\\mathbf{x}^{(i)}), y^{(i)}) = -y^{(i)} \\log\\left(f_{\\mathbf{w},b}\\left( \\mathbf{x}^{(i)} \\right) \\right) - \\left( 1 - y^{(i)}\\right) \\log \\left( 1 - f_{\\mathbf{w},b}\\left( \\mathbf{x}^{(i)} \\right) \\right) \\tag{2}$$\n",
    "    \n",
    "*  onde m é o número de exemplos de treinamento no conjunto de dados e:\n",
    "$$\n",
    "\\begin{align}\n",
    "  f_{\\mathbf{w},b}(\\mathbf{x^{(i)}}) &= g(z^{(i)})\\tag{3} \\\\\n",
    "  z^{(i)} &= \\mathbf{w} \\cdot \\mathbf{x}^{(i)}+ b\\tag{4} \\\\\n",
    "  g(z^{(i)}) &= \\frac{1}{1+e^{-z^{(i)}}}\\tag{5} \n",
    "\\end{align}\n",
    "$$\n",
    " "
   ]
  },
  {
   "cell_type": "markdown",
   "id": "9ad0776a",
   "metadata": {},
   "source": [
    "<a name='ex-02'></a>\n",
    "#### Code Description\n",
    "\n",
    "#### Descrição do código\n",
    "\n",
    "O algoritmo para `compute_cost_logistic` percorre todos os exemplos calculando a perda de cada exemplo e acumulando o total.\n",
    "\n",
    "Observe que as variáveis ​​X e y não são valores escalares, mas matrizes de forma ($m, n$) e ($𝑚$,) respectivamente, onde $𝑛$ é o número de recursos e $𝑚$ é o número de exemplos de treinamento .\n"
   ]
  },
  {
   "cell_type": "code",
   "execution_count": null,
   "id": "a97afb87",
   "metadata": {},
   "outputs": [],
   "source": [
    "def compute_cost_logistic(X, y, w, b):\n",
    "    \"\"\"\n",
    "    Calcula o custo\n",
    "\n",
    "    Args:\n",
    "      X (ndarray (m,n)): Dados, m exemplos com n recursos\n",
    "      y (ndarray (m,)) : valores alvo\n",
    "      w (ndarray (n,)) : parâmetros do modelo\n",
    "      b (escalar)       : parâmetros do modelo\n",
    "      \n",
    "    Returns:\n",
    "      cost (escalar): custo\n",
    "    \"\"\"\n",
    "\n",
    "    m = X.shape[0]\n",
    "    cost = 0.0\n",
    "    for i in range(m):\n",
    "        z_i = np.dot(X[i],w) + b\n",
    "        f_wb_i = sigmoid(z_i)\n",
    "        cost +=  -y[i]*np.log(f_wb_i) - (1-y[i])*np.log(1-f_wb_i)\n",
    "             \n",
    "    cost = cost / m\n",
    "    return cost\n"
   ]
  },
  {
   "cell_type": "markdown",
   "id": "7facf479",
   "metadata": {},
   "source": [
    "Verifique a implementação da função de custo usando a célula abaixo."
   ]
  },
  {
   "cell_type": "code",
   "execution_count": null,
   "id": "1be97295",
   "metadata": {},
   "outputs": [],
   "source": [
    "w_tmp = np.array([1,1])\n",
    "b_tmp = -3\n",
    "print(compute_cost_logistic(X_train, y_train, w_tmp, b_tmp))"
   ]
  },
  {
   "cell_type": "markdown",
   "id": "18636171",
   "metadata": {},
   "source": [
    "**Saída Esperada**: 0.3668667864055175"
   ]
  },
  {
   "cell_type": "markdown",
   "id": "5df17c0c",
   "metadata": {},
   "source": [
    "## Exemplo\n",
    "Agora, vamos ver qual é o resultado da função de custo para um valor diferente de $w$.\n",
    "\n",
    "* Em um laboratório anterior, você traçou o limite de decisão para  $b = -3, w_0 = 1, w_1 = 1$. Ou seja, você obteve `b = -3, w = np.array([1,1])`.\n",
    "\n",
    "* Digamos que você queira ver se $b = -4, w_0 = 1, w_1 = 1$, ou `b = -4, w = np.array([1,1])` fornece um modelo melhor.\n",
    "\n",
    "Vamos primeiro traçar o limite de decisão para esses dois valores $b$ diferentes para ver qual deles se ajusta melhor aos dados.\n",
    "\n",
    "* For $b = -3, w_0 = 1, w_1 = 1$, we'll plot $-3 + x_0+x_1 = 0$ (mostrado em azul)\n",
    "* For $b = -4, w_0 = 1, w_1 = 1$, we'll plot $-4 + x_0+x_1 = 0$ (mostrado em magenta)"
   ]
  },
  {
   "cell_type": "code",
   "execution_count": null,
   "id": "8ca6c0e0",
   "metadata": {},
   "outputs": [],
   "source": [
    "import matplotlib.pyplot as plt\n",
    "\n",
    "# Escolha valores entre 0 e 6\n",
    "x0 = np.arange(0,6)\n",
    "\n",
    "# Trace os duas fronteiras de decisão\n",
    "x1 = 3 - x0\n",
    "x1_other = 4 - x0\n",
    "\n",
    "fig,ax = plt.subplots(1, 1, figsize=(4,4))\n",
    "# Plote as fronteiras de decisão\n",
    "ax.plot(x0,x1, c=dlc[\"dlblue\"], label=\"$b$=-3\")\n",
    "ax.plot(x0,x1_other, c=dlc[\"dlmagenta\"], label=\"$b$=-4\")\n",
    "ax.axis([0, 4, 0, 4])\n",
    "\n",
    "# Plote or dados originais\n",
    "plot_data(X_train,y_train,ax)\n",
    "ax.axis([0, 4, 0, 4])\n",
    "ax.set_ylabel('$x_1$', fontsize=12)\n",
    "ax.set_xlabel('$x_0$', fontsize=12)\n",
    "plt.legend(loc=\"upper right\")\n",
    "plt.title(\"Fronteira de Decisão\")\n",
    "plt.show()"
   ]
  },
  {
   "cell_type": "markdown",
   "id": "fcf33715",
   "metadata": {},
   "source": [
    "Você pode ver neste gráfico que `b = -4, w = np.array([1,1])` é um modelo pior para os dados de treinamento. Vamos ver se a implementação da função de custo reflete isso."
   ]
  },
  {
   "cell_type": "code",
   "execution_count": null,
   "id": "9aeae672",
   "metadata": {},
   "outputs": [],
   "source": [
    "w_array1 = np.array([1,1])\n",
    "b_1 = -3\n",
    "w_array2 = np.array([1,1])\n",
    "b_2 = -4\n",
    "\n",
    "print(\"Custo para b = -3 : \", compute_cost_logistic(X_train, y_train, w_array1, b_1))\n",
    "print(\"Custo para b = -4 : \", compute_cost_logistic(X_train, y_train, w_array2, b_2))"
   ]
  },
  {
   "cell_type": "markdown",
   "metadata": {},
   "source": [
    "**Saída Esperada**\n",
    "\n",
    "Custo para b = -3 :  0.3668667864055175\n",
    "\n",
    "Custo para = -4 :  0.5036808636748461\n",
    "\n",
    "\n",
    "Você pode ver que a função de custo se comporta conforme o esperado e o custo para `b = -4, w = np.array([1,1])` é realmente maior do que o custo para `b = -3, w = np.array ([1,1])`"
   ]
  },
  {
   "cell_type": "markdown",
   "metadata": {},
   "source": [
    "## Parabéns!\n",
    "Neste laboratório você examinou e utilizou a função de custo para regressão logística."
   ]
  }
 ],
 "metadata": {
  "kernelspec": {
   "display_name": "Python 3",
   "language": "python",
   "name": "python3"
  },
  "language_info": {
   "codemirror_mode": {
    "name": "ipython",
    "version": 3
   },
   "file_extension": ".py",
   "mimetype": "text/x-python",
   "name": "python",
   "nbconvert_exporter": "python",
   "pygments_lexer": "ipython3",
   "version": "3.11.0rc1"
  }
 },
 "nbformat": 4,
 "nbformat_minor": 5
}
