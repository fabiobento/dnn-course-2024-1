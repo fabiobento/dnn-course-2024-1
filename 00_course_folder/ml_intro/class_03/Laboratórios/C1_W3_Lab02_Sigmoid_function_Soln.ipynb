{
 "cells": [
  {
   "cell_type": "markdown",
   "id": "aedbe6dc",
   "metadata": {},
   "source": [
    "[adaptado de [Programa de cursos integrados Aprendizado de máquina](https://www.coursera.org/specializations/machine-learning-introduction) de [Andrew Ng](https://www.coursera.org/instructor/andrewng)  ([Stanford University](http://online.stanford.edu/), [DeepLearning.AI](https://www.deeplearning.ai/) ) ]"
   ]
  },
  {
   "cell_type": "code",
   "execution_count": null,
   "id": "1d0a53bf",
   "metadata": {},
   "outputs": [],
   "source": [
    "# Baixar arquivos adicionais para o laboratório.\n",
    "!wget https://github.com/fabiobento/dnn-course-2024-1/raw/main/00_course_folder/ml_intro/class_03/Laborat%C3%B3rios/lab_utils_ml_intro_week_3.zip\n",
    "!unzip -n -q lab_utils_ml_intro_week_3.zip"
   ]
  },
  {
   "cell_type": "code",
   "execution_count": null,
   "id": "091a83aa",
   "metadata": {},
   "outputs": [],
   "source": [
    "# Testar se estamos no Google Colab\n",
    "try:\n",
    "  import google.colab\n",
    "  IN_COLAB = True\n",
    "  from google.colab import output\n",
    "  output.enable_custom_widget_manager()\n",
    "except:\n",
    "  IN_COLAB = False"
   ]
  },
  {
   "cell_type": "markdown",
   "metadata": {},
   "source": [
    "# Regressão Logística\n",
    "\n",
    "Neste laboratório você vai:\n",
    "- explorar a função sigmoide (também conhecida como função logística)\n",
    "- explorar a regressão logística, que usa a função sigmoide"
   ]
  },
  {
   "cell_type": "code",
   "execution_count": null,
   "id": "804420f7",
   "metadata": {},
   "outputs": [],
   "source": [
    "!pip install ipympl"
   ]
  },
  {
   "cell_type": "code",
   "execution_count": null,
   "id": "0dec50bb",
   "metadata": {},
   "outputs": [],
   "source": [
    "import numpy as np\n",
    "%matplotlib widget\n",
    "import matplotlib.pyplot as plt\n",
    "from plt_one_addpt_onclick import plt_one_addpt_onclick\n",
    "from lab_utils_common import draw_vthresh\n",
    "plt.style.use('./deeplearning.mplstyle')"
   ]
  },
  {
   "cell_type": "markdown",
   "id": "484b9316",
   "metadata": {},
   "source": [
    "## Função Sigmoid ou Logística\n",
    "<img align=\"left\" src=\"./images/C1_W3_LogisticRegression_left.png\"     style=\" width:300px; padding: 10px; \" >\n",
    "Conforme visto nas aulas, para uma tarefa de classificação, podemos começar usando nosso modelo de regressão linear, $$f_{\\mathbf{w},b}(\\mathbf{x}^{(i)}) = \\mathbf{w} \\cdot \\mathbf{x}^{(i)} + b$$, para prever $y$ dado $x$. \n",
    "- No entanto, gostaríamos que as previsões do nosso modelo de classificação estivessem entre 0 e 1, já que nossa variável de saída $y$ é 0 ou 1. \n",
    "- Isso pode ser feito com o uso de uma \"função sigmoide\" que mapeia todos os valores de entrada para valores entre 0 e 1. \n",
    "\n",
    "\n",
    "Vamos implementar a função sigmoide e ver isso por nós mesmos.\n",
    "\n",
    "## Fórmula da função sigmoide\n",
    "\n",
    "A fórmula de uma função sigmoide é a seguinte  \n",
    "\n",
    "$$g(z) = \\frac{1}{1+e^{-z}}\\tag{1}$$\n",
    "\n",
    "No caso da regressão logística, z (a entrada da função sigmoide) é a saída de um modelo de regressão linear. \n",
    "- No caso de um único exemplo, $z$ é escalar.\n",
    "- No caso de vários exemplos, $z$ pode ser um vetor que consiste em $m$ valores, um para cada exemplo. \n",
    "- A implementação da função sigmoide deve abranger esses dois formatos de entrada em potencial.\n",
    "Vamos implementar isso em Python."
   ]
  },
  {
   "cell_type": "markdown",
   "id": "11fd0e70",
   "metadata": {},
   "source": [
    "NumPy has a function called [`exp()`](https://numpy.org/doc/stable/reference/generated/numpy.exp.html), which offers a convenient way to calculate the exponential ( $e^{z}$) of all elements in the input array (`z`).\n",
    " \n",
    "It also works with a single number as an input, as shown below."
   ]
  },
  {
   "cell_type": "code",
   "execution_count": null,
   "id": "4cee0d15",
   "metadata": {},
   "outputs": [],
   "source": [
    "# A entrada é um vetor.\n",
    "input_array = np.array([1,2,3])\n",
    "exp_array = np.exp(input_array)\n",
    "\n",
    "print(\"Entrada para exp:\", input_array)\n",
    "print(\"Saída para exp:\", exp_array)\n",
    "\n",
    "# A entrada é um único número\n",
    "input_val = 1  \n",
    "exp_val = np.exp(input_val)\n",
    "\n",
    "print(\"Entrada para exp:\", input_val)\n",
    "print(\"Saída para exp:\", exp_val)"
   ]
  },
  {
   "cell_type": "markdown",
   "id": "a6c95a7a",
   "metadata": {},
   "source": [
    "A função `sigmoid` é implementada em python, conforme mostrado na célula abaixo."
   ]
  },
  {
   "cell_type": "code",
   "execution_count": null,
   "id": "e9ba6f22",
   "metadata": {},
   "outputs": [],
   "source": [
    "def sigmoid(z):\n",
    "    \"\"\"\n",
    "    Calcular a sigmoide de z\n",
    "\n",
    "    Args:\n",
    "        z (ndarray): Um vetor numérica escalar de qualquer tamanho.\n",
    "\n",
    "    Returns:\n",
    "        g (ndarray): sigmoid(z), com o mesmo formato que z\n",
    "         \n",
    "    \"\"\"\n",
    "\n",
    "    g = 1/(1+np.exp(-z))\n",
    "   \n",
    "    return g"
   ]
  },
  {
   "cell_type": "markdown",
   "id": "8e851db8",
   "metadata": {},
   "source": [
    "Vamos ver qual é o resultado dessa função para vários valores de `z`"
   ]
  },
  {
   "cell_type": "code",
   "execution_count": null,
   "id": "fee4df02",
   "metadata": {},
   "outputs": [],
   "source": [
    "# Gerar uma matriz de valores uniformemente espaçados entre -10 e 10\n",
    "z_tmp = np.arange(-10,11)\n",
    "\n",
    "# Usar a função implementada acima para obter os valores sigmoides\n",
    "y = sigmoid(z_tmp)\n",
    "\n",
    "# Código para imprimir os dois vetores um ao lado da outra\n",
    "np.set_printoptions(precision=3) \n",
    "print(\"Input (z), Output (sigmoid(z))\")\n",
    "print(np.c_[z_tmp, y])"
   ]
  },
  {
   "cell_type": "markdown",
   "id": "5a7d0f35",
   "metadata": {},
   "source": [
    "Os valores na coluna da esquerda são `z` e os valores na coluna da direita são `sigmoid(z)`. Como você pode ver, os valores de entrada para a sigmoide variam de -10 a 10 e os valores de saída variam de 0 a 1. \n",
    "\n",
    "Agora, vamos tentar plotar essa função usando a biblioteca `matplotlib`."
   ]
  },
  {
   "cell_type": "code",
   "execution_count": null,
   "id": "5adea2f3",
   "metadata": {},
   "outputs": [],
   "source": [
    "# plotar z vs sigmoid(z)\n",
    "fig,ax = plt.subplots(1,1,figsize=(5,3))\n",
    "ax.plot(z_tmp, y, c=\"b\")\n",
    "\n",
    "ax.set_title(\"Função Sigmoid\")\n",
    "ax.set_ylabel('sigmoid(z)')\n",
    "ax.set_xlabel('z')\n",
    "draw_vthresh(ax,0)"
   ]
  },
  {
   "cell_type": "markdown",
   "id": "2e77b586",
   "metadata": {},
   "source": [
    "Como você pode ver, a função sigmoide se aproxima de `0` quando `z` atinge valores negativos grandes e se aproxima de `1` quando `z` atinge valores positivos grandes.\n"
   ]
  },
  {
   "cell_type": "markdown",
   "id": "98ebb178",
   "metadata": {},
   "source": [
    "## Regressão Logística\n",
    "<img align=\"left\" src=\"./images/C1_W3_LogisticRegression_right.png\"     style=\" width:300px; padding: 10px; \" >  Um modelo de regressão logística aplica o sigmoide ao modelo de regressão linear conhecido, conforme mostrado abaixo:\n",
    "\n",
    "$$ f_{\\mathbf{w},b}(\\mathbf{x}^{(i)}) = g(\\mathbf{w} \\cdot \\mathbf{x}^{(i)} + b ) \\tag{2} $$ \n",
    "\n",
    "  onde\n",
    "\n",
    "  $$g(z) = \\frac{1}{1+e^{-z}}\\tag{3}$$\n"
   ]
  },
  {
   "cell_type": "markdown",
   "id": "eb2737fc",
   "metadata": {},
   "source": [
    "  \n",
    "Vamos aplicar a regressão logística ao exemplo de dados categóricos da classificação de tumores.  \n",
    "Primeiro, carregue os exemplos e os valores iniciais dos parâmetros.\n",
    "  \n"
   ]
  },
  {
   "cell_type": "code",
   "execution_count": null,
   "id": "1853a185",
   "metadata": {
    "tags": []
   },
   "outputs": [],
   "source": [
    "x_train = np.array([0., 1, 2, 3, 4, 5])\n",
    "y_train = np.array([0,  0, 0, 1, 1, 1])\n",
    "\n",
    "w_in = np.zeros((1))\n",
    "b_in = 0"
   ]
  },
  {
   "cell_type": "markdown",
   "id": "468dad9e",
   "metadata": {},
   "source": [
    "Tente as seguintes etapas:\n",
    "- Clique em \"Executar regressão logística\" para encontrar o melhor modelo de regressão logística para os dados de treinamento fornecidos\n",
    "    - Observe que o modelo resultante se ajusta muito bem aos dados.\n",
    "    - Observe que a linha laranja é \"$z$\" ou $\\mathbf{w} \\cdot \\mathbf{x}^{(i)} + b$ acima. Ela não corresponde à linha em um modelo de regressão linear.\n",
    "Melhore ainda mais esses resultados aplicando um *limite*. \n",
    "- Marque a caixa em \"Alternar o limite de 0,5(após regressão)\" para mostrar as previsões se um limite for aplicado.\n",
    "    - Essas previsões parecem boas. As previsões correspondem aos dados\n",
    "    - Agora, adicione mais pontos de dados na faixa de tamanho de tumor grande (próximo a 10) e execute novamente a regressão logística.\n",
    "    - Ao contrário do modelo de regressão linear, esse modelo continua a fazer previsões corretas"
   ]
  },
  {
   "cell_type": "code",
   "execution_count": null,
   "id": "1a452590",
   "metadata": {},
   "outputs": [],
   "source": [
    "plt.close('all') \n",
    "addpt = plt_one_addpt_onclick( x_train,y_train, w_in, b_in, logistic=True)"
   ]
  },
  {
   "cell_type": "markdown",
   "metadata": {},
   "source": [
    "## Parabéns!\n",
    "Você explorou o uso da função sigmoide na regressão logística."
   ]
  },
  {
   "cell_type": "code",
   "execution_count": null,
   "metadata": {},
   "outputs": [],
   "source": []
  }
 ],
 "metadata": {
  "kernelspec": {
   "display_name": "Python 3",
   "language": "python",
   "name": "python3"
  },
  "language_info": {
   "codemirror_mode": {
    "name": "ipython",
    "version": 3
   },
   "file_extension": ".py",
   "mimetype": "text/x-python",
   "name": "python",
   "nbconvert_exporter": "python",
   "pygments_lexer": "ipython3",
   "version": "3.11.0"
  }
 },
 "nbformat": 4,
 "nbformat_minor": 5
}
