{
 "cells": [
  {
   "cell_type": "markdown",
   "id": "2bb4c2d9",
   "metadata": {},
   "source": [
    "[adaptado de [Programa de cursos integrados Aprendizado de máquina](https://www.coursera.org/specializations/machine-learning-introduction) de [Andrew Ng](https://www.coursera.org/instructor/andrewng)  ([Stanford University](http://online.stanford.edu/), [DeepLearning.AI](https://www.deeplearning.ai/) ) ]"
   ]
  },
  {
   "cell_type": "code",
   "execution_count": null,
   "id": "9b52f289",
   "metadata": {},
   "outputs": [],
   "source": [
    "# Baixar arquivos adicionais para o laboratório.\n",
    "!wget https://github.com/fabiobento/dnn-course-2024-1/raw/main/00_course_folder/ml_intro/class_03/Laborat%C3%B3rios/lab_utils_ml_intro_week_3.zip\n",
    "!unzip -n -q lab_utils_ml_intro_week_3.zip"
   ]
  },
  {
   "cell_type": "code",
   "execution_count": null,
   "id": "bba3604c",
   "metadata": {},
   "outputs": [],
   "source": [
    "# Testar se estamos no Google Colab\n",
    "try:\n",
    "  import google.colab\n",
    "  IN_COLAB = True\n",
    "  from google.colab import output\n",
    "  output.enable_custom_widget_manager()\n",
    "except:\n",
    "  IN_COLAB = False"
   ]
  },
  {
   "cell_type": "markdown",
   "metadata": {},
   "source": [
    "# Classificação\n",
    "\n",
    "Neste laboratório, você comparará regressão e classificação."
   ]
  },
  {
   "cell_type": "code",
   "execution_count": null,
   "id": "7588de44",
   "metadata": {},
   "outputs": [],
   "source": [
    "!pip install ipympl"
   ]
  },
  {
   "cell_type": "code",
   "execution_count": null,
   "id": "540e98d3",
   "metadata": {},
   "outputs": [],
   "source": [
    "import numpy as np\n",
    "%matplotlib widget\n",
    "import matplotlib.pyplot as plt\n",
    "from lab_utils_common import dlc, plot_data\n",
    "from plt_one_addpt_onclick import plt_one_addpt_onclick\n",
    "plt.style.use('./deeplearning.mplstyle')"
   ]
  },
  {
   "cell_type": "markdown",
   "id": "f2a1756a",
   "metadata": {},
   "source": [
    "## Problemas de Classificação\n",
    "<img align=\"left\" src=\"./images/C1_W3_Classification.png\"     style=\" width:380px; padding: 10px; \" >\n",
    "\n",
    "Os problemas de classificação são coisas como: identificar um e-mail como Spam ou Não Spam ou determinar se um tumor é maligno ou benigno. Em particular, esses são exemplos de classificação *binária* em que há dois resultados possíveis.  Os resultados podem ser descritos em pares de \"positivo\"/\"negativo\", como \"sim\"/\"não\", \"verdadeiro\"/\"falso\" ou \"1\"/\"0\". \n",
    "\n",
    "Os gráficos dos conjuntos de dados de classificação geralmente usam símbolos para indicar o resultado de um exemplo. Nos gráficos abaixo, \"X\" é usado para representar os valores positivos, enquanto \"O\" representa os resultados negativos. "
   ]
  },
  {
   "cell_type": "code",
   "execution_count": null,
   "id": "652be58f",
   "metadata": {},
   "outputs": [],
   "source": [
    "x_train = np.array([0., 1, 2, 3, 4, 5])\n",
    "y_train = np.array([0,  0, 0, 1, 1, 1])\n",
    "X_train2 = np.array([[0.5, 1.5], [1,1], [1.5, 0.5], [3, 0.5], [2, 2], [1, 2.5]])\n",
    "y_train2 = np.array([0, 0, 0, 1, 1, 1])"
   ]
  },
  {
   "cell_type": "code",
   "execution_count": null,
   "id": "363940a0",
   "metadata": {},
   "outputs": [],
   "source": [
    "pos = y_train == 1\n",
    "neg = y_train == 0\n",
    "\n",
    "fig,ax = plt.subplots(1,2,figsize=(8,3))\n",
    "#plot 1, variável única\n",
    "ax[0].scatter(x_train[pos], y_train[pos], marker='x', s=80, c = 'red', label=\"y=1\")\n",
    "ax[0].scatter(x_train[neg], y_train[neg], marker='o', s=100, label=\"y=0\", facecolors='none', \n",
    "              edgecolors=dlc[\"dlblue\"],lw=3)\n",
    "\n",
    "ax[0].set_ylim(-0.08,1.1)\n",
    "ax[0].set_ylabel('y', fontsize=12)\n",
    "ax[0].set_xlabel('x', fontsize=12)\n",
    "ax[0].set_title('gráfico de uma variável')\n",
    "ax[0].legend()\n",
    "\n",
    "#plot 1, 2 variáveis\n",
    "plot_data(X_train2, y_train2, ax[1])\n",
    "ax[1].axis([0, 4, 0, 4])\n",
    "ax[1].set_ylabel('$x_1$', fontsize=12)\n",
    "ax[1].set_xlabel('$x_0$', fontsize=12)\n",
    "ax[1].set_title('gráfico de duas variáveis')\n",
    "ax[1].legend()\n",
    "plt.tight_layout()\n",
    "plt.show()\n"
   ]
  },
  {
   "cell_type": "markdown",
   "id": "7666b4fd",
   "metadata": {},
   "source": [
    "Observe os gráficos acima:\n",
    "- No gráfico de variável única, os resultados positivos são mostrados como 'X' vermelhos e como y=1. Os resultados negativos são \"O\" azuis e estão localizados em y=0.\n",
    "   - Lembre-se de que, no caso da regressão linear, y não estaria limitado a dois valores, mas poderia ser qualquer valor.\n",
    "- No gráfico de duas variáveis, o eixo y não está disponível.  Os resultados positivos são mostrados como \"X\" vermelho, enquanto os resultados negativos usam o símbolo \"O\" azul.\n",
    "    - Lembre-se de que, no caso de regressão linear com múltiplas variáveis, y não teria se limitado a dois valores e um gráfico semelhante seria tridimensional."
   ]
  },
  {
   "cell_type": "markdown",
   "id": "e609af41",
   "metadata": {},
   "source": [
    "## Abordagem de Regressão Linear\n",
    "Na semana anterior, você aplicou a regressão linear para criar um modelo de previsão. Vamos tentar essa abordagem aqui usando o exemplo simples que foi descrito na aula. O modelo preverá se um tumor é benigno ou maligno com base no tamanho do tumor.  Tente o seguinte:\n",
    "- Clique em \"Run Linear Regression\" (Executar regressão linear) para encontrar o melhor modelo de regressão linear para os dados fornecidos.\n",
    "    - Observe que o modelo linear resultante **não** corresponde bem aos dados. \n",
    "Uma opção para melhorar os resultados é aplicar um *limite*. \n",
    "- Marque a caixa em \"Toggle 0.5 threshold\" para mostrar as previsões se um limite for aplicado.\n",
    "    - Essas previsões parecem boas, elas correspondem aos dados\n",
    "- Importante: Agora, adicione mais pontos de dados \"malignos\" na extrema direita, na faixa de tamanho de tumor grande (próximo a 10), e execute novamente a regressão linear.\n",
    "    - Agora, o modelo prevê o tumor maior, mas o ponto de dados em x=3 está sendo previsto incorretamente!\n",
    "- Para limpar/renovar o gráfico, execute novamente a célula que contém o comando plot."
   ]
  },
  {
   "cell_type": "code",
   "execution_count": null,
   "id": "2c4fa9d3",
   "metadata": {},
   "outputs": [],
   "source": [
    "w_in = np.zeros((1))\n",
    "b_in = 0\n",
    "plt.close('all') \n",
    "addpt = plt_one_addpt_onclick( x_train,y_train, w_in, b_in, logistic=False)"
   ]
  },
  {
   "cell_type": "markdown",
   "metadata": {},
   "source": [
    "O exemplo acima demonstra que o modelo linear é insuficiente para modelar dados categóricos. O modelo pode ser ampliado conforme descrito no laboratório a seguir."
   ]
  },
  {
   "cell_type": "markdown",
   "metadata": {},
   "source": [
    "## Parabéns!\n",
    "Neste laboratório, você:\n",
    "- explorou conjuntos de dados categóricos e plotagem\n",
    "- determinou que a regressão linear era insuficiente para um problema de classificação."
   ]
  }
 ],
 "metadata": {
  "kernelspec": {
   "display_name": "Python 3",
   "language": "python",
   "name": "python3"
  },
  "language_info": {
   "codemirror_mode": {
    "name": "ipython",
    "version": 3
   },
   "file_extension": ".py",
   "mimetype": "text/x-python",
   "name": "python",
   "nbconvert_exporter": "python",
   "pygments_lexer": "ipython3",
   "version": "3.11.0"
  }
 },
 "nbformat": 4,
 "nbformat_minor": 5
}
