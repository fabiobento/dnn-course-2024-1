{
 "cells": [
  {
   "cell_type": "markdown",
   "id": "7c20dd06",
   "metadata": {},
   "source": [
    "[adaptado de [Programa de cursos integrados Aprendizado de máquina](https://www.coursera.org/specializations/machine-learning-introduction) de [Andrew Ng](https://www.coursera.org/instructor/andrewng)  ([Stanford University](http://online.stanford.edu/), [DeepLearning.AI](https://www.deeplearning.ai/) ) ]"
   ]
  },
  {
   "cell_type": "code",
   "execution_count": null,
   "id": "c19b7a41",
   "metadata": {},
   "outputs": [],
   "source": [
    "# Baixar arquivos adicionais para o laboratório.\n",
    "!wget https://github.com/fabiobento/dnn-course-2024-1/raw/main/00_course_folder/ml_intro/class_03/Laborat%C3%B3rios/lab_utils_ml_intro_week_3.zip\n",
    "!unzip -n -q lab_utils_ml_intro_week_3.zip"
   ]
  },
  {
   "cell_type": "code",
   "execution_count": null,
   "id": "540f0439",
   "metadata": {},
   "outputs": [],
   "source": [
    "# Testar se estamos no Google Colab\n",
    "try:\n",
    "  import google.colab\n",
    "  IN_COLAB = True\n",
    "  from google.colab import output\n",
    "  output.enable_custom_widget_manager()\n",
    "except:\n",
    "  IN_COLAB = False"
   ]
  },
  {
   "cell_type": "markdown",
   "metadata": {},
   "source": [
    "# Gradiente Descendente para Regressão Logística"
   ]
  },
  {
   "cell_type": "markdown",
   "metadata": {},
   "source": [
    "## Objetivos\n",
    "Neste laboratório, você irá:\n",
    "- atualizar a descida do gradiente para regressão logística.\n",
    "- explorar a descida gradiente em um conjunto de dados familiar"
   ]
  },
  {
   "cell_type": "code",
   "execution_count": null,
   "id": "66a22079",
   "metadata": {},
   "outputs": [],
   "source": [
    "!pip install ipympl"
   ]
  },
  {
   "cell_type": "code",
   "execution_count": null,
   "id": "863115b2",
   "metadata": {},
   "outputs": [],
   "source": [
    "import copy, math\n",
    "import numpy as np\n",
    "%matplotlib widget\n",
    "import matplotlib.pyplot as plt\n",
    "from lab_utils_common import  dlc, plot_data, plt_tumor_data, sigmoid, compute_cost_logistic\n",
    "from plt_quad_logistic import plt_quad_logistic, plt_prob\n",
    "plt.style.use('./deeplearning.mplstyle')"
   ]
  },
  {
   "cell_type": "markdown",
   "metadata": {},
   "source": [
    "## Conjunto de dados\n",
    "Vamos começar com os mesmos dois conjuntos de dados de recursos usados no laboratório de fronteiras de decisão."
   ]
  },
  {
   "cell_type": "code",
   "execution_count": null,
   "id": "790e8f8b",
   "metadata": {},
   "outputs": [],
   "source": [
    "X_train = np.array([[0.5, 1.5], [1,1], [1.5, 0.5], [3, 0.5], [2, 2], [1, 2.5]])\n",
    "y_train = np.array([0, 0, 0, 1, 1, 1])"
   ]
  },
  {
   "cell_type": "markdown",
   "id": "9770b071",
   "metadata": {},
   "source": [
    "Como antes, usaremos uma função auxiliar para representar graficamente esses dados. Os pontos de dados com rótulo $y=1$ são mostrados como cruzes vermelhas, enquanto os pontos de dados com rótulo $y=0$ são mostrados como círculos azuis."
   ]
  },
  {
   "cell_type": "code",
   "execution_count": null,
   "id": "423f4cdc",
   "metadata": {},
   "outputs": [],
   "source": [
    "fig,ax = plt.subplots(1,1,figsize=(4,4))\n",
    "plot_data(X_train, y_train, ax)\n",
    "\n",
    "ax.axis([0, 4, 0, 3.5])\n",
    "ax.set_ylabel('$x_1$', fontsize=12)\n",
    "ax.set_xlabel('$x_0$', fontsize=12)\n",
    "plt.show()"
   ]
  },
  {
   "cell_type": "markdown",
   "metadata": {},
   "source": [
    "## Gradiente Descendente Logístico\n",
    "<img align=\"right\" src=\"./images/C1_W3_Logistic_gradient_descent.png\"     style=\" width:400px; padding: 10px; \" >\n",
    "\n",
    "Lembre-se de que o algoritmo de descida gradiente utiliza o cálculo de gradiente:\n",
    "$$\\begin{align*}\n",
    "&\\text{repetir até a convergência:} \\; \\lbrace \\\\\n",
    "&  \\; \\; \\;w_j = w_j -  \\alpha \\frac{\\partial J(\\mathbf{w},b)}{\\partial w_j} \\tag{1}  \\; & \\text{for j := 0..n-1} \\\\ \n",
    "&  \\; \\; \\;  \\; \\;b = b -  \\alpha \\frac{\\partial J(\\mathbf{w},b)}{\\partial b} \\\\\n",
    "&\\rbrace\n",
    "\\end{align*}$$\n",
    "\n",
    "Onde cada iteração realiza atualizações simultâneas em $w_j$ para todos os $j$, onde\n",
    "$$\\begin{align*}\n",
    "\\frac{\\partial J(\\mathbf{w},b)}{\\partial w_j}  &= \\frac{1}{m} \\sum\\limits_{i = 0}^{m-1} (f_{\\mathbf{w},b}(\\mathbf{x}^{(i)}) - y^{(i)})x_{j}^{(i)} \\tag{2} \\\\\n",
    "\\frac{\\partial J(\\mathbf{w},b)}{\\partial b}  &= \\frac{1}{m} \\sum\\limits_{i = 0}^{m-1} (f_{\\mathbf{w},b}(\\mathbf{x}^{(i)}) - y^{(i)}) \\tag{3} \n",
    "\\end{align*}$$\n",
    "\n",
    "* m é o número de exemplos de treinamento no conjunto de dados\n",
    "* $f_{\\mathbf{w},b}(x^{(i)})$ é a previsão do modelo, enquanto $y^{(i)}$ é o alvo\n",
    "* Para um modelo de regressão logística\n",
    "    $z = \\mathbf{w} \\cdot \\mathbf{x} + b$  \n",
    "    $f_{\\mathbf{w},b}(x) = g(z)$  \n",
    "    onde $g(z)$ é a função sigmóide:\n",
    "    $g(z) = \\frac{1}{1+e^{-z}}$   \n",
    "    \n"
   ]
  },
  {
   "cell_type": "markdown",
   "metadata": {},
   "source": [
    "### Implementação de gradiente descendente\n",
    "A implementação do algoritmo de descida gradiente tem dois componentes:\n",
    "- A equação de implementação do loop (1) acima. Isso é `gradient_descent` abaixo e geralmente é fornecido a você em laboratórios práticos anteriores.\n",
    "- O cálculo do gradiente atual, equações (2,3) acima. Isto é `compute_gradient_logistic` abaixo. Você será solicitado a implementar o laboratório prático desta semana.\n",
    "\n",
    "#### Calculando o gradiente, descrição do código\n",
    "Implementa a equação (2),(3) acima para todos $w_j$ e $b$.\n",
    "Existem muitas maneiras de implementar isso. Descrito abaixo é o seguinte:\n",
    "- inicializar variáveis para acumular `dj_dw` e `dj_db`\n",
    "- para cada exemplo\n",
    "     - calcule o erro para esse exemplo $g(\\mathbf{w} \\cdot \\mathbf{x}^{(i)} + b) - \\mathbf{y}^{(i)}$\n",
    "     - para cada valor de entrada $x_{j}^{(i)}$ neste exemplo,\n",
    "         - multiplique o erro pela entrada $x_{j}^{(i)}$ e adicione ao elemento correspondente de `dj_dw`. (equação 2 acima)\n",
    "     - adicione o erro ao `dj_db` (equação 3 acima)\n",
    "\n",
    "- divida `dj_db` e `dj_dw` pelo número total de exemplos (m)\n",
    "- observe que $\\mathbf{x}^{(i)}$ em numpy `X[i,:]` ou `X[i]` e $x_{j}^{(i)}$ é `X[ eu, j]`"
   ]
  },
  {
   "cell_type": "code",
   "execution_count": null,
   "id": "2cc8616d",
   "metadata": {},
   "outputs": [],
   "source": [
    "def compute_gradient_logistic(X, y, w, b): \n",
    "    \"\"\"\n",
    "    Calcula o gradiente para regressão logística\n",
    " \n",
    "    Args:\n",
    "      X (ndarray (m,n): DAdos, m exemplos com b recursos\n",
    "      y (ndarray (m,)): valores alvo\n",
    "      w (ndarray (n,)): parâmetros do modelo  \n",
    "      b (scalar)      : parâmetros do modelo\n",
    "    Returns\n",
    "      dj_dw (ndarray (n,)): O gradiente do custo em relação ao valor os parâmetros w.\n",
    "      dj_db (scalar)      : O gradiente do custo em relação ao valor os parâmetros b.\n",
    "    \"\"\"\n",
    "    m,n = X.shape\n",
    "    dj_dw = np.zeros((n,))                           #(n,)\n",
    "    dj_db = 0.\n",
    "\n",
    "    for i in range(m):\n",
    "        f_wb_i = sigmoid(np.dot(X[i],w) + b)          #(n,)(n,)=scalar\n",
    "        err_i  = f_wb_i  - y[i]                       #escalar\n",
    "        for j in range(n):\n",
    "            dj_dw[j] = dj_dw[j] + err_i * X[i,j]      #escalar\n",
    "        dj_db = dj_db + err_i\n",
    "    dj_dw = dj_dw/m                                   #(n,)\n",
    "    dj_db = dj_db/m                                   #escalar\n",
    "        \n",
    "    return dj_db, dj_dw  "
   ]
  },
  {
   "cell_type": "markdown",
   "id": "97e0e6dc",
   "metadata": {},
   "source": [
    "Verifique a implementação da função gradiente usando a célula abaixo."
   ]
  },
  {
   "cell_type": "code",
   "execution_count": null,
   "id": "9d2ec443",
   "metadata": {},
   "outputs": [],
   "source": [
    "X_tmp = np.array([[0.5, 1.5], [1,1], [1.5, 0.5], [3, 0.5], [2, 2], [1, 2.5]])\n",
    "y_tmp = np.array([0, 0, 0, 1, 1, 1])\n",
    "w_tmp = np.array([2.,3.])\n",
    "b_tmp = 1.\n",
    "dj_db_tmp, dj_dw_tmp = compute_gradient_logistic(X_tmp, y_tmp, w_tmp, b_tmp)\n",
    "print(f\"dj_db: {dj_db_tmp}\" )\n",
    "print(f\"dj_dw: {dj_dw_tmp.tolist()}\" )"
   ]
  },
  {
   "cell_type": "markdown",
   "metadata": {},
   "source": [
    "**Saída Esperada**\n",
    "``` \n",
    "dj_db: 0.49861806546328574\n",
    "dj_dw: [0.498333393278696, 0.49883942983996693]\n",
    "```"
   ]
  },
  {
   "cell_type": "markdown",
   "metadata": {},
   "source": [
    "#### Código de gradiente descendente\n",
    "A equação de implementação do código (1) acima é implementada abaixo. Reserve um momento para localizar e comparar as funções da rotina com as equações acima."
   ]
  },
  {
   "cell_type": "code",
   "execution_count": null,
   "id": "4558d92b",
   "metadata": {},
   "outputs": [],
   "source": [
    "def gradient_descent(X, y, w_in, b_in, alpha, num_iters): \n",
    "    \"\"\"\n",
    "    Executa descida gradiente em lote\n",
    "    \n",
    "    Args:\n",
    "      X (ndarray (m,n)   : Dados, m exemplos com n recursos\n",
    "      y (ndarray (m,))   : valores alvo\n",
    "      w_in (ndarray (n,)): Valores iniciais dos parâmetros do modelo\n",
    "      b_in (scalar)      : Valores iniciais dos parâmetros do modelo\n",
    "      alpha (float)      : Taxa de aprendizado\n",
    "      num_iters (scalar) : Número de iterações para executar a descida gradiente\n",
    "      \n",
    "    Returns:\n",
    "      w (ndarray (n,))   : Valores atualizados dos parâmetros\n",
    "      b (scalar)         : Valores atualizados dos parâmetros\n",
    "    \"\"\"\n",
    "    # Uma matriz para armazenar os custos J e w em cada iteração, principalmente para gráficos posteriores\n",
    "    J_history = []\n",
    "    w = copy.deepcopy(w_in)  #avoid modifying global w within function\n",
    "    b = b_in\n",
    "    \n",
    "    for i in range(num_iters):\n",
    "        # Calcule o gradiente e atualize os parâmetros\n",
    "        dj_db, dj_dw = compute_gradient_logistic(X, y, w, b)   \n",
    "\n",
    "        # Atualizar parâmetros usando w, b, alfa e gradiente\n",
    "        w = w - alpha * dj_dw               \n",
    "        b = b - alpha * dj_db               \n",
    "      \n",
    "        # Salve o custo J em cada iteração\n",
    "        if i<100000:      # evitar exaustão de recursos \n",
    "            J_history.append( compute_cost_logistic(X, y, w, b) )\n",
    "\n",
    "        # Imprima o custo a cada intervalo de 10 vezes ou tantas iterações se <10\n",
    "        if i% math.ceil(num_iters / 10) == 0:\n",
    "            print(f\"Iteration {i:4d}: Cost {J_history[-1]}   \")\n",
    "        \n",
    "    return w, b, J_history #retorna o histórico final de w,b e J para gráficos\n"
   ]
  },
  {
   "cell_type": "markdown",
   "id": "040e71b4",
   "metadata": {},
   "source": [
    "Vamos executar a descida gradiente em nosso conjunto de dados."
   ]
  },
  {
   "cell_type": "code",
   "execution_count": null,
   "id": "a13e19ad",
   "metadata": {},
   "outputs": [],
   "source": [
    "w_tmp  = np.zeros_like(X_train[0])\n",
    "b_tmp  = 0.\n",
    "alph = 0.1\n",
    "iters = 10000\n",
    "\n",
    "w_out, b_out, _ = gradient_descent(X_train, y_train, w_tmp, b_tmp, alph, iters) \n",
    "print(f\"\\nparâmetros atualizados: w:{w_out}, b:{b_out}\")"
   ]
  },
  {
   "cell_type": "markdown",
   "metadata": {},
   "source": [
    "#### Vamos traçar os resultados da descida do gradiente:"
   ]
  },
  {
   "cell_type": "code",
   "execution_count": null,
   "id": "b44ede47",
   "metadata": {},
   "outputs": [],
   "source": [
    "fig,ax = plt.subplots(1,1,figsize=(5,4))\n",
    "# plotar a probabilidade\n",
    "plt_prob(ax, w_out, b_out)\n",
    "\n",
    "# Plotar os dados originais\n",
    "ax.set_ylabel(r'$x_1$')\n",
    "ax.set_xlabel(r'$x_0$')   \n",
    "ax.axis([0, 4, 0, 3.5])\n",
    "plot_data(X_train,y_train,ax)\n",
    "\n",
    "# Plotar a fronteira de decisão\n",
    "x0 = -b_out/w_out[0]\n",
    "x1 = -b_out/w_out[1]\n",
    "ax.plot([0,x0],[x1,0], c=dlc[\"dlblue\"], lw=1)\n",
    "plt.show()"
   ]
  },
  {
   "cell_type": "markdown",
   "metadata": {},
   "source": [
    "No gráfico acima:\n",
    "  - o sombreamento reflete a probabilidade y=1 (resultado antes da fronteira de decisão)\n",
    "  - a fronteira de decisão é a linha na qual a probabilidade = 0,5"
   ]
  },
  {
   "cell_type": "markdown",
   "metadata": {},
   "source": [
    "## Outro conjunto de dados\n",
    "Voltemos a um conjunto de dados de uma variável. Com apenas dois parâmetros, $w$, $b$, é possível traçar a função de custo usando um gráfico de contorno para ter uma ideia melhor do que está acontecendo a descida do gradiente."
   ]
  },
  {
   "cell_type": "code",
   "execution_count": null,
   "id": "c126ab82",
   "metadata": {},
   "outputs": [],
   "source": [
    "x_train = np.array([0., 1, 2, 3, 4, 5])\n",
    "y_train = np.array([0,  0, 0, 1, 1, 1])"
   ]
  },
  {
   "cell_type": "markdown",
   "id": "106ee4c4",
   "metadata": {},
   "source": [
    "Como antes, usaremos uma função auxiliar para representar graficamente esses dados. Os pontos de dados com rótulo $y=1$ são mostrados como cruzes vermelhas, enquanto os pontos de dados com rótulo $y=0$ são mostrados como círculos azuis."
   ]
  },
  {
   "cell_type": "code",
   "execution_count": null,
   "id": "67077728",
   "metadata": {},
   "outputs": [],
   "source": [
    "fig,ax = plt.subplots(1,1,figsize=(4,3))\n",
    "plt_tumor_data(x_train, y_train, ax)\n",
    "plt.show()"
   ]
  },
  {
   "cell_type": "markdown",
   "metadata": {},
   "source": [
    "No gráfico abaixo, tente:\n",
    "- alterando $w$ e $b$ clicando no gráfico de contorno no canto superior direito.\n",
    "     - as alterações podem levar um ou dois segundos\n",
    "     - observe a variação do valor do custo no gráfico superior esquerdo.\n",
    "     - observe que o custo é acumulado por uma perda em cada exemplo (linhas pontilhadas verticais)\n",
    "- execute a descida gradiente clicando no botão laranja.\n",
    "     - observe o custo cada vez menor (contorno e gráfico de custo estão em log (custo)\n",
    "     - clicar no gráfico de contorno redefinirá o modelo para uma nova execução\n",
    "- para redefinir o gráfico, execute novamente a célula"
   ]
  },
  {
   "cell_type": "code",
   "execution_count": null,
   "id": "f0106536",
   "metadata": {},
   "outputs": [],
   "source": [
    "w_range = np.array([-1, 7])\n",
    "b_range = np.array([1, -14])\n",
    "quad = plt_quad_logistic( x_train, y_train, w_range, b_range )"
   ]
  },
  {
   "cell_type": "markdown",
   "metadata": {},
   "source": [
    "## Parabéns!\n",
    "Você:\n",
    "- examinou as fórmulas e implementação do cálculo do gradiente para regressão logística\n",
    "- utilizou essas rotinas em\n",
    "     - explorar um único conjunto de dados variáveis\n",
    "     - explorar um conjunto de dados de duas variáveis"
   ]
  },
  {
   "cell_type": "code",
   "execution_count": null,
   "metadata": {},
   "outputs": [],
   "source": []
  }
 ],
 "metadata": {
  "kernelspec": {
   "display_name": "Python 3",
   "language": "python",
   "name": "python3"
  },
  "language_info": {
   "codemirror_mode": {
    "name": "ipython",
    "version": 3
   },
   "file_extension": ".py",
   "mimetype": "text/x-python",
   "name": "python",
   "nbconvert_exporter": "python",
   "pygments_lexer": "ipython3",
   "version": "3.11.0"
  }
 },
 "nbformat": 4,
 "nbformat_minor": 5
}
