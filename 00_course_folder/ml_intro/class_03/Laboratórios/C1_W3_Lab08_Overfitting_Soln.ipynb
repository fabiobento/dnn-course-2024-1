{
 "cells": [
  {
   "cell_type": "markdown",
   "id": "491b7cac",
   "metadata": {},
   "source": [
    "[adaptado de [Programa de cursos integrados Aprendizado de máquina](https://www.coursera.org/specializations/machine-learning-introduction) de [Andrew Ng](https://www.coursera.org/instructor/andrewng)  ([Stanford University](http://online.stanford.edu/), [DeepLearning.AI](https://www.deeplearning.ai/) ) ]"
   ]
  },
  {
   "cell_type": "code",
   "execution_count": null,
   "id": "d172aa9c",
   "metadata": {},
   "outputs": [],
   "source": [
    "# Baixar arquivos adicionais para o laboratório.\n",
    "!wget https://github.com/fabiobento/dnn-course-2024-1/raw/main/00_course_folder/ml_intro/class_03/Laborat%C3%B3rios/lab_utils_ml_intro_week_3.zip\n",
    "!unzip -n -q lab_utils_ml_intro_week_3.zip"
   ]
  },
  {
   "cell_type": "code",
   "execution_count": null,
   "id": "e89052cb",
   "metadata": {},
   "outputs": [],
   "source": [
    "# Testar se estamos no Google Colab\n",
    "try:\n",
    "  import google.colab\n",
    "  IN_COLAB = True\n",
    "  from google.colab import output\n",
    "  output.enable_custom_widget_manager()\n",
    "except:\n",
    "  IN_COLAB = False"
   ]
  },
  {
   "cell_type": "markdown",
   "metadata": {},
   "source": [
    "# Sobreajuste(_Overfitting_) \n",
    "\n",
    "<img align=\"left\" src=\"./images/C1_W3_Overfitting_a.png\"     style=\" width:250px; padding: 10px; \" >\n",
    "<img align=\"left\" src=\"./images/C1_W3_Overfitting_b.png\"     style=\" width:250px; padding: 10px; \" >\n",
    "<img align=\"left\" src=\"./images/C1_W3_Overfitting_c.png\"     style=\" width:250px; padding: 10px; \" >"
   ]
  },
  {
   "cell_type": "markdown",
   "metadata": {},
   "source": [
    "## Objetivos\n",
    "Neste laboratório, você explorará:\n",
    "- as situações em que pode ocorrer overfitting\n",
    "- algumas das soluções"
   ]
  },
  {
   "cell_type": "code",
   "execution_count": null,
   "id": "0dde5fb5",
   "metadata": {},
   "outputs": [],
   "source": [
    "!pip install ipympl"
   ]
  },
  {
   "cell_type": "code",
   "execution_count": null,
   "metadata": {},
   "outputs": [],
   "source": [
    "%matplotlib widget\n",
    "import matplotlib.pyplot as plt\n",
    "from ipywidgets import Output\n",
    "from plt_overfit import overfit_example, output\n",
    "plt.style.use('./deeplearning.mplstyle')"
   ]
  },
  {
   "cell_type": "markdown",
   "metadata": {},
   "source": [
    "# Overfitting\n",
    "A palestra da semana descreveu situações em que pode surgir overfitting. Execute a célula abaixo para gerar um gráfico que permitirá explorar o overfitting. Existem mais instruções abaixo da célula."
   ]
  },
  {
   "cell_type": "code",
   "execution_count": null,
   "metadata": {},
   "outputs": [],
   "source": [
    "plt.close(\"all\")\n",
    "display(output)\n",
    "ofit = overfit_example(False)"
   ]
  },
  {
   "cell_type": "markdown",
   "metadata": {},
   "source": [
    "No gráfico acima você pode:\n",
    "- alternar entre exemplos de regressão e categorização\n",
    "- adicionar dados\n",
    "- selecione o grau do modelo\n",
    "- ajustar o modelo aos dados\n",
    "\n",
    "Aqui estão algumas coisas que você deve tentar:\n",
    "- Ajustar os dados com grau = 1; Observe 'subajuste'(_underfitting_).\n",
    "- Ajustar os dados com grau = 6; Observe 'sobreajuste(_overfitting_)'\n",
    "- ajuste o grau para obter o 'melhor ajuste'\n",
    "- adicionar dados:\n",
    "     - exemplos extremos podem aumentar o overfitting (assumindo que sejam valores discrepantes).\n",
    "     - exemplos nominais podem reduzir o overfitting\n",
    "- alterne entre `Regressão` e `Categórico` para tentar os dois exemplos.\n",
    "\n",
    "Para redefinir o gráfico, execute novamente a célula. Clique lentamente para permitir que o gráfico seja atualizado antes de receber o próximo clique.\n",
    "\n",
    "Notas sobre implementações:\n",
    "- as curvas 'ideais' representam o modelo gerador ao qual o ruído foi adicionado para atingir o conjunto de dados\n",
    "- 'fit' não usa descida gradiente pura para melhorar a velocidade. Esses métodos podem ser usados em conjuntos de dados menores."
   ]
  },
  {
   "cell_type": "markdown",
   "metadata": {},
   "source": [
    "## Parabéns!\n",
    "Você desenvolveu alguma intuição sobre as causas e soluções para o overfitting. No próximo laboratório, você explorará uma solução comumente usada, a regularização."
   ]
  }
 ],
 "metadata": {
  "kernelspec": {
   "display_name": "Python 3",
   "language": "python",
   "name": "python3"
  },
  "language_info": {
   "codemirror_mode": {
    "name": "ipython",
    "version": 3
   },
   "file_extension": ".py",
   "mimetype": "text/x-python",
   "name": "python",
   "nbconvert_exporter": "python",
   "pygments_lexer": "ipython3",
   "version": "3.11.0rc1"
  }
 },
 "nbformat": 4,
 "nbformat_minor": 5
}
