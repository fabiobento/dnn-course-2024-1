{
 "cells": [
  {
   "cell_type": "markdown",
   "metadata": {},
   "source": [
    "<a href=\"https://colab.research.google.com/github/https-deeplearning-ai/tensorflow-1-public/blob/main/C4/W3/ungraded_labs/C4_W3_Lab_2_LSTM.ipynb\" target=\"_parent\"><img src=\"https://colab.research.google.com/assets/colab-badge.svg\" alt=\"Open In Colab\"/></a>"
   ]
  },
  {
   "cell_type": "markdown",
   "metadata": {
    "id": "sV_nvXSQGJPK"
   },
   "source": [
    "# Ungraded Lab: Using a multi-layer LSTM for forecasting\n",
    "\n",
    "In this lab, you will use the same RNN architecure in the first lab but will instead stack [LSTM](https://www.tensorflow.org/api_docs/python/tf/keras/layers/LSTM) layers instead of `SimpleRNN`."
   ]
  },
  {
   "cell_type": "markdown",
   "metadata": {
    "id": "3IMbAWETGOWD"
   },
   "source": [
    "## Imports"
   ]
  },
  {
   "cell_type": "code",
   "execution_count": 1,
   "metadata": {
    "id": "BOjujz601HcS"
   },
   "outputs": [
    {
     "name": "stderr",
     "output_type": "stream",
     "text": [
      "2024-04-12 20:58:14.288502: I tensorflow/core/util/port.cc:111] oneDNN custom operations are on. You may see slightly different numerical results due to floating-point round-off errors from different computation orders. To turn them off, set the environment variable `TF_ENABLE_ONEDNN_OPTS=0`.\n",
      "2024-04-12 20:58:14.310548: E tensorflow/compiler/xla/stream_executor/cuda/cuda_dnn.cc:9342] Unable to register cuDNN factory: Attempting to register factory for plugin cuDNN when one has already been registered\n",
      "2024-04-12 20:58:14.310574: E tensorflow/compiler/xla/stream_executor/cuda/cuda_fft.cc:609] Unable to register cuFFT factory: Attempting to register factory for plugin cuFFT when one has already been registered\n",
      "2024-04-12 20:58:14.310588: E tensorflow/compiler/xla/stream_executor/cuda/cuda_blas.cc:1518] Unable to register cuBLAS factory: Attempting to register factory for plugin cuBLAS when one has already been registered\n",
      "2024-04-12 20:58:14.314944: I tensorflow/core/platform/cpu_feature_guard.cc:182] This TensorFlow binary is optimized to use available CPU instructions in performance-critical operations.\n",
      "To enable the following instructions: AVX2 AVX_VNNI FMA, in other operations, rebuild TensorFlow with the appropriate compiler flags.\n"
     ]
    }
   ],
   "source": [
    "import tensorflow as tf\n",
    "import numpy as np\n",
    "import matplotlib.pyplot as plt"
   ]
  },
  {
   "cell_type": "markdown",
   "metadata": {
    "id": "kD7RQQ0xGQVH"
   },
   "source": [
    "## Utilities"
   ]
  },
  {
   "cell_type": "code",
   "execution_count": 2,
   "metadata": {
    "id": "Zswl7jRtGzkk"
   },
   "outputs": [],
   "source": [
    "def plot_series(time, series, format=\"-\", start=0, end=None):\n",
    "    \"\"\"\n",
    "    Visualizes time series data\n",
    "\n",
    "    Args:\n",
    "      time (array of int) - contains the time steps\n",
    "      series (array of int) - contains the measurements for each time step\n",
    "      format - line style when plotting the graph\n",
    "      start - first time step to plot\n",
    "      end - last time step to plot\n",
    "    \"\"\"\n",
    "\n",
    "    # Setup dimensions of the graph figure\n",
    "    plt.figure(figsize=(10, 6))\n",
    "    \n",
    "    if type(series) is tuple:\n",
    "\n",
    "      for series_num in series:\n",
    "        # Plot the time series data\n",
    "        plt.plot(time[start:end], series_num[start:end], format)\n",
    "\n",
    "    else:\n",
    "      # Plot the time series data\n",
    "      plt.plot(time[start:end], series[start:end], format)\n",
    "\n",
    "    # Label the x-axis\n",
    "    plt.xlabel(\"Time\")\n",
    "\n",
    "    # Label the y-axis\n",
    "    plt.ylabel(\"Value\")\n",
    "\n",
    "    # Overlay a grid on the graph\n",
    "    plt.grid(True)\n",
    "\n",
    "    # Draw the graph on screen\n",
    "    plt.show()\n",
    "\n",
    "def trend(time, slope=0):\n",
    "    \"\"\"\n",
    "    Generates synthetic data that follows a straight line given a slope value.\n",
    "\n",
    "    Args:\n",
    "      time (array of int) - contains the time steps\n",
    "      slope (float) - determines the direction and steepness of the line\n",
    "\n",
    "    Returns:\n",
    "      series (array of float) - measurements that follow a straight line\n",
    "    \"\"\"\n",
    "\n",
    "    # Compute the linear series given the slope\n",
    "    series = slope * time\n",
    "\n",
    "    return series\n",
    "\n",
    "def seasonal_pattern(season_time):\n",
    "    \"\"\"\n",
    "    Just an arbitrary pattern, you can change it if you wish\n",
    "    \n",
    "    Args:\n",
    "      season_time (array of float) - contains the measurements per time step\n",
    "\n",
    "    Returns:\n",
    "      data_pattern (array of float) -  contains revised measurement values according \n",
    "                                  to the defined pattern\n",
    "    \"\"\"\n",
    "\n",
    "    # Generate the values using an arbitrary pattern\n",
    "    data_pattern = np.where(season_time < 0.4,\n",
    "                    np.cos(season_time * 2 * np.pi),\n",
    "                    1 / np.exp(3 * season_time))\n",
    "    \n",
    "    return data_pattern\n",
    "\n",
    "def seasonality(time, period, amplitude=1, phase=0):\n",
    "    \"\"\"\n",
    "    Repeats the same pattern at each period\n",
    "\n",
    "    Args:\n",
    "      time (array of int) - contains the time steps\n",
    "      period (int) - number of time steps before the pattern repeats\n",
    "      amplitude (int) - peak measured value in a period\n",
    "      phase (int) - number of time steps to shift the measured values\n",
    "\n",
    "    Returns:\n",
    "      data_pattern (array of float) - seasonal data scaled by the defined amplitude\n",
    "    \"\"\"\n",
    "    \n",
    "    # Define the measured values per period\n",
    "    season_time = ((time + phase) % period) / period\n",
    "\n",
    "    # Generates the seasonal data scaled by the defined amplitude\n",
    "    data_pattern = amplitude * seasonal_pattern(season_time)\n",
    "\n",
    "    return data_pattern\n",
    "\n",
    "def noise(time, noise_level=1, seed=None):\n",
    "    \"\"\"Generates a normally distributed noisy signal\n",
    "\n",
    "    Args:\n",
    "      time (array of int) - contains the time steps\n",
    "      noise_level (float) - scaling factor for the generated signal\n",
    "      seed (int) - number generator seed for repeatability\n",
    "\n",
    "    Returns:\n",
    "      noise (array of float) - the noisy signal\n",
    "    \"\"\"\n",
    "\n",
    "    # Initialize the random number generator\n",
    "    rnd = np.random.RandomState(seed)\n",
    "\n",
    "    # Generate a random number for each time step and scale by the noise level\n",
    "    noise = rnd.randn(len(time)) * noise_level\n",
    "    \n",
    "    return noise"
   ]
  },
  {
   "cell_type": "markdown",
   "metadata": {
    "id": "yxNyeFWjGSdj"
   },
   "source": [
    "## Generate the Synthetic Data"
   ]
  },
  {
   "cell_type": "code",
   "execution_count": 3,
   "metadata": {
    "id": "KYEUfDbdpHPm"
   },
   "outputs": [
    {
     "data": {
      "image/png": "[encoded data removed]",
      "text/plain": [
       "<Figure size 1000x600 with 1 Axes>"
      ]
     },
     "metadata": {},
     "output_type": "display_data"
    }
   ],
   "source": [
    "# Parameters\n",
    "time = np.arange(4 * 365 + 1, dtype=\"float32\")\n",
    "baseline = 10\n",
    "amplitude = 40\n",
    "slope = 0.05\n",
    "noise_level = 5\n",
    "\n",
    "# Create the series\n",
    "series = baseline + trend(time, slope) + seasonality(time, period=365, amplitude=amplitude)\n",
    "\n",
    "# Update with noise\n",
    "series += noise(time, noise_level, seed=42)\n",
    "\n",
    "# Plot the results\n",
    "plot_series(time, series)"
   ]
  },
  {
   "cell_type": "markdown",
   "metadata": {
    "id": "MYKCvv-eGWRc"
   },
   "source": [
    "## Split the Dataset"
   ]
  },
  {
   "cell_type": "code",
   "execution_count": 4,
   "metadata": {
    "id": "hpp0slenpKVD"
   },
   "outputs": [],
   "source": [
    "# Define the split time\n",
    "split_time = 1000\n",
    "\n",
    "# Get the train set \n",
    "time_train = time[:split_time]\n",
    "x_train = series[:split_time]\n",
    "\n",
    "# Get the validation set\n",
    "time_valid = time[split_time:]\n",
    "x_valid = series[split_time:]"
   ]
  },
  {
   "cell_type": "markdown",
   "metadata": {
    "id": "cktHz9aOGYtV"
   },
   "source": [
    "## Prepare Features and Labels"
   ]
  },
  {
   "cell_type": "code",
   "execution_count": 5,
   "metadata": {
    "id": "G_j_2_Mqwn7-"
   },
   "outputs": [],
   "source": [
    "# Parameters\n",
    "window_size = 20\n",
    "batch_size = 32\n",
    "shuffle_buffer_size = 1000"
   ]
  },
  {
   "cell_type": "code",
   "execution_count": 6,
   "metadata": {
    "id": "4sTTIOCbyShY"
   },
   "outputs": [],
   "source": [
    "def windowed_dataset(series, window_size, batch_size, shuffle_buffer):\n",
    "    \"\"\"Generates dataset windows\n",
    "\n",
    "    Args:\n",
    "      series (array of float) - contains the values of the time series\n",
    "      window_size (int) - the number of time steps to include in the feature\n",
    "      batch_size (int) - the batch size\n",
    "      shuffle_buffer(int) - buffer size to use for the shuffle method\n",
    "\n",
    "    Returns:\n",
    "      dataset (TF Dataset) - TF Dataset containing time windows\n",
    "    \"\"\"\n",
    "  \n",
    "    # Generate a TF Dataset from the series values\n",
    "    dataset = tf.data.Dataset.from_tensor_slices(series)\n",
    "    \n",
    "    # Window the data but only take those with the specified size\n",
    "    dataset = dataset.window(window_size + 1, shift=1, drop_remainder=True)\n",
    "    \n",
    "    # Flatten the windows by putting its elements in a single batch\n",
    "    dataset = dataset.flat_map(lambda window: window.batch(window_size + 1))\n",
    "\n",
    "    # Create tuples with features and labels \n",
    "    dataset = dataset.map(lambda window: (window[:-1], window[-1]))\n",
    "\n",
    "    # Shuffle the windows\n",
    "    dataset = dataset.shuffle(shuffle_buffer)\n",
    "    \n",
    "    # Create batches of windows\n",
    "    dataset = dataset.batch(batch_size).prefetch(1)\n",
    "    \n",
    "    return dataset"
   ]
  },
  {
   "cell_type": "code",
   "execution_count": 7,
   "metadata": {
    "id": "vGj5-InSwtQQ"
   },
   "outputs": [
    {
     "name": "stderr",
     "output_type": "stream",
     "text": [
      "2024-04-12 20:58:15.529289: I tensorflow/compiler/xla/stream_executor/cuda/cuda_gpu_executor.cc:894] successful NUMA node read from SysFS had negative value (-1), but there must be at least one NUMA node, so returning NUMA node zero. See more at https://github.com/torvalds/linux/blob/v6.0/Documentation/ABI/testing/sysfs-bus-pci#L344-L355\n",
      "2024-04-12 20:58:15.532591: I tensorflow/compiler/xla/stream_executor/cuda/cuda_gpu_executor.cc:894] successful NUMA node read from SysFS had negative value (-1), but there must be at least one NUMA node, so returning NUMA node zero. See more at https://github.com/torvalds/linux/blob/v6.0/Documentation/ABI/testing/sysfs-bus-pci#L344-L355\n",
      "2024-04-12 20:58:15.532708: I tensorflow/compiler/xla/stream_executor/cuda/cuda_gpu_executor.cc:894] successful NUMA node read from SysFS had negative value (-1), but there must be at least one NUMA node, so returning NUMA node zero. See more at https://github.com/torvalds/linux/blob/v6.0/Documentation/ABI/testing/sysfs-bus-pci#L344-L355\n",
      "2024-04-12 20:58:15.533779: I tensorflow/compiler/xla/stream_executor/cuda/cuda_gpu_executor.cc:894] successful NUMA node read from SysFS had negative value (-1), but there must be at least one NUMA node, so returning NUMA node zero. See more at https://github.com/torvalds/linux/blob/v6.0/Documentation/ABI/testing/sysfs-bus-pci#L344-L355\n",
      "2024-04-12 20:58:15.533893: I tensorflow/compiler/xla/stream_executor/cuda/cuda_gpu_executor.cc:894] successful NUMA node read from SysFS had negative value (-1), but there must be at least one NUMA node, so returning NUMA node zero. See more at https://github.com/torvalds/linux/blob/v6.0/Documentation/ABI/testing/sysfs-bus-pci#L344-L355\n",
      "2024-04-12 20:58:15.533955: I tensorflow/compiler/xla/stream_executor/cuda/cuda_gpu_executor.cc:894] successful NUMA node read from SysFS had negative value (-1), but there must be at least one NUMA node, so returning NUMA node zero. See more at https://github.com/torvalds/linux/blob/v6.0/Documentation/ABI/testing/sysfs-bus-pci#L344-L355\n",
      "2024-04-12 20:58:15.603705: I tensorflow/compiler/xla/stream_executor/cuda/cuda_gpu_executor.cc:894] successful NUMA node read from SysFS had negative value (-1), but there must be at least one NUMA node, so returning NUMA node zero. See more at https://github.com/torvalds/linux/blob/v6.0/Documentation/ABI/testing/sysfs-bus-pci#L344-L355\n",
      "2024-04-12 20:58:15.603812: I tensorflow/compiler/xla/stream_executor/cuda/cuda_gpu_executor.cc:894] successful NUMA node read from SysFS had negative value (-1), but there must be at least one NUMA node, so returning NUMA node zero. See more at https://github.com/torvalds/linux/blob/v6.0/Documentation/ABI/testing/sysfs-bus-pci#L344-L355\n",
      "2024-04-12 20:58:15.603882: I tensorflow/compiler/xla/stream_executor/cuda/cuda_gpu_executor.cc:894] successful NUMA node read from SysFS had negative value (-1), but there must be at least one NUMA node, so returning NUMA node zero. See more at https://github.com/torvalds/linux/blob/v6.0/Documentation/ABI/testing/sysfs-bus-pci#L344-L355\n",
      "2024-04-12 20:58:15.603938: I tensorflow/core/common_runtime/gpu/gpu_device.cc:1886] Created device /job:localhost/replica:0/task:0/device:GPU:0 with 6530 MB memory:  -> device: 0, name: NVIDIA GeForce RTX 2080 SUPER, pci bus id: 0000:01:00.0, compute capability: 7.5\n"
     ]
    }
   ],
   "source": [
    "# Generate the dataset windows\n",
    "dataset = windowed_dataset(x_train, window_size, batch_size, shuffle_buffer_size)"
   ]
  },
  {
   "cell_type": "markdown",
   "metadata": {
    "id": "p9-Ke8ZaGcjd"
   },
   "source": [
    "## Build the Model\n",
    "\n",
    "As mentioned, you will swap `SimpleRNN` for `LSTM` in this lab. It is also set as bidirectional below but feel free to revise later and see what results you get. LSTMs are much more complex in their internal architecture than simpleRNNs. It implements a cell state that allows it to remember sequences better than simple implementations. This added complexity results in a bigger set of parameters to train and you'll see that when you print the model summary below."
   ]
  },
  {
   "cell_type": "code",
   "execution_count": 8,
   "metadata": {
    "id": "A1Hl39rklkLm"
   },
   "outputs": [
    {
     "name": "stdout",
     "output_type": "stream",
     "text": [
      "Model: \"sequential\"\n",
      "_________________________________________________________________\n",
      " Layer (type)                Output Shape              Param #   \n",
      "=================================================================\n",
      " lambda (Lambda)             (None, 20, 1)             0         \n",
      "                                                                 \n",
      " bidirectional (Bidirection  (None, 20, 64)            8704      \n",
      " al)                                                             \n",
      "                                                                 \n",
      " bidirectional_1 (Bidirecti  (None, 64)                24832     \n",
      " onal)                                                           \n",
      "                                                                 \n",
      " dense (Dense)               (None, 1)                 65        \n",
      "                                                                 \n",
      " lambda_1 (Lambda)           (None, 1)                 0         \n",
      "                                                                 \n",
      "=================================================================\n",
      "Total params: 33601 (131.25 KB)\n",
      "Trainable params: 33601 (131.25 KB)\n",
      "Non-trainable params: 0 (0.00 Byte)\n",
      "_________________________________________________________________\n"
     ]
    }
   ],
   "source": [
    "# Build the Model\n",
    "model_tune = tf.keras.models.Sequential([\n",
    "  tf.keras.layers.Lambda(lambda x: tf.expand_dims(x, axis=-1),\n",
    "                      input_shape=[window_size]),\n",
    "    tf.keras.layers.Bidirectional(tf.keras.layers.LSTM(32, return_sequences=True)),\n",
    "  tf.keras.layers.Bidirectional(tf.keras.layers.LSTM(32)),\n",
    "  tf.keras.layers.Dense(1),\n",
    "  tf.keras.layers.Lambda(lambda x: x * 100.0)\n",
    "])\n",
    "\n",
    "# Print the model summary\n",
    "model_tune.summary()"
   ]
  },
  {
   "cell_type": "markdown",
   "metadata": {
    "id": "FHaFblbwq0GV"
   },
   "source": [
    "## Tune the Learning Rate\n",
    "\n",
    "As usual, you will pick a learning rate by running the tuning code below."
   ]
  },
  {
   "cell_type": "code",
   "execution_count": 9,
   "metadata": {
    "id": "qE7al18qw48G"
   },
   "outputs": [
    {
     "name": "stdout",
     "output_type": "stream",
     "text": [
      "Epoch 1/100\n"
     ]
    },
    {
     "name": "stderr",
     "output_type": "stream",
     "text": [
      "2024-04-12 20:58:18.842518: I tensorflow/compiler/xla/stream_executor/cuda/cuda_dnn.cc:442] Loaded cuDNN version 8600\n"
     ]
    },
    {
     "name": "stdout",
     "output_type": "stream",
     "text": [
      "      1/Unknown - 3s 3s/step - loss: 11.3758"
     ]
    },
    {
     "name": "stderr",
     "output_type": "stream",
     "text": [
      "2024-04-12 20:58:19.272765: I tensorflow/compiler/xla/service/service.cc:168] XLA service 0x789b480a5200 initialized for platform CUDA (this does not guarantee that XLA will be used). Devices:\n",
      "2024-04-12 20:58:19.272791: I tensorflow/compiler/xla/service/service.cc:176]   StreamExecutor device (0): NVIDIA GeForce RTX 2080 SUPER, Compute Capability 7.5\n",
      "2024-04-12 20:58:19.309225: I ./tensorflow/compiler/jit/device_compiler.h:186] Compiled cluster using XLA!  This line is logged at most once for the lifetime of the process.\n"
     ]
    },
    {
     "name": "stdout",
     "output_type": "stream",
     "text": [
      "31/31 [==============================] - 3s 4ms/step - loss: 14.3637 - lr: 1.0000e-08\n",
      "Epoch 2/100\n",
      "31/31 [==============================] - 0s 4ms/step - loss: 14.0540 - lr: 1.1220e-08\n",
      "Epoch 3/100\n"
     ]
    },
    {
     "name": "stderr",
     "output_type": "stream",
     "text": [
      "2024-04-12 20:58:19.562249: I tensorflow/core/framework/local_rendezvous.cc:421] Local rendezvous recv item cancelled. Key hash: 13191925343031912823\n"
     ]
    },
    {
     "name": "stdout",
     "output_type": "stream",
     "text": [
      "31/31 [==============================] - 0s 3ms/step - loss: 13.6972 - lr: 1.2589e-08\n",
      "Epoch 4/100\n",
      "31/31 [==============================] - 0s 3ms/step - loss: 13.3321 - lr: 1.4125e-08\n",
      "Epoch 5/100\n",
      "31/31 [==============================] - 0s 4ms/step - loss: 12.9581 - lr: 1.5849e-08\n",
      "Epoch 6/100\n",
      "31/31 [==============================] - 0s 8ms/step - loss: 12.6393 - lr: 1.7783e-08\n",
      "Epoch 7/100\n",
      "31/31 [==============================] - 0s 4ms/step - loss: 12.4094 - lr: 1.9953e-08\n",
      "Epoch 8/100\n",
      "31/31 [==============================] - 0s 11ms/step - loss: 12.2395 - lr: 2.2387e-08\n",
      "Epoch 9/100\n",
      "31/31 [==============================] - 0s 3ms/step - loss: 12.0622 - lr: 2.5119e-08\n",
      "Epoch 10/100\n",
      "31/31 [==============================] - 0s 4ms/step - loss: 11.8729 - lr: 2.8184e-08\n",
      "Epoch 11/100\n",
      "31/31 [==============================] - 0s 5ms/step - loss: 11.6696 - lr: 3.1623e-08\n",
      "Epoch 12/100\n",
      "31/31 [==============================] - 0s 9ms/step - loss: 11.4413 - lr: 3.5481e-08\n",
      "Epoch 13/100\n",
      "31/31 [==============================] - 0s 4ms/step - loss: 11.1983 - lr: 3.9811e-08\n",
      "Epoch 14/100\n",
      "31/31 [==============================] - 0s 4ms/step - loss: 10.9310 - lr: 4.4668e-08\n",
      "Epoch 15/100\n",
      "31/31 [==============================] - 0s 4ms/step - loss: 10.6387 - lr: 5.0119e-08\n",
      "Epoch 16/100\n",
      "31/31 [==============================] - 0s 5ms/step - loss: 10.3275 - lr: 5.6234e-08\n",
      "Epoch 17/100\n",
      "31/31 [==============================] - 0s 4ms/step - loss: 9.9935 - lr: 6.3096e-08\n",
      "Epoch 18/100\n",
      "31/31 [==============================] - 0s 4ms/step - loss: 9.6494 - lr: 7.0795e-08\n",
      "Epoch 19/100\n",
      "31/31 [==============================] - 0s 11ms/step - loss: 9.3045 - lr: 7.9433e-08\n",
      "Epoch 20/100\n",
      "31/31 [==============================] - 0s 8ms/step - loss: 8.9487 - lr: 8.9125e-08\n",
      "Epoch 21/100\n",
      "31/31 [==============================] - 0s 5ms/step - loss: 8.5898 - lr: 1.0000e-07\n",
      "Epoch 22/100\n",
      "31/31 [==============================] - 0s 4ms/step - loss: 8.2470 - lr: 1.1220e-07\n",
      "Epoch 23/100\n",
      "31/31 [==============================] - 0s 4ms/step - loss: 7.9147 - lr: 1.2589e-07\n",
      "Epoch 24/100\n",
      "31/31 [==============================] - 0s 4ms/step - loss: 7.6183 - lr: 1.4125e-07\n",
      "Epoch 25/100\n",
      "31/31 [==============================] - 0s 3ms/step - loss: 7.3503 - lr: 1.5849e-07\n",
      "Epoch 26/100\n",
      "31/31 [==============================] - 0s 4ms/step - loss: 7.1133 - lr: 1.7783e-07\n",
      "Epoch 27/100\n",
      "31/31 [==============================] - 0s 4ms/step - loss: 6.9170 - lr: 1.9953e-07\n",
      "Epoch 28/100\n",
      "31/31 [==============================] - 0s 9ms/step - loss: 6.7407 - lr: 2.2387e-07\n",
      "Epoch 29/100\n",
      "31/31 [==============================] - 0s 6ms/step - loss: 6.5950 - lr: 2.5119e-07\n",
      "Epoch 30/100\n",
      "31/31 [==============================] - 0s 3ms/step - loss: 6.4782 - lr: 2.8184e-07\n",
      "Epoch 31/100\n",
      "31/31 [==============================] - 0s 9ms/step - loss: 6.3536 - lr: 3.1623e-07\n",
      "Epoch 32/100\n",
      "31/31 [==============================] - 0s 4ms/step - loss: 6.2577 - lr: 3.5481e-07\n",
      "Epoch 33/100\n",
      "31/31 [==============================] - 0s 3ms/step - loss: 6.1681 - lr: 3.9811e-07\n",
      "Epoch 34/100\n",
      "31/31 [==============================] - 0s 7ms/step - loss: 6.0525 - lr: 4.4668e-07\n",
      "Epoch 35/100\n",
      "31/31 [==============================] - 0s 3ms/step - loss: 6.0065 - lr: 5.0119e-07\n",
      "Epoch 36/100\n",
      "31/31 [==============================] - 0s 4ms/step - loss: 5.8995 - lr: 5.6234e-07\n",
      "Epoch 37/100\n",
      "31/31 [==============================] - 0s 6ms/step - loss: 5.8420 - lr: 6.3096e-07\n",
      "Epoch 38/100\n",
      "31/31 [==============================] - 0s 3ms/step - loss: 5.7952 - lr: 7.0795e-07\n",
      "Epoch 39/100\n",
      "31/31 [==============================] - 0s 3ms/step - loss: 5.7447 - lr: 7.9433e-07\n",
      "Epoch 40/100\n",
      "31/31 [==============================] - 0s 4ms/step - loss: 5.6368 - lr: 8.9125e-07\n",
      "Epoch 41/100\n",
      "31/31 [==============================] - 0s 4ms/step - loss: 5.5770 - lr: 1.0000e-06\n",
      "Epoch 42/100\n",
      "31/31 [==============================] - 0s 4ms/step - loss: 5.5311 - lr: 1.1220e-06\n",
      "Epoch 43/100\n",
      "31/31 [==============================] - 0s 10ms/step - loss: 5.5487 - lr: 1.2589e-06\n",
      "Epoch 44/100\n",
      "31/31 [==============================] - 0s 5ms/step - loss: 5.4929 - lr: 1.4125e-06\n",
      "Epoch 45/100\n",
      "31/31 [==============================] - 0s 3ms/step - loss: 5.3693 - lr: 1.5849e-06\n",
      "Epoch 46/100\n",
      "31/31 [==============================] - 0s 3ms/step - loss: 5.3791 - lr: 1.7783e-06\n",
      "Epoch 47/100\n",
      "31/31 [==============================] - 0s 3ms/step - loss: 5.3034 - lr: 1.9953e-06\n",
      "Epoch 48/100\n",
      "31/31 [==============================] - 0s 3ms/step - loss: 5.2660 - lr: 2.2387e-06\n",
      "Epoch 49/100\n",
      "31/31 [==============================] - 0s 3ms/step - loss: 5.2585 - lr: 2.5119e-06\n",
      "Epoch 50/100\n",
      "31/31 [==============================] - 0s 7ms/step - loss: 5.1776 - lr: 2.8184e-06\n",
      "Epoch 51/100\n",
      "31/31 [==============================] - 0s 4ms/step - loss: 5.2616 - lr: 3.1623e-06\n",
      "Epoch 52/100\n",
      "31/31 [==============================] - 0s 10ms/step - loss: 5.0562 - lr: 3.5481e-06\n",
      "Epoch 53/100\n",
      "31/31 [==============================] - 0s 5ms/step - loss: 5.3562 - lr: 3.9811e-06\n",
      "Epoch 54/100\n",
      "31/31 [==============================] - 0s 6ms/step - loss: 5.1515 - lr: 4.4668e-06\n",
      "Epoch 55/100\n",
      "31/31 [==============================] - 0s 6ms/step - loss: 4.9459 - lr: 5.0119e-06\n",
      "Epoch 56/100\n",
      "31/31 [==============================] - 0s 6ms/step - loss: 4.9514 - lr: 5.6234e-06\n",
      "Epoch 57/100\n",
      "31/31 [==============================] - 0s 4ms/step - loss: 4.9224 - lr: 6.3096e-06\n",
      "Epoch 58/100\n",
      "31/31 [==============================] - 0s 3ms/step - loss: 4.9227 - lr: 7.0795e-06\n",
      "Epoch 59/100\n",
      "31/31 [==============================] - 0s 5ms/step - loss: 4.9279 - lr: 7.9433e-06\n",
      "Epoch 60/100\n",
      "31/31 [==============================] - 0s 3ms/step - loss: 4.9459 - lr: 8.9125e-06\n",
      "Epoch 61/100\n",
      "31/31 [==============================] - 0s 5ms/step - loss: 4.7991 - lr: 1.0000e-05\n",
      "Epoch 62/100\n",
      "31/31 [==============================] - 0s 6ms/step - loss: 5.1977 - lr: 1.1220e-05\n",
      "Epoch 63/100\n",
      "31/31 [==============================] - 0s 3ms/step - loss: 5.2173 - lr: 1.2589e-05\n",
      "Epoch 64/100\n",
      "31/31 [==============================] - 0s 5ms/step - loss: 5.0190 - lr: 1.4125e-05\n",
      "Epoch 65/100\n",
      "31/31 [==============================] - 0s 5ms/step - loss: 5.1370 - lr: 1.5849e-05\n",
      "Epoch 66/100\n",
      "31/31 [==============================] - 0s 7ms/step - loss: 5.0285 - lr: 1.7783e-05\n",
      "Epoch 67/100\n",
      "31/31 [==============================] - 0s 8ms/step - loss: 6.3863 - lr: 1.9953e-05\n",
      "Epoch 68/100\n",
      "31/31 [==============================] - 0s 4ms/step - loss: 5.4033 - lr: 2.2387e-05\n",
      "Epoch 69/100\n",
      "31/31 [==============================] - 0s 4ms/step - loss: 5.6721 - lr: 2.5119e-05\n",
      "Epoch 70/100\n",
      "31/31 [==============================] - 0s 5ms/step - loss: 5.3431 - lr: 2.8184e-05\n",
      "Epoch 71/100\n",
      "31/31 [==============================] - 0s 3ms/step - loss: 5.7374 - lr: 3.1623e-05\n",
      "Epoch 72/100\n",
      "31/31 [==============================] - 0s 3ms/step - loss: 5.6563 - lr: 3.5481e-05\n",
      "Epoch 73/100\n",
      "31/31 [==============================] - 0s 4ms/step - loss: 5.5848 - lr: 3.9811e-05\n",
      "Epoch 74/100\n",
      "31/31 [==============================] - 0s 4ms/step - loss: 5.3429 - lr: 4.4668e-05\n",
      "Epoch 75/100\n",
      "31/31 [==============================] - 0s 4ms/step - loss: 7.8571 - lr: 5.0119e-05\n",
      "Epoch 76/100\n",
      "31/31 [==============================] - 0s 4ms/step - loss: 6.6955 - lr: 5.6234e-05\n",
      "Epoch 77/100\n",
      "31/31 [==============================] - 0s 6ms/step - loss: 4.8367 - lr: 6.3096e-05\n",
      "Epoch 78/100\n",
      "31/31 [==============================] - 0s 6ms/step - loss: 6.6316 - lr: 7.0795e-05\n",
      "Epoch 79/100\n",
      "31/31 [==============================] - 0s 4ms/step - loss: 5.9343 - lr: 7.9433e-05\n",
      "Epoch 80/100\n",
      "31/31 [==============================] - 0s 4ms/step - loss: 7.3488 - lr: 8.9125e-05\n",
      "Epoch 81/100\n",
      "31/31 [==============================] - 0s 3ms/step - loss: 5.6253 - lr: 1.0000e-04\n",
      "Epoch 82/100\n",
      "31/31 [==============================] - 0s 3ms/step - loss: 6.4376 - lr: 1.1220e-04\n",
      "Epoch 83/100\n",
      "31/31 [==============================] - 0s 8ms/step - loss: 6.7559 - lr: 1.2589e-04\n",
      "Epoch 84/100\n",
      "31/31 [==============================] - 0s 4ms/step - loss: 6.5375 - lr: 1.4125e-04\n",
      "Epoch 85/100\n",
      "31/31 [==============================] - 0s 6ms/step - loss: 8.4243 - lr: 1.5849e-04\n",
      "Epoch 86/100\n",
      "31/31 [==============================] - 0s 4ms/step - loss: 7.5452 - lr: 1.7783e-04\n",
      "Epoch 87/100\n",
      "31/31 [==============================] - 0s 4ms/step - loss: 8.4131 - lr: 1.9953e-04\n",
      "Epoch 88/100\n",
      "31/31 [==============================] - 0s 5ms/step - loss: 6.7868 - lr: 2.2387e-04\n",
      "Epoch 89/100\n",
      "31/31 [==============================] - 0s 6ms/step - loss: 6.3986 - lr: 2.5119e-04\n",
      "Epoch 90/100\n",
      "31/31 [==============================] - 0s 4ms/step - loss: 8.3004 - lr: 2.8184e-04\n",
      "Epoch 91/100\n",
      "31/31 [==============================] - 0s 4ms/step - loss: 6.5128 - lr: 3.1623e-04\n",
      "Epoch 92/100\n",
      "31/31 [==============================] - 0s 4ms/step - loss: 8.3447 - lr: 3.5481e-04\n",
      "Epoch 93/100\n",
      "31/31 [==============================] - 0s 9ms/step - loss: 7.3208 - lr: 3.9811e-04\n",
      "Epoch 94/100\n",
      "31/31 [==============================] - 0s 4ms/step - loss: 12.8439 - lr: 4.4668e-04\n",
      "Epoch 95/100\n",
      "31/31 [==============================] - 0s 4ms/step - loss: 8.2638 - lr: 5.0119e-04\n",
      "Epoch 96/100\n",
      "31/31 [==============================] - 0s 6ms/step - loss: 8.1553 - lr: 5.6234e-04\n",
      "Epoch 97/100\n",
      "31/31 [==============================] - 0s 3ms/step - loss: 10.4277 - lr: 6.3096e-04\n",
      "Epoch 98/100\n",
      "31/31 [==============================] - 0s 6ms/step - loss: 12.2699 - lr: 7.0795e-04\n",
      "Epoch 99/100\n",
      "31/31 [==============================] - 0s 11ms/step - loss: 10.6062 - lr: 7.9433e-04\n",
      "Epoch 100/100\n",
      "31/31 [==============================] - 0s 3ms/step - loss: 11.7445 - lr: 8.9125e-04\n"
     ]
    }
   ],
   "source": [
    "# Set the learning rate scheduler\n",
    "lr_schedule = tf.keras.callbacks.LearningRateScheduler(\n",
    "    lambda epoch: 1e-8 * 10**(epoch / 20))\n",
    "\n",
    "# Initialize the optimizer\n",
    "optimizer = tf.keras.optimizers.SGD(momentum=0.9)\n",
    "\n",
    "# Set the training parameters\n",
    "model_tune.compile(loss=tf.keras.losses.Huber(), optimizer=optimizer)\n",
    "\n",
    "# Train the model\n",
    "history = model_tune.fit(dataset, epochs=100, callbacks=[lr_schedule])"
   ]
  },
  {
   "cell_type": "code",
   "execution_count": 10,
   "metadata": {
    "id": "AkBsrsXMzoWR"
   },
   "outputs": [
    {
     "data": {
      "text/plain": [
       "(1e-08, 0.001, 0.0, 30.0)"
      ]
     },
     "execution_count": 10,
     "metadata": {},
     "output_type": "execute_result"
    },
    {
     "data": {
      "image/png": "[encoded data removed]",
      "text/plain": [
       "<Figure size 1000x600 with 1 Axes>"
      ]
     },
     "metadata": {},
     "output_type": "display_data"
    }
   ],
   "source": [
    "# Define the learning rate array\n",
    "lrs = 1e-8 * (10 ** (np.arange(100) / 20))\n",
    "\n",
    "# Set the figure size\n",
    "plt.figure(figsize=(10, 6))\n",
    "\n",
    "# Set the grid\n",
    "plt.grid(True)\n",
    "\n",
    "# Plot the loss in log scale\n",
    "plt.semilogx(lrs, history.history[\"loss\"])\n",
    "\n",
    "# Increase the tickmarks size\n",
    "plt.tick_params('both', length=10, width=1, which='both')\n",
    "\n",
    "# Set the plot boundaries\n",
    "plt.axis([1e-8, 1e-3, 0, 30])"
   ]
  },
  {
   "cell_type": "markdown",
   "metadata": {
    "id": "i-lKNp4pq_w8"
   },
   "source": [
    "## Train the Model\n",
    "\n",
    "You can then proceed to train the model with your chosen learning rate. \n",
    "\n",
    "*Tip: When experimenting and you find yourself running different iterations of a model, you may want to use the [`clear_session()`](https://www.tensorflow.org/api_docs/python/tf/keras/backend/clear_session) method to declutter memory used by Keras. This is added in the first line below.*\n"
   ]
  },
  {
   "cell_type": "code",
   "execution_count": 11,
   "metadata": {
    "id": "4uh-97bpLZCA"
   },
   "outputs": [
    {
     "name": "stdout",
     "output_type": "stream",
     "text": [
      "Epoch 1/100\n",
      "31/31 [==============================] - 3s 6ms/step - loss: 31.2026 - mae: 31.7005\n",
      "Epoch 2/100\n",
      "31/31 [==============================] - 0s 4ms/step - loss: 14.6383 - mae: 15.1300\n",
      "Epoch 3/100\n",
      "31/31 [==============================] - 0s 4ms/step - loss: 10.7671 - mae: 11.2538\n",
      "Epoch 4/100\n",
      "31/31 [==============================] - 0s 8ms/step - loss: 8.1104 - mae: 8.5949\n",
      "Epoch 5/100\n",
      "31/31 [==============================] - 0s 5ms/step - loss: 6.9819 - mae: 7.4613\n",
      "Epoch 6/100\n",
      "31/31 [==============================] - 0s 4ms/step - loss: 6.4554 - mae: 6.9345\n",
      "Epoch 7/100\n",
      "31/31 [==============================] - 0s 4ms/step - loss: 6.1156 - mae: 6.5962\n",
      "Epoch 8/100\n",
      "31/31 [==============================] - 0s 4ms/step - loss: 5.9224 - mae: 6.4026\n",
      "Epoch 9/100\n",
      "31/31 [==============================] - 0s 4ms/step - loss: 5.8000 - mae: 6.2805\n",
      "Epoch 10/100\n",
      "31/31 [==============================] - 0s 4ms/step - loss: 5.6509 - mae: 6.1271\n",
      "Epoch 11/100\n",
      "31/31 [==============================] - 0s 8ms/step - loss: 5.5903 - mae: 6.0678\n",
      "Epoch 12/100\n",
      "31/31 [==============================] - 0s 3ms/step - loss: 5.4962 - mae: 5.9685\n",
      "Epoch 13/100\n",
      "31/31 [==============================] - 0s 4ms/step - loss: 5.4653 - mae: 5.9427\n",
      "Epoch 14/100\n",
      "31/31 [==============================] - 0s 4ms/step - loss: 5.3864 - mae: 5.8640\n",
      "Epoch 15/100\n",
      "31/31 [==============================] - 0s 5ms/step - loss: 5.3118 - mae: 5.7899\n",
      "Epoch 16/100\n",
      "31/31 [==============================] - 0s 8ms/step - loss: 5.2673 - mae: 5.7445\n",
      "Epoch 17/100\n",
      "31/31 [==============================] - 0s 3ms/step - loss: 5.2414 - mae: 5.7210\n",
      "Epoch 18/100\n",
      "31/31 [==============================] - 0s 7ms/step - loss: 5.2086 - mae: 5.6901\n",
      "Epoch 19/100\n",
      "31/31 [==============================] - 0s 4ms/step - loss: 5.1389 - mae: 5.6169\n",
      "Epoch 20/100\n",
      "31/31 [==============================] - 0s 4ms/step - loss: 5.1350 - mae: 5.6109\n",
      "Epoch 21/100\n",
      "31/31 [==============================] - 0s 4ms/step - loss: 5.0841 - mae: 5.5578\n",
      "Epoch 22/100\n",
      "31/31 [==============================] - 0s 5ms/step - loss: 5.0781 - mae: 5.5566\n",
      "Epoch 23/100\n",
      "31/31 [==============================] - 0s 4ms/step - loss: 5.0668 - mae: 5.5438\n",
      "Epoch 24/100\n",
      "31/31 [==============================] - 0s 5ms/step - loss: 5.1198 - mae: 5.5963\n",
      "Epoch 25/100\n",
      "31/31 [==============================] - 0s 4ms/step - loss: 5.0143 - mae: 5.4923\n",
      "Epoch 26/100\n",
      "31/31 [==============================] - 0s 4ms/step - loss: 4.9763 - mae: 5.4494\n",
      "Epoch 27/100\n",
      "31/31 [==============================] - 0s 6ms/step - loss: 4.9777 - mae: 5.4563\n",
      "Epoch 28/100\n",
      "31/31 [==============================] - 0s 4ms/step - loss: 4.9297 - mae: 5.4044\n",
      "Epoch 29/100\n",
      "31/31 [==============================] - 0s 8ms/step - loss: 4.9612 - mae: 5.4366\n",
      "Epoch 30/100\n",
      "31/31 [==============================] - 0s 5ms/step - loss: 4.9381 - mae: 5.4162\n",
      "Epoch 31/100\n",
      "31/31 [==============================] - 0s 4ms/step - loss: 4.9604 - mae: 5.4369\n",
      "Epoch 32/100\n",
      "31/31 [==============================] - 0s 7ms/step - loss: 4.9705 - mae: 5.4477\n",
      "Epoch 33/100\n",
      "31/31 [==============================] - 0s 4ms/step - loss: 4.8762 - mae: 5.3542\n",
      "Epoch 34/100\n",
      "31/31 [==============================] - 0s 6ms/step - loss: 4.8733 - mae: 5.3514\n",
      "Epoch 35/100\n",
      "31/31 [==============================] - 0s 4ms/step - loss: 4.8942 - mae: 5.3733\n",
      "Epoch 36/100\n",
      "31/31 [==============================] - 0s 9ms/step - loss: 4.8226 - mae: 5.3014\n",
      "Epoch 37/100\n",
      "31/31 [==============================] - 0s 6ms/step - loss: 4.8223 - mae: 5.2990\n",
      "Epoch 38/100\n",
      "31/31 [==============================] - 0s 5ms/step - loss: 4.8728 - mae: 5.3540\n",
      "Epoch 39/100\n",
      "31/31 [==============================] - 0s 5ms/step - loss: 4.7936 - mae: 5.2702\n",
      "Epoch 40/100\n",
      "31/31 [==============================] - 0s 5ms/step - loss: 4.9257 - mae: 5.4033\n",
      "Epoch 41/100\n",
      "31/31 [==============================] - 0s 4ms/step - loss: 4.8546 - mae: 5.3295\n",
      "Epoch 42/100\n",
      "31/31 [==============================] - 0s 6ms/step - loss: 4.7881 - mae: 5.2633\n",
      "Epoch 43/100\n",
      "31/31 [==============================] - 0s 4ms/step - loss: 4.7966 - mae: 5.2737\n",
      "Epoch 44/100\n",
      "31/31 [==============================] - 0s 4ms/step - loss: 4.8254 - mae: 5.3019\n",
      "Epoch 45/100\n",
      "31/31 [==============================] - 0s 6ms/step - loss: 4.8003 - mae: 5.2789\n",
      "Epoch 46/100\n",
      "31/31 [==============================] - 0s 4ms/step - loss: 4.7595 - mae: 5.2407\n",
      "Epoch 47/100\n",
      "31/31 [==============================] - 0s 6ms/step - loss: 4.7673 - mae: 5.2434\n",
      "Epoch 48/100\n",
      "31/31 [==============================] - 0s 5ms/step - loss: 4.8131 - mae: 5.2851\n",
      "Epoch 49/100\n",
      "31/31 [==============================] - 0s 4ms/step - loss: 4.7856 - mae: 5.2635\n",
      "Epoch 50/100\n",
      "31/31 [==============================] - 0s 4ms/step - loss: 4.7128 - mae: 5.1842\n",
      "Epoch 51/100\n",
      "31/31 [==============================] - 0s 4ms/step - loss: 4.7131 - mae: 5.1921\n",
      "Epoch 52/100\n",
      "31/31 [==============================] - 0s 6ms/step - loss: 4.7374 - mae: 5.2164\n",
      "Epoch 53/100\n",
      "31/31 [==============================] - 0s 5ms/step - loss: 4.7376 - mae: 5.2139\n",
      "Epoch 54/100\n",
      "31/31 [==============================] - 0s 4ms/step - loss: 4.6672 - mae: 5.1422\n",
      "Epoch 55/100\n",
      "31/31 [==============================] - 0s 7ms/step - loss: 4.6769 - mae: 5.1560\n",
      "Epoch 56/100\n",
      "31/31 [==============================] - 0s 4ms/step - loss: 4.7109 - mae: 5.1858\n",
      "Epoch 57/100\n",
      "31/31 [==============================] - 0s 4ms/step - loss: 4.7030 - mae: 5.1795\n",
      "Epoch 58/100\n",
      "31/31 [==============================] - 0s 8ms/step - loss: 4.8319 - mae: 5.3118\n",
      "Epoch 59/100\n",
      "31/31 [==============================] - 0s 4ms/step - loss: 4.6724 - mae: 5.1457\n",
      "Epoch 60/100\n",
      "31/31 [==============================] - 0s 6ms/step - loss: 4.7065 - mae: 5.1802\n",
      "Epoch 61/100\n",
      "31/31 [==============================] - 0s 4ms/step - loss: 4.7443 - mae: 5.2199\n",
      "Epoch 62/100\n",
      "31/31 [==============================] - 0s 4ms/step - loss: 4.6276 - mae: 5.1030\n",
      "Epoch 63/100\n",
      "31/31 [==============================] - 0s 4ms/step - loss: 4.6262 - mae: 5.1050\n",
      "Epoch 64/100\n",
      "31/31 [==============================] - 0s 4ms/step - loss: 4.6919 - mae: 5.1659\n",
      "Epoch 65/100\n",
      "31/31 [==============================] - 0s 6ms/step - loss: 4.6299 - mae: 5.1049\n",
      "Epoch 66/100\n",
      "31/31 [==============================] - 0s 4ms/step - loss: 4.6773 - mae: 5.1545\n",
      "Epoch 67/100\n",
      "31/31 [==============================] - 0s 5ms/step - loss: 4.7324 - mae: 5.2090\n",
      "Epoch 68/100\n",
      "31/31 [==============================] - 0s 9ms/step - loss: 4.5918 - mae: 5.0662\n",
      "Epoch 69/100\n",
      "31/31 [==============================] - 0s 4ms/step - loss: 4.7218 - mae: 5.2022\n",
      "Epoch 70/100\n",
      "31/31 [==============================] - 0s 4ms/step - loss: 4.6398 - mae: 5.1172\n",
      "Epoch 71/100\n",
      "31/31 [==============================] - 0s 3ms/step - loss: 4.6143 - mae: 5.0891\n",
      "Epoch 72/100\n",
      "31/31 [==============================] - 0s 5ms/step - loss: 4.5843 - mae: 5.0601\n",
      "Epoch 73/100\n",
      "31/31 [==============================] - 0s 4ms/step - loss: 4.5836 - mae: 5.0619\n",
      "Epoch 74/100\n",
      "31/31 [==============================] - 0s 3ms/step - loss: 4.5794 - mae: 5.0553\n",
      "Epoch 75/100\n",
      "31/31 [==============================] - 0s 4ms/step - loss: 4.7400 - mae: 5.2184\n",
      "Epoch 76/100\n",
      "31/31 [==============================] - 0s 3ms/step - loss: 4.6458 - mae: 5.1245\n",
      "Epoch 77/100\n",
      "31/31 [==============================] - 0s 4ms/step - loss: 4.5800 - mae: 5.0565\n",
      "Epoch 78/100\n",
      "31/31 [==============================] - 0s 4ms/step - loss: 4.6506 - mae: 5.1290\n",
      "Epoch 79/100\n",
      "31/31 [==============================] - 0s 6ms/step - loss: 4.6228 - mae: 5.0987\n",
      "Epoch 80/100\n",
      "31/31 [==============================] - 0s 3ms/step - loss: 4.5929 - mae: 5.0710\n",
      "Epoch 81/100\n",
      "31/31 [==============================] - 0s 3ms/step - loss: 4.5634 - mae: 5.0395\n",
      "Epoch 82/100\n",
      "31/31 [==============================] - 0s 4ms/step - loss: 4.7419 - mae: 5.2180\n",
      "Epoch 83/100\n",
      "31/31 [==============================] - 0s 5ms/step - loss: 4.6755 - mae: 5.1551\n",
      "Epoch 84/100\n",
      "31/31 [==============================] - 0s 4ms/step - loss: 4.6605 - mae: 5.1389\n",
      "Epoch 85/100\n",
      "31/31 [==============================] - 0s 8ms/step - loss: 4.8005 - mae: 5.2782\n",
      "Epoch 86/100\n",
      "31/31 [==============================] - 0s 5ms/step - loss: 4.6809 - mae: 5.1592\n",
      "Epoch 87/100\n",
      "31/31 [==============================] - 0s 6ms/step - loss: 4.6594 - mae: 5.1361\n",
      "Epoch 88/100\n",
      "31/31 [==============================] - 0s 8ms/step - loss: 4.6709 - mae: 5.1482\n",
      "Epoch 89/100\n",
      "31/31 [==============================] - 0s 5ms/step - loss: 4.6495 - mae: 5.1274\n",
      "Epoch 90/100\n",
      "31/31 [==============================] - 0s 4ms/step - loss: 4.5301 - mae: 5.0081\n",
      "Epoch 91/100\n",
      "31/31 [==============================] - 0s 3ms/step - loss: 4.6696 - mae: 5.1464\n",
      "Epoch 92/100\n",
      "31/31 [==============================] - 0s 3ms/step - loss: 4.6943 - mae: 5.1718\n",
      "Epoch 93/100\n",
      "31/31 [==============================] - 0s 3ms/step - loss: 4.5208 - mae: 4.9976\n",
      "Epoch 94/100\n",
      "31/31 [==============================] - 0s 3ms/step - loss: 4.6057 - mae: 5.0854\n",
      "Epoch 95/100\n",
      "31/31 [==============================] - 0s 3ms/step - loss: 4.5575 - mae: 5.0354\n",
      "Epoch 96/100\n",
      "31/31 [==============================] - 0s 4ms/step - loss: 4.5443 - mae: 5.0226\n",
      "Epoch 97/100\n",
      "31/31 [==============================] - 0s 4ms/step - loss: 4.5732 - mae: 5.0491\n",
      "Epoch 98/100\n",
      "31/31 [==============================] - 0s 4ms/step - loss: 4.6029 - mae: 5.0824\n",
      "Epoch 99/100\n",
      "31/31 [==============================] - 0s 4ms/step - loss: 4.7135 - mae: 5.1854\n",
      "Epoch 100/100\n",
      "31/31 [==============================] - 0s 4ms/step - loss: 4.5222 - mae: 4.9952\n"
     ]
    }
   ],
   "source": [
    "# Reset states generated by Keras\n",
    "tf.keras.backend.clear_session()\n",
    "\n",
    "# Build the model\n",
    "model = tf.keras.models.Sequential([\n",
    "  tf.keras.layers.Lambda(lambda x: tf.expand_dims(x, axis=-1),\n",
    "                      input_shape=[None]),\n",
    "   tf.keras.layers.Bidirectional(tf.keras.layers.LSTM(32, return_sequences=True)),\n",
    "  tf.keras.layers.Bidirectional(tf.keras.layers.LSTM(32)),\n",
    "  tf.keras.layers.Dense(1),\n",
    "  tf.keras.layers.Lambda(lambda x: x * 100.0)\n",
    "])\n",
    "\n",
    "# Set the learning rate\n",
    "learning_rate = 2e-6\n",
    "\n",
    "# Set the optimizer \n",
    "optimizer = tf.keras.optimizers.SGD(learning_rate=learning_rate, momentum=0.9)\n",
    "\n",
    "# Set the training parameters\n",
    "model.compile(loss=tf.keras.losses.Huber(),\n",
    "              optimizer=optimizer,\n",
    "              metrics=[\"mae\"])\n",
    "\n",
    "# Train the model\n",
    "history = model.fit(dataset,epochs=100)"
   ]
  },
  {
   "cell_type": "markdown",
   "metadata": {
    "id": "RjP4kbGiI7cw"
   },
   "source": [
    "## Model Prediction\n",
    "\n",
    "You will then generate batches of windows to generate predictions that align with the validation set."
   ]
  },
  {
   "cell_type": "code",
   "execution_count": 12,
   "metadata": {
    "id": "QO8cfKwKBBG6"
   },
   "outputs": [],
   "source": [
    "def model_forecast(model, series, window_size, batch_size):\n",
    "    \"\"\"Uses an input model to generate predictions on data windows\n",
    "\n",
    "    Args:\n",
    "      model (TF Keras Model) - model that accepts data windows\n",
    "      series (array of float) - contains the values of the time series\n",
    "      window_size (int) - the number of time steps to include in the window\n",
    "      batch_size (int) - the batch size\n",
    "\n",
    "    Returns:\n",
    "      forecast (numpy array) - array containing predictions\n",
    "    \"\"\"\n",
    "\n",
    "    # Generate a TF Dataset from the series values\n",
    "    dataset = tf.data.Dataset.from_tensor_slices(series)\n",
    "\n",
    "    # Window the data but only take those with the specified size\n",
    "    dataset = dataset.window(window_size, shift=1, drop_remainder=True)\n",
    "\n",
    "    # Flatten the windows by putting its elements in a single batch\n",
    "    dataset = dataset.flat_map(lambda w: w.batch(window_size))\n",
    "    \n",
    "    # Create batches of windows\n",
    "    dataset = dataset.batch(batch_size).prefetch(1)\n",
    "    \n",
    "    # Get predictions on the entire dataset\n",
    "    forecast = model.predict(dataset)\n",
    "    \n",
    "    return forecast"
   ]
  },
  {
   "cell_type": "code",
   "execution_count": 13,
   "metadata": {
    "id": "_plB3UseBD8o"
   },
   "outputs": [
    {
     "name": "stdout",
     "output_type": "stream",
     "text": [
      "15/15 [==============================] - 1s 2ms/step\n"
     ]
    },
    {
     "name": "stderr",
     "output_type": "stream",
     "text": [
      "2024-04-12 20:59:01.561150: I tensorflow/core/framework/local_rendezvous.cc:421] Local rendezvous recv item cancelled. Key hash: 6875369440803147079\n"
     ]
    },
    {
     "data": {
      "image/png": "[encoded data removed]",
      "text/plain": [
       "<Figure size 1000x600 with 1 Axes>"
      ]
     },
     "metadata": {},
     "output_type": "display_data"
    }
   ],
   "source": [
    "# Reduce the original series\n",
    "forecast_series = series[split_time-window_size:-1]\n",
    "\n",
    "# Use helper function to generate predictions\n",
    "forecast = model_forecast(model, forecast_series, window_size, batch_size)\n",
    "\n",
    "# Drop single dimensional axis\n",
    "results = forecast.squeeze()\n",
    "\n",
    "# Plot the results\n",
    "plot_series(time_valid, (x_valid, results))"
   ]
  },
  {
   "cell_type": "markdown",
   "metadata": {
    "id": "Nn8iSQkZtaRC"
   },
   "source": [
    "You can then generate the metrics to evaluate the model's performance."
   ]
  },
  {
   "cell_type": "code",
   "execution_count": 14,
   "metadata": {
    "id": "-IKhueZaBGID"
   },
   "outputs": [
    {
     "name": "stdout",
     "output_type": "stream",
     "text": [
      "64.64509\n",
      "5.68297\n"
     ]
    }
   ],
   "source": [
    "# Compute the MSE and MAE\n",
    "print(tf.keras.metrics.mean_squared_error(x_valid, results).numpy())\n",
    "print(tf.keras.metrics.mean_absolute_error(x_valid, results).numpy())"
   ]
  },
  {
   "cell_type": "markdown",
   "metadata": {
    "id": "bzPIqeMWvbPy"
   },
   "source": [
    "## Wrap Up\n",
    "\n",
    "This concludes this short exercise on using LSTMs for time series forecasting. Next week, you will build upon this and add convolutions. Then, you will start to move away from synthetic data and use real-world datasets. See you there!"
   ]
  },
  {
   "cell_type": "markdown",
   "metadata": {
    "id": "U5PqTePGHeMH"
   },
   "source": [
    "## Optional: Including a Validation Set while Training\n",
    "\n",
    "Back in the first course of this specialization, you saw how you can also monitor the performance of your model against a validation set while training. You can also do that for this lab. \n",
    "\n",
    "First, you need to generate a `val_set` which are data windows and labels that your model can accept. You can simply reuse the `windowed_dataset` function for that and you can pass in the `x_valid` points to generate the windows."
   ]
  },
  {
   "cell_type": "code",
   "execution_count": 15,
   "metadata": {
    "id": "kvFVwL3PC4iX"
   },
   "outputs": [],
   "source": [
    "# Generate data windows of the validation set\n",
    "val_set = windowed_dataset(x_valid, window_size, batch_size, shuffle_buffer_size)"
   ]
  },
  {
   "cell_type": "markdown",
   "metadata": {
    "id": "p68j6XxEvP9K"
   },
   "source": [
    "You can then do the same training as before but pass in the `val_set` to the `validation_data` parameter of the `fit()` method."
   ]
  },
  {
   "cell_type": "code",
   "execution_count": 16,
   "metadata": {
    "id": "wujKz6tXDSn0"
   },
   "outputs": [
    {
     "name": "stdout",
     "output_type": "stream",
     "text": [
      "Epoch 1/100\n",
      "     28/Unknown - 3s 4ms/step - loss: 44.9096 - mae: 45.4071"
     ]
    },
    {
     "name": "stderr",
     "output_type": "stream",
     "text": [
      "2024-04-12 20:59:05.034371: I tensorflow/core/framework/local_rendezvous.cc:421] Local rendezvous recv item cancelled. Key hash: 13191925343031912823\n"
     ]
    },
    {
     "name": "stdout",
     "output_type": "stream",
     "text": [
      "31/31 [==============================] - 3s 29ms/step - loss: 42.6097 - mae: 43.1069 - val_loss: 26.8894 - val_mae: 27.3888\n",
      "Epoch 2/100\n",
      "22/31 [====================>.........] - ETA: 0s - loss: 16.1965 - mae: 16.6934"
     ]
    },
    {
     "name": "stderr",
     "output_type": "stream",
     "text": [
      "2024-04-12 20:59:05.753154: I tensorflow/core/framework/local_rendezvous.cc:421] Local rendezvous recv item cancelled. Key hash: 6875369440803147079\n",
      "2024-04-12 20:59:05.753196: I tensorflow/core/framework/local_rendezvous.cc:421] Local rendezvous recv item cancelled. Key hash: 17373149212853795838\n"
     ]
    },
    {
     "name": "stdout",
     "output_type": "stream",
     "text": [
      "31/31 [==============================] - 0s 7ms/step - loss: 15.8272 - mae: 16.3238 - val_loss: 35.2378 - val_mae: 35.7371\n",
      "Epoch 3/100\n",
      "31/31 [==============================] - 0s 7ms/step - loss: 12.5544 - mae: 13.0448 - val_loss: 28.1997 - val_mae: 28.6970\n",
      "Epoch 4/100\n",
      "31/31 [==============================] - 0s 8ms/step - loss: 10.1894 - mae: 10.6778 - val_loss: 24.2185 - val_mae: 24.7173\n",
      "Epoch 5/100\n",
      "31/31 [==============================] - 0s 6ms/step - loss: 8.4191 - mae: 8.9008 - val_loss: 19.6222 - val_mae: 20.1180\n",
      "Epoch 6/100\n",
      "31/31 [==============================] - 0s 5ms/step - loss: 7.4531 - mae: 7.9364 - val_loss: 16.4295 - val_mae: 16.9269\n",
      "Epoch 7/100\n",
      "31/31 [==============================] - 0s 8ms/step - loss: 6.9851 - mae: 7.4670 - val_loss: 15.4188 - val_mae: 15.9154\n",
      "Epoch 8/100\n",
      "31/31 [==============================] - 0s 12ms/step - loss: 6.7315 - mae: 7.2138 - val_loss: 13.6625 - val_mae: 14.1551\n",
      "Epoch 9/100\n",
      "31/31 [==============================] - 0s 7ms/step - loss: 6.5266 - mae: 7.0075 - val_loss: 12.2610 - val_mae: 12.7509\n",
      "Epoch 10/100\n",
      "31/31 [==============================] - 0s 6ms/step - loss: 6.3671 - mae: 6.8469 - val_loss: 11.0916 - val_mae: 11.5862\n",
      "Epoch 11/100\n",
      "31/31 [==============================] - 0s 7ms/step - loss: 6.3160 - mae: 6.7970 - val_loss: 10.1953 - val_mae: 10.6856\n",
      "Epoch 12/100\n",
      "31/31 [==============================] - 0s 6ms/step - loss: 6.2765 - mae: 6.7581 - val_loss: 10.4451 - val_mae: 10.9317\n",
      "Epoch 13/100\n",
      "31/31 [==============================] - 0s 7ms/step - loss: 6.1496 - mae: 6.6290 - val_loss: 9.2980 - val_mae: 9.7820\n",
      "Epoch 14/100\n",
      "31/31 [==============================] - 0s 5ms/step - loss: 6.0783 - mae: 6.5573 - val_loss: 9.0782 - val_mae: 9.5621\n",
      "Epoch 15/100\n",
      "31/31 [==============================] - 0s 6ms/step - loss: 5.9731 - mae: 6.4520 - val_loss: 8.4036 - val_mae: 8.8914\n",
      "Epoch 16/100\n",
      "31/31 [==============================] - 0s 5ms/step - loss: 5.8904 - mae: 6.3659 - val_loss: 8.5265 - val_mae: 9.0141\n",
      "Epoch 17/100\n",
      "31/31 [==============================] - 0s 5ms/step - loss: 5.8375 - mae: 6.3159 - val_loss: 8.5798 - val_mae: 9.0673\n",
      "Epoch 18/100\n",
      "31/31 [==============================] - 0s 6ms/step - loss: 5.8180 - mae: 6.2972 - val_loss: 9.0021 - val_mae: 9.4866\n",
      "Epoch 19/100\n",
      "31/31 [==============================] - 0s 8ms/step - loss: 5.7470 - mae: 6.2276 - val_loss: 8.1968 - val_mae: 8.6819\n",
      "Epoch 20/100\n",
      "31/31 [==============================] - 0s 5ms/step - loss: 5.6957 - mae: 6.1706 - val_loss: 8.2213 - val_mae: 8.7066\n",
      "Epoch 21/100\n",
      "31/31 [==============================] - 0s 6ms/step - loss: 5.6585 - mae: 6.1350 - val_loss: 7.8578 - val_mae: 8.3467\n",
      "Epoch 22/100\n",
      "31/31 [==============================] - 0s 10ms/step - loss: 5.6062 - mae: 6.0881 - val_loss: 7.9248 - val_mae: 8.4116\n",
      "Epoch 23/100\n",
      "31/31 [==============================] - 0s 10ms/step - loss: 5.5675 - mae: 6.0491 - val_loss: 8.3767 - val_mae: 8.8636\n",
      "Epoch 24/100\n",
      "31/31 [==============================] - 0s 6ms/step - loss: 5.5188 - mae: 5.9950 - val_loss: 8.4395 - val_mae: 8.9246\n",
      "Epoch 25/100\n",
      "31/31 [==============================] - 0s 8ms/step - loss: 5.4715 - mae: 5.9455 - val_loss: 7.6005 - val_mae: 8.0879\n",
      "Epoch 26/100\n",
      "31/31 [==============================] - 0s 6ms/step - loss: 5.4538 - mae: 5.9335 - val_loss: 7.8344 - val_mae: 8.3197\n",
      "Epoch 27/100\n",
      "31/31 [==============================] - 0s 5ms/step - loss: 5.4431 - mae: 5.9221 - val_loss: 7.5797 - val_mae: 8.0668\n",
      "Epoch 28/100\n",
      "31/31 [==============================] - 0s 8ms/step - loss: 5.3945 - mae: 5.8743 - val_loss: 8.2478 - val_mae: 8.7317\n",
      "Epoch 29/100\n",
      "31/31 [==============================] - 0s 5ms/step - loss: 5.4070 - mae: 5.8871 - val_loss: 8.3701 - val_mae: 8.8578\n",
      "Epoch 30/100\n",
      "31/31 [==============================] - 0s 6ms/step - loss: 5.4467 - mae: 5.9266 - val_loss: 7.7358 - val_mae: 8.2198\n",
      "Epoch 31/100\n",
      "31/31 [==============================] - 0s 5ms/step - loss: 5.3112 - mae: 5.7914 - val_loss: 7.4033 - val_mae: 7.8891\n",
      "Epoch 32/100\n",
      "31/31 [==============================] - 0s 5ms/step - loss: 5.3057 - mae: 5.7849 - val_loss: 7.7687 - val_mae: 8.2536\n",
      "Epoch 33/100\n",
      "31/31 [==============================] - 0s 7ms/step - loss: 5.3267 - mae: 5.8035 - val_loss: 7.5863 - val_mae: 8.0704\n",
      "Epoch 34/100\n",
      "31/31 [==============================] - 0s 5ms/step - loss: 5.2555 - mae: 5.7350 - val_loss: 7.2620 - val_mae: 7.7468\n",
      "Epoch 35/100\n",
      "31/31 [==============================] - 0s 5ms/step - loss: 5.2334 - mae: 5.7117 - val_loss: 7.7686 - val_mae: 8.2533\n",
      "Epoch 36/100\n",
      "31/31 [==============================] - 0s 5ms/step - loss: 5.3361 - mae: 5.8160 - val_loss: 6.8805 - val_mae: 7.3619\n",
      "Epoch 37/100\n",
      "31/31 [==============================] - 0s 8ms/step - loss: 5.3010 - mae: 5.7770 - val_loss: 7.2160 - val_mae: 7.6992\n",
      "Epoch 38/100\n",
      "31/31 [==============================] - 0s 5ms/step - loss: 5.2782 - mae: 5.7568 - val_loss: 7.5003 - val_mae: 7.9848\n",
      "Epoch 39/100\n",
      "31/31 [==============================] - 0s 8ms/step - loss: 5.1787 - mae: 5.6580 - val_loss: 6.8476 - val_mae: 7.3338\n",
      "Epoch 40/100\n",
      "31/31 [==============================] - 0s 6ms/step - loss: 5.3300 - mae: 5.8070 - val_loss: 7.9818 - val_mae: 8.4683\n",
      "Epoch 41/100\n",
      "31/31 [==============================] - 0s 7ms/step - loss: 5.1377 - mae: 5.6145 - val_loss: 7.2655 - val_mae: 7.7466\n",
      "Epoch 42/100\n",
      "31/31 [==============================] - 0s 9ms/step - loss: 5.1040 - mae: 5.5837 - val_loss: 7.1863 - val_mae: 7.6672\n",
      "Epoch 43/100\n",
      "31/31 [==============================] - 0s 5ms/step - loss: 5.1025 - mae: 5.5781 - val_loss: 7.2619 - val_mae: 7.7439\n",
      "Epoch 44/100\n",
      "31/31 [==============================] - 0s 6ms/step - loss: 5.0946 - mae: 5.5743 - val_loss: 7.1757 - val_mae: 7.6566\n",
      "Epoch 45/100\n",
      "31/31 [==============================] - 0s 6ms/step - loss: 5.0787 - mae: 5.5585 - val_loss: 7.4632 - val_mae: 7.9489\n",
      "Epoch 46/100\n",
      "31/31 [==============================] - 0s 6ms/step - loss: 5.0785 - mae: 5.5594 - val_loss: 6.5165 - val_mae: 7.0003\n",
      "Epoch 47/100\n",
      "31/31 [==============================] - 0s 6ms/step - loss: 5.0195 - mae: 5.4957 - val_loss: 7.0351 - val_mae: 7.5167\n",
      "Epoch 48/100\n",
      "31/31 [==============================] - 0s 10ms/step - loss: 5.0211 - mae: 5.5010 - val_loss: 6.5145 - val_mae: 7.0006\n",
      "Epoch 49/100\n",
      "31/31 [==============================] - 0s 7ms/step - loss: 5.0414 - mae: 5.5179 - val_loss: 6.2386 - val_mae: 6.7182\n",
      "Epoch 50/100\n",
      "31/31 [==============================] - 0s 6ms/step - loss: 5.0957 - mae: 5.5739 - val_loss: 7.1174 - val_mae: 7.6001\n",
      "Epoch 51/100\n",
      "31/31 [==============================] - 0s 7ms/step - loss: 4.9824 - mae: 5.4575 - val_loss: 6.2276 - val_mae: 6.7080\n",
      "Epoch 52/100\n",
      "31/31 [==============================] - 0s 5ms/step - loss: 5.0198 - mae: 5.4978 - val_loss: 7.0209 - val_mae: 7.5043\n",
      "Epoch 53/100\n",
      "31/31 [==============================] - 0s 6ms/step - loss: 5.0342 - mae: 5.5098 - val_loss: 6.7852 - val_mae: 7.2635\n",
      "Epoch 54/100\n",
      "31/31 [==============================] - 0s 8ms/step - loss: 4.9296 - mae: 5.4089 - val_loss: 6.5608 - val_mae: 7.0383\n",
      "Epoch 55/100\n",
      "31/31 [==============================] - 0s 6ms/step - loss: 4.9215 - mae: 5.3944 - val_loss: 6.3428 - val_mae: 6.8315\n",
      "Epoch 56/100\n",
      "31/31 [==============================] - 0s 7ms/step - loss: 4.9381 - mae: 5.4143 - val_loss: 6.4377 - val_mae: 6.9187\n",
      "Epoch 57/100\n",
      "31/31 [==============================] - 0s 5ms/step - loss: 5.0677 - mae: 5.5430 - val_loss: 6.1054 - val_mae: 6.5824\n",
      "Epoch 58/100\n",
      "31/31 [==============================] - 0s 6ms/step - loss: 4.9556 - mae: 5.4348 - val_loss: 6.5940 - val_mae: 7.0714\n",
      "Epoch 59/100\n",
      "31/31 [==============================] - 0s 5ms/step - loss: 4.8916 - mae: 5.3702 - val_loss: 7.5900 - val_mae: 8.0701\n",
      "Epoch 60/100\n",
      "31/31 [==============================] - 0s 7ms/step - loss: 4.8679 - mae: 5.3445 - val_loss: 6.5834 - val_mae: 7.0616\n",
      "Epoch 61/100\n",
      "31/31 [==============================] - 0s 9ms/step - loss: 4.8941 - mae: 5.3718 - val_loss: 6.7868 - val_mae: 7.2663\n",
      "Epoch 62/100\n",
      "31/31 [==============================] - 0s 6ms/step - loss: 4.9070 - mae: 5.3837 - val_loss: 6.0686 - val_mae: 6.5519\n",
      "Epoch 63/100\n",
      "31/31 [==============================] - 0s 6ms/step - loss: 4.8704 - mae: 5.3493 - val_loss: 6.3421 - val_mae: 6.8229\n",
      "Epoch 64/100\n",
      "31/31 [==============================] - 0s 5ms/step - loss: 4.8140 - mae: 5.2884 - val_loss: 6.9903 - val_mae: 7.4753\n",
      "Epoch 65/100\n",
      "31/31 [==============================] - 0s 5ms/step - loss: 4.8955 - mae: 5.3758 - val_loss: 6.2008 - val_mae: 6.6852\n",
      "Epoch 66/100\n",
      "31/31 [==============================] - 0s 6ms/step - loss: 4.8203 - mae: 5.2983 - val_loss: 6.3404 - val_mae: 6.8193\n",
      "Epoch 67/100\n",
      "31/31 [==============================] - 0s 6ms/step - loss: 4.8369 - mae: 5.3114 - val_loss: 6.2918 - val_mae: 6.7719\n",
      "Epoch 68/100\n",
      "31/31 [==============================] - 0s 7ms/step - loss: 4.8800 - mae: 5.3551 - val_loss: 6.2770 - val_mae: 6.7572\n",
      "Epoch 69/100\n",
      "31/31 [==============================] - 0s 7ms/step - loss: 4.8042 - mae: 5.2775 - val_loss: 6.2147 - val_mae: 6.6964\n",
      "Epoch 70/100\n",
      "31/31 [==============================] - 0s 6ms/step - loss: 4.7873 - mae: 5.2665 - val_loss: 6.4464 - val_mae: 6.9273\n",
      "Epoch 71/100\n",
      "31/31 [==============================] - 0s 8ms/step - loss: 4.7893 - mae: 5.2634 - val_loss: 6.5996 - val_mae: 7.0786\n",
      "Epoch 72/100\n",
      "31/31 [==============================] - 0s 6ms/step - loss: 4.7686 - mae: 5.2469 - val_loss: 6.3600 - val_mae: 6.8414\n",
      "Epoch 73/100\n",
      "31/31 [==============================] - 0s 7ms/step - loss: 4.7872 - mae: 5.2627 - val_loss: 6.5385 - val_mae: 7.0175\n",
      "Epoch 74/100\n",
      "31/31 [==============================] - 0s 7ms/step - loss: 4.8070 - mae: 5.2850 - val_loss: 5.8965 - val_mae: 6.3794\n",
      "Epoch 75/100\n",
      "31/31 [==============================] - 0s 6ms/step - loss: 4.7403 - mae: 5.2192 - val_loss: 6.2696 - val_mae: 6.7505\n",
      "Epoch 76/100\n",
      "31/31 [==============================] - 0s 6ms/step - loss: 4.7239 - mae: 5.1949 - val_loss: 6.1498 - val_mae: 6.6304\n",
      "Epoch 77/100\n",
      "31/31 [==============================] - 0s 10ms/step - loss: 4.7216 - mae: 5.1973 - val_loss: 6.4622 - val_mae: 6.9421\n",
      "Epoch 78/100\n",
      "31/31 [==============================] - 0s 6ms/step - loss: 4.7171 - mae: 5.1953 - val_loss: 6.2034 - val_mae: 6.6851\n",
      "Epoch 79/100\n",
      "31/31 [==============================] - 0s 6ms/step - loss: 4.7147 - mae: 5.1916 - val_loss: 6.2392 - val_mae: 6.7208\n",
      "Epoch 80/100\n",
      "31/31 [==============================] - 0s 10ms/step - loss: 4.7327 - mae: 5.2084 - val_loss: 5.9192 - val_mae: 6.4049\n",
      "Epoch 81/100\n",
      "31/31 [==============================] - 0s 6ms/step - loss: 4.7419 - mae: 5.2213 - val_loss: 6.3735 - val_mae: 6.8536\n",
      "Epoch 82/100\n",
      "31/31 [==============================] - 0s 12ms/step - loss: 4.7397 - mae: 5.2151 - val_loss: 6.6061 - val_mae: 7.0876\n",
      "Epoch 83/100\n",
      "31/31 [==============================] - 0s 6ms/step - loss: 4.6688 - mae: 5.1469 - val_loss: 5.9249 - val_mae: 6.4092\n",
      "Epoch 84/100\n",
      "31/31 [==============================] - 0s 7ms/step - loss: 4.7585 - mae: 5.2338 - val_loss: 6.2741 - val_mae: 6.7535\n",
      "Epoch 85/100\n",
      "31/31 [==============================] - 0s 6ms/step - loss: 4.6733 - mae: 5.1499 - val_loss: 5.8473 - val_mae: 6.3332\n",
      "Epoch 86/100\n",
      "31/31 [==============================] - 0s 6ms/step - loss: 4.6642 - mae: 5.1364 - val_loss: 6.0138 - val_mae: 6.4962\n",
      "Epoch 87/100\n",
      "31/31 [==============================] - 0s 6ms/step - loss: 4.7516 - mae: 5.2258 - val_loss: 6.0737 - val_mae: 6.5568\n",
      "Epoch 88/100\n",
      "31/31 [==============================] - 0s 7ms/step - loss: 4.6489 - mae: 5.1263 - val_loss: 6.2263 - val_mae: 6.7088\n",
      "Epoch 89/100\n",
      "31/31 [==============================] - 0s 6ms/step - loss: 4.7692 - mae: 5.2472 - val_loss: 6.3604 - val_mae: 6.8402\n",
      "Epoch 90/100\n",
      "31/31 [==============================] - 0s 6ms/step - loss: 4.7781 - mae: 5.2554 - val_loss: 5.7768 - val_mae: 6.2622\n",
      "Epoch 91/100\n",
      "31/31 [==============================] - 0s 9ms/step - loss: 4.6555 - mae: 5.1320 - val_loss: 6.2016 - val_mae: 6.6818\n",
      "Epoch 92/100\n",
      "31/31 [==============================] - 0s 8ms/step - loss: 4.5956 - mae: 5.0734 - val_loss: 5.5321 - val_mae: 6.0107\n",
      "Epoch 93/100\n",
      "31/31 [==============================] - 0s 6ms/step - loss: 4.9162 - mae: 5.3946 - val_loss: 6.2789 - val_mae: 6.7591\n",
      "Epoch 94/100\n",
      "31/31 [==============================] - 0s 7ms/step - loss: 4.6726 - mae: 5.1515 - val_loss: 5.8119 - val_mae: 6.2970\n",
      "Epoch 95/100\n",
      "31/31 [==============================] - 0s 6ms/step - loss: 4.6187 - mae: 5.0960 - val_loss: 5.8685 - val_mae: 6.3521\n",
      "Epoch 96/100\n",
      "31/31 [==============================] - 0s 7ms/step - loss: 4.6487 - mae: 5.1235 - val_loss: 5.4747 - val_mae: 5.9509\n",
      "Epoch 97/100\n",
      "31/31 [==============================] - 0s 13ms/step - loss: 4.6622 - mae: 5.1373 - val_loss: 5.8090 - val_mae: 6.2939\n",
      "Epoch 98/100\n",
      "31/31 [==============================] - 0s 6ms/step - loss: 4.6190 - mae: 5.0970 - val_loss: 6.2353 - val_mae: 6.7149\n",
      "Epoch 99/100\n",
      "31/31 [==============================] - 0s 6ms/step - loss: 4.5999 - mae: 5.0787 - val_loss: 5.5750 - val_mae: 6.0532\n",
      "Epoch 100/100\n",
      "31/31 [==============================] - 0s 6ms/step - loss: 4.6134 - mae: 5.0900 - val_loss: 5.4983 - val_mae: 5.9798\n"
     ]
    }
   ],
   "source": [
    "# Reset states generated by Keras\n",
    "tf.keras.backend.clear_session()\n",
    "\n",
    "# Build the model\n",
    "model = tf.keras.models.Sequential([\n",
    "  tf.keras.layers.Lambda(lambda x: tf.expand_dims(x, axis=-1),\n",
    "                      input_shape=[None]),\n",
    "   tf.keras.layers.Bidirectional(tf.keras.layers.LSTM(32, return_sequences=True)),\n",
    "  tf.keras.layers.Bidirectional(tf.keras.layers.LSTM(32)),\n",
    "  tf.keras.layers.Dense(1),\n",
    "  tf.keras.layers.Lambda(lambda x: x * 100.0)\n",
    "])\n",
    "\n",
    "# Set the learning rate\n",
    "learning_rate = 2e-6\n",
    "\n",
    "# Set the optimizer \n",
    "optimizer = tf.keras.optimizers.SGD(learning_rate=learning_rate, momentum=0.9)\n",
    "\n",
    "# Set the training parameters\n",
    "model.compile(loss=tf.keras.losses.Huber(),\n",
    "              optimizer=optimizer,\n",
    "              metrics=[\"mae\"])\n",
    "\n",
    "# Train the model\n",
    "history = model.fit(dataset,epochs=100, validation_data=val_set)"
   ]
  }
 ],
 "metadata": {
  "accelerator": "GPU",
  "colab": {
   "collapsed_sections": [],
   "name": "C4_W3_Lab_2_LSTM.ipynb",
   "private_outputs": true,
   "provenance": []
  },
  "kernelspec": {
   "display_name": "Python 3 (ipykernel)",
   "language": "python",
   "name": "python3"
  },
  "language_info": {
   "codemirror_mode": {
    "name": "ipython",
    "version": 3
   },
   "file_extension": ".py",
   "mimetype": "text/x-python",
   "name": "python",
   "nbconvert_exporter": "python",
   "pygments_lexer": "ipython3",
   "version": "3.11.0rc1"
  }
 },
 "nbformat": 4,
 "nbformat_minor": 1
}
