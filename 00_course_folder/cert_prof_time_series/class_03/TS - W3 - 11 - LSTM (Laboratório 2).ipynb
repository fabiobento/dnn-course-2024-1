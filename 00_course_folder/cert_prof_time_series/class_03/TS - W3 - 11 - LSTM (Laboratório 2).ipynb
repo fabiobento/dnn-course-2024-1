{
 "cells": [
  {
   "cell_type": "markdown",
   "metadata": {},
   "source": [
    "<a href=\"https://colab.research.google.com/github/fabiobento/dnn-course-2024-1/blob/main/00_course_folder/cert_prof_time_series/class_03/TS%20-%20W3%20-%2011%20-%20LSTM%20(Laborat%C3%B3rio%202).ipynb\" target=\"_parent\"><img src=\"https://colab.research.google.com/assets/colab-badge.svg\" alt=\"Open In Colab\"/></a>"
   ]
  },
  {
   "cell_type": "markdown",
   "metadata": {},
   "source": [
    "adaptado de [Certificado Profissional Desenvolvedor do TensorFlow](https://www.coursera.org/professional-certificates/tensorflow-in-practice) de [Laurence Moroney](https://laurencemoroney.com/)"
   ]
  },
  {
   "cell_type": "markdown",
   "metadata": {
    "id": "sV_nvXSQGJPK"
   },
   "source": [
    "# Uso de um LSTM de várias camadas para previsão\n",
    "\n",
    "Neste laboratório, você usará a mesma arquitetura RNN do primeiro laboratório, mas empilhará camadas [LSTM](https://www.tensorflow.org/api_docs/python/tf/keras/layers/LSTM) em vez de `SimpleRNN`."
   ]
  },
  {
   "cell_type": "markdown",
   "metadata": {
    "id": "3IMbAWETGOWD"
   },
   "source": [
    "## Importações"
   ]
  },
  {
   "cell_type": "code",
   "execution_count": 1,
   "metadata": {
    "id": "BOjujz601HcS"
   },
   "outputs": [
    {
     "name": "stderr",
     "output_type": "stream",
     "text": [
      "2024-04-13 12:55:52.938788: I tensorflow/core/util/port.cc:111] oneDNN custom operations are on. You may see slightly different numerical results due to floating-point round-off errors from different computation orders. To turn them off, set the environment variable `TF_ENABLE_ONEDNN_OPTS=0`.\n",
      "2024-04-13 12:55:52.960762: E tensorflow/compiler/xla/stream_executor/cuda/cuda_dnn.cc:9342] Unable to register cuDNN factory: Attempting to register factory for plugin cuDNN when one has already been registered\n",
      "2024-04-13 12:55:52.960789: E tensorflow/compiler/xla/stream_executor/cuda/cuda_fft.cc:609] Unable to register cuFFT factory: Attempting to register factory for plugin cuFFT when one has already been registered\n",
      "2024-04-13 12:55:52.960803: E tensorflow/compiler/xla/stream_executor/cuda/cuda_blas.cc:1518] Unable to register cuBLAS factory: Attempting to register factory for plugin cuBLAS when one has already been registered\n",
      "2024-04-13 12:55:52.965052: I tensorflow/core/platform/cpu_feature_guard.cc:182] This TensorFlow binary is optimized to use available CPU instructions in performance-critical operations.\n",
      "To enable the following instructions: AVX2 AVX_VNNI FMA, in other operations, rebuild TensorFlow with the appropriate compiler flags.\n"
     ]
    }
   ],
   "source": [
    "import tensorflow as tf\n",
    "import numpy as np\n",
    "import matplotlib.pyplot as plt"
   ]
  },
  {
   "cell_type": "markdown",
   "metadata": {
    "id": "kD7RQQ0xGQVH"
   },
   "source": [
    "## Utilitários"
   ]
  },
  {
   "cell_type": "code",
   "execution_count": 2,
   "metadata": {
    "id": "Zswl7jRtGzkk"
   },
   "outputs": [],
   "source": [
    "def plot_series(time, series, format=\"-\", start=0, end=None):\n",
    "    \"\"\"\n",
    "    Visualiza dados de séries temporais\n",
    "\n",
    "    Args:\n",
    "      time (array of int) - contém as etapas de tempo\n",
    "      series (array of int) - contém as medidas para cada etapa de tempo\n",
    "      format - estilo de linha ao plotar o gráfico\n",
    "      start - primeiro passo de tempo a ser plotado\n",
    "      end - última etapa de tempo a ser plotada\n",
    "    \"\"\"\n",
    "\n",
    "    # Configuração das dimensões da figura do gráfico\n",
    "    plt.figure(figsize=(10, 6))\n",
    "    \n",
    "    if type(series) is tuple:\n",
    "\n",
    "      for series_num in series:\n",
    "        # Plotar os dados da série temporal\n",
    "        plt.plot(time[start:end], series_num[start:end], format)\n",
    "\n",
    "    else:\n",
    "      # Plotar os dados da série temporal\n",
    "      plt.plot(time[start:end], series[start:end], format)\n",
    "\n",
    "    # Rotular o eixo x\n",
    "    plt.xlabel(\"Time\")\n",
    "\n",
    "    # Rotular o eixo y\n",
    "    plt.ylabel(\"Value\")\n",
    "\n",
    "    # Sobrepor uma grade no gráfico\n",
    "    plt.grid(True)\n",
    "\n",
    "    # Desenhe o gráfico na tela\n",
    "    plt.show()\n",
    "\n",
    "def trend(time, slope=0):\n",
    "    \"\"\"\n",
    "    Gera dados sintéticos que seguem uma linha reta com um valor de inclinação.\n",
    "\n",
    "    Args:\n",
    "      time (vetor de int) - contém as etapas de tempo\n",
    "      slope (float) - determina a direção e a inclinação da linha\n",
    "\n",
    "    Retorna:\n",
    "      series (vetor de float) - medições que seguem uma linha reta\n",
    "    \"\"\"\n",
    "\n",
    "    # Calcula a série linear dada a inclinação\n",
    "    series = slope * time\n",
    "\n",
    "    return series\n",
    "\n",
    "def seasonal_pattern(season_time):\n",
    "    \"\"\"\n",
    "    Apenas um padrão arbitrário, você pode alterá-lo se desejar\n",
    "    \n",
    "    Args:\n",
    "      season_time (vetor de float) - contém as medições por etapa de tempo\n",
    "\n",
    "    Retorna:\n",
    "      data_pattern (vetor de float) - contém os valores de medição revisados de acordo com o padrão definido. \n",
    "                                  de acordo com o padrão definido\n",
    "    \"\"\"\n",
    "\n",
    "    # Gerar os valores usando um padrão arbitrário\n",
    "    data_pattern = np.where(season_time < 0.4,\n",
    "                    np.cos(season_time * 2 * np.pi),\n",
    "                    1 / np.exp(3 * season_time))\n",
    "    \n",
    "    return data_pattern\n",
    "\n",
    "def seasonality(time, period, amplitude=1, phase=0):\n",
    "    \"\"\"\n",
    "    Repete o mesmo padrão em cada período\n",
    "\n",
    "    Args:\n",
    "      time (vetor de int) - contém as etapas de tempo\n",
    "      period (int) - número de etapas de tempo antes da repetição do padrão\n",
    "      amplitude (int) - valor de pico medido em um período\n",
    "      phase (int) - número de etapas de tempo para deslocar os valores medidos\n",
    "\n",
    "    Retorna:\n",
    "      data_pattern (vetor de float) - dados sazonais dimensionados pela amplitude definida\n",
    "    \"\"\"\n",
    "    \n",
    "    # Definir os valores medidos por período\n",
    "    season_time = ((time + phase) % period) / period\n",
    "\n",
    "    # Gera os dados sazonais dimensionados pela amplitude definida\n",
    "    data_pattern = amplitude * seasonal_pattern(season_time)\n",
    "\n",
    "    return data_pattern\n",
    "\n",
    "def noise(time, noise_level=1, seed=None):\n",
    "    \"\"\"Gera um sinal ruidoso normalmente distribuído\n",
    "\n",
    "    Args:\n",
    "      time (array of int) - contém as etapas de tempo\n",
    "      noise_level (float) - fator de escala para o sinal gerado\n",
    "      seed (int) - semente do gerador de números para repetibilidade\n",
    "\n",
    "    Retorna:\n",
    "      noise (matriz de float) - o sinal ruidoso\n",
    "    \"\"\"\n",
    "\n",
    "    # Inicializar o gerador de números aleatórios\n",
    "    rnd = np.random.RandomState(seed)\n",
    "\n",
    "    # Gerar um número aleatório para cada etapa de tempo e dimensionar pelo nível de ruído\n",
    "    noise = rnd.randn(len(time)) * noise_level\n",
    "    \n",
    "    return noise"
   ]
  },
  {
   "cell_type": "markdown",
   "metadata": {
    "id": "yxNyeFWjGSdj"
   },
   "source": [
    "## Gerar os dados sintéticos"
   ]
  },
  {
   "cell_type": "code",
   "execution_count": 3,
   "metadata": {
    "id": "KYEUfDbdpHPm"
   },
   "outputs": [
    {
     "data": {
      "image/png": "[encoded data removed]",
      "text/plain": [
       "<Figure size 1000x600 with 1 Axes>"
      ]
     },
     "metadata": {},
     "output_type": "display_data"
    }
   ],
   "source": [
    "# Hiperparâmetros\n",
    "time = np.arange(4 * 365 + 1, dtype=\"float32\")\n",
    "baseline = 10\n",
    "amplitude = 40\n",
    "slope = 0.05\n",
    "noise_level = 5\n",
    "\n",
    "# Criar a série\n",
    "series = baseline + trend(time, slope) + seasonality(time, period=365, amplitude=amplitude)\n",
    "\n",
    "# Atualizar com ruído\n",
    "series += noise(time, noise_level, seed=42)\n",
    "\n",
    "# Plotar os resultados\n",
    "plot_series(time, series)"
   ]
  },
  {
   "cell_type": "markdown",
   "metadata": {
    "id": "MYKCvv-eGWRc"
   },
   "source": [
    "## Dividir o conjunto de dados"
   ]
  },
  {
   "cell_type": "code",
   "execution_count": 4,
   "metadata": {
    "id": "hpp0slenpKVD"
   },
   "outputs": [],
   "source": [
    "# Definir o tempo de divisão\n",
    "split_time = 1000\n",
    "\n",
    "# Obter o conjunto de treino\n",
    "time_train = time[:split_time]\n",
    "x_train = series[:split_time]\n",
    "\n",
    "# Obter o conjunto de validação\n",
    "time_valid = time[split_time:]\n",
    "x_valid = series[split_time:]"
   ]
  },
  {
   "cell_type": "markdown",
   "metadata": {
    "id": "cktHz9aOGYtV"
   },
   "source": [
    "## Prepare Features and Labels"
   ]
  },
  {
   "cell_type": "code",
   "execution_count": 5,
   "metadata": {
    "id": "G_j_2_Mqwn7-"
   },
   "outputs": [],
   "source": [
    "# Hiperoparâmetros\n",
    "window_size = 20\n",
    "batch_size = 32\n",
    "shuffle_buffer_size = 1000"
   ]
  },
  {
   "cell_type": "code",
   "execution_count": 6,
   "metadata": {
    "id": "4sTTIOCbyShY"
   },
   "outputs": [],
   "source": [
    "def windowed_dataset(series, window_size, batch_size, shuffle_buffer):\n",
    "    \"\"\"Gera janelas de conjunto de dados\n",
    "\n",
    "    Args:\n",
    "      series (vetor de float) - contém os valores da série temporal\n",
    "      window_size (int) - o número de etapas de tempo a serem incluídas no recurso\n",
    "      batch_size (int) - o tamanho do lote\n",
    "      shuffle_buffer(int) - tamanho do buffer a ser usado para o método shuffle\n",
    "\n",
    "    Retorna:\n",
    "      dataset (TF Dataset) - Conjunto de dados TF contendo janelas de tempo\n",
    "    \"\"\"\n",
    "  \n",
    "    # Gerar um conjunto de dados TF a partir dos valores da série\n",
    "    dataset = tf.data.Dataset.from_tensor_slices(series)\n",
    "    \n",
    "    # Janela de dados, mas só pega aqueles com o tamanho especificado\n",
    "    dataset = dataset.window(window_size + 1, shift=1, drop_remainder=True)\n",
    "    \n",
    "    # Achatar as janelas, colocando seus elementos em um único lote\n",
    "    dataset = dataset.flat_map(lambda window: window.batch(window_size + 1))\n",
    "\n",
    "    # Criar tuplas com recursos e rótulos \n",
    "    dataset = dataset.map(lambda window: (window[:-1], window[-1]))\n",
    "\n",
    "    # Embaralhar as janelas\n",
    "    dataset = dataset.shuffle(shuffle_buffer)\n",
    "    \n",
    "    # Criar lotes de janelas\n",
    "    dataset = dataset.batch(batch_size).prefetch(1)\n",
    "    \n",
    "    return dataset"
   ]
  },
  {
   "cell_type": "code",
   "execution_count": 7,
   "metadata": {
    "id": "vGj5-InSwtQQ"
   },
   "outputs": [
    {
     "name": "stderr",
     "output_type": "stream",
     "text": [
      "2024-04-13 12:55:54.195317: I tensorflow/compiler/xla/stream_executor/cuda/cuda_gpu_executor.cc:894] successful NUMA node read from SysFS had negative value (-1), but there must be at least one NUMA node, so returning NUMA node zero. See more at https://github.com/torvalds/linux/blob/v6.0/Documentation/ABI/testing/sysfs-bus-pci#L344-L355\n",
      "2024-04-13 12:55:54.198984: I tensorflow/compiler/xla/stream_executor/cuda/cuda_gpu_executor.cc:894] successful NUMA node read from SysFS had negative value (-1), but there must be at least one NUMA node, so returning NUMA node zero. See more at https://github.com/torvalds/linux/blob/v6.0/Documentation/ABI/testing/sysfs-bus-pci#L344-L355\n",
      "2024-04-13 12:55:54.199128: I tensorflow/compiler/xla/stream_executor/cuda/cuda_gpu_executor.cc:894] successful NUMA node read from SysFS had negative value (-1), but there must be at least one NUMA node, so returning NUMA node zero. See more at https://github.com/torvalds/linux/blob/v6.0/Documentation/ABI/testing/sysfs-bus-pci#L344-L355\n",
      "2024-04-13 12:55:54.200145: I tensorflow/compiler/xla/stream_executor/cuda/cuda_gpu_executor.cc:894] successful NUMA node read from SysFS had negative value (-1), but there must be at least one NUMA node, so returning NUMA node zero. See more at https://github.com/torvalds/linux/blob/v6.0/Documentation/ABI/testing/sysfs-bus-pci#L344-L355\n",
      "2024-04-13 12:55:54.200265: I tensorflow/compiler/xla/stream_executor/cuda/cuda_gpu_executor.cc:894] successful NUMA node read from SysFS had negative value (-1), but there must be at least one NUMA node, so returning NUMA node zero. See more at https://github.com/torvalds/linux/blob/v6.0/Documentation/ABI/testing/sysfs-bus-pci#L344-L355\n",
      "2024-04-13 12:55:54.200327: I tensorflow/compiler/xla/stream_executor/cuda/cuda_gpu_executor.cc:894] successful NUMA node read from SysFS had negative value (-1), but there must be at least one NUMA node, so returning NUMA node zero. See more at https://github.com/torvalds/linux/blob/v6.0/Documentation/ABI/testing/sysfs-bus-pci#L344-L355\n",
      "2024-04-13 12:55:54.268505: I tensorflow/compiler/xla/stream_executor/cuda/cuda_gpu_executor.cc:894] successful NUMA node read from SysFS had negative value (-1), but there must be at least one NUMA node, so returning NUMA node zero. See more at https://github.com/torvalds/linux/blob/v6.0/Documentation/ABI/testing/sysfs-bus-pci#L344-L355\n",
      "2024-04-13 12:55:54.268618: I tensorflow/compiler/xla/stream_executor/cuda/cuda_gpu_executor.cc:894] successful NUMA node read from SysFS had negative value (-1), but there must be at least one NUMA node, so returning NUMA node zero. See more at https://github.com/torvalds/linux/blob/v6.0/Documentation/ABI/testing/sysfs-bus-pci#L344-L355\n",
      "2024-04-13 12:55:54.268689: I tensorflow/compiler/xla/stream_executor/cuda/cuda_gpu_executor.cc:894] successful NUMA node read from SysFS had negative value (-1), but there must be at least one NUMA node, so returning NUMA node zero. See more at https://github.com/torvalds/linux/blob/v6.0/Documentation/ABI/testing/sysfs-bus-pci#L344-L355\n",
      "2024-04-13 12:55:54.268748: I tensorflow/core/common_runtime/gpu/gpu_device.cc:1886] Created device /job:localhost/replica:0/task:0/device:GPU:0 with 6494 MB memory:  -> device: 0, name: NVIDIA GeForce RTX 2080 SUPER, pci bus id: 0000:01:00.0, compute capability: 7.5\n"
     ]
    }
   ],
   "source": [
    "# Gerar as janelas do conjunto de dados\n",
    "dataset = windowed_dataset(x_train, window_size, batch_size, shuffle_buffer_size)"
   ]
  },
  {
   "cell_type": "markdown",
   "metadata": {
    "id": "p9-Ke8ZaGcjd"
   },
   "source": [
    "## Criar o modelo\n",
    "\n",
    "Conforme mencionado, você trocará o `SimpleRNN` pelo `LSTM` neste laboratório. Ele também está definido como bidirecional abaixo, mas fique à vontade para revisá-lo mais tarde e ver os resultados obtidos. Os LSTMs são muito mais complexos em sua arquitetura interna do que os simpleRNNs. Ele implementa um estado de célula que lhe permite lembrar sequências melhor do que as implementações simples. Essa complexidade adicional resulta em um conjunto maior de parâmetros a serem treinados e você verá isso ao imprimir o resumo do modelo abaixo."
   ]
  },
  {
   "cell_type": "code",
   "execution_count": 8,
   "metadata": {
    "id": "A1Hl39rklkLm"
   },
   "outputs": [
    {
     "name": "stdout",
     "output_type": "stream",
     "text": [
      "Model: \"sequential\"\n",
      "_________________________________________________________________\n",
      " Layer (type)                Output Shape              Param #   \n",
      "=================================================================\n",
      " lambda (Lambda)             (None, 20, 1)             0         \n",
      "                                                                 \n",
      " bidirectional (Bidirection  (None, 20, 64)            8704      \n",
      " al)                                                             \n",
      "                                                                 \n",
      " bidirectional_1 (Bidirecti  (None, 64)                24832     \n",
      " onal)                                                           \n",
      "                                                                 \n",
      " dense (Dense)               (None, 1)                 65        \n",
      "                                                                 \n",
      " lambda_1 (Lambda)           (None, 1)                 0         \n",
      "                                                                 \n",
      "=================================================================\n",
      "Total params: 33601 (131.25 KB)\n",
      "Trainable params: 33601 (131.25 KB)\n",
      "Non-trainable params: 0 (0.00 Byte)\n",
      "_________________________________________________________________\n"
     ]
    }
   ],
   "source": [
    "# Criar o modelo\n",
    "model_tune = tf.keras.models.Sequential([\n",
    "  tf.keras.layers.Lambda(lambda x: tf.expand_dims(x, axis=-1),\n",
    "                      input_shape=[window_size]),\n",
    "    tf.keras.layers.Bidirectional(tf.keras.layers.LSTM(32, return_sequences=True)),\n",
    "  tf.keras.layers.Bidirectional(tf.keras.layers.LSTM(32)),\n",
    "  tf.keras.layers.Dense(1),\n",
    "  tf.keras.layers.Lambda(lambda x: x * 100.0)\n",
    "])\n",
    "\n",
    "# Imprimir o resumo do modelo\n",
    "model_tune.summary()"
   ]
  },
  {
   "cell_type": "markdown",
   "metadata": {
    "id": "FHaFblbwq0GV"
   },
   "source": [
    "## Ajuste a taxa de aprendizado\n",
    "\n",
    "Como de costume, você escolherá uma taxa de aprendizagem executando o código de ajuste abaixo."
   ]
  },
  {
   "cell_type": "code",
   "execution_count": 9,
   "metadata": {
    "id": "qE7al18qw48G"
   },
   "outputs": [
    {
     "name": "stdout",
     "output_type": "stream",
     "text": [
      "Epoch 1/100\n"
     ]
    },
    {
     "name": "stderr",
     "output_type": "stream",
     "text": [
      "2024-04-13 12:55:57.399092: I tensorflow/compiler/xla/stream_executor/cuda/cuda_dnn.cc:442] Loaded cuDNN version 8600\n"
     ]
    },
    {
     "name": "stdout",
     "output_type": "stream",
     "text": [
      "      1/Unknown - 3s 3s/step - loss: 7.9289"
     ]
    },
    {
     "name": "stderr",
     "output_type": "stream",
     "text": [
      "2024-04-13 12:55:57.873227: I tensorflow/compiler/xla/service/service.cc:168] XLA service 0x716df407a790 initialized for platform CUDA (this does not guarantee that XLA will be used). Devices:\n",
      "2024-04-13 12:55:57.873245: I tensorflow/compiler/xla/service/service.cc:176]   StreamExecutor device (0): NVIDIA GeForce RTX 2080 SUPER, Compute Capability 7.5\n",
      "2024-04-13 12:55:57.910496: I ./tensorflow/compiler/jit/device_compiler.h:186] Compiled cluster using XLA!  This line is logged at most once for the lifetime of the process.\n"
     ]
    },
    {
     "name": "stdout",
     "output_type": "stream",
     "text": [
      "31/31 [==============================] - 3s 5ms/step - loss: 9.0220 - lr: 1.0000e-08\n",
      "Epoch 2/100\n",
      "31/31 [==============================] - 0s 6ms/step - loss: 9.0048 - lr: 1.1220e-08\n",
      "Epoch 3/100\n",
      "31/31 [==============================] - 0s 5ms/step - loss: 8.9867 - lr: 1.2589e-08\n",
      "Epoch 4/100\n",
      "31/31 [==============================] - 0s 5ms/step - loss: 8.9687 - lr: 1.4125e-08\n",
      "Epoch 5/100\n",
      "31/31 [==============================] - 0s 6ms/step - loss: 8.9511 - lr: 1.5849e-08\n",
      "Epoch 6/100\n",
      "31/31 [==============================] - 0s 3ms/step - loss: 8.9304 - lr: 1.7783e-08\n",
      "Epoch 7/100\n",
      "31/31 [==============================] - 0s 4ms/step - loss: 8.9100 - lr: 1.9953e-08\n",
      "Epoch 8/100\n",
      "31/31 [==============================] - 0s 5ms/step - loss: 8.8895 - lr: 2.2387e-08\n",
      "Epoch 9/100\n",
      "31/31 [==============================] - 0s 5ms/step - loss: 8.8688 - lr: 2.5119e-08\n",
      "Epoch 10/100\n",
      "31/31 [==============================] - 0s 4ms/step - loss: 8.8435 - lr: 2.8184e-08\n",
      "Epoch 11/100\n",
      "31/31 [==============================] - 0s 4ms/step - loss: 8.8189 - lr: 3.1623e-08\n",
      "Epoch 12/100\n",
      "31/31 [==============================] - 0s 10ms/step - loss: 8.7871 - lr: 3.5481e-08\n",
      "Epoch 13/100\n",
      "31/31 [==============================] - 0s 6ms/step - loss: 8.7567 - lr: 3.9811e-08\n",
      "Epoch 14/100\n",
      "31/31 [==============================] - 0s 3ms/step - loss: 8.7213 - lr: 4.4668e-08\n",
      "Epoch 15/100\n",
      "31/31 [==============================] - 0s 4ms/step - loss: 8.6830 - lr: 5.0119e-08\n",
      "Epoch 16/100\n",
      "31/31 [==============================] - 0s 4ms/step - loss: 8.6447 - lr: 5.6234e-08\n",
      "Epoch 17/100\n",
      "31/31 [==============================] - 0s 5ms/step - loss: 8.5962 - lr: 6.3096e-08\n",
      "Epoch 18/100\n",
      "31/31 [==============================] - 0s 5ms/step - loss: 8.5488 - lr: 7.0795e-08\n",
      "Epoch 19/100\n",
      "31/31 [==============================] - 0s 7ms/step - loss: 8.4986 - lr: 7.9433e-08\n",
      "Epoch 20/100\n",
      "31/31 [==============================] - 0s 10ms/step - loss: 8.4391 - lr: 8.9125e-08\n",
      "Epoch 21/100\n",
      "31/31 [==============================] - 0s 5ms/step - loss: 8.3804 - lr: 1.0000e-07\n",
      "Epoch 22/100\n",
      "31/31 [==============================] - 0s 4ms/step - loss: 8.3170 - lr: 1.1220e-07\n",
      "Epoch 23/100\n",
      "31/31 [==============================] - 0s 4ms/step - loss: 8.2533 - lr: 1.2589e-07\n",
      "Epoch 24/100\n",
      "31/31 [==============================] - 0s 3ms/step - loss: 8.1859 - lr: 1.4125e-07\n",
      "Epoch 25/100\n",
      "31/31 [==============================] - 0s 5ms/step - loss: 8.1133 - lr: 1.5849e-07\n",
      "Epoch 26/100\n",
      "31/31 [==============================] - 0s 7ms/step - loss: 8.0237 - lr: 1.7783e-07\n",
      "Epoch 27/100\n",
      "31/31 [==============================] - 0s 4ms/step - loss: 7.9485 - lr: 1.9953e-07\n",
      "Epoch 28/100\n",
      "31/31 [==============================] - 0s 4ms/step - loss: 7.8654 - lr: 2.2387e-07\n",
      "Epoch 29/100\n",
      "31/31 [==============================] - 0s 5ms/step - loss: 7.7696 - lr: 2.5119e-07\n",
      "Epoch 30/100\n",
      "31/31 [==============================] - 0s 4ms/step - loss: 7.6867 - lr: 2.8184e-07\n",
      "Epoch 31/100\n",
      "31/31 [==============================] - 0s 4ms/step - loss: 7.5995 - lr: 3.1623e-07\n",
      "Epoch 32/100\n",
      "31/31 [==============================] - 0s 4ms/step - loss: 7.5072 - lr: 3.5481e-07\n",
      "Epoch 33/100\n",
      "31/31 [==============================] - 0s 4ms/step - loss: 7.4045 - lr: 3.9811e-07\n",
      "Epoch 34/100\n",
      "31/31 [==============================] - 0s 5ms/step - loss: 7.2718 - lr: 4.4668e-07\n",
      "Epoch 35/100\n",
      "31/31 [==============================] - 0s 4ms/step - loss: 7.1973 - lr: 5.0119e-07\n",
      "Epoch 36/100\n",
      "31/31 [==============================] - 0s 4ms/step - loss: 7.0690 - lr: 5.6234e-07\n",
      "Epoch 37/100\n",
      "31/31 [==============================] - 0s 7ms/step - loss: 6.9363 - lr: 6.3096e-07\n",
      "Epoch 38/100\n",
      "31/31 [==============================] - 0s 4ms/step - loss: 6.8603 - lr: 7.0795e-07\n",
      "Epoch 39/100\n",
      "31/31 [==============================] - 0s 4ms/step - loss: 6.6753 - lr: 7.9433e-07\n",
      "Epoch 40/100\n",
      "31/31 [==============================] - 0s 5ms/step - loss: 6.5672 - lr: 8.9125e-07\n",
      "Epoch 41/100\n",
      "31/31 [==============================] - 0s 5ms/step - loss: 6.4245 - lr: 1.0000e-06\n",
      "Epoch 42/100\n",
      "31/31 [==============================] - 0s 5ms/step - loss: 6.3111 - lr: 1.1220e-06\n",
      "Epoch 43/100\n",
      "31/31 [==============================] - 0s 5ms/step - loss: 6.1455 - lr: 1.2589e-06\n",
      "Epoch 44/100\n",
      "31/31 [==============================] - 0s 4ms/step - loss: 6.0643 - lr: 1.4125e-06\n",
      "Epoch 45/100\n",
      "31/31 [==============================] - 0s 7ms/step - loss: 5.9685 - lr: 1.5849e-06\n",
      "Epoch 46/100\n",
      "31/31 [==============================] - 0s 3ms/step - loss: 5.7825 - lr: 1.7783e-06\n",
      "Epoch 47/100\n",
      "31/31 [==============================] - 0s 6ms/step - loss: 5.6517 - lr: 1.9953e-06\n",
      "Epoch 48/100\n",
      "31/31 [==============================] - 0s 4ms/step - loss: 5.4906 - lr: 2.2387e-06\n",
      "Epoch 49/100\n",
      "31/31 [==============================] - 0s 4ms/step - loss: 5.4245 - lr: 2.5119e-06\n",
      "Epoch 50/100\n",
      "31/31 [==============================] - 0s 4ms/step - loss: 5.3645 - lr: 2.8184e-06\n",
      "Epoch 51/100\n",
      "31/31 [==============================] - 0s 4ms/step - loss: 5.2989 - lr: 3.1623e-06\n",
      "Epoch 52/100\n",
      "31/31 [==============================] - 0s 4ms/step - loss: 5.2237 - lr: 3.5481e-06\n",
      "Epoch 53/100\n",
      "31/31 [==============================] - 0s 5ms/step - loss: 5.2916 - lr: 3.9811e-06\n",
      "Epoch 54/100\n",
      "31/31 [==============================] - 0s 10ms/step - loss: 5.1499 - lr: 4.4668e-06\n",
      "Epoch 55/100\n",
      "31/31 [==============================] - 0s 6ms/step - loss: 5.1700 - lr: 5.0119e-06\n",
      "Epoch 56/100\n",
      "31/31 [==============================] - 0s 4ms/step - loss: 5.2290 - lr: 5.6234e-06\n",
      "Epoch 57/100\n",
      "31/31 [==============================] - 0s 5ms/step - loss: 5.9683 - lr: 6.3096e-06\n",
      "Epoch 58/100\n",
      "31/31 [==============================] - 0s 5ms/step - loss: 5.4056 - lr: 7.0795e-06\n",
      "Epoch 59/100\n",
      "31/31 [==============================] - 0s 5ms/step - loss: 5.5268 - lr: 7.9433e-06\n",
      "Epoch 60/100\n",
      "31/31 [==============================] - 0s 7ms/step - loss: 5.2973 - lr: 8.9125e-06\n",
      "Epoch 61/100\n",
      "31/31 [==============================] - 0s 4ms/step - loss: 5.2256 - lr: 1.0000e-05\n",
      "Epoch 62/100\n",
      "31/31 [==============================] - 0s 6ms/step - loss: 5.4800 - lr: 1.1220e-05\n",
      "Epoch 63/100\n",
      "31/31 [==============================] - 0s 4ms/step - loss: 5.1619 - lr: 1.2589e-05\n",
      "Epoch 64/100\n",
      "31/31 [==============================] - 0s 5ms/step - loss: 5.8888 - lr: 1.4125e-05\n",
      "Epoch 65/100\n",
      "31/31 [==============================] - 0s 5ms/step - loss: 4.9682 - lr: 1.5849e-05\n",
      "Epoch 66/100\n",
      "31/31 [==============================] - 0s 5ms/step - loss: 5.2510 - lr: 1.7783e-05\n",
      "Epoch 67/100\n",
      "31/31 [==============================] - 0s 5ms/step - loss: 5.0826 - lr: 1.9953e-05\n",
      "Epoch 68/100\n",
      "31/31 [==============================] - 0s 5ms/step - loss: 5.9229 - lr: 2.2387e-05\n",
      "Epoch 69/100\n",
      "31/31 [==============================] - 0s 5ms/step - loss: 5.5345 - lr: 2.5119e-05\n",
      "Epoch 70/100\n",
      "31/31 [==============================] - 0s 4ms/step - loss: 5.4307 - lr: 2.8184e-05\n",
      "Epoch 71/100\n",
      "31/31 [==============================] - 0s 7ms/step - loss: 6.1471 - lr: 3.1623e-05\n",
      "Epoch 72/100\n",
      "31/31 [==============================] - 0s 7ms/step - loss: 5.6214 - lr: 3.5481e-05\n",
      "Epoch 73/100\n",
      "31/31 [==============================] - 0s 7ms/step - loss: 5.6013 - lr: 3.9811e-05\n",
      "Epoch 74/100\n",
      "31/31 [==============================] - 0s 6ms/step - loss: 5.3542 - lr: 4.4668e-05\n",
      "Epoch 75/100\n",
      "31/31 [==============================] - 0s 4ms/step - loss: 5.3055 - lr: 5.0119e-05\n",
      "Epoch 76/100\n",
      "31/31 [==============================] - 0s 4ms/step - loss: 5.3859 - lr: 5.6234e-05\n",
      "Epoch 77/100\n",
      "31/31 [==============================] - 0s 5ms/step - loss: 6.4589 - lr: 6.3096e-05\n",
      "Epoch 78/100\n",
      "31/31 [==============================] - 0s 5ms/step - loss: 5.3547 - lr: 7.0795e-05\n",
      "Epoch 79/100\n",
      "31/31 [==============================] - 0s 4ms/step - loss: 6.3472 - lr: 7.9433e-05\n",
      "Epoch 80/100\n",
      "31/31 [==============================] - 0s 4ms/step - loss: 6.4991 - lr: 8.9125e-05\n",
      "Epoch 81/100\n",
      "31/31 [==============================] - 0s 3ms/step - loss: 5.5755 - lr: 1.0000e-04\n",
      "Epoch 82/100\n",
      "31/31 [==============================] - 0s 5ms/step - loss: 7.6581 - lr: 1.1220e-04\n",
      "Epoch 83/100\n",
      "31/31 [==============================] - 0s 4ms/step - loss: 6.7823 - lr: 1.2589e-04\n",
      "Epoch 84/100\n",
      "31/31 [==============================] - 0s 5ms/step - loss: 5.8356 - lr: 1.4125e-04\n",
      "Epoch 85/100\n",
      "31/31 [==============================] - 0s 6ms/step - loss: 6.7473 - lr: 1.5849e-04\n",
      "Epoch 86/100\n",
      "31/31 [==============================] - 0s 6ms/step - loss: 6.6069 - lr: 1.7783e-04\n",
      "Epoch 87/100\n",
      "31/31 [==============================] - 0s 4ms/step - loss: 5.9414 - lr: 1.9953e-04\n",
      "Epoch 88/100\n",
      "31/31 [==============================] - 0s 6ms/step - loss: 7.1602 - lr: 2.2387e-04\n",
      "Epoch 89/100\n",
      "31/31 [==============================] - 0s 4ms/step - loss: 6.7919 - lr: 2.5119e-04\n",
      "Epoch 90/100\n",
      "31/31 [==============================] - 0s 5ms/step - loss: 8.8905 - lr: 2.8184e-04\n",
      "Epoch 91/100\n",
      "31/31 [==============================] - 0s 10ms/step - loss: 6.5749 - lr: 3.1623e-04\n",
      "Epoch 92/100\n",
      "31/31 [==============================] - 0s 5ms/step - loss: 13.0599 - lr: 3.5481e-04\n",
      "Epoch 93/100\n",
      "31/31 [==============================] - 0s 5ms/step - loss: 8.2712 - lr: 3.9811e-04\n",
      "Epoch 94/100\n",
      "31/31 [==============================] - 0s 5ms/step - loss: 7.7092 - lr: 4.4668e-04\n",
      "Epoch 95/100\n",
      "31/31 [==============================] - 0s 6ms/step - loss: 8.4541 - lr: 5.0119e-04\n",
      "Epoch 96/100\n",
      "31/31 [==============================] - 0s 5ms/step - loss: 9.2261 - lr: 5.6234e-04\n",
      "Epoch 97/100\n",
      "31/31 [==============================] - 0s 4ms/step - loss: 12.3353 - lr: 6.3096e-04\n",
      "Epoch 98/100\n",
      "31/31 [==============================] - 0s 5ms/step - loss: 11.2185 - lr: 7.0795e-04\n",
      "Epoch 99/100\n",
      "31/31 [==============================] - 0s 7ms/step - loss: 13.4590 - lr: 7.9433e-04\n",
      "Epoch 100/100\n",
      "31/31 [==============================] - 0s 5ms/step - loss: 13.0381 - lr: 8.9125e-04\n"
     ]
    }
   ],
   "source": [
    "# Definir o agendador de taxa de aprendizado\n",
    "lr_schedule = tf.keras.callbacks.LearningRateScheduler(\n",
    "    lambda epoch: 1e-8 * 10**(epoch / 20))\n",
    "\n",
    "# Inicializar o otimizador\n",
    "optimizer = tf.keras.optimizers.SGD(momentum=0.9)\n",
    "\n",
    "# Definir os parâmetros de treinamento\n",
    "model_tune.compile(loss=tf.keras.losses.Huber(), optimizer=optimizer)\n",
    "\n",
    "# Treinar o modelo\n",
    "history = model_tune.fit(dataset, epochs=100, callbacks=[lr_schedule])"
   ]
  },
  {
   "cell_type": "code",
   "execution_count": 10,
   "metadata": {
    "id": "AkBsrsXMzoWR"
   },
   "outputs": [
    {
     "data": {
      "text/plain": [
       "(1e-08, 0.001, 0.0, 30.0)"
      ]
     },
     "execution_count": 10,
     "metadata": {},
     "output_type": "execute_result"
    },
    {
     "data": {
      "image/png": "[encoded data removed]",
      "text/plain": [
       "<Figure size 1000x600 with 1 Axes>"
      ]
     },
     "metadata": {},
     "output_type": "display_data"
    }
   ],
   "source": [
    "# Definir a matriz de taxa de aprendizado\n",
    "lrs = 1e-8 * (10 ** (np.arange(100) / 20))\n",
    "\n",
    "# Definir o tamanho da figura\n",
    "plt.figure(figsize=(10, 6))\n",
    "\n",
    "# Definir a grade\n",
    "plt.grid(True)\n",
    "\n",
    "# Plotar a perda em escala logarítmica\n",
    "plt.semilogx(lrs, history.history[\"loss\"])\n",
    "\n",
    "# Aumentar o tamanho dos tickmarks\n",
    "plt.tick_params('both', length=10, width=1, which='both')\n",
    "# Definir os limites do gráfico\n",
    "plt.axis([1e-8, 1e-3, 0, 30])"
   ]
  },
  {
   "cell_type": "markdown",
   "metadata": {
    "id": "i-lKNp4pq_w8"
   },
   "source": [
    "## Treinar o modelo\n",
    "\n",
    "Em seguida, você pode continuar a treinar o modelo com a taxa de aprendizado escolhida. \n",
    "\n",
    "*Dica: ao fazer experimentos e executar diferentes iterações de um modelo, talvez você queira usar o método [`clear_session()`](https://www.tensorflow.org/api_docs/python/tf/keras/backend/clear_session) para organizar a memória usada pelo Keras. Isso é adicionado na primeira linha abaixo.*\n"
   ]
  },
  {
   "cell_type": "code",
   "execution_count": 11,
   "metadata": {
    "id": "4uh-97bpLZCA"
   },
   "outputs": [
    {
     "name": "stdout",
     "output_type": "stream",
     "text": [
      "Epoch 1/100\n",
      "31/31 [==============================] - 3s 4ms/step - loss: 15.0525 - mae: 15.5457\n",
      "Epoch 2/100\n",
      "31/31 [==============================] - 0s 4ms/step - loss: 9.0837 - mae: 9.5666\n",
      "Epoch 3/100\n"
     ]
    },
    {
     "name": "stderr",
     "output_type": "stream",
     "text": [
      "2024-04-13 12:56:21.203119: I tensorflow/core/framework/local_rendezvous.cc:421] Local rendezvous recv item cancelled. Key hash: 4692949217869808434\n"
     ]
    },
    {
     "name": "stdout",
     "output_type": "stream",
     "text": [
      "31/31 [==============================] - 0s 5ms/step - loss: 7.4429 - mae: 7.9228\n",
      "Epoch 4/100\n",
      "31/31 [==============================] - 0s 5ms/step - loss: 6.8442 - mae: 7.3278\n",
      "Epoch 5/100\n",
      "31/31 [==============================] - 0s 10ms/step - loss: 6.4883 - mae: 6.9685\n",
      "Epoch 6/100\n",
      "31/31 [==============================] - 0s 6ms/step - loss: 6.3028 - mae: 6.7846\n",
      "Epoch 7/100\n",
      "31/31 [==============================] - 0s 4ms/step - loss: 6.1694 - mae: 6.6507\n",
      "Epoch 8/100\n",
      "31/31 [==============================] - 0s 4ms/step - loss: 6.0305 - mae: 6.5091\n",
      "Epoch 9/100\n",
      "31/31 [==============================] - 0s 6ms/step - loss: 5.9457 - mae: 6.4244\n",
      "Epoch 10/100\n",
      "31/31 [==============================] - 0s 4ms/step - loss: 5.9127 - mae: 6.3926\n",
      "Epoch 11/100\n",
      "31/31 [==============================] - 0s 3ms/step - loss: 5.8468 - mae: 6.3278\n",
      "Epoch 12/100\n",
      "31/31 [==============================] - 0s 4ms/step - loss: 5.7612 - mae: 6.2400\n",
      "Epoch 13/100\n",
      "31/31 [==============================] - 0s 3ms/step - loss: 5.7356 - mae: 6.2148\n",
      "Epoch 14/100\n",
      "31/31 [==============================] - 0s 4ms/step - loss: 5.8342 - mae: 6.3098\n",
      "Epoch 15/100\n",
      "31/31 [==============================] - 0s 10ms/step - loss: 5.6645 - mae: 6.1431\n",
      "Epoch 16/100\n",
      "31/31 [==============================] - 0s 5ms/step - loss: 5.6518 - mae: 6.1304\n",
      "Epoch 17/100\n",
      "31/31 [==============================] - 0s 7ms/step - loss: 5.5906 - mae: 6.0678\n",
      "Epoch 18/100\n",
      "31/31 [==============================] - 0s 9ms/step - loss: 5.5508 - mae: 6.0292\n",
      "Epoch 19/100\n",
      "31/31 [==============================] - 0s 5ms/step - loss: 5.4936 - mae: 5.9718\n",
      "Epoch 20/100\n",
      "31/31 [==============================] - 0s 5ms/step - loss: 5.4660 - mae: 5.9447\n",
      "Epoch 21/100\n",
      "31/31 [==============================] - 0s 6ms/step - loss: 5.4396 - mae: 5.9146\n",
      "Epoch 22/100\n",
      "31/31 [==============================] - 0s 4ms/step - loss: 5.4031 - mae: 5.8800\n",
      "Epoch 23/100\n",
      "31/31 [==============================] - 0s 5ms/step - loss: 5.4166 - mae: 5.8928\n",
      "Epoch 24/100\n",
      "31/31 [==============================] - 0s 7ms/step - loss: 5.3566 - mae: 5.8372\n",
      "Epoch 25/100\n",
      "31/31 [==============================] - 0s 4ms/step - loss: 5.3283 - mae: 5.8066\n",
      "Epoch 26/100\n",
      "31/31 [==============================] - 0s 6ms/step - loss: 5.3022 - mae: 5.7764\n",
      "Epoch 27/100\n",
      "31/31 [==============================] - 0s 10ms/step - loss: 5.2994 - mae: 5.7786\n",
      "Epoch 28/100\n",
      "31/31 [==============================] - 0s 4ms/step - loss: 5.3583 - mae: 5.8367\n",
      "Epoch 29/100\n",
      "31/31 [==============================] - 0s 5ms/step - loss: 5.2299 - mae: 5.7095\n",
      "Epoch 30/100\n",
      "31/31 [==============================] - 0s 8ms/step - loss: 5.1983 - mae: 5.6740\n",
      "Epoch 31/100\n",
      "31/31 [==============================] - 0s 6ms/step - loss: 5.2293 - mae: 5.7076\n",
      "Epoch 32/100\n",
      "31/31 [==============================] - 0s 8ms/step - loss: 5.2154 - mae: 5.6952\n",
      "Epoch 33/100\n",
      "31/31 [==============================] - 0s 6ms/step - loss: 5.1833 - mae: 5.6611\n",
      "Epoch 34/100\n",
      "31/31 [==============================] - 0s 4ms/step - loss: 5.2108 - mae: 5.6882\n",
      "Epoch 35/100\n",
      "31/31 [==============================] - 0s 4ms/step - loss: 5.1231 - mae: 5.5984\n",
      "Epoch 36/100\n",
      "31/31 [==============================] - 0s 5ms/step - loss: 5.1103 - mae: 5.5883\n",
      "Epoch 37/100\n",
      "31/31 [==============================] - 0s 5ms/step - loss: 5.0837 - mae: 5.5608\n",
      "Epoch 38/100\n",
      "31/31 [==============================] - 0s 4ms/step - loss: 5.1335 - mae: 5.6084\n",
      "Epoch 39/100\n",
      "31/31 [==============================] - 0s 4ms/step - loss: 5.1006 - mae: 5.5735\n",
      "Epoch 40/100\n",
      "31/31 [==============================] - 0s 5ms/step - loss: 5.0947 - mae: 5.5730\n",
      "Epoch 41/100\n",
      "31/31 [==============================] - 0s 4ms/step - loss: 5.0500 - mae: 5.5319\n",
      "Epoch 42/100\n",
      "31/31 [==============================] - 0s 5ms/step - loss: 5.0513 - mae: 5.5293\n",
      "Epoch 43/100\n",
      "31/31 [==============================] - 0s 4ms/step - loss: 5.1097 - mae: 5.5846\n",
      "Epoch 44/100\n",
      "31/31 [==============================] - 0s 4ms/step - loss: 4.9893 - mae: 5.4651\n",
      "Epoch 45/100\n",
      "31/31 [==============================] - 0s 4ms/step - loss: 5.0988 - mae: 5.5736\n",
      "Epoch 46/100\n",
      "31/31 [==============================] - 0s 7ms/step - loss: 5.0103 - mae: 5.4878\n",
      "Epoch 47/100\n",
      "31/31 [==============================] - 0s 6ms/step - loss: 4.9502 - mae: 5.4220\n",
      "Epoch 48/100\n",
      "31/31 [==============================] - 0s 14ms/step - loss: 4.9965 - mae: 5.4745\n",
      "Epoch 49/100\n",
      "31/31 [==============================] - 0s 5ms/step - loss: 4.9780 - mae: 5.4556\n",
      "Epoch 50/100\n",
      "31/31 [==============================] - 0s 4ms/step - loss: 4.9773 - mae: 5.4577\n",
      "Epoch 51/100\n",
      "31/31 [==============================] - 0s 4ms/step - loss: 4.9064 - mae: 5.3809\n",
      "Epoch 52/100\n",
      "31/31 [==============================] - 0s 11ms/step - loss: 4.9198 - mae: 5.3956\n",
      "Epoch 53/100\n",
      "31/31 [==============================] - 0s 4ms/step - loss: 4.8638 - mae: 5.3407\n",
      "Epoch 54/100\n",
      "31/31 [==============================] - 0s 4ms/step - loss: 4.8785 - mae: 5.3575\n",
      "Epoch 55/100\n",
      "31/31 [==============================] - 0s 11ms/step - loss: 4.9381 - mae: 5.4125\n",
      "Epoch 56/100\n",
      "31/31 [==============================] - 0s 4ms/step - loss: 5.0401 - mae: 5.5169\n",
      "Epoch 57/100\n",
      "31/31 [==============================] - 0s 4ms/step - loss: 5.0105 - mae: 5.4858\n",
      "Epoch 58/100\n",
      "31/31 [==============================] - 0s 6ms/step - loss: 4.7890 - mae: 5.2636\n",
      "Epoch 59/100\n",
      "31/31 [==============================] - 0s 5ms/step - loss: 4.8572 - mae: 5.3317\n",
      "Epoch 60/100\n",
      "31/31 [==============================] - 0s 5ms/step - loss: 4.8150 - mae: 5.2924\n",
      "Epoch 61/100\n",
      "31/31 [==============================] - 0s 3ms/step - loss: 4.8635 - mae: 5.3410\n",
      "Epoch 62/100\n",
      "31/31 [==============================] - 0s 7ms/step - loss: 4.7871 - mae: 5.2640\n",
      "Epoch 63/100\n",
      "31/31 [==============================] - 0s 4ms/step - loss: 4.7843 - mae: 5.2594\n",
      "Epoch 64/100\n",
      "31/31 [==============================] - 0s 4ms/step - loss: 4.8237 - mae: 5.3022\n",
      "Epoch 65/100\n",
      "31/31 [==============================] - 0s 4ms/step - loss: 4.8256 - mae: 5.2995\n",
      "Epoch 66/100\n",
      "31/31 [==============================] - 0s 3ms/step - loss: 4.7728 - mae: 5.2509\n",
      "Epoch 67/100\n",
      "31/31 [==============================] - 0s 3ms/step - loss: 4.7210 - mae: 5.1972\n",
      "Epoch 68/100\n",
      "31/31 [==============================] - 0s 3ms/step - loss: 4.7486 - mae: 5.2289\n",
      "Epoch 69/100\n",
      "31/31 [==============================] - 0s 3ms/step - loss: 4.7442 - mae: 5.2216\n",
      "Epoch 70/100\n",
      "31/31 [==============================] - 0s 4ms/step - loss: 4.7246 - mae: 5.2001\n",
      "Epoch 71/100\n",
      "31/31 [==============================] - 0s 4ms/step - loss: 4.7153 - mae: 5.1922\n",
      "Epoch 72/100\n",
      "31/31 [==============================] - 0s 4ms/step - loss: 4.7153 - mae: 5.1905\n",
      "Epoch 73/100\n",
      "31/31 [==============================] - 0s 4ms/step - loss: 4.7989 - mae: 5.2785\n",
      "Epoch 74/100\n",
      "31/31 [==============================] - 0s 4ms/step - loss: 4.7856 - mae: 5.2615\n",
      "Epoch 75/100\n",
      "31/31 [==============================] - 0s 4ms/step - loss: 4.6692 - mae: 5.1454\n",
      "Epoch 76/100\n",
      "31/31 [==============================] - 0s 4ms/step - loss: 4.6755 - mae: 5.1493\n",
      "Epoch 77/100\n",
      "31/31 [==============================] - 0s 3ms/step - loss: 4.6523 - mae: 5.1247\n",
      "Epoch 78/100\n",
      "31/31 [==============================] - 0s 4ms/step - loss: 4.6836 - mae: 5.1582\n",
      "Epoch 79/100\n",
      "31/31 [==============================] - 0s 4ms/step - loss: 4.7630 - mae: 5.2389\n",
      "Epoch 80/100\n",
      "31/31 [==============================] - 0s 9ms/step - loss: 4.6906 - mae: 5.1666\n",
      "Epoch 81/100\n",
      "31/31 [==============================] - 0s 5ms/step - loss: 4.6964 - mae: 5.1685\n",
      "Epoch 82/100\n",
      "31/31 [==============================] - 0s 4ms/step - loss: 4.7003 - mae: 5.1779\n",
      "Epoch 83/100\n",
      "31/31 [==============================] - 0s 4ms/step - loss: 4.6557 - mae: 5.1324\n",
      "Epoch 84/100\n",
      "31/31 [==============================] - 0s 11ms/step - loss: 4.6376 - mae: 5.1111\n",
      "Epoch 85/100\n",
      "31/31 [==============================] - 0s 4ms/step - loss: 4.6607 - mae: 5.1347\n",
      "Epoch 86/100\n",
      "31/31 [==============================] - 0s 4ms/step - loss: 4.6782 - mae: 5.1526\n",
      "Epoch 87/100\n",
      "31/31 [==============================] - 0s 5ms/step - loss: 4.6035 - mae: 5.0764\n",
      "Epoch 88/100\n",
      "31/31 [==============================] - 0s 5ms/step - loss: 4.6993 - mae: 5.1769\n",
      "Epoch 89/100\n",
      "31/31 [==============================] - 0s 4ms/step - loss: 4.6189 - mae: 5.0916\n",
      "Epoch 90/100\n",
      "31/31 [==============================] - 0s 4ms/step - loss: 4.6283 - mae: 5.1046\n",
      "Epoch 91/100\n",
      "31/31 [==============================] - 0s 4ms/step - loss: 4.6876 - mae: 5.1615\n",
      "Epoch 92/100\n",
      "31/31 [==============================] - 0s 4ms/step - loss: 4.6091 - mae: 5.0845\n",
      "Epoch 93/100\n",
      "31/31 [==============================] - 0s 4ms/step - loss: 4.6304 - mae: 5.1084\n",
      "Epoch 94/100\n",
      "31/31 [==============================] - 0s 5ms/step - loss: 4.6185 - mae: 5.0970\n",
      "Epoch 95/100\n",
      "31/31 [==============================] - 0s 9ms/step - loss: 4.5721 - mae: 5.0476\n",
      "Epoch 96/100\n",
      "31/31 [==============================] - 0s 6ms/step - loss: 4.6469 - mae: 5.1247\n",
      "Epoch 97/100\n",
      "31/31 [==============================] - 0s 5ms/step - loss: 4.6285 - mae: 5.1033\n",
      "Epoch 98/100\n",
      "31/31 [==============================] - 0s 4ms/step - loss: 4.6834 - mae: 5.1602\n",
      "Epoch 99/100\n",
      "31/31 [==============================] - 0s 7ms/step - loss: 4.5559 - mae: 5.0343\n",
      "Epoch 100/100\n",
      "31/31 [==============================] - 0s 4ms/step - loss: 4.6004 - mae: 5.0740\n"
     ]
    }
   ],
   "source": [
    "# Redefinir estados gerados pelo Keras\n",
    "tf.keras.backend.clear_session()\n",
    "\n",
    "# Construir o modelo\n",
    "model = tf.keras.models.Sequential([\n",
    "  tf.keras.layers.Lambda(lambda x: tf.expand_dims(x, axis=-1),\n",
    "                      input_shape=[None]),\n",
    "   tf.keras.layers.Bidirectional(tf.keras.layers.LSTM(32, return_sequences=True)),\n",
    "  tf.keras.layers.Bidirectional(tf.keras.layers.LSTM(32)),\n",
    "  tf.keras.layers.Dense(1),\n",
    "  tf.keras.layers.Lambda(lambda x: x * 100.0)\n",
    "])\n",
    "\n",
    "# Definir a taxa de aprendizado\n",
    "learning_rate = 2e-6\n",
    "\n",
    "# Definir o otimizador \n",
    "optimizer = tf.keras.optimizers.SGD(learning_rate=learning_rate, momentum=0.9)\n",
    "\n",
    "# Definir os parâmetros de treinamento\n",
    "model.compile(loss=tf.keras.losses.Huber(),\n",
    "              optimizer=optimizer,\n",
    "              metrics=[\"mae\"])\n",
    "\n",
    "# Treinar o modelo\n",
    "history = model.fit(dataset,epochs=100)"
   ]
  },
  {
   "cell_type": "markdown",
   "metadata": {
    "id": "RjP4kbGiI7cw"
   },
   "source": [
    "## Previsão do modelo\n",
    "\n",
    "Em seguida, você gerará lotes de janelas para gerar previsões que se alinham com o conjunto de validação."
   ]
  },
  {
   "cell_type": "code",
   "execution_count": 12,
   "metadata": {
    "id": "QO8cfKwKBBG6"
   },
   "outputs": [],
   "source": [
    "def model_forecast(model, series, window_size, batch_size):\n",
    "    \"\"\"Usa um modelo de entrada para gerar previsões em janelas de dados\n",
    "\n",
    "    Args:\n",
    "      model (TF Keras Model) - modelo que aceita janelas de dados\n",
    "      series (array of float) - contém os valores da série temporal\n",
    "      window_size (int) - o número de etapas de tempo a serem incluídas na janela\n",
    "      batch_size (int) - o tamanho do lote\n",
    "\n",
    "    Retorna:\n",
    "      forecast (matriz numpy) - matriz que contém as previsões\n",
    "    \"\"\"\n",
    "\n",
    "    # Gerar um conjunto de dados TF a partir dos valores da série\n",
    "    dataset = tf.data.Dataset.from_tensor_slices(series)\n",
    "    \n",
    "    # Janela de dados, mas só pega aqueles com o tamanho especificado\n",
    "    dataset = dataset.window(window_size, shift=1, drop_remainder=True)\n",
    "\n",
    "    # Achatar as janelas, colocando seus elementos em um único lote\n",
    "    dataset = dataset.flat_map(lambda w: w.batch(window_size))\n",
    "    \n",
    "    # Criar lotes de janelas\n",
    "    dataset = dataset.batch(batch_size).prefetch(1)\n",
    "    \n",
    "    # Obter previsões em todo o conjunto de dados\n",
    "    forecast = model.predict(dataset)\n",
    "    \n",
    "    return forecast"
   ]
  },
  {
   "cell_type": "code",
   "execution_count": 13,
   "metadata": {
    "id": "_plB3UseBD8o"
   },
   "outputs": [
    {
     "name": "stdout",
     "output_type": "stream",
     "text": [
      "15/15 [==============================] - 1s 3ms/step\n"
     ]
    },
    {
     "name": "stderr",
     "output_type": "stream",
     "text": [
      "2024-04-13 12:56:41.758817: I tensorflow/core/framework/local_rendezvous.cc:421] Local rendezvous recv item cancelled. Key hash: 14958056623321551045\n"
     ]
    },
    {
     "data": {
      "image/png": "[encoded data removed]",
      "text/plain": [
       "<Figure size 1000x600 with 1 Axes>"
      ]
     },
     "metadata": {},
     "output_type": "display_data"
    }
   ],
   "source": [
    "# Reduzir a série original\n",
    "forecast_series = series[split_time-window_size:-1]\n",
    "\n",
    "# Use a função auxiliar para gerar previsões\n",
    "forecast = model_forecast(model, forecast_series, window_size, batch_size)\n",
    "\n",
    "# Retirar eixo unidimensional\n",
    "results = forecast.squeeze()\n",
    "\n",
    "# Plotar os resultados\n",
    "plot_series(time_valid, (x_valid, results))"
   ]
  },
  {
   "cell_type": "markdown",
   "metadata": {
    "id": "Nn8iSQkZtaRC"
   },
   "source": [
    "Em seguida, você pode gerar as métricas para avaliar o desempenho do modelo."
   ]
  },
  {
   "cell_type": "code",
   "execution_count": 14,
   "metadata": {
    "id": "-IKhueZaBGID"
   },
   "outputs": [
    {
     "name": "stdout",
     "output_type": "stream",
     "text": [
      "88.36643\n",
      "6.8350534\n"
     ]
    }
   ],
   "source": [
    "# Calcular o MSE e o MAE\n",
    "print(tf.keras.metrics.mean_squared_error(x_valid, results).numpy())\n",
    "print(tf.keras.metrics.mean_absolute_error(x_valid, results).numpy())"
   ]
  },
  {
   "cell_type": "markdown",
   "metadata": {
    "id": "U5PqTePGHeMH"
   },
   "source": [
    "## Inclusão de um conjunto de validação durante o treinamento\n",
    "\n",
    "Você já viu antes como também pode monitorar o desempenho do seu modelo em relação a um conjunto de validação durante o treinamento. Você também pode fazer isso neste laboratório. \n",
    "\n",
    "Primeiro, você precisa gerar um `val_set`, que são janelas de dados e rótulos que o modelo pode aceitar. Você pode simplesmente reutilizar a função `windowed_dataset` para isso e passar os pontos `x_valid` para gerar as janelas."
   ]
  },
  {
   "cell_type": "code",
   "execution_count": 15,
   "metadata": {
    "id": "kvFVwL3PC4iX"
   },
   "outputs": [],
   "source": [
    "# Gerar janelas de dados do conjunto de validação\n",
    "val_set = windowed_dataset(x_valid, window_size, batch_size, shuffle_buffer_size)"
   ]
  },
  {
   "cell_type": "markdown",
   "metadata": {
    "id": "p68j6XxEvP9K"
   },
   "source": [
    "Em seguida, você pode fazer o mesmo treinamento de antes, mas passar o `val_set` para o parâmetro `validation_data` do método `fit()`."
   ]
  },
  {
   "cell_type": "code",
   "execution_count": 16,
   "metadata": {
    "id": "wujKz6tXDSn0"
   },
   "outputs": [
    {
     "name": "stdout",
     "output_type": "stream",
     "text": [
      "Epoch 1/100\n",
      "     26/Unknown - 3s 4ms/step - loss: 15.7857 - mae: 16.2792"
     ]
    },
    {
     "name": "stderr",
     "output_type": "stream",
     "text": [
      "2024-04-13 12:56:45.404278: I tensorflow/core/framework/local_rendezvous.cc:421] Local rendezvous recv item cancelled. Key hash: 4692949217869808434\n"
     ]
    },
    {
     "name": "stdout",
     "output_type": "stream",
     "text": [
      "31/31 [==============================] - 4s 30ms/step - loss: 14.9076 - mae: 15.4017 - val_loss: 23.4786 - val_mae: 23.9776\n",
      "Epoch 2/100\n",
      "31/31 [==============================] - 0s 6ms/step - loss: 7.4846 - mae: 7.9709 - val_loss: 14.5053 - val_mae: 14.9973\n",
      "Epoch 3/100\n",
      "31/31 [==============================] - 0s 6ms/step - loss: 6.5209 - mae: 7.0043 - val_loss: 12.5968 - val_mae: 13.0878\n",
      "Epoch 4/100\n",
      "31/31 [==============================] - 0s 9ms/step - loss: 6.2190 - mae: 6.7019 - val_loss: 11.8050 - val_mae: 12.2945\n",
      "Epoch 5/100\n",
      "31/31 [==============================] - 0s 8ms/step - loss: 5.9801 - mae: 6.4615 - val_loss: 11.4854 - val_mae: 11.9799\n",
      "Epoch 6/100\n",
      "31/31 [==============================] - 0s 7ms/step - loss: 5.7869 - mae: 6.2631 - val_loss: 10.2725 - val_mae: 10.7587\n",
      "Epoch 7/100\n",
      "31/31 [==============================] - 0s 5ms/step - loss: 5.6419 - mae: 6.1242 - val_loss: 9.4993 - val_mae: 9.9865\n",
      "Epoch 8/100\n",
      "31/31 [==============================] - 0s 11ms/step - loss: 5.4783 - mae: 5.9555 - val_loss: 8.8668 - val_mae: 9.3526\n",
      "Epoch 9/100\n",
      "31/31 [==============================] - 0s 6ms/step - loss: 5.4615 - mae: 5.9379 - val_loss: 8.6791 - val_mae: 9.1600\n",
      "Epoch 10/100\n",
      "31/31 [==============================] - 0s 6ms/step - loss: 5.3359 - mae: 5.8128 - val_loss: 8.3304 - val_mae: 8.8141\n",
      "Epoch 11/100\n",
      "31/31 [==============================] - 0s 6ms/step - loss: 5.2362 - mae: 5.7145 - val_loss: 7.4453 - val_mae: 7.9321\n",
      "Epoch 12/100\n",
      "31/31 [==============================] - 0s 10ms/step - loss: 5.1182 - mae: 5.5951 - val_loss: 7.4975 - val_mae: 7.9801\n",
      "Epoch 13/100\n",
      "31/31 [==============================] - 0s 11ms/step - loss: 5.0886 - mae: 5.5641 - val_loss: 7.4037 - val_mae: 7.8847\n",
      "Epoch 14/100\n",
      "31/31 [==============================] - 0s 9ms/step - loss: 5.0666 - mae: 5.5401 - val_loss: 8.3607 - val_mae: 8.8499\n",
      "Epoch 15/100\n",
      "31/31 [==============================] - 0s 5ms/step - loss: 5.0359 - mae: 5.5117 - val_loss: 7.0119 - val_mae: 7.4960\n",
      "Epoch 16/100\n",
      "31/31 [==============================] - 0s 8ms/step - loss: 4.9403 - mae: 5.4197 - val_loss: 7.0525 - val_mae: 7.5351\n",
      "Epoch 17/100\n",
      "31/31 [==============================] - 0s 6ms/step - loss: 4.8890 - mae: 5.3645 - val_loss: 6.6328 - val_mae: 7.1145\n",
      "Epoch 18/100\n",
      "31/31 [==============================] - 0s 8ms/step - loss: 4.8272 - mae: 5.3034 - val_loss: 6.2269 - val_mae: 6.7106\n",
      "Epoch 19/100\n",
      "31/31 [==============================] - 0s 5ms/step - loss: 4.8768 - mae: 5.3519 - val_loss: 6.8691 - val_mae: 7.3507\n",
      "Epoch 20/100\n",
      "31/31 [==============================] - 0s 7ms/step - loss: 4.8608 - mae: 5.3384 - val_loss: 6.4672 - val_mae: 6.9484\n",
      "Epoch 21/100\n",
      "31/31 [==============================] - 0s 6ms/step - loss: 4.7283 - mae: 5.2048 - val_loss: 6.1128 - val_mae: 6.5949\n",
      "Epoch 22/100\n",
      "31/31 [==============================] - 0s 9ms/step - loss: 4.7240 - mae: 5.2030 - val_loss: 6.0924 - val_mae: 6.5728\n",
      "Epoch 23/100\n",
      "31/31 [==============================] - 0s 6ms/step - loss: 4.6953 - mae: 5.1730 - val_loss: 6.0352 - val_mae: 6.5154\n",
      "Epoch 24/100\n",
      "31/31 [==============================] - 0s 7ms/step - loss: 4.6683 - mae: 5.1460 - val_loss: 6.0468 - val_mae: 6.5268\n",
      "Epoch 25/100\n",
      "31/31 [==============================] - 0s 9ms/step - loss: 4.6559 - mae: 5.1326 - val_loss: 6.1892 - val_mae: 6.6696\n",
      "Epoch 26/100\n",
      "31/31 [==============================] - 0s 8ms/step - loss: 4.6344 - mae: 5.1104 - val_loss: 6.0360 - val_mae: 6.5157\n",
      "Epoch 27/100\n",
      "31/31 [==============================] - 0s 11ms/step - loss: 4.6380 - mae: 5.1125 - val_loss: 6.0742 - val_mae: 6.5534\n",
      "Epoch 28/100\n",
      "31/31 [==============================] - 0s 7ms/step - loss: 4.6393 - mae: 5.1157 - val_loss: 5.6539 - val_mae: 6.1376\n",
      "Epoch 29/100\n",
      "31/31 [==============================] - 0s 6ms/step - loss: 4.6151 - mae: 5.0940 - val_loss: 5.7641 - val_mae: 6.2454\n",
      "Epoch 30/100\n",
      "31/31 [==============================] - 0s 8ms/step - loss: 4.6163 - mae: 5.0932 - val_loss: 6.3688 - val_mae: 6.8475\n",
      "Epoch 31/100\n",
      "31/31 [==============================] - 0s 7ms/step - loss: 4.6512 - mae: 5.1246 - val_loss: 5.8015 - val_mae: 6.2801\n",
      "Epoch 32/100\n",
      "31/31 [==============================] - 0s 8ms/step - loss: 4.5779 - mae: 5.0542 - val_loss: 6.1178 - val_mae: 6.5981\n",
      "Epoch 33/100\n",
      "31/31 [==============================] - 0s 6ms/step - loss: 4.5514 - mae: 5.0290 - val_loss: 6.0476 - val_mae: 6.5284\n",
      "Epoch 34/100\n",
      "31/31 [==============================] - 0s 5ms/step - loss: 4.5616 - mae: 5.0391 - val_loss: 5.6243 - val_mae: 6.1088\n",
      "Epoch 35/100\n",
      "31/31 [==============================] - 0s 5ms/step - loss: 4.5354 - mae: 5.0146 - val_loss: 5.5843 - val_mae: 6.0680\n",
      "Epoch 36/100\n",
      "31/31 [==============================] - 0s 6ms/step - loss: 4.5503 - mae: 5.0240 - val_loss: 5.9711 - val_mae: 6.4527\n",
      "Epoch 37/100\n",
      "31/31 [==============================] - 0s 7ms/step - loss: 4.5311 - mae: 5.0041 - val_loss: 5.7003 - val_mae: 6.1786\n",
      "Epoch 38/100\n",
      "31/31 [==============================] - 0s 6ms/step - loss: 4.4907 - mae: 4.9636 - val_loss: 5.3015 - val_mae: 5.7813\n",
      "Epoch 39/100\n",
      "31/31 [==============================] - 0s 5ms/step - loss: 4.5264 - mae: 4.9999 - val_loss: 6.1824 - val_mae: 6.6602\n",
      "Epoch 40/100\n",
      "31/31 [==============================] - 0s 5ms/step - loss: 4.5733 - mae: 5.0489 - val_loss: 5.2486 - val_mae: 5.7267\n",
      "Epoch 41/100\n",
      "31/31 [==============================] - 0s 6ms/step - loss: 4.4802 - mae: 4.9561 - val_loss: 6.1477 - val_mae: 6.6247\n",
      "Epoch 42/100\n",
      "31/31 [==============================] - 0s 6ms/step - loss: 4.5981 - mae: 5.0736 - val_loss: 5.8278 - val_mae: 6.3081\n",
      "Epoch 43/100\n",
      "31/31 [==============================] - 0s 7ms/step - loss: 4.6097 - mae: 5.0850 - val_loss: 5.5458 - val_mae: 6.0299\n",
      "Epoch 44/100\n",
      "31/31 [==============================] - 0s 7ms/step - loss: 4.4713 - mae: 4.9455 - val_loss: 6.4340 - val_mae: 6.9133\n",
      "Epoch 45/100\n",
      "31/31 [==============================] - 0s 7ms/step - loss: 4.4635 - mae: 4.9384 - val_loss: 5.1478 - val_mae: 5.6211\n",
      "Epoch 46/100\n",
      "31/31 [==============================] - 0s 6ms/step - loss: 4.4642 - mae: 4.9376 - val_loss: 6.4280 - val_mae: 6.9074\n",
      "Epoch 47/100\n",
      "31/31 [==============================] - 0s 7ms/step - loss: 4.5231 - mae: 4.9989 - val_loss: 5.4532 - val_mae: 5.9389\n",
      "Epoch 48/100\n",
      "31/31 [==============================] - 0s 7ms/step - loss: 4.4784 - mae: 4.9566 - val_loss: 5.2234 - val_mae: 5.7029\n",
      "Epoch 49/100\n",
      "31/31 [==============================] - 0s 5ms/step - loss: 4.5257 - mae: 5.0029 - val_loss: 5.6800 - val_mae: 6.1612\n",
      "Epoch 50/100\n",
      "31/31 [==============================] - 0s 8ms/step - loss: 4.6092 - mae: 5.0862 - val_loss: 5.2531 - val_mae: 5.7329\n",
      "Epoch 51/100\n",
      "31/31 [==============================] - 0s 7ms/step - loss: 4.4951 - mae: 4.9718 - val_loss: 5.2278 - val_mae: 5.7069\n",
      "Epoch 52/100\n",
      "31/31 [==============================] - 0s 6ms/step - loss: 4.4927 - mae: 4.9728 - val_loss: 5.2008 - val_mae: 5.6802\n",
      "Epoch 53/100\n",
      "31/31 [==============================] - 0s 7ms/step - loss: 4.4632 - mae: 4.9393 - val_loss: 5.6667 - val_mae: 6.1491\n",
      "Epoch 54/100\n",
      "31/31 [==============================] - 0s 7ms/step - loss: 4.4185 - mae: 4.8950 - val_loss: 5.6528 - val_mae: 6.1340\n",
      "Epoch 55/100\n",
      "31/31 [==============================] - 0s 6ms/step - loss: 4.4782 - mae: 4.9563 - val_loss: 6.1389 - val_mae: 6.6159\n",
      "Epoch 56/100\n",
      "31/31 [==============================] - 0s 8ms/step - loss: 4.4848 - mae: 4.9616 - val_loss: 5.8150 - val_mae: 6.2956\n",
      "Epoch 57/100\n",
      "31/31 [==============================] - 0s 6ms/step - loss: 4.4647 - mae: 4.9397 - val_loss: 5.4679 - val_mae: 5.9502\n",
      "Epoch 58/100\n",
      "31/31 [==============================] - 0s 8ms/step - loss: 4.4621 - mae: 4.9416 - val_loss: 5.3663 - val_mae: 5.8510\n",
      "Epoch 59/100\n",
      "31/31 [==============================] - 0s 6ms/step - loss: 4.4164 - mae: 4.8924 - val_loss: 5.0770 - val_mae: 5.5517\n",
      "Epoch 60/100\n",
      "31/31 [==============================] - 0s 7ms/step - loss: 4.4805 - mae: 4.9583 - val_loss: 5.5566 - val_mae: 6.0388\n",
      "Epoch 61/100\n",
      "31/31 [==============================] - 0s 7ms/step - loss: 4.4780 - mae: 4.9488 - val_loss: 5.7564 - val_mae: 6.2360\n",
      "Epoch 62/100\n",
      "31/31 [==============================] - 0s 6ms/step - loss: 4.4773 - mae: 4.9461 - val_loss: 6.2665 - val_mae: 6.7438\n",
      "Epoch 63/100\n",
      "31/31 [==============================] - 0s 6ms/step - loss: 4.3971 - mae: 4.8754 - val_loss: 5.1775 - val_mae: 5.6561\n",
      "Epoch 64/100\n",
      "31/31 [==============================] - 0s 6ms/step - loss: 4.4027 - mae: 4.8785 - val_loss: 5.6392 - val_mae: 6.1213\n",
      "Epoch 65/100\n",
      "31/31 [==============================] - 0s 6ms/step - loss: 4.4265 - mae: 4.9050 - val_loss: 5.0577 - val_mae: 5.5358\n",
      "Epoch 66/100\n",
      "31/31 [==============================] - 0s 6ms/step - loss: 4.4068 - mae: 4.8829 - val_loss: 5.2362 - val_mae: 5.7187\n",
      "Epoch 67/100\n",
      "31/31 [==============================] - 0s 7ms/step - loss: 4.4276 - mae: 4.9045 - val_loss: 5.7251 - val_mae: 6.2067\n",
      "Epoch 68/100\n",
      "31/31 [==============================] - 0s 5ms/step - loss: 4.3986 - mae: 4.8728 - val_loss: 5.7901 - val_mae: 6.2725\n",
      "Epoch 69/100\n",
      "31/31 [==============================] - 0s 6ms/step - loss: 4.4320 - mae: 4.9083 - val_loss: 5.0430 - val_mae: 5.5214\n",
      "Epoch 70/100\n",
      "31/31 [==============================] - 0s 6ms/step - loss: 4.5699 - mae: 5.0496 - val_loss: 5.0978 - val_mae: 5.5812\n",
      "Epoch 71/100\n",
      "31/31 [==============================] - 0s 7ms/step - loss: 4.5283 - mae: 5.0059 - val_loss: 5.0907 - val_mae: 5.5673\n",
      "Epoch 72/100\n",
      "31/31 [==============================] - 0s 7ms/step - loss: 4.4335 - mae: 4.9105 - val_loss: 5.4637 - val_mae: 5.9464\n",
      "Epoch 73/100\n",
      "31/31 [==============================] - 0s 10ms/step - loss: 4.4325 - mae: 4.9128 - val_loss: 5.3091 - val_mae: 5.7919\n",
      "Epoch 74/100\n",
      "31/31 [==============================] - 0s 7ms/step - loss: 4.4730 - mae: 4.9467 - val_loss: 5.3256 - val_mae: 5.8089\n",
      "Epoch 75/100\n",
      "31/31 [==============================] - 0s 7ms/step - loss: 4.4684 - mae: 4.9419 - val_loss: 5.0072 - val_mae: 5.4831\n",
      "Epoch 76/100\n",
      "31/31 [==============================] - 0s 10ms/step - loss: 4.4163 - mae: 4.8938 - val_loss: 5.1824 - val_mae: 5.6624\n",
      "Epoch 77/100\n",
      "31/31 [==============================] - 0s 6ms/step - loss: 4.4171 - mae: 4.8903 - val_loss: 5.6913 - val_mae: 6.1731\n",
      "Epoch 78/100\n",
      "31/31 [==============================] - 0s 13ms/step - loss: 4.4519 - mae: 4.9307 - val_loss: 5.0121 - val_mae: 5.4898\n",
      "Epoch 79/100\n",
      "31/31 [==============================] - 0s 5ms/step - loss: 4.4513 - mae: 4.9241 - val_loss: 4.9756 - val_mae: 5.4504\n",
      "Epoch 80/100\n",
      "31/31 [==============================] - 0s 5ms/step - loss: 4.5326 - mae: 5.0140 - val_loss: 4.9578 - val_mae: 5.4312\n",
      "Epoch 81/100\n",
      "31/31 [==============================] - 0s 8ms/step - loss: 4.4282 - mae: 4.9056 - val_loss: 5.1060 - val_mae: 5.5827\n",
      "Epoch 82/100\n",
      "31/31 [==============================] - 0s 10ms/step - loss: 4.3878 - mae: 4.8636 - val_loss: 5.7357 - val_mae: 6.2179\n",
      "Epoch 83/100\n",
      "31/31 [==============================] - 0s 7ms/step - loss: 4.4223 - mae: 4.8990 - val_loss: 5.9223 - val_mae: 6.3999\n",
      "Epoch 84/100\n",
      "31/31 [==============================] - 0s 7ms/step - loss: 4.4950 - mae: 4.9726 - val_loss: 6.0357 - val_mae: 6.5124\n",
      "Epoch 85/100\n",
      "31/31 [==============================] - 0s 5ms/step - loss: 4.3955 - mae: 4.8734 - val_loss: 5.3126 - val_mae: 5.7948\n",
      "Epoch 86/100\n",
      "31/31 [==============================] - 0s 6ms/step - loss: 4.3765 - mae: 4.8534 - val_loss: 5.6598 - val_mae: 6.1418\n",
      "Epoch 87/100\n",
      "31/31 [==============================] - 0s 9ms/step - loss: 4.4036 - mae: 4.8781 - val_loss: 5.0849 - val_mae: 5.5628\n",
      "Epoch 88/100\n",
      "31/31 [==============================] - 0s 7ms/step - loss: 4.3385 - mae: 4.8158 - val_loss: 5.4616 - val_mae: 5.9445\n",
      "Epoch 89/100\n",
      "31/31 [==============================] - 0s 8ms/step - loss: 4.3576 - mae: 4.8347 - val_loss: 5.3719 - val_mae: 5.8541\n",
      "Epoch 90/100\n",
      "31/31 [==============================] - 0s 8ms/step - loss: 4.3641 - mae: 4.8395 - val_loss: 5.0198 - val_mae: 5.4981\n",
      "Epoch 91/100\n",
      "31/31 [==============================] - 0s 7ms/step - loss: 4.3544 - mae: 4.8280 - val_loss: 5.3773 - val_mae: 5.8595\n",
      "Epoch 92/100\n",
      "31/31 [==============================] - 0s 6ms/step - loss: 4.3827 - mae: 4.8573 - val_loss: 5.2244 - val_mae: 5.7055\n",
      "Epoch 93/100\n",
      "31/31 [==============================] - 0s 10ms/step - loss: 4.3755 - mae: 4.8505 - val_loss: 5.1066 - val_mae: 5.5880\n",
      "Epoch 94/100\n",
      "31/31 [==============================] - 0s 12ms/step - loss: 4.3903 - mae: 4.8690 - val_loss: 6.0151 - val_mae: 6.4925\n",
      "Epoch 95/100\n",
      "31/31 [==============================] - 0s 12ms/step - loss: 4.3989 - mae: 4.8779 - val_loss: 5.1189 - val_mae: 5.5985\n",
      "Epoch 96/100\n",
      "31/31 [==============================] - 0s 6ms/step - loss: 4.3613 - mae: 4.8342 - val_loss: 4.9124 - val_mae: 5.3863\n",
      "Epoch 97/100\n",
      "31/31 [==============================] - 0s 8ms/step - loss: 4.4360 - mae: 4.9114 - val_loss: 5.2794 - val_mae: 5.7597\n",
      "Epoch 98/100\n",
      "31/31 [==============================] - 0s 7ms/step - loss: 4.4052 - mae: 4.8776 - val_loss: 6.1750 - val_mae: 6.6508\n",
      "Epoch 99/100\n",
      "31/31 [==============================] - 0s 12ms/step - loss: 4.4600 - mae: 4.9343 - val_loss: 5.1880 - val_mae: 5.6694\n",
      "Epoch 100/100\n",
      "31/31 [==============================] - 0s 5ms/step - loss: 4.3607 - mae: 4.8360 - val_loss: 5.1300 - val_mae: 5.6101\n"
     ]
    }
   ],
   "source": [
    "# Redefinir estados gerados pelo Keras\n",
    "tf.keras.backend.clear_session()\n",
    "\n",
    "# Construir o modelo\n",
    "model = tf.keras.models.Sequential([\n",
    "  tf.keras.layers.Lambda(lambda x: tf.expand_dims(x, axis=-1),\n",
    "                      input_shape=[None]),\n",
    "   tf.keras.layers.Bidirectional(tf.keras.layers.LSTM(32, return_sequences=True)),\n",
    "  tf.keras.layers.Bidirectional(tf.keras.layers.LSTM(32)),\n",
    "  tf.keras.layers.Dense(1),\n",
    "  tf.keras.layers.Lambda(lambda x: x * 100.0)\n",
    "])\n",
    "\n",
    "# Definir a taxa de aprendizado\n",
    "learning_rate = 2e-6\n",
    "\n",
    "# Definir o otimizador \n",
    "optimizer = tf.keras.optimizers.SGD(learning_rate=learning_rate, momentum=0.9)\n",
    "\n",
    "# Definir os parâmetros de treinamento\n",
    "model.compile(loss=tf.keras.losses.Huber(),\n",
    "              optimizer=optimizer,\n",
    "              metrics=[\"mae\"])\n",
    "\n",
    "# Treine o modelo\n",
    "history = model.fit(dataset,epochs=100, validation_data=val_set)"
   ]
  },
  {
   "cell_type": "markdown",
   "metadata": {
    "id": "bzPIqeMWvbPy"
   },
   "source": [
    "## Conclusão\n",
    "\n",
    "Isso conclui este breve exercício sobre o uso de LSTMs para previsão de séries temporais.\n",
    "\n",
    "Nos próximos laboratórios você se baseará nisso e adicionará convoluções.\n",
    "\n",
    "Em seguida, você começará a se afastar dos dados sintéticos e a usar conjuntos de dados do mundo real!"
   ]
  }
 ],
 "metadata": {
  "accelerator": "GPU",
  "colab": {
   "collapsed_sections": [],
   "name": "C4_W3_Lab_2_LSTM.ipynb",
   "private_outputs": true,
   "provenance": []
  },
  "kernelspec": {
   "display_name": "Python 3 (ipykernel)",
   "language": "python",
   "name": "python3"
  },
  "language_info": {
   "codemirror_mode": {
    "name": "ipython",
    "version": 3
   },
   "file_extension": ".py",
   "mimetype": "text/x-python",
   "name": "python",
   "nbconvert_exporter": "python",
   "pygments_lexer": "ipython3",
   "version": "3.11.0rc1"
  }
 },
 "nbformat": 4,
 "nbformat_minor": 1
}
