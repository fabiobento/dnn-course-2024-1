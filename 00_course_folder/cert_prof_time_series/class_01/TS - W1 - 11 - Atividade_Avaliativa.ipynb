{
 "cells": [
  {
   "cell_type": "markdown",
   "id": "caf5be9d",
   "metadata": {},
   "source": [
    "<a href=\"https://colab.research.google.com/github/fabiobento/dnn-course-2024-1/blob/main/00_course_folder/cert_prof_time_series/class_01/TS%20-%20W1%20-%2011%20-%20Atividade_Avaliativa.ipynb\" target=\"_parent\"><img src=\"https://colab.research.google.com/assets/colab-badge.svg\" alt=\"Open In Colab\"/></a>"
   ]
  },
  {
   "cell_type": "markdown",
   "id": "366df394",
   "metadata": {},
   "source": [
    "adaptado de [Certificado Profissional Desenvolvedor do TensorFlow](https://www.coursera.org/professional-certificates/tensorflow-in-practice) de [Laurence Moroney](https://laurencemoroney.com/)"
   ]
  },
  {
   "cell_type": "markdown",
   "id": "82415abd",
   "metadata": {
    "id": "SBoMk_Knl-D0"
   },
   "source": [
    "# Laboratório Prático: Trabalhando com Séries Temporais\n",
    "\n",
    "Bem-vindo! Nesta tarefa, você trabalhará com dados de séries temporais.\n",
    "\n",
    "Todos os dados serão gerados(sintéticos) e você implementará várias funções para\n",
    "* dividir os dados,\n",
    "* criar previsões e\n",
    "* avaliar a qualidade dessas previsões.\n",
    "\n",
    "\n",
    "Vamos começar!"
   ]
  },
  {
   "cell_type": "code",
   "execution_count": null,
   "id": "1eb47cc8",
   "metadata": {},
   "outputs": [],
   "source": [
    "# Baixar arquivos adicionais para o laboratório\n",
    "!wget https://github.com/fabiobento/dnn-course-2024-1/raw/main/00_course_folder/ml_intro/class_02/5%20-%20Atividade%20Avaliativa%20-%20Regress%C3%A3o%20Linear/lab_utils_ml_intro_assig_week_2.zip\n",
    "!unzip -n -q lab_utils_ml_intro_assig_week_2.zip"
   ]
  },
  {
   "cell_type": "code",
   "execution_count": null,
   "id": "cbcea2e3",
   "metadata": {
    "id": "t9HrvPfrSlzS"
   },
   "outputs": [],
   "source": [
    "import numpy as np\n",
    "import tensorflow as tf\n",
    "from tensorflow import keras\n",
    "import matplotlib.pyplot as plt"
   ]
  },
  {
   "cell_type": "markdown",
   "id": "d30b4076",
   "metadata": {
    "id": "I-FvRlT_pzdB"
   },
   "source": [
    "A próxima célula inclui várias funções auxiliares para gerar e plotar a série temporal:"
   ]
  },
  {
   "cell_type": "code",
   "execution_count": null,
   "id": "a239bb23",
   "metadata": {
    "id": "ypWIppX9NlSy"
   },
   "outputs": [],
   "source": [
    "def trend(time, slope=0):\n",
    "    \"\"\"Uma tendência ao longo do tempo\"\"\"\n",
    "    return slope * time\n",
    "\n",
    "def seasonal_pattern(season_time):\n",
    "    \"\"\"Apenas um padrão arbitrário\"\"\"\n",
    "    return np.where(season_time < 0.1,\n",
    "                    np.cos(season_time * 7 * np.pi),\n",
    "                    1 / np.exp(5 * season_time))\n",
    "\n",
    "\n",
    "def seasonality(time, period, amplitude=1, phase=0):\n",
    "    \"\"\"Repete o mesmo padrão em cada período\"\"\"\n",
    "    season_time = ((time + phase) % period) / period\n",
    "    return amplitude * seasonal_pattern(season_time)\n",
    "\n",
    "\n",
    "def noise(time, noise_level=1, seed=None):\n",
    "    \"\"\"Adiciona ruído à série\"\"\"\n",
    "    rnd = np.random.RandomState(seed)\n",
    "    return rnd.randn(len(time)) * noise_level\n",
    "\n",
    "\n",
    "def plot_series(time, series, format=\"-\", title=\"\", label=None, start=0, end=None):\n",
    "    \"\"\"Plotar a série\"\"\"\n",
    "    plt.plot(time[start:end], series[start:end], format, label=label)\n",
    "    plt.xlabel(\"Tempo\")\n",
    "    plt.ylabel(\"Valor\")\n",
    "    plt.title(title)\n",
    "    if label:\n",
    "        plt.legend()\n",
    "    plt.grid(True)"
   ]
  },
  {
   "cell_type": "markdown",
   "id": "666ef691",
   "metadata": {},
   "source": [
    "## Gerar dados de série temporal\n",
    "\n",
    "Usando as funções anteriores, gere dados que se assemelhem a uma série temporal da vida real.\n",
    "\n",
    "Observe que `TIME` representa os valores na coordenada x, enquanto `SERIES` representa os valores na coordenada y. Essa nomenclatura é usada para evitar confusão com outros tipos de dados nos quais `x` e `y` têm significados diferentes."
   ]
  },
  {
   "cell_type": "code",
   "execution_count": null,
   "id": "b4f1bace",
   "metadata": {
    "colab": {
     "base_uri": "https://localhost:8080/",
     "height": 388
    },
    "id": "urmjv7nzsP-h",
    "outputId": "43d6ca86-e23a-4039-b1b2-fb68585b9355"
   },
   "outputs": [],
   "source": [
    "# A dimensão de tempo ou a coordenada x da série temporal\n",
    "TIME = np.arange(4 * 365 + 1, dtype=\"float32\")\n",
    "\n",
    "# A série inicial é apenas uma linha reta com uma interceptação y\n",
    "y_intercept = 10\n",
    "slope = 0.01\n",
    "SERIES = trend(TIME, slope) + y_intercept\n",
    "\n",
    "# Adição de sazonalidade\n",
    "amplitude = 40\n",
    "SERIES += seasonality(TIME, period=365, amplitude=amplitude)\n",
    "\n",
    "# Adicionando algum ruído\n",
    "noise_level = 2\n",
    "SERIES += noise(TIME, noise_level, seed=42)\n",
    "\n",
    "# Plotar a série\n",
    "plt.figure(figsize=(10, 6))\n",
    "plot_series(TIME, SERIES)\n",
    "plt.show()"
   ]
  },
  {
   "cell_type": "markdown",
   "id": "99f9a90e",
   "metadata": {
    "id": "UfdyqJJ1VZVu"
   },
   "source": [
    "Agora que temos a série temporal, vamos dividi-la para que possamos iniciar a previsão.\n",
    "\n",
    "Preencha a função `train_val_split` abaixo, que recebe os dados `time` (coordenada x) e `series` (coordenada y) juntamente com o `time_step` no qual a divisão deve ser realizada. Observe que o padrão desse valor é 1100, pois essa é uma etapa apropriada para dividir a série em treinamento e validação:"
   ]
  },
  {
   "cell_type": "code",
   "execution_count": null,
   "id": "4ce90a9a",
   "metadata": {
    "id": "utk866FUZEjU"
   },
   "outputs": [],
   "source": [
    "# Definir a etapa de tempo para dividir a série\n",
    "SPLIT_TIME = 1100\n",
    "\n",
    "def train_val_split(time, series, time_step=SPLIT_TIME):\n",
    "\n",
    "    ### INICIE SEU CÓDIGO AQUI\n",
    "    time_train = None\n",
    "    series_train = None\n",
    "    time_valid = None\n",
    "    series_valid = None\n",
    "    ### TERMINE SEU CÓDIGO AQUI\n",
    "\n",
    "    return time_train, series_train, time_valid, series_valid"
   ]
  },
  {
   "cell_type": "code",
   "execution_count": null,
   "id": "ef01941d",
   "metadata": {
    "colab": {
     "base_uri": "https://localhost:8080/",
     "height": 759
    },
    "id": "gwwAas-sYMLN",
    "outputId": "55fcf156-416f-40a8-f59f-c350ce65b43d"
   },
   "outputs": [],
   "source": [
    "# Teste sua função\n",
    "time_train, series_train, time_valid, series_valid = train_val_split(TIME, SERIES)\n",
    "\n",
    "plt.figure(figsize=(10, 6))\n",
    "plot_series(time_train, series_train, title=\"Treino\")\n",
    "plt.show()\n",
    "\n",
    "plt.figure(figsize=(10, 6))\n",
    "plot_series(time_valid, series_valid, title=\"Validação\")\n",
    "plt.show()"
   ]
  },
  {
   "cell_type": "markdown",
   "id": "c4142d2e",
   "metadata": {},
   "source": [
    "**Saída Esperada:**\n",
    "\n",
    "<table><tr><td><img src='images/train_series.png'></td><td><img src='images/val_series.png'></td></tr></table>"
   ]
  },
  {
   "cell_type": "markdown",
   "id": "5538fbf7",
   "metadata": {},
   "source": [
    "## Métricas de avaliação\n",
    "\n",
    "Agora que você dividiu com sucesso os dados em conjuntos de treinamento e validação, precisará de uma maneira de saber se suas previsões são boas. Para isso, execute a função `compute_metrics` abaixo. Essa função recebe a série verdadeira e a previsão e retorna o `mse` e o `mae` entre as duas curvas. Essas métricas devem ser do tipo numérico numpy. \n",
    "\n",
    "**Observe que essa função não recebe nenhum dado de tempo (coordenada x), pois assume que ambas as séries terão os mesmos valores para a coordenada x.**"
   ]
  },
  {
   "cell_type": "code",
   "execution_count": null,
   "id": "7f4a7fb5",
   "metadata": {
    "id": "2bzRtn779WoJ"
   },
   "outputs": [],
   "source": [
    "def compute_metrics(true_series, forecast):\n",
    "    \n",
    "    ### INICIE SEU CÓDIGO AQUI\n",
    "    mse = None\n",
    "    mae = None\n",
    "    ### TERMINE SEU CÓDIGO AQUI\n",
    "\n",
    "    return mse, mae"
   ]
  },
  {
   "cell_type": "code",
   "execution_count": null,
   "id": "bc45b320",
   "metadata": {
    "colab": {
     "base_uri": "https://localhost:8080/"
    },
    "id": "Hv9xAPhvxbJD",
    "outputId": "37931ee0-ef56-4fa4-bfb6-6287b20dd08f"
   },
   "outputs": [],
   "source": [
    "# Teste sua função\n",
    "\n",
    "# Defina uma série de dados fictícios para teste\n",
    "zeros = np.zeros(5)\n",
    "ones = np.ones(5)\n",
    "\n",
    "mse, mae = compute_metrics(zeros, ones)\n",
    "print(f\"mse: {mse}, mae: {mae} para séries de zeros e previsão de uns\\n\")\n",
    "\n",
    "mse, mae = compute_metrics(ones, ones)\n",
    "print(f\"mse: {mse}, mae: {mae} para séries de uns e previsão de uns\\n\")\n",
    "\n",
    "print(f\"metrics are numpy numeric types: {np.issubdtype(type(mse), np.number)}\")"
   ]
  },
  {
   "cell_type": "markdown",
   "id": "d911306b",
   "metadata": {},
   "source": [
    "**Saída Esperada:**\n",
    "\n",
    "```\n",
    "mse: 1.0, mae: 1.0 para séries de zeros e previsão de uns\n",
    "\n",
    "mse: 0.0, mae: 0.0 para séries de uns e previsão de uns\n",
    "\n",
    "as métricas são tipos numéricos numpy: True\n",
    "```"
   ]
  },
  {
   "cell_type": "markdown",
   "id": "59dd9c9e",
   "metadata": {
    "id": "bjD8ncEZbjEW"
   },
   "source": [
    "# Previsão\n",
    "\n",
    "Agora que você tem uma maneira de medir o desempenho de suas previsões, é hora de começar a fazer algumas previsões.\n",
    "\n",
    "Vamos começar de forma simples, usando uma previsão ingênua.\n",
    "\n",
    "## Previsão ingênua\n",
    "\n",
    "Defina a variável `naive_forecast` abaixo. Essa série deve ser idêntica à de validação, mas atrasada em um passo de tempo. Ela também recebe a etapa de tempo dividida da série para facilitar o cálculo da série atrasada.\n",
    "\n",
    "**Observe que essa série deve deixar de fora o último elemento, pois ele não existe no conjunto de validação e você não conseguirá calcular as métricas de avaliação se esse elemento for mantido.**\n",
    "\n",
    "Dica:\n",
    "\n",
    "- Use toda a `SERIES` (treinamento e validação) e o `SPLIT_TIME` para calcular essa série."
   ]
  },
  {
   "cell_type": "code",
   "execution_count": null,
   "id": "e84e48c8",
   "metadata": {},
   "outputs": [],
   "source": [
    "### INICIE O CÓDIGO AQUI\n",
    "naive_forecast = None\n",
    "### TERMINE O CÓDIGO AQUI\n",
    "\n",
    "print(f\" A série de validação tem forma {series_valid.shape}\\n\")\n",
    "print(f\" A previsão ingênua tem forma  {naive_forecast.shape}\\n\")\n",
    "print(f\" é comparável com a série de validação: {series_valid.shape == naive_forecast.shape}\")\n",
    "\n",
    "plt.figure(figsize=(10, 6))\n",
    "plot_series(time_valid, series_valid, label=\"conjunto de validação\")\n",
    "plot_series(time_valid, naive_forecast, label=\"previsão ingênua\")"
   ]
  },
  {
   "cell_type": "markdown",
   "id": "7db61b6a",
   "metadata": {},
   "source": [
    "**Saída Esperada:**\n",
    "\n",
    "```\n",
    "A série de validação tem forma (361,)\n",
    "\n",
    "A previsão ingênua tem forma  (361,)\n",
    "\n",
    "é comparable with validation series: True\n",
    "```\n",
    "<div>\n",
    "<img src=\"images/naive.png\" width=\"500\"/>\n",
    "</div>"
   ]
  },
  {
   "cell_type": "markdown",
   "id": "2e861624",
   "metadata": {
    "id": "fw1SP5WeuixH"
   },
   "source": [
    "Vamos dar um zoom no final do período de validação:"
   ]
  },
  {
   "cell_type": "code",
   "execution_count": null,
   "id": "a94784c5",
   "metadata": {},
   "outputs": [],
   "source": [
    "plt.figure(figsize=(10, 6))\n",
    "plot_series(time_valid, series_valid, start=330, end=361, label=\"conjunto de validação\")\n",
    "plot_series(time_valid, naive_forecast, start=330, end=361, label=\"previsão ingênua\")"
   ]
  },
  {
   "cell_type": "markdown",
   "id": "2d7ab058",
   "metadata": {},
   "source": [
    "**Saída Esperada**\n",
    "\n",
    "<div>\n",
    "<img src=\"images/naive_zoom.png\" width=\"500\"/>\n",
    "</div>"
   ]
  },
  {
   "cell_type": "markdown",
   "id": "dde0ff47",
   "metadata": {
    "id": "35gIlQLfu0TT"
   },
   "source": [
    "**Você deve ver que a previsão ingênua está 1 passo atrás da série temporal e que ambas as séries terminam na mesma etapa temporal.**"
   ]
  },
  {
   "cell_type": "markdown",
   "id": "535d5a75",
   "metadata": {
    "id": "Uh_7244Gsxfx"
   },
   "source": [
    "Agora vamos calcular o erro quadrático médio e o erro absoluto médio entre as previsões e os prognósticos no período de validação:"
   ]
  },
  {
   "cell_type": "code",
   "execution_count": null,
   "id": "e16fd910",
   "metadata": {
    "colab": {
     "base_uri": "https://localhost:8080/"
    },
    "id": "byNnC7IbsnMZ",
    "outputId": "63aa5d88-bdbe-471e-c762-b8ff806ceb8c"
   },
   "outputs": [],
   "source": [
    "mse, mae = compute_metrics(series_valid, naive_forecast)\n",
    "\n",
    "print(f\"mse: {mse:.2f}, mae: {mae:.2f} for naive forecast\")"
   ]
  },
  {
   "cell_type": "markdown",
   "id": "4886d048",
   "metadata": {},
   "source": [
    "**Saída Esperada:**\n",
    "\n",
    "```\n",
    "mse: 19.58, mae: 2.60 for naive forecast\n",
    "```"
   ]
  },
  {
   "cell_type": "markdown",
   "id": "d4263f1a",
   "metadata": {
    "id": "WGPBC9QttI1u"
   },
   "source": [
    "Essa é a nossa linha de base(_baseline_), agora vamos tentar uma média móvel.\n",
    "\n",
    "## Média móvel\n",
    "\n",
    "Complete a função `moving_average_forecast` abaixo. Essa função recebe uma \"série\" e um \"tamanho_de_janela\" e calcula a previsão de média móvel para cada ponto após os valores iniciais de \"tamanho_de_janela\".\n",
    "\n",
    "**Essa função receberá a série completa e a série retornada será dividida para corresponder ao período de validação, de modo que sua função não precise levar em conta a correspondência da série com o período de validação.**"
   ]
  },
  {
   "cell_type": "code",
   "execution_count": null,
   "id": "97eec147",
   "metadata": {
    "id": "YGz5UsUdf2tV"
   },
   "outputs": [],
   "source": [
    "def moving_average_forecast(series, window_size):\n",
    "    \"\"\"Prevê a média dos últimos valores.\n",
    "        Se window_size=1, isso é equivalente à previsão ingênua\"\"\"\n",
    "    \n",
    "    forecast = []\n",
    "    \n",
    "    ### INICIE SEU CÓDIGO AQUI  \n",
    "    for time in range(len(series) - window_size):\n",
    "        forecast.append(series[time:time + window_size].mean())\n",
    "        \n",
    "    # Converta para vetor numpy\n",
    "    np_forecast = None\n",
    "    \n",
    "    ### TERMINE SEU CÓDIGO AQUI  \n",
    "    \n",
    "    return np_forecast"
   ]
  },
  {
   "cell_type": "markdown",
   "id": "075317b5",
   "metadata": {},
   "source": [
    "Você não pode calcular a média móvel para os primeiros valores de `window_size`, pois não há valores suficientes para calcular a média desejada. Portanto, se você usar toda a `SERIES` e um `window_size` de 30, sua função deverá retornar uma série com o número de elementos igual a:\n",
    "\n",
    "```python\n",
    "len(SERIES) - 30\n",
    "````"
   ]
  },
  {
   "cell_type": "code",
   "execution_count": null,
   "id": "a5d6dc62",
   "metadata": {},
   "outputs": [],
   "source": [
    "print(f\"A SERIES completa tem {len(SERIES)} portanto, a previsão da média móvel deve ter {len(SERIES)-30} elementos\")"
   ]
  },
  {
   "cell_type": "code",
   "execution_count": null,
   "id": "a0b3a375",
   "metadata": {
    "colab": {
     "base_uri": "https://localhost:8080/",
     "height": 388
    },
    "id": "HHFhGXQji7_r",
    "outputId": "232dfd1d-05f5-4ce1-e090-c612c64c71ca"
   },
   "outputs": [],
   "source": [
    "# Teste sua função\n",
    "moving_avg = moving_average_forecast(SERIES, window_size=30)\n",
    "print(f\"a previsão de média móvel com toda a SERIES tem forma: {moving_avg.shape}\\n\")\n",
    "\n",
    "# Corte-o de modo que corresponda ao período de validação\n",
    "moving_avg = moving_avg[1100 - 30:]\n",
    "print(f\"previsão de média móvel após o fatiamento ter forma: {moving_avg.shape}\\n\")\n",
    "print(f\"comparável com a série de validação: {series_valid.shape == moving_avg.shape}\")\n",
    "\n",
    "\n",
    "plt.figure(figsize=(10, 6))\n",
    "plot_series(time_valid, series_valid)\n",
    "plot_series(time_valid, moving_avg)"
   ]
  },
  {
   "cell_type": "markdown",
   "id": "8c84cbf4",
   "metadata": {},
   "source": [
    "**Saída Esperada:**\n",
    "\n",
    "```\n",
    "a previsão de média móvel com toda a SERIES tem forma: (1431,)\n",
    "\n",
    "previsão de média móvel após o fatiamento ter forma: (361,)\n",
    "\n",
    "comparável com a série de validação: True\n",
    "```\n",
    "<div>\n",
    "<img src=\"images/moving_avg.png\" width=\"500\"/>\n",
    "</div>"
   ]
  },
  {
   "cell_type": "code",
   "execution_count": null,
   "id": "038e5410",
   "metadata": {
    "colab": {
     "base_uri": "https://localhost:8080/"
    },
    "id": "oINy178C_cCv",
    "outputId": "7917e7e3-460f-41b8-866a-6cf560e78fd1"
   },
   "outputs": [],
   "source": [
    "# Calcular métricas de avaliação\n",
    "mse, mae = compute_metrics(series_valid, moving_avg)\n",
    "\n",
    "print(f\"mse: {mse:.2f}, mae: {mae:.2f} for moving average forecast\")"
   ]
  },
  {
   "cell_type": "markdown",
   "id": "195369e7",
   "metadata": {},
   "source": [
    "**Saída Esperada:**\n",
    "\n",
    "```\n",
    "mse: 65.79, mae: 4.30 for moving average forecast\n",
    "```"
   ]
  },
  {
   "cell_type": "markdown",
   "id": "68ca7b13",
   "metadata": {
    "id": "JMYPnJqwz8nS"
   },
   "source": [
    "Isso é pior do que uma previsão ingênua! A média móvel não prevê tendência ou sazonalidade, portanto, vamos tentar removê-las usando a diferenciação. \n",
    "\n",
    "## Diferenciação\n",
    "\n",
    "Como o período de sazonalidade é de 365 dias, subtrairemos o valor no momento *t* - 365 do valor no momento *t*.\n",
    "\n",
    "Para isso, defina as variáveis `diff_series` e `diff_time` abaixo. Observe que `diff_time` é o valor da coordenada x de `diff_series`."
   ]
  },
  {
   "cell_type": "code",
   "execution_count": null,
   "id": "5a8c3ebb",
   "metadata": {
    "colab": {
     "base_uri": "https://localhost:8080/",
     "height": 388
    },
    "id": "5pqySF7-rJR4",
    "outputId": "7822b126-b20a-4c0d-ec2f-254d033f9df6"
   },
   "outputs": [],
   "source": [
    "### START CODE HERE\n",
    "diff_series = None\n",
    "diff_time = None\n",
    "### END CODE HERE\n",
    "\n",
    "print(f\"A SERIES completa tem {len(SERIES)} portanto, a diferenciação deve ter {len(SERIES)-365} elementos\\n\")\n",
    "print(f\"A série diff tem forma: {diff_series.shape}\\n\")\n",
    "print(f\"A coordenada x da série de diferenças tem a forma: {diff_time.shape}\\n\")\n",
    "\n",
    "plt.figure(figsize=(10, 6))\n",
    "plot_series(diff_time, diff_series)\n",
    "plt.show()"
   ]
  },
  {
   "cell_type": "markdown",
   "id": "6ca6a9bd",
   "metadata": {},
   "source": [
    "**Saída Esperada:**\n",
    "```\n",
    "A SERIES completa tem 1461 portanto, a diferenciação deve ter 1096 elementos\n",
    "\n",
    "A série diff tem forma: (1096,)\n",
    "\n",
    "A coordenada x da série de diferenças tem a forma: (1096,)\n",
    "```\n",
    "<div>\n",
    "<img src=\"images/diff.png\" width=\"500\"/>\n",
    "</div>"
   ]
  },
  {
   "cell_type": "markdown",
   "id": "e70e930f",
   "metadata": {
    "id": "xPlPlS7DskWg"
   },
   "source": [
    "Ótimo, a tendência e a sazonalidade parecem ter desaparecido, então agora podemos usar a média móvel.\n",
    "\n",
    "Defina a variável `diff_moving_avg`. \n",
    "\n",
    "**Observe que o `window_size` já foi definido e que você precisará executar o fatiamento correto para que a série corresponda ao período de validação.***"
   ]
  },
  {
   "cell_type": "code",
   "execution_count": null,
   "id": "19934552",
   "metadata": {
    "colab": {
     "base_uri": "https://localhost:8080/",
     "height": 388
    },
    "id": "QmZpz7arsjbb",
    "outputId": "81bfe164-0d5e-452e-ecc5-eb21bb71097f"
   },
   "outputs": [],
   "source": [
    "### INICIE O CÓDIGO AQUI\n",
    "\n",
    "# Aplicar a média móvel à série de diferenças\n",
    "diff_moving_avg = moving_average_forecast(None, 50)\n",
    "\n",
    "print(f\"a previsão de média móvel com séries diferentes tem forma: {diff_moving_avg.shape}\\n\")\n",
    "\n",
    "# Executar o fatiamento correto\n",
    "diff_moving_avg = diff_moving_avg[None:]\n",
    "\n",
    "### TERMINE O CÓDIGO AQUI\n",
    "\n",
    "print(f\"a previsão de média móvel com séries diferentes após o corte tem forma: {diff_moving_avg.shape}\\n\")\n",
    "print(f\"comparável com a série de validação: {series_valid.shape == diff_moving_avg.shape}\")\n",
    "\n",
    "\n",
    "plt.figure(figsize=(10, 6))\n",
    "plot_series(time_valid, diff_series[1100 - 365:])\n",
    "plot_series(time_valid, diff_moving_avg)\n",
    "plt.show()"
   ]
  },
  {
   "cell_type": "markdown",
   "id": "8ea51e34",
   "metadata": {},
   "source": [
    "**Saída Esperada:**\n",
    "```\n",
    "a previsão de média móvel com séries diferentes tem forma: (1046,)\n",
    "\n",
    "a previsão de média móvel com séries diferentes após o corte tem forma: (361,)\n",
    "\n",
    "comparável com a série de validação: True\n",
    "```\n",
    "<div>\n",
    "<img src=\"images/diff_moving.png\" width=\"500\"/>\n",
    "</div>"
   ]
  },
  {
   "cell_type": "markdown",
   "id": "af4844cc",
   "metadata": {
    "id": "Gno9S2lyecnc"
   },
   "source": [
    "Agora, vamos trazer de volta a tendência e a sazonalidade adicionando os valores anteriores de t - 365:"
   ]
  },
  {
   "cell_type": "code",
   "execution_count": null,
   "id": "55a709f1",
   "metadata": {
    "colab": {
     "base_uri": "https://localhost:8080/",
     "height": 388
    },
    "id": "Dv6RWFq7TFGB",
    "outputId": "f2db4f8e-0212-4bdb-ad05-af071b147f6e"
   },
   "outputs": [],
   "source": [
    "### INICIE O CÓDIGO AQUI\n",
    "\n",
    "# Corte a SERIES inteira para obter os valores anteriores\n",
    "past_series = SERIES[None:None]\n",
    "\n",
    "print(f\"a série anterior tem forma: {past_series.shape}\\n\")\n",
    "\n",
    "\n",
    "# Adicione o passado à média móvel da série de diferenças\n",
    "diff_moving_avg_plus_past = past_series + None\n",
    "\n",
    "### TERMINE O CÓDIGO AQUI\n",
    "\n",
    "print(f\"previsão de média móvel com séries diferentes mais o passado tem forma: {diff_moving_avg_plus_past.shape}\\n\")\n",
    "print(f\"comparável com a série de validação: {series_valid.shape == diff_moving_avg_plus_past.shape}\")\n",
    "\n",
    "plt.figure(figsize=(10, 6))\n",
    "plot_series(time_valid, series_valid)\n",
    "plot_series(time_valid, diff_moving_avg_plus_past)\n",
    "plt.show()"
   ]
  },
  {
   "cell_type": "markdown",
   "id": "06500a69",
   "metadata": {},
   "source": [
    "**Saída Esperada:**\n",
    "\n",
    "```\n",
    "a série anterior tem forma: (361,)\n",
    "\n",
    "previsão de média móvel com séries diferentes mais o passado tem forma: (361,)\n",
    "\n",
    "ccomparável com a série de validação: True\n",
    "```\n",
    "\n",
    "<div>\n",
    "<img src=\"images/plus_past.png\" width=\"500\"/>\n",
    "</div>"
   ]
  },
  {
   "cell_type": "code",
   "execution_count": null,
   "id": "5c13b227",
   "metadata": {},
   "outputs": [],
   "source": [
    "# Calcular métricas de avaliação\n",
    "mse, mae = compute_metrics(series_valid, diff_moving_avg_plus_past)\n",
    "\n",
    "print(f\"mse: {mse:.2f}, mae: {mae:.2f} para média móvel mais previsão anterior\")"
   ]
  },
  {
   "cell_type": "markdown",
   "id": "27b5c715",
   "metadata": {},
   "source": [
    "**Expected Output:**\n",
    "\n",
    "```\n",
    "mse: 8.50, mae: 2.33 for moving average plus past forecast\n",
    "```"
   ]
  },
  {
   "cell_type": "markdown",
   "id": "3c1877bc",
   "metadata": {
    "id": "vx9Et1Hkeusl"
   },
   "source": [
    "Melhor do que a previsão ingênua, ótimo.\n",
    "\n",
    "No entanto, as previsões parecem um pouco aleatórias demais porque estamos apenas adicionando valores passados, que eram ruidosos.\n",
    "\n",
    "Você usará uma **média móvel centrada** com um tamanho de janela de `10` nos valores passados para remover parte do ruído. \n",
    "\n",
    "Se tiver dúvidas, você pode rever o laboratório [Previsão estatística em dados sintéticos](https://colab.research.google.com/github/fabiobento/dnn-course-2024-1/blob/main/00_course_folder/cert_prof_time_series/class_01/TS%20-%20W1%20-%2008%20-%20Previs%C3%A3o.ipynb).\n",
    "\n",
    "<br>\n",
    "<details>\n",
    "<summary><font size=\"2\" color=\"darkgreen\"><b>Clique aqui para dicas</b></font></summary>\n",
    "    <ul>\n",
    "        <li>Quando fatiando <code>os dados de SERIES</code>, comece com o <code>SPLIT_TIME</code> menos 370 passos\n",
    "        <li>o tamanho  de <code>smooth_past_series</code> deve corresponder ao comprimento de <code>diff_moving_average</code>. Se você receber um erro de operando, é provável que isso não esteja sendo cumprido. Tente modificar o índice *end* do <code>SERIES</code> ao dividi-los para <code>smooth_past_series</code>.\n",
    "        <li>Se estiver usando o laboratório \"Previsão estatística em dados sintéticos\" como referência, observe que ele usa um tamanho de janela de `11`. Este trabalho requer um tamanho de janela de `10`, portanto, você precisará modificar ligeiramente o código de acordo.\n",
    "    </ul>\n",
    "</details>\n",
    "\n"
   ]
  },
  {
   "cell_type": "code",
   "execution_count": null,
   "id": "fe468a62",
   "metadata": {
    "colab": {
     "base_uri": "https://localhost:8080/",
     "height": 388
    },
    "id": "K81dtROoTE_r",
    "outputId": "8c2b96f4-1026-42e5-dce3-29475f5610d1"
   },
   "outputs": [],
   "source": [
    "### INICIE SEU CÓDIGO AQUI\n",
    "\n",
    "# Executar a divisão correta de SERIES\n",
    "smooth_past_series = moving_average_forecast(SERIES[None:None], 10)\n",
    "\n",
    "print(f\"a série passada suavizada tem forma: {smooth_past_series.shape}\\n\")\n",
    "\n",
    "# Adicione os valores passados suavizados à média móvel da série de diferenças\n",
    "diff_moving_avg_plus_smooth_past = smooth_past_series + None\n",
    "\n",
    "### TERMINE SEU CÓDIGO AQUI\n",
    "\n",
    "print(f\"previsão de média móvel com séries diferentes mais o passado tem forma: {diff_moving_avg_plus_smooth_past.shape}\\n\")\n",
    "print(f\"comparável com a série de validação: {series_valid.shape == diff_moving_avg_plus_smooth_past.shape}\")\n",
    "\n",
    "plt.figure(figsize=(10, 6))\n",
    "plot_series(time_valid, series_valid)\n",
    "plot_series(time_valid, diff_moving_avg_plus_smooth_past)\n",
    "plt.show()"
   ]
  },
  {
   "cell_type": "markdown",
   "id": "bfb858f6",
   "metadata": {},
   "source": [
    "**Saída Esperada:**\n",
    "\n",
    "```\n",
    "a série passada suavizada tem forma: (361,)\n",
    "\n",
    "previsão de média móvel com séries diferentes mais o passado tem forma: (361,)\n",
    "\n",
    "comparável com a série de validação: True\n",
    "```\n",
    "\n",
    "<div>\n",
    "<img src=\"images/plus_smooth.png\" width=\"500\"/>\n",
    "</div>"
   ]
  },
  {
   "cell_type": "code",
   "execution_count": null,
   "id": "3d4545e8",
   "metadata": {},
   "outputs": [],
   "source": [
    "# Calcular métricas de avaliação\n",
    "mse, mae = compute_metrics(series_valid, diff_moving_avg_plus_smooth_past)\n",
    "\n",
    "print(f\"mse: {mse:.2f}, mae: {mae:.2f} para média móvel mais previsão passada suavizada\")"
   ]
  },
  {
   "cell_type": "markdown",
   "id": "eb20ef57",
   "metadata": {},
   "source": [
    "**Saída Esperada:**\n",
    "\n",
    "```\n",
    "mse: 12.53, mae: 2.20 para média móvel mais previsão passada suavizada\n",
    "```"
   ]
  },
  {
   "cell_type": "markdown",
   "id": "81182b36",
   "metadata": {
    "id": "d3_54UQCdPuP"
   },
   "source": [
    "**Parabéns por ter concluído a tarefa desta semana!**\n",
    "\n",
    "Você implementou com sucesso funções para divisão e avaliação de séries temporais e, ao mesmo tempo, aprendeu a lidar com dados de séries temporais e a codificar métodos de previsão!\n",
    "\n",
    "**Continue assim!**"
   ]
  }
 ],
 "metadata": {
  "jupytext": {
   "encoding": "# -*- coding: utf-8 -*-"
  },
  "kernelspec": {
   "display_name": "Python 3",
   "language": "python",
   "name": "python3"
  },
  "language_info": {
   "codemirror_mode": {
    "name": "ipython",
    "version": 3
   },
   "file_extension": ".py",
   "mimetype": "text/x-python",
   "name": "python",
   "nbconvert_exporter": "python",
   "pygments_lexer": "ipython3",
   "version": "3.8.8"
  }
 },
 "nbformat": 4,
 "nbformat_minor": 5
}
