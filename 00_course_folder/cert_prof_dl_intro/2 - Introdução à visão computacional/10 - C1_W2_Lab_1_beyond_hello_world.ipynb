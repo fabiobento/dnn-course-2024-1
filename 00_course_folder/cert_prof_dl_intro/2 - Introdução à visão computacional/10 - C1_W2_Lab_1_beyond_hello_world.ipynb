{
  "cells": [
    {
      "cell_type": "markdown",
      "metadata": {
        "id": "zyylgxPB4MIZ"
      },
      "source": [
        "<a href=\"https://colab.research.google.com/github/fabiobento/dnn-course-2024-1/blob/main/00_course_folder/cert_prof_dl_intro/2%20-%20Introdu%C3%A7%C3%A3o%20%C3%A0%20vis%C3%A3o%20computacional/10%20-%20C1_W2_Lab_1_beyond_hello_world.ipynb\" target=\"_parent\"><img src=\"https://colab.research.google.com/assets/colab-badge.svg\" alt=\"Open In Colab\"/></a>"
      ]
    },
    {
      "cell_type": "markdown",
      "metadata": {},
      "source": [
        "adaptado de [Certificado Profissional Desenvolvedor do TensorFlow para DeepLearning.AI](https://www.coursera.org/professional-certificates/tensorflow-in-practice) de [Laurence Moroney](https://laurencemoroney.com/)"
      ]
    },
    {
      "cell_type": "markdown",
      "metadata": {
        "id": "qnyTxjK_GbOD"
      },
      "source": [
        "# Além do Hello World, um exemplo de visão computacional\n",
        "\n",
        "No exercício anterior você viu um exemplo de um problema relativamente fácil: aprender a função `y=2x-1` a partir da relação entre `x` e `y`.\n",
        "\n",
        "Mas o que dizer de um cenário em que escrever regras como essa é muito mais difícil, por exemplo, um problema de visão computacional?\n",
        "\n",
        "Vamos dar uma olhada em um cenário em que você criará uma rede neural para reconhecer diferentes itens de vestuário, treinada a partir de um conjunto de dados com 10 tipos diferentes."
      ]
    },
    {
      "cell_type": "markdown",
      "metadata": {
        "id": "H41FYgtlHPjW"
      },
      "source": [
        "## Começando o código\n",
        "\n",
        "Vamos começar com nossa importação do TensorFlow."
      ]
    },
    {
      "cell_type": "code",
      "execution_count": null,
      "metadata": {
        "id": "q3KzJyjv3rnA"
      },
      "outputs": [],
      "source": [
        "import tensorflow as tf\n",
        "\n",
        "print(tf.__version__)"
      ]
    },
    {
      "cell_type": "markdown",
      "metadata": {
        "id": "n_n1U5do3u_F"
      },
      "source": [
        "O [Fashion MNIST dataset](https://github.com/zalandoresearch/fashion-mnist) é uma coleção de imagens de roupas em escala de cinza de 28x28 pixels. Cada imagem está associada a um rótulo, conforme mostrado nesta tabela⁉\n",
        "\n",
        "| Rótulo | Descrição |\n",
        "| --- | --- |\n",
        "| 0 | T-shirt/top |\n",
        "| 1 | Trouser |\n",
        "| 2 | Pullover |\n",
        "| 3 | Dress |\n",
        "| 4 | Coat |\n",
        "| 5 | Sandal |\n",
        "| 6 | Shirt |\n",
        "| 7 | Sneaker |\n",
        "| 8 | Bag |\n",
        "| 9 | Ankle boot |\n",
        "\n",
        "Esse conjunto de dados está disponível diretamente na API [tf.keras.datasets](https://www.tensorflow.org/api_docs/python/tf/keras/datasets) e você o carrega da seguinte forma:"
      ]
    },
    {
      "cell_type": "code",
      "execution_count": null,
      "metadata": {
        "id": "PmxkHFpt31bM"
      },
      "outputs": [],
      "source": [
        "# Carregar o conjunto de dados Fashion MNIST\n",
        "fmnist = tf.keras.datasets.fashion_mnist"
      ]
    },
    {
      "cell_type": "markdown",
      "metadata": {
        "id": "GuoLQQBT4E-_"
      },
      "source": [
        "Ao chamar `load_data()` nesse objeto, você receberá duas tuplas com duas listas cada.\n",
        "\n",
        "Esses serão os valores de treinamento e teste para as imagens que contêm os itens de vestuário e seus rótulos.\n"
      ]
    },
    {
      "cell_type": "code",
      "execution_count": null,
      "metadata": {
        "id": "BTdRgExe4TRB"
      },
      "outputs": [],
      "source": [
        "# Carregar a divisão de treinamento e teste do conjunto de dados Fashion MNIST\n",
        "(training_images, training_labels), (test_images, test_labels) = fmnist.load_data()"
      ]
    },
    {
      "attachments": {},
      "cell_type": "markdown",
      "metadata": {
        "id": "rw395ROx4f5Q"
      },
      "source": [
        "Qual é a aparência desses valores?\n",
        "> Vamos imprimir uma imagem de treinamento (como uma imagem e uma matriz numérica) e um rótulo de treinamento para conferir.\n",
        "\n",
        "Faça experiências com diferentes índices (variável `index`)na matriz.\n",
        "> Por exemplo, dê uma olhada também no índice `42`.\n"
      ]
    },
    {
      "cell_type": "code",
      "execution_count": null,
      "metadata": {
        "id": "FPc9d3gJ3jWF"
      },
      "outputs": [],
      "source": [
        "import numpy as np\n",
        "import matplotlib.pyplot as plt\n",
        "\n",
        "# Você pode colocar entre 0 e 59999 aqui\n",
        "index = 0\n",
        "\n",
        "# Definir o número de caracteres por linha ao imprimir\n",
        "np.set_printoptions(linewidth=320)\n",
        "\n",
        "# Imprimir o rótulo e a imagem\n",
        "print(f'RÓTULO: {training_labels[index]}')\n",
        "print(f'\\nmatriz de pixels da imagem:\\n {training_images[index]}')\n",
        "\n",
        "# Visualize a imagem\n",
        "plt.imshow(training_images[index])"
      ]
    },
    {
      "cell_type": "markdown",
      "metadata": {
        "id": "3cbrdH225_nH"
      },
      "source": [
        "Você perceberá que todos os valores do número estão entre 0 e 255.\n",
        "\n",
        "Se estiver treinando uma rede neural, especialmente no processamento de imagens, por vários motivos, ela geralmente aprenderá melhor se você dimensionar todos os valores entre 0 e 1.\n",
        "> É um processo chamado _normalização_ e, felizmente, em Python, é fácil normalizar uma matriz sem fazer loop.\n",
        "\n",
        "Você faz isso da seguinte forma:"
      ]
    },
    {
      "cell_type": "code",
      "execution_count": null,
      "metadata": {
        "id": "kRH19pWs6ZDn"
      },
      "outputs": [],
      "source": [
        "# Normalize os valores de pixel das imagens de treinamento e teste\n",
        "training_images  = training_images / 255.0\n",
        "test_images = test_images / 255.0"
      ]
    },
    {
      "cell_type": "markdown",
      "metadata": {
        "id": "3DkO0As46lRn"
      },
      "source": [
        "Agora você deve estar se perguntando por que o conjunto de dados é dividido em dois:\n",
        "* treinamento\n",
        "* teste?\n",
        "\n",
        "Lembra-se de que falamos anteriormente?\n",
        "> A ideia é ter um conjunto de dados para treinamento e outro conjunto de dados que o modelo ainda não tenha visto.\n",
        "\n",
        "Isso é usado para avaliar a qualidade do modelo na classificação de valores."
      ]
    },
    {
      "cell_type": "markdown",
      "metadata": {
        "id": "dIn7S9gf62ie"
      },
      "source": [
        "Vamos agora projetar o modelo"
      ]
    },
    {
      "cell_type": "code",
      "execution_count": null,
      "metadata": {
        "id": "7mAyndG3kVlK"
      },
      "outputs": [],
      "source": [
        "# Criar o modelo de classificação\n",
        "model = tf.keras.models.Sequential([tf.keras.layers.Flatten(), \n",
        "                                    tf.keras.layers.Dense(128, activation=tf.nn.relu), \n",
        "                                    tf.keras.layers.Dense(10, activation=tf.nn.softmax)])"
      ]
    },
    {
      "attachments": {},
      "cell_type": "markdown",
      "metadata": {
        "id": "-lUcWaiX7MFj"
      },
      "source": [
        "[Sequential](https://keras.io/api/models/sequential/): Define uma sequência de camadas na rede neural.\n",
        "\n",
        "[Flatten](https://keras.io/api/layers/reshaping_layers/flatten/): Lembra-se de quando nossas imagens eram uma matriz de 28x28 pixels quando você as imprimia? O Flatten simplesmente pega esse quadrado e o transforma em uma matriz unidimensional.\n",
        "\n",
        "[Dense](https://keras.io/api/layers/core_layers/dense/): Adiciona uma camada de neurônios\n",
        "\n",
        "Cada camada de neurônios precisa de uma [função de ativação](https://keras.io/api/layers/activations/) para dizer a eles o que fazer. Há muitas opções, mas, por enquanto, use apenas estas: \n",
        "\n",
        "[ReLU](https://keras.io/api/layers/activations/#relu-function) significa efetivamente:\n",
        "\n",
        "```\n",
        "se x > 0: \n",
        "  retorne x\n",
        "senão: \n",
        "  retorne 0\n",
        "```\n",
        "\n",
        "Em outras palavras, ele só passa valores maiores que 0 para a próxima camada da rede.\n",
        "\n",
        "[Softmax](https://keras.io/api/layers/activations/#softmax-function) recebe uma lista de valores e os dimensiona de modo que a soma de todos os elementos seja igual a 1.\n",
        "> Quando aplicado aos resultados do modelo, você pode pensar nos valores dimensionados como a probabilidade dessa classe.\n",
        "Por exemplo, em seu modelo de classificação que tem 10 unidades na camada densa de saída, ter o valor mais alto no `índice = 4` significa que o modelo está mais confiante de que a imagem de entrada da roupa é um casaco. Se estiver no índice = 5, então é uma sandália, e assim por diante. \n",
        "\n",
        "Veja o pequeno bloco de código abaixo que demonstra esses conceitos. Você também pode assistir a esta [aula de Andrew Ng](https://www.youtube.com/watch?v=LLux1SW--oM&ab_channel=DeepLearningAI) se quiser saber mais sobre a função Softmax e como os valores são computados.\n"
      ]
    },
    {
      "cell_type": "code",
      "execution_count": null,
      "metadata": {
        "id": "Dk1hzzpDoGPI"
      },
      "outputs": [],
      "source": [
        "# Declare as entradas de amostra e converta-as em um tensor\n",
        "inputs = np.array([[1.0, 3.0, 4.0, 2.0]])\n",
        "inputs = tf.convert_to_tensor(inputs)\n",
        "print(f'entrada para a função softmax: {inputs.numpy()}')\n",
        "\n",
        "# Alimente as entradas para uma função de ativação softmax\n",
        "outputs = tf.keras.activations.softmax(inputs)\n",
        "print(f'saída da função softmax: {outputs.numpy()}')\n",
        "\n",
        "# Obter a soma de todos os valores após o softmax\n",
        "sum = tf.reduce_sum(outputs)\n",
        "print(f'soma das saídas: {sum}')\n",
        "\n",
        "# Obter a soma de todos os valores após o softmax\n",
        "prediction = np.argmax(outputs)\n",
        "print(f'classe com maior probabilidade: {prediction}')"
      ]
    },
    {
      "cell_type": "markdown",
      "metadata": {
        "id": "c8vbMCqb9Mh6"
      },
      "source": [
        "A próxima coisa a fazer, agora que o modelo está definido, é construí-lo de fato.\n",
        "\n",
        "Para isso, compile-o com um otimizador e uma função de perda como antes e, em seguida, treine-o chamando `model.fit()` para que ele ajuste os dados de treinamento aos rótulos de treinamento.\n",
        "\n",
        "Ele descobrirá a relação entre os dados de treinamento e seus rótulos reais, de modo que, no futuro, se você tiver entradas que se pareçam com os dados de treinamento, ele poderá prever qual é o rótulo dessa entrada."
      ]
    },
    {
      "cell_type": "code",
      "execution_count": null,
      "metadata": {
        "id": "BLMdl9aP8nQ0"
      },
      "outputs": [],
      "source": [
        "model.compile(optimizer = tf.optimizers.Adam(),\n",
        "              loss = 'sparse_categorical_crossentropy',\n",
        "              metrics=['accuracy'])\n",
        "\n",
        "model.fit(training_images, training_labels, epochs=5)"
      ]
    },
    {
      "cell_type": "markdown",
      "metadata": {
        "id": "-JJMsvSB-1UY"
      },
      "source": [
        "Quando o treinamento estiver concluído, você deverá ver um valor de acurácia no final da última época. Ele pode se parecer com algo como `0,9098`.\n",
        "\n",
        "Isso indica que sua rede neural tem cerca de 91% de acurácia na classificação dos dados de treinamento.\n",
        "> Ou seja, ela descobriu uma correspondência de padrão entre a imagem e os rótulos que funcionou 91% das vezes.\n",
        "\n",
        "Não é ótimo, mas não é ruim, considerando que foi treinado por apenas 5 épocas e foi feito muito rapidamente.\n",
        "\n",
        "Mas como ele funcionaria com dados não vistos?\n",
        "> É por isso que temos as imagens de teste e os rótulos.\n",
        "\n",
        "Podemos chamar [`model.evaluate()`](https://keras.io/api/models/model_training_apis/#evaluate-method) com esse conjunto de dados de teste como entradas e ele informará a perda e a precisão do modelo:"
      ]
    },
    {
      "cell_type": "code",
      "execution_count": null,
      "metadata": {
        "id": "WzlqsEzX9s5P"
      },
      "outputs": [],
      "source": [
        "# Avalie o modelo em dados não vistos\n",
        "model.evaluate(test_images, test_labels)"
      ]
    },
    {
      "cell_type": "markdown",
      "metadata": {
        "id": "6tki-Aro_Uax"
      },
      "source": [
        "Você pode esperar que a precisão aqui seja de cerca de `0,88`, o que significa que ela foi 88% precisa em todo o conjunto de teste.\n",
        "\n",
        "Como era de se esperar, ele provavelmente não se sairia tão bem com dados *não vistos* quanto se saiu com dados nos quais foi treinado!\n",
        "\n",
        "Ao longo desta matéria, você verá maneiras de melhorar isso. "
      ]
    },
    {
      "cell_type": "markdown",
      "metadata": {
        "id": "htldZNWcIPSN"
      },
      "source": [
        "# Exercícios\n",
        "\n",
        "Para explorar mais e aprofundar sua compreensão, experimente os exercícios abaixo:"
      ]
    },
    {
      "cell_type": "markdown",
      "metadata": {
        "id": "rquQqIx4AaGR"
      },
      "source": [
        "### Exercício 1:\n",
        "Para este primeiro exercício, execute o código abaixo:\n",
        "* Ele cria um conjunto de classificações para cada uma das imagens de teste e, em seguida, imprime somente a primeira das classificações.\n",
        "* A saída, depois de executá-lo, é uma lista de números. Por que você acha que isso acontece e o que esses números representam? "
      ]
    },
    {
      "cell_type": "code",
      "execution_count": null,
      "metadata": {
        "id": "RyEIki0z_hAD"
      },
      "outputs": [],
      "source": [
        "classifications = model.predict(test_images)\n",
        "\n",
        "print(classifications[0])"
      ]
    },
    {
      "cell_type": "markdown",
      "metadata": {
        "id": "MdzqbQhRArzm"
      },
      "source": [
        "**Dica:** tente executar `print(test_labels[0])` -- e você obterá um `9`. Isso ajuda você a entender por que essa lista tem a aparência que tem? "
      ]
    },
    {
      "cell_type": "code",
      "execution_count": null,
      "metadata": {
        "id": "WnBGOrMiA1n5"
      },
      "outputs": [],
      "source": [
        "print(test_labels[0])"
      ]
    },
    {
      "cell_type": "markdown",
      "metadata": {
        "id": "uUs7eqr7uSvs"
      },
      "source": [
        "### QUIZ E1Q1: O que essa lista exibida por `print(classifications[0])` representa?\n",
        "\n",
        "\n",
        "1.   São 10 valores aleatórios sem sentido\n",
        "2.   São as 10 primeiras classificações que o computador fez\n",
        "3.   É a probabilidade de esse item pertencer a cada uma das 10 classes\n"
      ]
    },
    {
      "cell_type": "markdown",
      "metadata": {
        "id": "wAbr92RTA67u"
      },
      "source": [
        "<details><summary>Clique para respostas</summary>\n",
        "<p>\n",
        "\n",
        "#### Resposta: \n",
        "A resposta correta é (3)\n",
        "\n",
        "A saída do modelo é uma lista de 10 números. Esses números são a probabilidade de que o valor que está sendo classificado seja o valor correspondente (https://github.com/zalandoresearch/fashion-mnist#labels), ou seja, o primeiro valor da lista é a probabilidade de que a imagem seja \"0\" (T-shirt/top), o próximo é \"1\" (Trouser) etc. Observe que todas essas probabilidades são MUITO BAIXAS.\n",
        "\n",
        "Para o índice 9 (Ankle boot), a probabilidade estava na casa dos 90, ou seja, a rede neural está nos dizendo que a imagem provavelmente é uma ankle boot.\n",
        "</p>\n",
        "</details>"
      ]
    },
    {
      "cell_type": "markdown",
      "metadata": {
        "id": "CD4kC6TBu-69"
      },
      "source": [
        "### QUIZ E1Q2: Como você sabe que essa lista lhe diz que o item é uma ankle boot?\n",
        "\n",
        "\n",
        "1.   Não há informações suficientes para responder a essa pergunta\n",
        "2.   O 10º elemento da lista é o maior, e a ankle boot está identificada como 9\n",
        "2.   A bota tem o rótulo 9, e há 0->9 elementos na lista.\n"
      ]
    },
    {
      "cell_type": "markdown",
      "metadata": {
        "id": "I-haLncrva5L"
      },
      "source": [
        "<details><summary>Clique para resposta</summary>\n",
        "<p>\n",
        "\n",
        "#### Resposta\n",
        "A resposta correta é (2). Tanto a lista quanto os rótulos são baseados em 0, portanto, o fato de a ankle boot ter o rótulo 9 significa que ela é a 10ª das 10 classes. O fato de a lista ter o 10º elemento com o valor mais alto significa que a rede neural previu que o item que está classificando é provavelmente uma ankle boot\n",
        "\n",
        "</p>\n",
        "</details>"
      ]
    },
    {
      "cell_type": "markdown",
      "metadata": {
        "id": "OgQSIfDSOWv6"
      },
      "source": [
        "### Exercício 2: \n",
        "Vamos agora examinar as camadas do seu modelo.\n",
        "\n",
        "Faça experiências com valores diferentes para a camada densa com 512 neurônios.\n",
        "\n",
        "Que resultados diferentes você obtém para perda, tempo de treinamento etc.? Por que você acha que esse é o caso? "
      ]
    },
    {
      "cell_type": "code",
      "execution_count": null,
      "metadata": {
        "id": "GSZSwV5UObQP"
      },
      "outputs": [],
      "source": [
        "fmnist = tf.keras.datasets.fashion_mnist\n",
        "\n",
        "(training_images, training_labels) ,  (test_images, test_labels) = fmnist.load_data()\n",
        "\n",
        "training_images = training_images/255.0\n",
        "test_images = test_images/255.0\n",
        "\n",
        "model = tf.keras.models.Sequential([tf.keras.layers.Flatten(),\n",
        "                                    tf.keras.layers.Dense(512, activation=tf.nn.relu), # Tente fazer experimentos com essa camada\n",
        "                                    tf.keras.layers.Dense(10, activation=tf.nn.softmax)])\n",
        "\n",
        "model.compile(optimizer = 'adam',\n",
        "              loss = 'sparse_categorical_crossentropy')\n",
        "\n",
        "model.fit(training_images, training_labels, epochs=5)\n",
        "\n",
        "model.evaluate(test_images, test_labels)\n",
        "\n",
        "classifications = model.predict(test_images)\n",
        "\n",
        "print(classifications[0])\n",
        "print(test_labels[0])"
      ]
    },
    {
      "cell_type": "markdown",
      "metadata": {
        "id": "bOOEnHZFv5cS"
      },
      "source": [
        "### QUIZ E2Q1: Aumento para 1024 neurônios - Qual é o impacto?\n",
        "\n",
        "1. O treinamento demora mais, mas é mais preciso\n",
        "2. O treinamento é mais demorado, mas não há impacto na precisão\n",
        "3. O treinamento leva o mesmo tempo, mas é mais preciso\n"
      ]
    },
    {
      "cell_type": "markdown",
      "metadata": {
        "id": "U73MUP2lwrI2"
      },
      "source": [
        "<details><summary>Clique para resposta</summary>\n",
        "<p>\n",
        "\n",
        "#### Resposta\n",
        "A resposta correta é (1): ao adicionar mais neurônios, temos de fazer mais cálculos, o que torna o processo mais lento, mas, nesse caso, eles têm um bom impacto: ficamos mais precisos. Isso não significa que seja sempre um caso de \"mais é melhor\", pois você pode atingir a lei dos retornos decrescentes ([_law of diminishing returns_](https://en.wikipedia.org/wiki/Diminishing_returns)) muito rapidamente!\n",
        "\n",
        "</p>\n",
        "</details>"
      ]
    },
    {
      "cell_type": "markdown",
      "metadata": {
        "id": "WtWxK16hQxLN"
      },
      "source": [
        "### Exercício 3: \n",
        "\n",
        "### QUIZ E3Q1: O que aconteceria se você removesse a camada Flatten(). Por que você acha isso? \n",
        "\n",
        "<details><summary>Clique para Resposta</summary>\n",
        "<p>\n",
        "\n",
        "#### Answer\n",
        "#### Resposta\n",
        "Você recebe um erro sobre a forma dos dados. Isso pode parecer vago no momento, mas reforça a regra geral de que a primeira camada da rede deve ter o mesmo formato dos dados. No momento, nossos dados são imagens de 28x28 e 28 camadas de 28 neurônios seriam inviáveis, portanto, faz mais sentido \"achatar\" esses 28,28 em 784x1. Em vez de escrever todo o código para lidar com isso nós mesmos, adicionamos a camada Flatten() no início e, quando as matrizes forem carregadas no modelo posteriormente, elas serão automaticamente achatadas para nós.\n",
        "\n",
        "</p>\n",
        "</details>"
      ]
    },
    {
      "cell_type": "code",
      "execution_count": null,
      "metadata": {
        "id": "ExNxCwhcQ18S"
      },
      "outputs": [],
      "source": [
        "fmnist = tf.keras.datasets.fashion_mnist\n",
        "\n",
        "(training_images, training_labels) ,  (test_images, test_labels) = fmnist.load_data()\n",
        "\n",
        "training_images = training_images/255.0\n",
        "test_images = test_images/255.0\n",
        "\n",
        "model = tf.keras.models.Sequential([tf.keras.layers.Flatten(), #Try removing this layer\n",
        "                                    tf.keras.layers.Dense(64, activation=tf.nn.relu),\n",
        "                                    tf.keras.layers.Dense(10, activation=tf.nn.softmax)])\n",
        "\n",
        "model.compile(optimizer = 'adam',\n",
        "              loss = 'sparse_categorical_crossentropy')\n",
        "\n",
        "model.fit(training_images, training_labels, epochs=5)\n",
        "\n",
        "model.evaluate(test_images, test_labels)\n",
        "\n",
        "classifications = model.predict(test_images)\n",
        "\n",
        "print(classifications[0])\n",
        "print(test_labels[0])"
      ]
    },
    {
      "cell_type": "markdown",
      "metadata": {
        "id": "VqoCR-ieSGDg"
      },
      "source": [
        "### Exercício 4: \n",
        "\n",
        "Considere as camadas finais (de saída). Por que há 10 delas? O que aconteceria se você tivesse uma quantidade diferente de 10? Por exemplo, tente treinar a rede com 5.\n",
        "\n",
        "<details><summary>Clique para respostas</summary>\n",
        "<p>\n",
        "\n",
        "#### Resposta\n",
        "Lembre-se do que você viu sobre a [Função Softmax](https://colab.research.google.com/github/fabiobento/dnn-course-2024-1/blob/main/00_course_folder/nn_adv/class_02/Laborat%C3%B3rios/C2_W2_SoftMax.ipynb)\n",
        "\n",
        "Você recebe um erro assim que encontra um valor inesperado. Outra regra geral: o número de neurônios na última camada deve corresponder ao número de classes que você está classificando. Nesse caso, são os dígitos de 0 a 9, portanto, há 10 deles e, portanto, você deve ter 10 neurônios na camada final.\n",
        "\n",
        "</p>\n",
        "</details>"
      ]
    },
    {
      "cell_type": "code",
      "execution_count": null,
      "metadata": {
        "id": "MMckVntcSPvo"
      },
      "outputs": [],
      "source": [
        "fmnist = tf.keras.datasets.fashion_mnist\n",
        "\n",
        "(training_images, training_labels) ,  (test_images, test_labels) = fmnist.load_data()\n",
        "\n",
        "training_images = training_images/255.0\n",
        "test_images = test_images/255.0\n",
        "\n",
        "model = tf.keras.models.Sequential([tf.keras.layers.Flatten(),\n",
        "                                    tf.keras.layers.Dense(64, activation=tf.nn.relu),\n",
        "                                    tf.keras.layers.Dense(10, activation=tf.nn.softmax) # Tente fazer experimentos com essa camada\n",
        "                                  ])\n",
        "\n",
        "model.compile(optimizer = 'adam',\n",
        "              loss = 'sparse_categorical_crossentropy')\n",
        "\n",
        "model.fit(training_images, training_labels, epochs=5)\n",
        "\n",
        "model.evaluate(test_images, test_labels)\n",
        "\n",
        "classifications = model.predict(test_images)\n",
        "\n",
        "print(classifications[0])\n",
        "print(test_labels[0])"
      ]
    },
    {
      "cell_type": "markdown",
      "metadata": {
        "id": "-0lF5MuvSuZF"
      },
      "source": [
        "### Exercício 5: \n",
        "\n",
        "Considere os efeitos de camadas adicionais na rede. O que acontecerá se você adicionar outra camada entre a que tem 512 e a camada final com 10. \n",
        "\n",
        "<details><summary>Clique para Resposta</summary>\n",
        "<p>\n",
        "\n",
        "#### Resposta \n",
        "Não há um impacto significativo, porque esses dados são relativamente simples. Para dados muito mais complexos (incluindo imagens coloridas a serem classificadas como flores, que você verá mais a frente), geralmente são necessárias camadas extras. \n",
        "\n",
        "\n",
        "</p>\n",
        "</details>"
      ]
    },
    {
      "cell_type": "code",
      "execution_count": null,
      "metadata": {
        "id": "b1YPa6UhS8Es"
      },
      "outputs": [],
      "source": [
        "fmnist = tf.keras.datasets.fashion_mnist\n",
        "\n",
        "(training_images, training_labels) ,  (test_images, test_labels) = fmnist.load_data()\n",
        "\n",
        "training_images = training_images/255.0\n",
        "test_images = test_images/255.0\n",
        "\n",
        "model = tf.keras.models.Sequential([tf.keras.layers.Flatten(),\n",
        "                                    # Adicione uma camada aqui,\n",
        "                                    tf.keras.layers.Dense(256, activation=tf.nn.relu),\n",
        "                                    # Adicione uma camada aqui\n",
        "                                  ])\n",
        "\n",
        "model.compile(optimizer = 'adam',\n",
        "              loss = 'sparse_categorical_crossentropy')\n",
        "\n",
        "model.fit(training_images, training_labels, epochs=5)\n",
        "\n",
        "model.evaluate(test_images, test_labels)\n",
        "\n",
        "classifications = model.predict(test_images)\n",
        "\n",
        "print(classifications[0])\n",
        "print(test_labels[0])"
      ]
    },
    {
      "cell_type": "markdown",
      "metadata": {
        "id": "Bql9fyaNUSFy"
      },
      "source": [
        "### Exercício 6: \n",
        "\n",
        "### QUIZ E6Q1: Considere o impacto do treinamento por mais ou menos épocas.\n",
        "\n",
        "- Experimente 15 épocas - você provavelmente obterá um modelo com uma perda muito melhor do que aquele com 5\n",
        "- Experimente 30 épocas - você verá que o valor da perda diminui mais lentamente e, às vezes, aumenta. Provavelmente, você também verá que os resultados de `model.evaluate()` não melhoraram muito. Pode até ser um pouco pior.\n",
        "\n",
        "Esse é um efeito colateral do \"_overfitting_\".\n",
        "> Não faz sentido perder tempo treinando se não estiver melhorando a perda, certo? :)"
      ]
    },
    {
      "cell_type": "code",
      "execution_count": null,
      "metadata": {
        "id": "uE3esj9BURQe"
      },
      "outputs": [],
      "source": [
        "fmnist = tf.keras.datasets.fashion_mnist\n",
        "\n",
        "(training_images, training_labels) ,  (test_images, test_labels) = fmnist.load_data()\n",
        "\n",
        "training_images = training_images/255.0\n",
        "test_images = test_images/255.0\n",
        "\n",
        "model = tf.keras.models.Sequential([tf.keras.layers.Flatten(),\n",
        "                                    tf.keras.layers.Dense(128, activation=tf.nn.relu),\n",
        "                                    tf.keras.layers.Dense(10, activation=tf.nn.softmax)])\n",
        "\n",
        "model.compile(optimizer = 'adam',\n",
        "              loss = 'sparse_categorical_crossentropy')\n",
        "\n",
        "model.fit(training_images, training_labels, epochs=15) # Experimente o número de épocas\n",
        "\n",
        "model.evaluate(test_images, test_labels)\n"
      ]
    },
    {
      "cell_type": "markdown",
      "metadata": {
        "id": "HS3vVkOgCDGZ"
      },
      "source": [
        "### Exercício 7: \n",
        "\n",
        "Antes de treinar, você normalizou os dados, passando de valores de 0 a 255 para valores de 0 a 1.\n",
        "> Qual seria o impacto de remover isso?\n",
        "\n",
        "Aqui está o código completo para tentar fazer isso.\n",
        "\n",
        "***Por que você acha que obteve resultados diferentes?*** \n",
        "> Recorde o que conversamos sobre esse assunto no seguinte caderno: [Feature scaling e Taxa de Aprendizagem (Multi-Variável)](https://colab.research.google.com/github/fabiobento/dnn-course-2024-1/blob/main/00_course_folder/ml_intro/class_02/Laborat%C3%B3rios/C1_W2_Lab03_Feature_Scaling_and_Learning_Rate_Soln.ipynb)"
      ]
    },
    {
      "cell_type": "code",
      "execution_count": null,
      "metadata": {
        "id": "JDqNAqrpCNg0"
      },
      "outputs": [],
      "source": [
        "fmnist = tf.keras.datasets.fashion_mnist\n",
        "\n",
        "(training_images, training_labels) ,  (test_images, test_labels) = fmnist.load_data()\n",
        "\n",
        "training_images=training_images/255.0 # Experimente remover essa linha\n",
        "test_images=test_images/255.0 # Experimente remover essa linha\n",
        "model = tf.keras.models.Sequential([\n",
        "  tf.keras.layers.Flatten(),\n",
        "  tf.keras.layers.Dense(512, activation=tf.nn.relu),\n",
        "  tf.keras.layers.Dense(10, activation=tf.nn.softmax)\n",
        "])\n",
        "model.compile(optimizer='adam', loss='sparse_categorical_crossentropy')\n",
        "model.fit(training_images, training_labels, epochs=5)\n",
        "model.evaluate(test_images, test_labels)\n",
        "classifications = model.predict(test_images)\n",
        "print(classifications[0])\n",
        "print(test_labels[0])"
      ]
    },
    {
      "cell_type": "markdown",
      "metadata": {
        "id": "E7W2PT66ZBHQ"
      },
      "source": [
        "### Exercício 8: \n",
        "\n",
        "Anteriormente, quando você treinou por épocas extras, teve um problema em que sua perda ficava pior.\n",
        "> Você pode ter pensado \"não seria bom se eu pudesse interromper o treinamento quando atingisse um valor desejado?\"\n",
        "\n",
        "Ou seja, 60% de precisão pode ser suficiente para você e, se você atingir esse valor após 3 épocas, por que ficar esperando que ele termine muitas outras épocas se você tem os [_callbacks_](https://en.wikipedia.org/wiki/Callback_(computer_programming))!  :-)"
      ]
    },
    {
      "cell_type": "code",
      "execution_count": null,
      "metadata": {
        "id": "pkaEHHgqZbYv"
      },
      "outputs": [],
      "source": [
        "class myCallback(tf.keras.callbacks.Callback):\n",
        "  def on_epoch_end(self, epoch, logs={}):\n",
        "    if(logs.get('accuracy') >= 0.6): # Experimente alterar esse valor\n",
        "      print(\"\\nAtingiu 60% de precisão, portanto, cancelou o treinamento!\")\n",
        "      self.model.stop_training = True\n",
        "\n",
        "callbacks = myCallback()\n",
        "\n",
        "fmnist = tf.keras.datasets.fashion_mnist\n",
        "(training_images, training_labels) ,  (test_images, test_labels) = fmnist.load_data()\n",
        "\n",
        "training_images=training_images/255.0\n",
        "test_images=test_images/255.0\n",
        "model = tf.keras.models.Sequential([\n",
        "  tf.keras.layers.Flatten(),\n",
        "  tf.keras.layers.Dense(512, activation=tf.nn.relu),\n",
        "  tf.keras.layers.Dense(10, activation=tf.nn.softmax)\n",
        "])\n",
        "model.compile(optimizer='adam', loss='sparse_categorical_crossentropy', metrics=['accuracy'])\n",
        "model.fit(training_images, training_labels, epochs=5, callbacks=[callbacks])\n"
      ]
    }
  ],
  "metadata": {
    "colab": {
      "collapsed_sections": [],
      "name": "C1_W2_Lab_1_beyond_hello_world.ipynb",
      "private_outputs": true,
      "provenance": [],
      "toc_visible": true
    },
    "kernelspec": {
      "display_name": "dlai",
      "language": "python",
      "name": "python3"
    },
    "language_info": {
      "codemirror_mode": {
        "name": "ipython",
        "version": 3
      },
      "file_extension": ".py",
      "mimetype": "text/x-python",
      "name": "python",
      "nbconvert_exporter": "python",
      "pygments_lexer": "ipython3",
      "version": "3.11.0rc1"
    },
    "vscode": {
      "interpreter": {
        "hash": "bc58f1a9918615c43466b117602939cc46a8cba292d69906d63eff60c7bc7f26"
      }
    }
  },
  "nbformat": 4,
  "nbformat_minor": 0
}
