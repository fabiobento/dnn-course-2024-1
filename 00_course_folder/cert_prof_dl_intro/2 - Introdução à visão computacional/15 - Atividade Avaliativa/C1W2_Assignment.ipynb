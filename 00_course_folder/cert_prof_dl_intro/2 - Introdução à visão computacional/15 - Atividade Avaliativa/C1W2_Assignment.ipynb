{
 "cells": [
  {
   "cell_type": "markdown",
   "metadata": {},
   "source": [
    "<a href=\"https://colab.research.google.com/github/fabiobento/dnn-course-2024-1/blob/main/00_course_folder/cert_prof_dl_intro/2%20-%20Introdu%C3%A7%C3%A3o%20%C3%A0%20vis%C3%A3o%20computacional/15%20-%20Atividade%20Avaliativa/C1W2_Assignment.ipynb\" target=\"_parent\"><img src=\"https://colab.research.google.com/assets/colab-badge.svg\" alt=\"Open In Colab\"/></a>"
   ]
  },
  {
   "cell_type": "markdown",
   "metadata": {},
   "source": [
    "adaptado de [Certificado Profissional Desenvolvedor do TensorFlow para DeepLearning.AI](https://www.coursera.org/professional-certificates/tensorflow-in-practice) de [Laurence Moroney](https://laurencemoroney.com/)"
   ]
  },
  {
   "cell_type": "markdown",
   "metadata": {
    "id": "_2s0EJ5Fy4u2"
   },
   "source": [
    "# Laboratório Prático: Implementação de callbacks no TensorFlow usando o conjunto de dados MNIST\n",
    "\n",
    "No curso, você aprendeu a fazer a classificação usando o Fashion MNIST, um conjunto de dados que contém itens de vestuário. Há outro conjunto de dados semelhante, chamado MNIST, que contém itens de caligrafia - os dígitos de 0 a 9.\n",
    "\n",
    "Escreva um classificador MNIST que seja treinado com 99% de acurácia e pare quando esse limite for atingido. Na aula, você viu como isso foi feito para a perda, mas aqui você usará a acurácia.\n",
    "\n",
    "Algumas observações:\n",
    "1. Sua rede deve ser bem-sucedida em menos de 9 épocas.\n",
    "2. Quando atingir 99% ou mais, ela deverá imprimir a string \"Atingiu 99% de acurácia, portanto, cancelou o treinamento!\" e interromper o treinamento.\n",
    "3. Se você adicionar outras variáveis, certifique-se de usar os mesmos nomes das variáveis usadas na classe. Isso é importante para as assinaturas de função (os parâmetros e os nomes) dos retornos de chamada."
   ]
  },
  {
   "cell_type": "code",
   "execution_count": null,
   "metadata": {
    "tags": [
     "graded"
    ]
   },
   "outputs": [],
   "source": [
    "import os\n",
    "import tensorflow as tf\n",
    "from tensorflow import keras"
   ]
  },
  {
   "cell_type": "markdown",
   "metadata": {},
   "source": [
    "## Carregar e inspecionar os dados\n",
    "\n",
    "Comece carregando os dados. Alguns aspectos a serem observados:\n",
    "\n",
    "- O `load_data` retorna os conjuntos de treinamento e teste na forma de tuplas `(x_train, y_train), (x_test, y_test)`, mas neste exercício você precisará apenas do conjunto de treinamento, portanto, pode ignorar a segunda tupla."
   ]
  },
  {
   "cell_type": "code",
   "execution_count": null,
   "metadata": {
    "tags": [
     "graded"
    ]
   },
   "outputs": [],
   "source": [
    "# Carregar os dados\n",
    "#  e descartar o conjunto de testes\n",
    "(x_train, y_train), _ = tf.keras.datasets.mnist.load_data()\n",
    "        \n",
    "# Normalize os valores de pixel\n",
    "x_train = x_train / 255.0"
   ]
  },
  {
   "cell_type": "markdown",
   "metadata": {},
   "source": [
    "Agora, dê uma olhada na forma dos dados de treinamento:"
   ]
  },
  {
   "cell_type": "code",
   "execution_count": null,
   "metadata": {
    "tags": [
     "graded"
    ]
   },
   "outputs": [],
   "source": [
    "data_shape = x_train.shape\n",
    "\n",
    "print(f\"Existem {data_shape[0]} exemplos com formato ({data_shape[1]}, {data_shape[2]})\")"
   ]
  },
  {
   "cell_type": "markdown",
   "metadata": {},
   "source": [
    "## Definindo seu _callback_\n",
    "\n",
    "Agora é hora de criar seu próprio _callback_ personalizado.\n",
    "\n",
    "Para isso, complete a classe `myCallback` e o método `on_epoch_end` na célula abaixo.\n",
    "\n",
    "Se precisar de alguma orientação sobre como proceder, dê uma olhada neste [link](https://www.tensorflow.org/guide/keras/custom_callback)."
   ]
  },
  {
   "cell_type": "code",
   "execution_count": null,
   "metadata": {
    "tags": [
     "graded"
    ]
   },
   "outputs": [],
   "source": [
    "### INICIE SEU CÓDIGO AQUI\n",
    "\n",
    "# Lembre-se de herdar da classe correta\n",
    "class myCallback():\n",
    "    # Definir a assinatura correta da função para on_epoch_end\n",
    "    def on_epoch_end(None, None, None=None):\n",
    "        if logs.get('accuracy') is not None and logs.get('accuracy') > 0.99:\n",
    "            print(\"\\nAtingi 99% de acurácia, portanto, estou cancelando o treinamento!\") \n",
    "            # Interrompa o treinamento quando a condição acima for atendida\n",
    "            None = None\n",
    "\n",
    "### TERMINE SEU CÓDIGO AQUI\n"
   ]
  },
  {
   "cell_type": "markdown",
   "metadata": {},
   "source": [
    "## Crie e treine seu modelo\n",
    "\n",
    "Agora que você definiu o _callback_, é hora de concluir a função `train_mnist` abaixo. \n",
    "\n",
    "**Você deve definir seu modelo para treinar por 10 épocas e o retorno de chamada deve ser acionado antes da 9ª época para que você seja aprovado nesta tarefa."
   ]
  },
  {
   "cell_type": "code",
   "execution_count": null,
   "metadata": {
    "id": "rEHcB3kqyHZ6",
    "tags": [
     "graded"
    ]
   },
   "outputs": [],
   "source": [
    "def train_mnist(x_train, y_train):\n",
    "\n",
    "    ### INICIE SEU CÓDIGO AQUI\n",
    "    \n",
    "    # Instanciar a classe de retorno de chamada\n",
    "    callbacks = None\n",
    "    \n",
    "    # Defina o modelo    \n",
    "    model = tf.keras.models.Sequential([ \n",
    "        None,\n",
    "    ]) \n",
    "\n",
    "    # Compile o modelo\n",
    "    model.compile(optimizer='adam', \n",
    "                  loss='sparse_categorical_crossentropy', \n",
    "                  metrics=['accuracy']) \n",
    "    \n",
    "    # Ajuste o modelo para 10 épocas adicionando os callbacks\n",
    "    # e salve o histórico de treinamento\n",
    "    history = model.fit(None, None, epochs=None, callbacks=[None])\n",
    "\n",
    "    ### TERMINE SEU CÓDIGO AQUI\n",
    "\n",
    "    return history"
   ]
  },
  {
   "cell_type": "markdown",
   "metadata": {},
   "source": [
    "Chame o `train_mnist` passando os parâmetros apropriados para obter o histórico de treinamento:"
   ]
  },
  {
   "cell_type": "code",
   "execution_count": null,
   "metadata": {
    "id": "sFgpwbGly4u4",
    "tags": [
     "graded"
    ]
   },
   "outputs": [],
   "source": [
    "hist = train_mnist(x_train, y_train)"
   ]
  },
  {
   "cell_type": "markdown",
   "metadata": {},
   "source": [
    "Se você vir a mensagem `Atingi 99% de acurácia, portanto, estou cancelando o treinamento!` impressa após menos de 9 épocas, isso significa que o _callback_ funcionou conforme o esperado. "
   ]
  },
  {
   "cell_type": "markdown",
   "metadata": {},
   "source": [
    "**Parabéns por terminar essaa tarefa!***\n",
    "\n",
    "Você implementou com sucesso um _callback_ que lhe dá mais controle sobre o loop de treinamento do seu modelo. Bom trabalho!\n",
    "\n",
    "**Continue assim!***"
   ]
  }
 ],
 "metadata": {
  "jupytext": {
   "main_language": "python"
  },
  "kernelspec": {
   "display_name": "Python 3",
   "language": "python",
   "name": "python3"
  },
  "language_info": {
   "codemirror_mode": {
    "name": "ipython",
    "version": 3
   },
   "file_extension": ".py",
   "mimetype": "text/x-python",
   "name": "python",
   "nbconvert_exporter": "python",
   "pygments_lexer": "ipython3",
   "version": "3.11.0"
  }
 },
 "nbformat": 4,
 "nbformat_minor": 4
}
