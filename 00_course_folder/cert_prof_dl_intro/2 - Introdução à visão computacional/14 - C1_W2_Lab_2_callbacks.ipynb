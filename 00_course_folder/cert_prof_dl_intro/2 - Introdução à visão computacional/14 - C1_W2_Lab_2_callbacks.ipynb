{
 "cells": [
  {
   "cell_type": "markdown",
   "metadata": {},
   "source": [
    "<a href=\"https://colab.research.google.com/github/fabiobento/dnn-course-2024-1/blob/main/00_course_folder/cert_prof_dl_intro/2%20-%20Introdu%C3%A7%C3%A3o%20%C3%A0%20vis%C3%A3o%20computacional/14%20-%20C1_W2_Lab_2_callbacks.ipynb\" target=\"_parent\"><img src=\"https://colab.research.google.com/assets/colab-badge.svg\" alt=\"Open In Colab\"/></a>"
   ]
  },
  {
   "cell_type": "markdown",
   "metadata": {},
   "source": [
    "adaptado de [Certificado Profissional Desenvolvedor do TensorFlow para DeepLearning.AI](https://www.coursera.org/professional-certificates/tensorflow-in-practice) de [Laurence Moroney](https://laurencemoroney.com/)"
   ]
  },
  {
   "cell_type": "markdown",
   "metadata": {
    "id": "vBNo9JrZIYG6"
   },
   "source": [
    "# Usando Callbacks para Controlar o Treino\n",
    "\n",
    "Neste laboratório, você usará a [API de Callbacks API](https://keras.io/api/callbacks/) para interromper o treinamento quando uma métrica especificada for atingida.\n",
    "\n",
    "Esse é um recurso útil para que você não precise concluir todas as épocas quando esse limite for atingido.\n",
    "> Por exemplo, se você definir 1000 épocas e a precisão desejada já for atingida na época 200, o treinamento será automaticamente interrompido.\n",
    "\n",
    "Vamos ver como isso é implementado nas próximas seções."
   ]
  },
  {
   "cell_type": "markdown",
   "metadata": {
    "id": "Mcwrn9AKKVb8"
   },
   "source": [
    "## Carregar e normalizar o conjunto de dados Fashion MNIST\n",
    "\n",
    "Como no laboratório anterior, você usará o conjunto de dados Fashion MNIST novamente para este exercício.\n",
    "\n",
    "E também, como mencionado anteriormente, você normalizará os valores de pixel para ajudar a otimizar o treinamento."
   ]
  },
  {
   "cell_type": "code",
   "execution_count": null,
   "metadata": {
    "id": "8LTaefqDJMIn"
   },
   "outputs": [],
   "source": [
    "import tensorflow as tf\n",
    "\n",
    "# Instanciar a API do conjunto de dados\n",
    "fmnist = tf.keras.datasets.fashion_mnist\n",
    "\n",
    "# Carregar o conjunto de dados\n",
    "(x_train, y_train),(x_test, y_test) = fmnist.load_data()\n",
    "\n",
    "# Normalize os valores de pixel\n",
    "x_train, x_test = x_train / 255.0, x_test / 255.0"
   ]
  },
  {
   "cell_type": "markdown",
   "metadata": {
    "id": "Ia2OadhALJjS"
   },
   "source": [
    "## Criando uma classe Callback\n",
    "\n",
    "\n",
    "Você pode criar um _callback_ definindo uma classe que herda a classe base [tf.keras.callbacks.Callback](https://www.tensorflow.org/api_docs/python/tf/keras/callbacks/Callback).\n",
    "\n",
    "A partir daí, você pode definir os métodos disponíveis para definir onde o _callback_ será executado.\n",
    "\n",
    "Por exemplo, abaixo, você usará o método [on_epoch_end()](https://www.tensorflow.org/api_docs/python/tf)"
   ]
  },
  {
   "cell_type": "code",
   "execution_count": null,
   "metadata": {
    "id": "uuRmQZWVJAJH"
   },
   "outputs": [],
   "source": [
    "class myCallback(tf.keras.callbacks.Callback):\n",
    "  def on_epoch_end(self, epoch, logs={}):\n",
    "    '''\n",
    "    Interrompe o treinamento quando a perda cai abaixo de 0,4\n",
    "\n",
    "    Args:\n",
    "      epoch (integer) - índice da época (obrigatório, mas não utilizado na definição da função abaixo)\n",
    "      logs (dict) - resultados da métrica da época de treinamento\n",
    "    '''\n",
    "\n",
    "    # Check the loss\n",
    "    if(logs.get('loss') < 0.4):\n",
    "\n",
    "      # Stop if threshold is met\n",
    "      print(\"\\nA perda é menor que 0,4, portanto, o treinamento está sendo interrompido!\")\n",
    "      self.model.stop_training = True\n",
    "\n",
    "# Instantiate class\n",
    "callbacks = myCallback()"
   ]
  },
  {
   "cell_type": "markdown",
   "metadata": {
    "id": "4xlXeLkFeMn8"
   },
   "source": [
    "## Definir e compilar o modelo\n",
    "\n",
    "Em seguida, você definirá e compilará o modelo. A arquitetura será semelhante à que você criou no laboratório anterior. Depois disso, você definirá o otimizador, a perda e as métricas que serão usadas no treinamento."
   ]
  },
  {
   "cell_type": "code",
   "execution_count": null,
   "metadata": {
    "id": "7JXxMg3TpzER"
   },
   "outputs": [],
   "source": [
    "# Defina o modelo\n",
    "model = tf.keras.models.Sequential([\n",
    "  tf.keras.layers.Flatten(input_shape=(28, 28)),\n",
    "  tf.keras.layers.Dense(512, activation=tf.nn.relu),\n",
    "  tf.keras.layers.Dense(10, activation=tf.nn.softmax)\n",
    "])\n",
    "\n",
    "# Compile o modelo\n",
    "model.compile(optimizer=tf.optimizers.Adam(),\n",
    "              loss='sparse_categorical_crossentropy',\n",
    "              metrics=['accuracy'])\n",
    "\n"
   ]
  },
  {
   "cell_type": "markdown",
   "metadata": {
    "id": "6eLe4cPZe-ui"
   },
   "source": [
    "### Treinar o modelo\n",
    "\n",
    "Agora você está pronto para treinar o modelo. Para definir o _callback_, basta definir o parâmetro `callbacks` para a instância `myCallback` que você declarou anteriormente. Execute a célula abaixo e observe o que acontece."
   ]
  },
  {
   "cell_type": "code",
   "execution_count": null,
   "metadata": {
    "id": "nLXTB32de3_e"
   },
   "outputs": [],
   "source": [
    "# Treinar o modelo com um callback\n",
    "model.fit(x_train, y_train, epochs=10, callbacks=[callbacks])"
   ]
  },
  {
   "cell_type": "markdown",
   "metadata": {
    "id": "fGBSkRQPff93"
   },
   "source": [
    "Você perceberá que o treinamento não precisa concluir todas as 10 épocas.\n",
    "\n",
    "Por ter um retorno de chamada no final de cada época, ele pode verificar os parâmetros de treinamento e comparar se ele atende ao limite que você definiu na definição da função.\n",
    "> Nesse caso, ele simplesmente parará quando a perda cair abaixo de `0,40` após a época atual.\n",
    "\n",
    "*Desafio opcional: Modifique o código para que o treinamento seja interrompido quando a métrica de acurácia exceder 60%.\n",
    "\n",
    "Isso conclui esse exercício simples sobre callbacks!"
   ]
  }
 ],
 "metadata": {
  "colab": {
   "collapsed_sections": [],
   "name": "C1_W2_Lab_2_callbacks.ipynb",
   "private_outputs": true,
   "provenance": [
    {
     "file_id": "https://github.com/https-deeplearning-ai/tensorflow-1-public/blob/adding_C1/C1/W2/ungraded_labs/C1_W2_Lab_2_callbacks.ipynb",
     "timestamp": 1638884482962
    }
   ],
   "toc_visible": true
  },
  "kernelspec": {
   "display_name": "Python 3",
   "language": "python",
   "name": "python3"
  },
  "language_info": {
   "codemirror_mode": {
    "name": "ipython",
    "version": 3
   },
   "file_extension": ".py",
   "mimetype": "text/x-python",
   "name": "python",
   "nbconvert_exporter": "python",
   "pygments_lexer": "ipython3",
   "version": "3.11.0rc1"
  }
 },
 "nbformat": 4,
 "nbformat_minor": 1
}
