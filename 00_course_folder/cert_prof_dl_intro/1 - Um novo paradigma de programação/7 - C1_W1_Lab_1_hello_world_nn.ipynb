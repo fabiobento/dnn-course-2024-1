{
 "cells": [
  {
   "cell_type": "markdown",
   "metadata": {},
   "source": [
    "<a href=\"https://colab.research.google.com/github/fabiobento/dnn-course-2024-1/blob/main/00_course_folder/cert_prof_dl_intro/1%20-%20Um%20novo%20paradigma%20de%20programa%C3%A7%C3%A3o/7%20-%20C1_W1_Lab_1_hello_world_nn.ipynb\" target=\"_parent\"><img src=\"https://colab.research.google.com/assets/colab-badge.svg\" alt=\"Open In Colab\"/></a>"
   ]
  },
  {
   "cell_type": "markdown",
   "metadata": {},
   "source": [
    "adaptado de [Certificado Profissional Desenvolvedor do TensorFlow](https://www.coursera.org/professional-certificates/tensorflow-in-practice) de [Laurence Moroney](https://laurencemoroney.com/)"
   ]
  },
  {
   "cell_type": "markdown",
   "metadata": {
    "id": "ZIAkIlfmCe1B"
   },
   "source": [
    "# O Hello World da aprendizagem profunda com redes neurais"
   ]
  },
  {
   "cell_type": "markdown",
   "metadata": {
    "id": "fA93WUy1zzWf"
   },
   "source": [
    "Como todo primeiro aplicativo, você deve começar com algo muito simples que mostre a estrutura geral de como seu código funciona.\n",
    "\n",
    "No caso da criação de redes neurais, um caso simples é quando ela aprende a relação entre dois números. Assim, por exemplo, se estiver escrevendo código para uma função como esta, você já conhece as \"regras\": \n",
    "\n",
    "\n",
    "```\n",
    "def hw_function(x):\n",
    "    y = (2 * x) - 1\n",
    "    return y\n",
    "```\n",
    "\n",
    "Então, como você treinaria uma rede neural para realizar a tarefa equivalente?\n",
    "> Usando dados!\n",
    "\n",
    "Ao alimentá-la com um conjunto de xs e ys, ela deve ser capaz de descobrir a relação entre eles."
   ]
  },
  {
   "cell_type": "markdown",
   "metadata": {
    "id": "DzbtdRcZDO9B"
   },
   "source": [
    "## Importações de bibliotecas\n",
    "\n",
    "Vamos começar com as importações. Aqui, você está importando o [TensorFlow](https://www.tensorflow.org/) e chamando-o de `tf` por convenção e facilidade de uso.\n",
    "\n",
    "Em seguida, você importa uma biblioteca chamada [`numpy`](https://numpy.org) que ajuda a representar dados como matrizes facilmente e a otimizar operações numéricas.\n",
    "\n",
    "O _framework_ que você usará para criar uma rede neural como uma sequência de camadas chama-se [`keras`](https://keras.io/) e, portanto, você também a importará.\n",
    "\n"
   ]
  },
  {
   "cell_type": "code",
   "execution_count": null,
   "metadata": {
    "id": "X9uIpOS2zx7k"
   },
   "outputs": [],
   "source": [
    "import tensorflow as tf\n",
    "import numpy as np\n",
    "from tensorflow import keras\n",
    "\n",
    "print(tf.__version__)"
   ]
  },
  {
   "cell_type": "markdown",
   "metadata": {
    "id": "wwJGmDrQ0EoB"
   },
   "source": [
    "## Definir e compilar a rede neural\n",
    "\n",
    "A seguir, você criará a rede neural mais simples possível.\n",
    "> Ela tem uma camada com um neurônio, e a forma de entrada para ela é apenas um valor.\n",
    "\n",
    "Você criará esse modelo usando a classe [Sequential](https://keras.io/api/models/sequential/) do Keras, que permite definir a rede como uma sequência de [camadas](https://keras.io/api/layers/).\n",
    "\n",
    "Você pode usar uma única camada [Dense](https://keras.io/api/layers/core_layers/dense/) para criar essa rede simples, conforme mostrado abaixo."
   ]
  },
  {
   "cell_type": "code",
   "execution_count": null,
   "metadata": {
    "id": "kQFAr_xo0M4T"
   },
   "outputs": [],
   "source": [
    "# Criar um modelo sequencial simples\n",
    "model = tf.keras.Sequential([keras.layers.Dense(units=1, input_shape=[1])])"
   ]
  },
  {
   "cell_type": "markdown",
   "metadata": {
    "id": "KhjZjZ-c0Ok9"
   },
   "source": [
    "Agora, você compilará a rede neural. Ao fazer isso, você precisa especificar duas funções: uma [loss](https://keras.io/api/losses/) e um [optimizer](https://keras.io/api/optimizers/).\n",
    "\n",
    "Até aqui você já viu muita matemática para aprendizado de máquina, correto? :-)\n",
    "É aqui que as equações geralmente são usadas.\n",
    "\n",
    "Mas, nesse caso, ela está bem encapsulada em funções e classes para você. Mas o que acontece aqui? Vamos explicar...\n",
    "* Você sabe que na função declarada no início deste notebook, a relação entre os números é `y=2x-1`.\n",
    "* Quando o computador está tentando \"aprender\" isso, ele faz uma suposição... talvez `y=10x+10`.\n",
    "* A função `loss` mede as respostas adivinhadas em comparação com as respostas corretas conhecidas e mede se o resultado foi bom ou ruim.\n",
    "* Em seguida, ela usa a função `optimizer` para fazer outra estimativa. Com base no resultado da função de perda, ele tentará minimizar a perda.\n",
    "> Nesse ponto, talvez ele chegue a algo como `y=5x+5`, que, embora ainda seja muito ruim, está mais próximo do resultado correto (ou seja, a perda é menor).\n",
    "* Isso será repetido para o número de _epochs_ que você verá em breve.\n",
    "> Mas, primeiro, veja como você dirá a ele para usar [mean squared error](https://keras.io/api/losses/regression_losses/#meansquarederror-function) para a perda e [stochastic gradient descent](https://keras.io/api/optimizers/sgd/) para o otimizador.\n",
    "\n",
    "Com o tempo, você aprenderá as funções diferentes e apropriadas de perda e otimizador para diferentes cenários."
   ]
  },
  {
   "cell_type": "code",
   "execution_count": null,
   "metadata": {
    "id": "m8YQN1H41L-Y"
   },
   "outputs": [],
   "source": [
    "# Compile o modelo\n",
    "model.compile(optimizer='sgd', loss='mean_squared_error')"
   ]
  },
  {
   "cell_type": "markdown",
   "metadata": {
    "id": "5QyOUhFw1OUX"
   },
   "source": [
    "## Fornecendo os dados\n",
    "\n",
    "Em seguida, você fornecerá alguns dados. Nesse caso, você está pegando 6 X's e 6 Y's. Você pode ver que a relação entre eles é `y=2x-1`, portanto, onde `x = -1`, `y=-3` etc. \n",
    "\n",
    "A maneira típica de declarar as entradas e saídas do modelo é usar o `numpy`, uma biblioteca Python que fornece muitas estruturas de dados do tipo array.\n",
    "> Você pode especificar esses valores criando matrizes numpy com [`np.array()`](https://numpy.org/doc/stable/reference/generated/numpy.array.html)."
   ]
  },
  {
   "cell_type": "code",
   "execution_count": null,
   "metadata": {
    "id": "4Dxk4q-jzEy4"
   },
   "outputs": [],
   "source": [
    "# Declarar entradas e saídas do modelo para treinamento\n",
    "xs = np.array([-1.0,  0.0, 1.0, 2.0, 3.0, 4.0], dtype=float)\n",
    "ys = np.array([-3.0, -1.0, 1.0, 3.0, 5.0, 7.0], dtype=float)"
   ]
  },
  {
   "cell_type": "markdown",
   "metadata": {
    "id": "n_YcWRElnM_b"
   },
   "source": [
    "# Treinamento da rede neural\n",
    "\n",
    "O processo de treinamento da rede neural, em que ela \"aprende\" a relação entre os x e os y, está na chamada [`model.fit()`](https://keras.io/api/models/model_training_apis/#fit-method).\n",
    "> É aqui que a rede passa pelo loop de que falamos acima: faz um palpite, mede o quão bom ou ruim ele é (também conhecido como perda), usa o otimizador para fazer outro palpite etc.\n",
    "\n",
    "O treinamento ocorrerá para o número de \"epochs\" que você especificar. Ao executar esse código, você pode acompanhar a perda no lado direito."
   ]
  },
  {
   "cell_type": "code",
   "execution_count": null,
   "metadata": {
    "id": "lpRrl7WK10Pq"
   },
   "outputs": [],
   "source": [
    "# Treinar o modelo\n",
    "model.fit(xs, ys, epochs=500)"
   ]
  },
  {
   "cell_type": "markdown",
   "metadata": {
    "id": "kaFIr71H2OZ-"
   },
   "source": [
    "Ok, agora você tem um modelo que foi treinado para aprender a relação entre `x` e `y`.\n",
    "\n",
    "Você pode usar o método [`model.predict()`](https://keras.io/api/models/model_training_apis/#predict-method) para que ele descubra o `y` para um `x` previamente desconhecido.\n",
    "\n",
    "Assim, por exemplo, se `x=10`, qual você acha que será `y`? Tente adivinhar antes de executar esse código:"
   ]
  },
  {
   "cell_type": "code",
   "execution_count": null,
   "metadata": {
    "id": "oxNzL4lS2Gui"
   },
   "outputs": [],
   "source": [
    "# Fazer uma predição\n",
    "print(model.predict([10.0]))"
   ]
  },
  {
   "cell_type": "markdown",
   "metadata": {
    "id": "btF2CSFH2iEX"
   },
   "source": [
    "Você deve ter pensado em \"19\", certo? Mas acabou ficando um pouco abaixo. Por que você acha que isso aconteceu? \n",
    "\n",
    "Lembre-se de que as redes neurais lidam com probabilidades:\n",
    "> Portanto, com base nos dados que alimentamos o modelo, ele calculou que há uma probabilidade muito alta de que a relação entre `x` e `y` seja `y=2x-1`, mas com apenas 6 pontos de dados não podemos ter certeza.\n",
    "> Com isso, o resultado para 10 é muito próximo de 19, mas não necessariamente 19.\n",
    "\n",
    "Ao trabalhar com redes neurais, você verá que esse padrão é recorrente:\n",
    "> Você quase sempre lidará com probabilidades, não com certezas, e fará um pouco de codificação para descobrir qual é o resultado com base nas probabilidades, principalmente quando se trata de classificação.\n"
   ]
  }
 ],
 "metadata": {
  "colab": {
   "collapsed_sections": [],
   "name": "C1_W1_Lab_1_hello_world_nn.ipynb",
   "private_outputs": true,
   "provenance": [
    {
     "file_id": "https://github.com/https-deeplearning-ai/tensorflow-1-public/blob/main/C1/W1/ungraded_lab/C1_W1_Lab_1_hello_world_nn.ipynb",
     "timestamp": 1637670538744
    }
   ],
   "toc_visible": true
  },
  "kernelspec": {
   "display_name": "Python 3",
   "language": "python",
   "name": "python3"
  },
  "language_info": {
   "codemirror_mode": {
    "name": "ipython",
    "version": 3
   },
   "file_extension": ".py",
   "mimetype": "text/x-python",
   "name": "python",
   "nbconvert_exporter": "python",
   "pygments_lexer": "ipython3",
   "version": "3.11.0"
  }
 },
 "nbformat": 4,
 "nbformat_minor": 1
}
