{
 "cells": [
  {
   "cell_type": "markdown",
   "metadata": {},
   "source": [
    "<a href=\"https://colab.research.google.com/github/fabiobento/dnn-course-2024-1/blob/main/00_course_folder/cert_prof_dl_intro/1%20-%20Um%20novo%20paradigma%20de%20programa%C3%A7%C3%A3o/8%20-%20Atividade%20Avaliativa/C1W1_Assignment.ipynb\" target=\"_parent\"><img src=\"https://colab.research.google.com/assets/colab-badge.svg\" alt=\"Open In Colab\"/></a>"
   ]
  },
  {
   "cell_type": "markdown",
   "metadata": {},
   "source": [
    "adaptado de [Certificado Profissional Desenvolvedor do TensorFlow para DeepLearning.AI](https://www.coursera.org/professional-certificates/tensorflow-in-practice) de [Laurence Moroney](https://laurencemoroney.com/)"
   ]
  },
  {
   "cell_type": "markdown",
   "metadata": {
    "id": "mw2VBrBcgvGa"
   },
   "source": [
    "# Atividade Avaliativa: Preços de moradias\n",
    "\n",
    "Neste exercício, você tentará criar uma rede neural que preveja o preço de uma casa de acordo com uma fórmula simples.\n",
    "\n",
    "Imagine que o preço de uma casa seja tão fácil quanto:\n",
    "* Uma casa tem um custo básico de 50 mil, e cada quarto adicional acrescenta um custo de 50 mil. Isso fará com que uma casa de 1 quarto custe 100 mil, uma casa de 2 quartos custe 150 mil etc.\n",
    "\n",
    "Como você criaria uma rede neural que aprendesse essa relação de modo a prever que uma casa de 7 quartos custaria cerca de 400 mil etc.?\n",
    "\n",
    "Dica: sua rede pode funcionar melhor se você reduzir o preço da casa. Você não precisa dar a resposta 400... talvez seja melhor criar algo que preveja o número 4 e, então, sua resposta estará na casa das \"centenas de milhares\" etc."
   ]
  },
  {
   "cell_type": "code",
   "execution_count": null,
   "metadata": {
    "id": "PUNO2E6SeURH",
    "tags": [
     "graded"
    ]
   },
   "outputs": [],
   "source": [
    "import tensorflow as tf\n",
    "import numpy as np"
   ]
  },
  {
   "cell_type": "code",
   "execution_count": null,
   "metadata": {
    "id": "B-74xrKrBqGJ",
    "tags": [
     "graded"
    ]
   },
   "outputs": [],
   "source": [
    "def house_model():\n",
    "    ### INICIE SEU CÓDIGO AQUI\n",
    "    # Defina os tensores de entrada e saída com os valores das casas de 1 a 6 quartos\n",
    "    # Dica: lembre-se de definir explicitamente o dtype como float\n",
    "    xs = None\n",
    "    ys = None\n",
    "    \n",
    "    # Defina seu modelo (deve ser um modelo com 1 camada densa e 1 unidade)\n",
    "    model = None\n",
    "    \n",
    "    # Compile seu modelo\n",
    "    # Defina o otimizador como Stochastic Gradient Descent\n",
    "    # e use o erro médio quadrático como função de perda\n",
    "    model.compile(optimizer=None, loss=None)\n",
    "    \n",
    "    # Treine seu modelo para 1000 épocas alimentando os tensores i/o\n",
    "    model.fit(None, None, epochs=None)\n",
    "    \n",
    "    ### TERMINE SEU CÓDIGO AQUI\n",
    "    return model"
   ]
  },
  {
   "cell_type": "markdown",
   "metadata": {},
   "source": [
    "Agora que você tem uma função que retorna um modelo compilado e treinado quando invocada, use-a para obter o modelo para prever o preço das casas: "
   ]
  },
  {
   "cell_type": "code",
   "execution_count": null,
   "metadata": {
    "tags": [
     "graded"
    ]
   },
   "outputs": [],
   "source": [
    "# Obtenha seu modelo treinado\n",
    "model = house_model()"
   ]
  },
  {
   "cell_type": "markdown",
   "metadata": {},
   "source": [
    "Agora que seu modelo terminou de ser treinado, é hora de testá-lo! Você pode fazer isso executando a próxima célula."
   ]
  },
  {
   "cell_type": "code",
   "execution_count": null,
   "metadata": {
    "id": "kMlInDdSBqGK",
    "tags": [
     "graded"
    ]
   },
   "outputs": [],
   "source": [
    "new_y = 7.0\n",
    "prediction = model.predict([new_y])[0]\n",
    "print(prediction)"
   ]
  },
  {
   "cell_type": "markdown",
   "metadata": {},
   "source": [
    "Se tudo ocorreu como esperado, você deverá ver um valor de previsão muito próximo de 4.\n",
    "> **Caso contrário, tente ajustar seu código antes de enviar o trabalho.**\n",
    "\n",
    "Observe que você pode brincar com o valor de `new_y` para obter previsões diferentes.\n",
    "\n",
    "Em geral, você deve perceber que a rede foi capaz de aprender a relação linear entre `x` e `y`; portanto, se você usar um valor de 8,0, deverá obter uma previsão próxima de 4,5 e assim por diante."
   ]
  }
 ],
 "metadata": {
  "kernelspec": {
   "display_name": "Python 3",
   "language": "python",
   "name": "python3"
  },
  "language_info": {
   "codemirror_mode": {
    "name": "ipython",
    "version": 3
   },
   "file_extension": ".py",
   "mimetype": "text/x-python",
   "name": "python",
   "nbconvert_exporter": "python",
   "pygments_lexer": "ipython3",
   "version": "3.8.8"
  }
 },
 "nbformat": 4,
 "nbformat_minor": 4
}
