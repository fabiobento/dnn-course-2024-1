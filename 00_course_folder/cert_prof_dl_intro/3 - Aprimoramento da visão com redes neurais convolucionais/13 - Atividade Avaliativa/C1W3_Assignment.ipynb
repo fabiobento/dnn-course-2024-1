{
 "cells": [
  {
   "cell_type": "markdown",
   "metadata": {},
   "source": [
    "<a href=\"https://colab.research.google.com/github/fabiobento/dnn-course-2024-1/blob/main/00_course_folder/cert_prof_dl_intro/3%20-%20Aprimoramento%20da%20vis%C3%A3o%20com%20redes%20neurais%20convolucionais/13%20-%20Atividade%20Avaliativa/C1W3_Assignment.ipynb\" target=\"_parent\"><img src=\"https://colab.research.google.com/assets/colab-badge.svg\" alt=\"Open In Colab\"/></a>"
   ]
  },
  {
   "cell_type": "markdown",
   "metadata": {},
   "source": [
    "adaptado de [Certificado Profissional Desenvolvedor do TensorFlow](https://www.coursera.org/professional-certificates/tensorflow-in-practice) de [Laurence Moroney](https://laurencemoroney.com/)"
   ]
  },
  {
   "cell_type": "markdown",
   "metadata": {
    "id": "iQjHqsmTAVLU"
   },
   "source": [
    "# Laboratório Prático: Aprimorar o MNIST com Convoluções\n",
    "\n",
    "Nos vídeos, você viu como melhorar o Fashion MNIST usando convoluções. Para este exercício, veja se você pode melhorar o MNIST para 99,5% de precisão ou mais adicionando apenas uma única camada convolucional e uma única camada MaxPooling 2D ao modelo da tarefa da semana anterior. \n",
    "\n",
    "Você deve interromper o treinamento quando a precisão ultrapassar esse valor. Isso deve ocorrer em menos de 10 épocas, portanto, não há problema em codificar o número de épocas para o treinamento, mas o treinamento deve terminar quando atingir a métrica acima. Se isso não acontecer, você precisará reprojetar seu retorno de chamada.\n",
    "\n",
    "Quando a precisão de 99,5% for atingida, você deverá imprimir a string \"Reached 99.5% accuracy so cancelling training!\" (Atingiu a precisão de 99,5%, portanto, cancelando o treinamento).\n"
   ]
  },
  {
   "cell_type": "code",
   "execution_count": null,
   "metadata": {
    "id": "ZpztRwBouwYp",
    "tags": [
     "graded"
    ]
   },
   "outputs": [],
   "source": [
    "import os\n",
    "import numpy as np\n",
    "import tensorflow as tf\n",
    "from tensorflow import keras"
   ]
  },
  {
   "cell_type": "markdown",
   "metadata": {},
   "source": [
    "## Carregar os dados\n",
    "\n",
    "Comece carregando os dados. Alguns aspectos a serem observados:\n",
    "- O `load_data` retorna os conjuntos de treinamento e teste na forma de tuplas `(x_train, y_train), (x_test, y_test)`, mas neste exercício você precisará apenas do conjunto de treinamento, portanto, pode ignorar a segunda tupla."
   ]
  },
  {
   "cell_type": "code",
   "execution_count": null,
   "metadata": {
    "tags": [
     "graded"
    ]
   },
   "outputs": [],
   "source": [
    "# Carregar os dados\n",
    "#  e descartar o conjunto de testes\n",
    "(x_train, y_train), _ = tf.keras.datasets.mnist.load_data()"
   ]
  },
  {
   "cell_type": "markdown",
   "metadata": {},
   "source": [
    "## Pré-processamento dos dados\n",
    "\n",
    "Uma etapa importante ao lidar com dados de imagem é o pré-processamento dos dados. Durante a etapa de pré-processamento, você pode aplicar transformações ao conjunto de dados que será alimentado em sua rede neural convolucional.\n",
    "\n",
    "Aqui, você aplicará duas transformações aos dados:\n",
    "- Remodelar os dados para que eles tenham uma dimensão extra. A razão para isso \n",
    "é que geralmente você usa matrizes tridimensionais (sem contar a dimensão do lote) para representar dados de imagem. A terceira dimensão representa a cor usando valores RGB. Como esses dados podem estar em formato preto e branco, a terceira dimensão não acrescenta nenhuma informação adicional ao processo de classificação, mas é uma boa prática.\n",
    "\n",
    "\n",
    "- Normalize os valores de pixel de modo que sejam valores entre 0 e 1. Para isso, divida cada valor da matriz pelo valor máximo.\n",
    "\n",
    "Lembre-se de que esses tensores são do tipo `numpy.ndarray`, portanto, você pode usar funções como [reshape](https://numpy.org/doc/stable/reference/generated/numpy.reshape.html) ou [divide](https://numpy.org/doc/stable/reference/generated/numpy.divide.html) para completar a função `reshape_and_normalize` abaixo:"
   ]
  },
  {
   "cell_type": "code",
   "execution_count": null,
   "metadata": {
    "tags": [
     "graded"
    ]
   },
   "outputs": [],
   "source": [
    "def reshape_and_normalize(images):\n",
    "    \n",
    "    ### INICIE SEU CÓDIGO AQUI\n",
    "\n",
    "    # Remodelar as imagens para adicionar uma dimensão extra\n",
    "    images = None\n",
    "    \n",
    "    # Normalize os valores de pixel\n",
    "    images = None\n",
    "    \n",
    "    ### TERMINE SEU CÓDIGO AQUI\n",
    "\n",
    "    return images"
   ]
  },
  {
   "cell_type": "markdown",
   "metadata": {},
   "source": [
    "Teste sua função com a próxima célula:"
   ]
  },
  {
   "cell_type": "code",
   "execution_count": null,
   "metadata": {
    "tags": [
     "graded"
    ]
   },
   "outputs": [],
   "source": [
    "# Recarregue as imagens caso você execute essa célula várias vezes\n",
    "(training_images, _), _ = tf.keras.datasets.mnist.load_data() \n",
    "\n",
    "# Aplique sua função\n",
    "training_images = reshape_and_normalize(training_images)\n",
    "\n",
    "print(f\"Valor máximo do pixel após a normalização: {np.max(training_images)}\\n\")\n",
    "print(f\"Forma do conjunto de treinamento após a remodelagem: {training_images.shape}\\n\")\n",
    "print(f\"Shape of the training set after reshaping: {training_images[0].shape}\")\n"
   ]
  },
  {
   "cell_type": "markdown",
   "metadata": {},
   "source": [
    "**Saída Esperada:**\n",
    "```\n",
    "Maximum pixel value after normalization: 1.0\n",
    "\n",
    "Forma do conjunto de treinamento após a remodelagem: (60000, 28, 28, 1)\n",
    "\n",
    "Forma de uma imagem após a remodelagem: (28, 28, 1)\n",
    "```"
   ]
  },
  {
   "cell_type": "markdown",
   "metadata": {},
   "source": [
    "## Definindo seu _callback_\n",
    "\n",
    "Agora, conclua a chamada de retorno que garantirá que o treinamento será interrompido depois que uma precisão de 99,5% for atingida:"
   ]
  },
  {
   "cell_type": "code",
   "execution_count": null,
   "metadata": {
    "tags": [
     "graded"
    ]
   },
   "outputs": [],
   "source": [
    "### INICIE SEU CÓDIGO AQUI\n",
    "\n",
    "# Lembre-se de herdar da classe correta\n",
    "class myCallback():\n",
    "    # Defina o método que verifica a precisão no final de cada época\n",
    "    pass\n",
    "\n",
    "### TERMINE SEU CÓDIGO AQUI\n"
   ]
  },
  {
   "cell_type": "markdown",
   "metadata": {},
   "source": [
    "## Modelo convolucional\n",
    "\n",
    "Por fim, complete a função `convolutional_model` abaixo. Essa função deve retornar sua rede neural convolucional.\n",
    "\n",
    "**Seu modelo deve atingir uma precisão de 99,5% ou mais antes de 10 épocas para ser aprovado nesta tarefa.**\n",
    "\n",
    "**Dicas:**\n",
    "- Você pode tentar qualquer arquitetura para a rede, mas lembre-se de que não precisa de uma complexa. Por exemplo, é necessária apenas uma camada convolucional."
   ]
  },
  {
   "cell_type": "code",
   "execution_count": null,
   "metadata": {
    "tags": [
     "graded"
    ]
   },
   "outputs": [],
   "source": [
    "def convolutional_model():\n",
    "    ### INICIE SEU CÓDIGO AQUI\n",
    "\n",
    "    # Defina o modelo\n",
    "    model = tf.keras.models.Sequential([ \n",
    "      None,\n",
    "    ]) \n",
    "\n",
    "    ### TERMINE SEU CÓDIGO AQUI\n",
    "\n",
    "    # Compile o modelo\n",
    "    model.compile(optimizer='adam', \n",
    "                  loss='sparse_categorical_crossentropy', \n",
    "                  metrics=['accuracy']) \n",
    "        \n",
    "    return model"
   ]
  },
  {
   "cell_type": "code",
   "execution_count": null,
   "metadata": {
    "tags": [
     "graded"
    ]
   },
   "outputs": [],
   "source": [
    "# Salve seu modelo não treinado\n",
    "model = convolutional_model()\n",
    "\n",
    "# Instanciar a classe de retorno de chamada\n",
    "callbacks = myCallback()\n",
    "\n",
    "# Treine seu modelo (isso pode levar até 5 minutos)\n",
    "history = model.fit(training_images, training_labels, epochs=10, callbacks=[callbacks])"
   ]
  },
  {
   "cell_type": "markdown",
   "metadata": {},
   "source": [
    "Se a mensagem que você definiu em sua callback for impressa após menos de 10 épocas, isso significa que sua callback funcionou conforme o esperado. Você também pode verificar novamente executando a seguinte célula:"
   ]
  },
  {
   "cell_type": "code",
   "execution_count": null,
   "metadata": {
    "tags": [
     "graded"
    ]
   },
   "outputs": [],
   "source": [
    "print(f\" Seu modelo foi treinado para {len(history.epoch)} épocas\")"
   ]
  }
 ],
 "metadata": {
  "jupytext": {
   "main_language": "python"
  },
  "kernelspec": {
   "display_name": "Python 3",
   "language": "python",
   "name": "python3"
  },
  "language_info": {
   "codemirror_mode": {
    "name": "ipython",
    "version": 3
   },
   "file_extension": ".py",
   "mimetype": "text/x-python",
   "name": "python",
   "nbconvert_exporter": "python",
   "pygments_lexer": "ipython3",
   "version": "3.8.8"
  }
 },
 "nbformat": 4,
 "nbformat_minor": 4
}
