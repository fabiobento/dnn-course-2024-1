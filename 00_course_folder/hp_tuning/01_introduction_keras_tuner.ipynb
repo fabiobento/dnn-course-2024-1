{
 "cells": [
  {
   "cell_type": "markdown",
   "metadata": {},
   "source": [
    "<a href=\"https://colab.research.google.com/github/fabiobento/dnn-course-2024-1/blob/main/00_course_folder/hp_tuning/01_introduction_keras_tuner.ipynb\" target=\"_parent\"><img src=\"https://colab.research.google.com/assets/colab-badge.svg\" alt=\"Open In Colab\"/></a>"
   ]
  },
  {
   "cell_type": "markdown",
   "metadata": {},
   "source": [
    "Adaptado de [Introdução ao sintonizador Keras ](https://www.tensorflow.org/tutorials/keras/keras_tuner?hl=pt-br) dos tutoriais do [Tensorflow Core](https://www.tensorflow.org/tutorials?hl=pt-br)."
   ]
  },
  {
   "cell_type": "markdown",
   "metadata": {
    "id": "qFdPvlXBOdUN"
   },
   "source": [
    "# Introdução ao sintonizador Keras "
   ]
  },
  {
   "cell_type": "markdown",
   "metadata": {},
   "source": [
    "## Visão geral\n",
    "\n",
    "O Keras Tuner é uma biblioteca que ajuda você a escolher o conjunto ideal de hiperparâmetros para o seu programa TensorFlow. O processo de seleção do conjunto correto de hiperparâmetros para seu aplicativo de aprendizado de máquina (ML) é chamado de *ajuste de hiperparâmetros*(_hyperpameter tuning_) .\n",
    "\n",
    "Os hiperparâmetros são as variáveis que governam o processo de treinamento e a topologia de um modelo de ML. Essas variáveis permanecem constantes durante o processo de treinamento e afetam diretamente o desempenho do seu programa de ML.\n",
    "\n",
    "Os hiperparâmetros são de dois tipos:\n",
    "1. **Hiperparâmetros do modelo** que influenciam a seleção do modelo, como a quantidade e a largura das camadas ocultas\n",
    "2. **Hiperparâmetros do algoritmo** que influenciam a velocidade e a qualidade do algoritmo de aprendizado, como a taxa de aprendizado para o Stochastic Gradient Descent (SGD) e o número de vizinhos mais próximos para um classificador k Nearest Neighbors (KNN).\n",
    "\n",
    "Neste tutorial, você usará o Keras Tuner para realizar o ajuste de hiperparâmetros para um aplicativo de classificação de imagens."
   ]
  },
  {
   "cell_type": "markdown",
   "metadata": {
    "id": "MUXex9ctTuDB"
   },
   "source": [
    "## Configuração"
   ]
  },
  {
   "cell_type": "code",
   "execution_count": 2,
   "metadata": {
    "execution": {
     "iopub.execute_input": "2023-12-07T03:19:58.047090Z",
     "iopub.status.busy": "2023-12-07T03:19:58.046855Z",
     "iopub.status.idle": "2023-12-07T03:20:00.418703Z",
     "shell.execute_reply": "2023-12-07T03:20:00.418001Z"
    },
    "id": "IqR2PQG4ZaZ0"
   },
   "outputs": [],
   "source": [
    "import tensorflow as tf\n",
    "from tensorflow import keras"
   ]
  },
  {
   "cell_type": "markdown",
   "metadata": {
    "id": "g83Lwsy-Aq2_"
   },
   "source": [
    "Instale e importe o Keras Tuner."
   ]
  },
  {
   "cell_type": "code",
   "execution_count": 3,
   "metadata": {
    "execution": {
     "iopub.execute_input": "2023-12-07T03:20:00.423105Z",
     "iopub.status.busy": "2023-12-07T03:20:00.422681Z",
     "iopub.status.idle": "2023-12-07T03:20:02.778604Z",
     "shell.execute_reply": "2023-12-07T03:20:02.777563Z"
    },
    "id": "hpMLpbt9jcO6"
   },
   "outputs": [],
   "source": [
    "!pip install -q -U keras-tuner"
   ]
  },
  {
   "cell_type": "code",
   "execution_count": 4,
   "metadata": {
    "execution": {
     "iopub.execute_input": "2023-12-07T03:20:02.783518Z",
     "iopub.status.busy": "2023-12-07T03:20:02.782775Z",
     "iopub.status.idle": "2023-12-07T03:20:03.130579Z",
     "shell.execute_reply": "2023-12-07T03:20:03.129567Z"
    },
    "id": "_leAIdFKAxAD"
   },
   "outputs": [],
   "source": [
    "import keras_tuner as kt"
   ]
  },
  {
   "cell_type": "markdown",
   "metadata": {
    "id": "ReV_UXOgCZvx"
   },
   "source": [
    "## Faça o download e prepare o conjunto de dados\n",
    "\n",
    "Neste tutorial, você usará o Keras Tuner para encontrar os melhores hiperparâmetros para um modelo de aprendizado de máquina que classifica imagens de roupas do [Fashion MNIST dataset](https://github.com/zalandoresearch/fashion-mnist)."
   ]
  },
  {
   "cell_type": "markdown",
   "metadata": {
    "id": "HljH_ENLEdHa"
   },
   "source": [
    "Carregar os dados."
   ]
  },
  {
   "cell_type": "code",
   "execution_count": 5,
   "metadata": {
    "execution": {
     "iopub.execute_input": "2023-12-07T03:20:03.136168Z",
     "iopub.status.busy": "2023-12-07T03:20:03.135094Z",
     "iopub.status.idle": "2023-12-07T03:20:03.542925Z",
     "shell.execute_reply": "2023-12-07T03:20:03.542192Z"
    },
    "id": "OHlHs9Wj_PUM"
   },
   "outputs": [
    {
     "name": "stdout",
     "output_type": "stream",
     "text": [
      "Downloading data from https://storage.googleapis.com/tensorflow/tf-keras-datasets/train-labels-idx1-ubyte.gz\n",
      "\u001b[1m29515/29515\u001b[0m \u001b[32m━━━━━━━━━━━━━━━━━━━━\u001b[0m\u001b[37m\u001b[0m \u001b[1m0s\u001b[0m 2us/step\n",
      "Downloading data from https://storage.googleapis.com/tensorflow/tf-keras-datasets/train-images-idx3-ubyte.gz\n",
      "\u001b[1m26421880/26421880\u001b[0m \u001b[32m━━━━━━━━━━━━━━━━━━━━\u001b[0m\u001b[37m\u001b[0m \u001b[1m2s\u001b[0m 0us/step\n",
      "Downloading data from https://storage.googleapis.com/tensorflow/tf-keras-datasets/t10k-labels-idx1-ubyte.gz\n",
      "\u001b[1m5148/5148\u001b[0m \u001b[32m━━━━━━━━━━━━━━━━━━━━\u001b[0m\u001b[37m\u001b[0m \u001b[1m0s\u001b[0m 0us/step\n",
      "Downloading data from https://storage.googleapis.com/tensorflow/tf-keras-datasets/t10k-images-idx3-ubyte.gz\n",
      "\u001b[1m4422102/4422102\u001b[0m \u001b[32m━━━━━━━━━━━━━━━━━━━━\u001b[0m\u001b[37m\u001b[0m \u001b[1m0s\u001b[0m 0us/step\n"
     ]
    }
   ],
   "source": [
    "(img_train, label_train), (img_test, label_test) = keras.datasets.fashion_mnist.load_data()"
   ]
  },
  {
   "cell_type": "code",
   "execution_count": 6,
   "metadata": {
    "execution": {
     "iopub.execute_input": "2023-12-07T03:20:03.547320Z",
     "iopub.status.busy": "2023-12-07T03:20:03.546629Z",
     "iopub.status.idle": "2023-12-07T03:20:03.646142Z",
     "shell.execute_reply": "2023-12-07T03:20:03.645354Z"
    },
    "id": "bLVhXs3xrUD0"
   },
   "outputs": [],
   "source": [
    "# Normalize os valores de pixel entre 0 e 1\n",
    "img_train = img_train.astype('float32') / 255.0\n",
    "img_test = img_test.astype('float32') / 255.0"
   ]
  },
  {
   "cell_type": "markdown",
   "metadata": {},
   "source": [
    "## Definir o modelo\n",
    "\n",
    "Ao criar um modelo para sitonia de hiperparâmetros, você também define o espaço de busca do hiperparâmetro, além da arquitetura do modelo. O modelo que você configura para o hipertuning é chamado de *hipermodelo*.\n",
    "\n",
    "Você pode definir um hipermodelo por meio de duas abordagens:\n",
    "\n",
    "* Usando uma função construtora de modelos\n",
    "* Criando uma subclasse de `HyperModel` da API do Keras Tuner\n",
    "\n",
    "Você também pode usar duas classes [HyperModel](https://keras.io/api/keras_tuner/hypermodels/) predefinidas - [HyperXception](https://keras.io/api/keras_tuner/hypermodels/hyper_xception/) e [HyperResNet](https://keras.io/api/keras_tuner/hypermodels/hyper_resnet/) para aplicativos de visão computacional.\n",
    "\n",
    "Neste tutorial, você usa uma função construtora de modelos para definir o modelo de classificação de imagens. A função construtora de modelos retorna um modelo compilado e usa hiperparâmetros que você define em linha para hipertensionar o modelo."
   ]
  },
  {
   "cell_type": "code",
   "execution_count": 7,
   "metadata": {
    "execution": {
     "iopub.execute_input": "2023-12-07T03:20:03.650529Z",
     "iopub.status.busy": "2023-12-07T03:20:03.650216Z",
     "iopub.status.idle": "2023-12-07T03:20:03.655939Z",
     "shell.execute_reply": "2023-12-07T03:20:03.655314Z"
    },
    "id": "ZQKodC-jtsva"
   },
   "outputs": [],
   "source": [
    "def model_builder(hp):\n",
    "  model = keras.Sequential()\n",
    "  model.add(keras.layers.Flatten(input_shape=(28, 28)))\n",
    "\n",
    "  # Ajuste o número de unidades na primeira camada densa\n",
    "  # Escolha um valor ideal entre 32 e 512\n",
    "  hp_units = hp.Int('units', min_value=32, max_value=512, step=32)\n",
    "  model.add(keras.layers.Dense(units=hp_units, activation='relu'))\n",
    "  model.add(keras.layers.Dense(10))\n",
    "  \n",
    "  # Ajuste a taxa de aprendizado para o otimizador\n",
    "  # Escolha um valor ideal entre 0,01, 0,001 ou 0,0001\n",
    "  hp_learning_rate = hp.Choice('learning_rate', values=[1e-2, 1e-3, 1e-4])\n",
    "\n",
    "  model.compile(optimizer=keras.optimizers.Adam(learning_rate=hp_learning_rate),\n",
    "                loss=keras.losses.SparseCategoricalCrossentropy(from_logits=True),\n",
    "                metrics=['accuracy'])\n",
    "\n",
    "  return model"
   ]
  },
  {
   "cell_type": "markdown",
   "metadata": {
    "id": "0J1VYw4q3x0b"
   },
   "source": [
    "## Instanciar o sintonizador e executar o hipertuning\n",
    "\n",
    "Instanciar o sintonizador para executar o hipertuning. O Keras Tuner tem quatro sintonizadores disponíveis: `RandomSearch`, `Hyperband`, `BayesianOptimization` e `Sklearn`. Neste tutorial, você usará o sintonizador [Hyperband](https://arxiv.org/pdf/1603.06560.pdf).\n",
    "\n",
    "Para instanciar o sintonizador Hyperband, você deve especificar o hipermodelo, o `objetivo` a ser otimizado e o número máximo de épocas para treinar (`max_epochs`)."
   ]
  },
  {
   "cell_type": "code",
   "execution_count": 19,
   "metadata": {
    "execution": {
     "iopub.execute_input": "2023-12-07T03:20:03.659627Z",
     "iopub.status.busy": "2023-12-07T03:20:03.658917Z",
     "iopub.status.idle": "2023-12-07T03:20:05.979646Z",
     "shell.execute_reply": "2023-12-07T03:20:05.978757Z"
    },
    "id": "oichQFly6Y46"
   },
   "outputs": [
    {
     "name": "stdout",
     "output_type": "stream",
     "text": [
      "Reloading Tuner from my_dir/intro_to_kt/tuner0.json\n"
     ]
    }
   ],
   "source": [
    "tuner = kt.Hyperband(model_builder,\n",
    "                     objective='val_accuracy',\n",
    "                     max_epochs=10,\n",
    "                     factor=3,\n",
    "                     directory='my_dir',\n",
    "                     project_name='intro_to_kt')"
   ]
  },
  {
   "cell_type": "markdown",
   "metadata": {
    "id": "VaIhhdKf9VtI"
   },
   "source": [
    "O algoritmo de ajuste Hyperband usa alocação adaptável de recursos e parada antecipada para convergir rapidamente em um modelo de alto desempenho.\n",
    "\n",
    "Isso é feito usando um suporte de estilo de campeonato esportivo. O algoritmo treina um grande número de modelos por algumas épocas e leva apenas a metade dos modelos com melhor desempenho para a próxima rodada.\n",
    "\n",
    "A hiperbanda determina o número de modelos a serem treinados calculando 1 + log<sub>`factor`</sub>(`max_epochs`) e arredondando-o para o número inteiro mais próximo."
   ]
  },
  {
   "cell_type": "markdown",
   "metadata": {
    "id": "cwhBdXx0Ekj8"
   },
   "source": [
    "Crie um _callback_ para interromper o treinamento antecipadamente após atingir um determinado valor para a perda de validação."
   ]
  },
  {
   "cell_type": "code",
   "execution_count": 20,
   "metadata": {
    "execution": {
     "iopub.execute_input": "2023-12-07T03:20:05.984275Z",
     "iopub.status.busy": "2023-12-07T03:20:05.983977Z",
     "iopub.status.idle": "2023-12-07T03:20:05.987832Z",
     "shell.execute_reply": "2023-12-07T03:20:05.987132Z"
    },
    "id": "WT9IkS9NEjLc"
   },
   "outputs": [],
   "source": [
    "stop_early = tf.keras.callbacks.EarlyStopping(monitor='val_loss', patience=5)"
   ]
  },
  {
   "cell_type": "markdown",
   "metadata": {
    "id": "UKghEo15Tduy"
   },
   "source": [
    "Executa a pesquisa de hiperparâmetros. Os argumentos para o método de pesquisa são os mesmos usados para `tf.keras.model.fit`, além do _callback_ acima."
   ]
  },
  {
   "cell_type": "code",
   "execution_count": 21,
   "metadata": {
    "execution": {
     "iopub.execute_input": "2023-12-07T03:20:05.991445Z",
     "iopub.status.busy": "2023-12-07T03:20:05.990814Z",
     "iopub.status.idle": "2023-12-07T03:28:48.512022Z",
     "shell.execute_reply": "2023-12-07T03:28:48.511228Z"
    },
    "id": "dSBQcTHF9cKt"
   },
   "outputs": [
    {
     "name": "stdout",
     "output_type": "stream",
     "text": [
      "\n",
      "A pesquisa de hiperparâmetros está concluída. O número ideal de unidades na primeira camada densamente conectada\n",
      "densamente conectada é 384 e a taxa de aprendizado ideal para o otimizador\n",
      "é 0.001.\n",
      "\n"
     ]
    }
   ],
   "source": [
    "tuner.search(img_train, label_train, epochs=50, validation_split=0.2, callbacks=[stop_early])\n",
    "\n",
    "# Obtenha os hiperparâmetros ideais\n",
    "best_hps=tuner.get_best_hyperparameters(num_trials=1)[0]\n",
    "\n",
    "print(f\"\"\"\n",
    "A pesquisa de hiperparâmetros está concluída. O número ideal de unidades na primeira camada densamente conectada\n",
    "densamente conectada é {best_hps.get('units')} e a taxa de aprendizado ideal para o otimizador\n",
    "é {best_hps.get('learning_rate')}.\n",
    "\"\"\")"
   ]
  },
  {
   "cell_type": "markdown",
   "metadata": {
    "id": "Lak_ylf88xBv"
   },
   "source": [
    "## Treinar o modelo\n",
    "\n",
    "Encontre o número ideal de épocas para treinar o modelo com os hiperparâmetros obtidos na pesquisa."
   ]
  },
  {
   "cell_type": "code",
   "execution_count": 22,
   "metadata": {
    "execution": {
     "iopub.execute_input": "2023-12-07T03:28:48.515436Z",
     "iopub.status.busy": "2023-12-07T03:28:48.515165Z",
     "iopub.status.idle": "2023-12-07T03:31:57.753169Z",
     "shell.execute_reply": "2023-12-07T03:31:57.752415Z"
    },
    "id": "McO82AXOuxXh"
   },
   "outputs": [
    {
     "name": "stdout",
     "output_type": "stream",
     "text": [
      "Epoch 1/50\n",
      "1500/1500 [==============================] - 2s 1ms/step - loss: 0.4982 - accuracy: 0.8213 - val_loss: 0.3866 - val_accuracy: 0.8628\n",
      "Epoch 2/50\n",
      "1500/1500 [==============================] - 2s 1ms/step - loss: 0.3713 - accuracy: 0.8646 - val_loss: 0.3782 - val_accuracy: 0.8633\n",
      "Epoch 3/50\n",
      "1500/1500 [==============================] - 2s 2ms/step - loss: 0.3313 - accuracy: 0.8788 - val_loss: 0.3522 - val_accuracy: 0.8739\n",
      "Epoch 4/50\n",
      "1500/1500 [==============================] - 3s 2ms/step - loss: 0.3089 - accuracy: 0.8864 - val_loss: 0.3556 - val_accuracy: 0.8741\n",
      "Epoch 5/50\n",
      "1500/1500 [==============================] - 2s 2ms/step - loss: 0.2893 - accuracy: 0.8921 - val_loss: 0.3215 - val_accuracy: 0.8867\n",
      "Epoch 6/50\n",
      "1500/1500 [==============================] - 2s 1ms/step - loss: 0.2725 - accuracy: 0.8987 - val_loss: 0.3521 - val_accuracy: 0.8766\n",
      "Epoch 7/50\n",
      "1500/1500 [==============================] - 2s 1ms/step - loss: 0.2596 - accuracy: 0.9018 - val_loss: 0.3097 - val_accuracy: 0.8903\n",
      "Epoch 8/50\n",
      "1500/1500 [==============================] - 2s 1ms/step - loss: 0.2470 - accuracy: 0.9075 - val_loss: 0.3147 - val_accuracy: 0.8848\n",
      "Epoch 9/50\n",
      "1500/1500 [==============================] - 2s 1ms/step - loss: 0.2329 - accuracy: 0.9119 - val_loss: 0.3225 - val_accuracy: 0.8872\n",
      "Epoch 10/50\n",
      "1500/1500 [==============================] - 2s 1ms/step - loss: 0.2251 - accuracy: 0.9155 - val_loss: 0.3342 - val_accuracy: 0.8876\n",
      "Epoch 11/50\n",
      "1500/1500 [==============================] - 2s 1ms/step - loss: 0.2172 - accuracy: 0.9180 - val_loss: 0.3403 - val_accuracy: 0.8888\n",
      "Epoch 12/50\n",
      "1500/1500 [==============================] - 2s 1ms/step - loss: 0.2064 - accuracy: 0.9225 - val_loss: 0.3453 - val_accuracy: 0.8845\n",
      "Epoch 13/50\n",
      "1500/1500 [==============================] - 2s 1ms/step - loss: 0.1993 - accuracy: 0.9246 - val_loss: 0.3337 - val_accuracy: 0.8872\n",
      "Epoch 14/50\n",
      "1500/1500 [==============================] - 2s 1ms/step - loss: 0.1934 - accuracy: 0.9281 - val_loss: 0.3211 - val_accuracy: 0.8927\n",
      "Epoch 15/50\n",
      "1500/1500 [==============================] - 2s 1ms/step - loss: 0.1866 - accuracy: 0.9301 - val_loss: 0.3334 - val_accuracy: 0.8932\n",
      "Epoch 16/50\n",
      "1500/1500 [==============================] - 2s 1ms/step - loss: 0.1798 - accuracy: 0.9333 - val_loss: 0.3535 - val_accuracy: 0.8832\n",
      "Epoch 17/50\n",
      "1500/1500 [==============================] - 2s 1ms/step - loss: 0.1736 - accuracy: 0.9339 - val_loss: 0.3522 - val_accuracy: 0.8909\n",
      "Epoch 18/50\n",
      "1500/1500 [==============================] - 2s 1ms/step - loss: 0.1659 - accuracy: 0.9378 - val_loss: 0.3358 - val_accuracy: 0.8956\n",
      "Epoch 19/50\n",
      "1500/1500 [==============================] - 2s 1ms/step - loss: 0.1644 - accuracy: 0.9392 - val_loss: 0.3521 - val_accuracy: 0.8895\n",
      "Epoch 20/50\n",
      "1500/1500 [==============================] - 2s 1ms/step - loss: 0.1584 - accuracy: 0.9400 - val_loss: 0.3645 - val_accuracy: 0.8931\n",
      "Epoch 21/50\n",
      "1500/1500 [==============================] - 2s 1ms/step - loss: 0.1530 - accuracy: 0.9423 - val_loss: 0.3556 - val_accuracy: 0.8915\n",
      "Epoch 22/50\n",
      "1500/1500 [==============================] - 2s 1ms/step - loss: 0.1489 - accuracy: 0.9442 - val_loss: 0.3632 - val_accuracy: 0.8910\n",
      "Epoch 23/50\n",
      "1500/1500 [==============================] - 2s 1ms/step - loss: 0.1424 - accuracy: 0.9458 - val_loss: 0.4021 - val_accuracy: 0.8838\n",
      "Epoch 24/50\n",
      "1500/1500 [==============================] - 2s 1ms/step - loss: 0.1409 - accuracy: 0.9480 - val_loss: 0.3678 - val_accuracy: 0.8957\n",
      "Epoch 25/50\n",
      "1500/1500 [==============================] - 2s 1ms/step - loss: 0.1358 - accuracy: 0.9485 - val_loss: 0.3761 - val_accuracy: 0.8966\n",
      "Epoch 26/50\n",
      "1500/1500 [==============================] - 2s 1ms/step - loss: 0.1307 - accuracy: 0.9510 - val_loss: 0.3823 - val_accuracy: 0.8942\n",
      "Epoch 27/50\n",
      "1500/1500 [==============================] - 2s 1ms/step - loss: 0.1242 - accuracy: 0.9535 - val_loss: 0.3805 - val_accuracy: 0.8928\n",
      "Epoch 28/50\n",
      "1500/1500 [==============================] - 2s 1ms/step - loss: 0.1262 - accuracy: 0.9529 - val_loss: 0.3963 - val_accuracy: 0.8915\n",
      "Epoch 29/50\n",
      "1500/1500 [==============================] - 2s 1ms/step - loss: 0.1229 - accuracy: 0.9532 - val_loss: 0.4068 - val_accuracy: 0.8897\n",
      "Epoch 30/50\n",
      "1500/1500 [==============================] - 2s 1ms/step - loss: 0.1178 - accuracy: 0.9555 - val_loss: 0.4239 - val_accuracy: 0.8898\n",
      "Epoch 31/50\n",
      "1500/1500 [==============================] - 2s 1ms/step - loss: 0.1143 - accuracy: 0.9570 - val_loss: 0.4099 - val_accuracy: 0.8919\n",
      "Epoch 32/50\n",
      "1500/1500 [==============================] - 2s 1ms/step - loss: 0.1113 - accuracy: 0.9586 - val_loss: 0.4562 - val_accuracy: 0.8856\n",
      "Epoch 33/50\n",
      "1500/1500 [==============================] - 2s 1ms/step - loss: 0.1110 - accuracy: 0.9582 - val_loss: 0.4218 - val_accuracy: 0.8928\n",
      "Epoch 34/50\n",
      "1500/1500 [==============================] - 2s 1ms/step - loss: 0.1076 - accuracy: 0.9597 - val_loss: 0.4412 - val_accuracy: 0.8908\n",
      "Epoch 35/50\n",
      "1500/1500 [==============================] - 2s 1ms/step - loss: 0.1020 - accuracy: 0.9622 - val_loss: 0.4560 - val_accuracy: 0.8913\n",
      "Epoch 36/50\n",
      "1500/1500 [==============================] - 2s 1ms/step - loss: 0.1004 - accuracy: 0.9622 - val_loss: 0.4560 - val_accuracy: 0.8893\n",
      "Epoch 37/50\n",
      "1500/1500 [==============================] - 2s 1ms/step - loss: 0.0980 - accuracy: 0.9640 - val_loss: 0.4565 - val_accuracy: 0.8931\n",
      "Epoch 38/50\n",
      "1500/1500 [==============================] - 2s 1ms/step - loss: 0.0980 - accuracy: 0.9635 - val_loss: 0.4635 - val_accuracy: 0.8932\n",
      "Epoch 39/50\n",
      "1500/1500 [==============================] - 2s 1ms/step - loss: 0.0932 - accuracy: 0.9646 - val_loss: 0.4760 - val_accuracy: 0.8893\n",
      "Epoch 40/50\n",
      "1500/1500 [==============================] - 2s 1ms/step - loss: 0.0930 - accuracy: 0.9649 - val_loss: 0.4795 - val_accuracy: 0.8912\n",
      "Epoch 41/50\n",
      "1500/1500 [==============================] - 2s 1ms/step - loss: 0.0886 - accuracy: 0.9667 - val_loss: 0.4660 - val_accuracy: 0.8964\n",
      "Epoch 42/50\n",
      "1500/1500 [==============================] - 2s 1ms/step - loss: 0.0913 - accuracy: 0.9657 - val_loss: 0.4791 - val_accuracy: 0.8957\n",
      "Epoch 43/50\n",
      "1500/1500 [==============================] - 2s 1ms/step - loss: 0.0879 - accuracy: 0.9675 - val_loss: 0.4996 - val_accuracy: 0.8883\n",
      "Epoch 44/50\n",
      "1500/1500 [==============================] - 2s 1ms/step - loss: 0.0832 - accuracy: 0.9686 - val_loss: 0.4992 - val_accuracy: 0.8892\n",
      "Epoch 45/50\n",
      "1500/1500 [==============================] - 2s 1ms/step - loss: 0.0814 - accuracy: 0.9687 - val_loss: 0.5267 - val_accuracy: 0.8877\n",
      "Epoch 46/50\n",
      "1500/1500 [==============================] - 2s 1ms/step - loss: 0.0809 - accuracy: 0.9687 - val_loss: 0.5890 - val_accuracy: 0.8834\n",
      "Epoch 47/50\n",
      "1500/1500 [==============================] - 2s 1ms/step - loss: 0.0816 - accuracy: 0.9700 - val_loss: 0.5252 - val_accuracy: 0.8920\n",
      "Epoch 48/50\n",
      "1500/1500 [==============================] - 2s 1ms/step - loss: 0.0779 - accuracy: 0.9712 - val_loss: 0.5503 - val_accuracy: 0.8934\n",
      "Epoch 49/50\n",
      "1500/1500 [==============================] - 2s 1ms/step - loss: 0.0742 - accuracy: 0.9719 - val_loss: 0.5253 - val_accuracy: 0.8936\n",
      "Epoch 50/50\n",
      "1500/1500 [==============================] - 2s 1ms/step - loss: 0.0773 - accuracy: 0.9714 - val_loss: 0.5548 - val_accuracy: 0.8925\n",
      "Melhor época: 25\n"
     ]
    }
   ],
   "source": [
    "# Crie o modelo com os hiperparâmetros ideais e treine-o nos dados por 50 épocas\n",
    "model = tuner.hypermodel.build(best_hps)\n",
    "history = model.fit(img_train, label_train, epochs=50, validation_split=0.2)\n",
    "\n",
    "val_acc_per_epoch = history.history['val_accuracy']\n",
    "best_epoch = val_acc_per_epoch.index(max(val_acc_per_epoch)) + 1\n",
    "print('Melhor época: %d' % (best_epoch,))"
   ]
  },
  {
   "cell_type": "markdown",
   "metadata": {
    "id": "uOTSirSTI3Gp"
   },
   "source": [
    "Re-instale o hipermodelo e treine-o com o número ideal de épocas acima."
   ]
  },
  {
   "cell_type": "code",
   "execution_count": 23,
   "metadata": {
    "execution": {
     "iopub.execute_input": "2023-12-07T03:31:57.757140Z",
     "iopub.status.busy": "2023-12-07T03:31:57.756644Z",
     "iopub.status.idle": "2023-12-07T03:34:44.271329Z",
     "shell.execute_reply": "2023-12-07T03:34:44.270534Z"
    },
    "id": "NoiPUEHmMhCe"
   },
   "outputs": [
    {
     "name": "stdout",
     "output_type": "stream",
     "text": [
      "Epoch 1/25\n",
      "1500/1500 [==============================] - 2s 1ms/step - loss: 0.4920 - accuracy: 0.8258 - val_loss: 0.4054 - val_accuracy: 0.8569\n",
      "Epoch 2/25\n",
      "1500/1500 [==============================] - 2s 1ms/step - loss: 0.3688 - accuracy: 0.8658 - val_loss: 0.3822 - val_accuracy: 0.8583\n",
      "Epoch 3/25\n",
      "1500/1500 [==============================] - 2s 1ms/step - loss: 0.3323 - accuracy: 0.8785 - val_loss: 0.3449 - val_accuracy: 0.8766\n",
      "Epoch 4/25\n",
      "1500/1500 [==============================] - 2s 1ms/step - loss: 0.3030 - accuracy: 0.8877 - val_loss: 0.3540 - val_accuracy: 0.8741\n",
      "Epoch 5/25\n",
      "1500/1500 [==============================] - 2s 1ms/step - loss: 0.2860 - accuracy: 0.8944 - val_loss: 0.3198 - val_accuracy: 0.8838\n",
      "Epoch 6/25\n",
      "1500/1500 [==============================] - 2s 1ms/step - loss: 0.2704 - accuracy: 0.9000 - val_loss: 0.3559 - val_accuracy: 0.8766\n",
      "Epoch 7/25\n",
      "1500/1500 [==============================] - 2s 1ms/step - loss: 0.2590 - accuracy: 0.9036 - val_loss: 0.3258 - val_accuracy: 0.8857\n",
      "Epoch 8/25\n",
      "1500/1500 [==============================] - 2s 1ms/step - loss: 0.2454 - accuracy: 0.9086 - val_loss: 0.3448 - val_accuracy: 0.8820\n",
      "Epoch 9/25\n",
      "1500/1500 [==============================] - 2s 1ms/step - loss: 0.2325 - accuracy: 0.9123 - val_loss: 0.3252 - val_accuracy: 0.8841\n",
      "Epoch 10/25\n",
      "1500/1500 [==============================] - 2s 1ms/step - loss: 0.2253 - accuracy: 0.9145 - val_loss: 0.3192 - val_accuracy: 0.8907\n",
      "Epoch 11/25\n",
      "1500/1500 [==============================] - 2s 1ms/step - loss: 0.2179 - accuracy: 0.9188 - val_loss: 0.3049 - val_accuracy: 0.8956\n",
      "Epoch 12/25\n",
      "1500/1500 [==============================] - 2s 1ms/step - loss: 0.2111 - accuracy: 0.9209 - val_loss: 0.3355 - val_accuracy: 0.8874\n",
      "Epoch 13/25\n",
      "1500/1500 [==============================] - 2s 1ms/step - loss: 0.2002 - accuracy: 0.9239 - val_loss: 0.3302 - val_accuracy: 0.8913\n",
      "Epoch 14/25\n",
      "1500/1500 [==============================] - 2s 1ms/step - loss: 0.1930 - accuracy: 0.9276 - val_loss: 0.3543 - val_accuracy: 0.8826\n",
      "Epoch 15/25\n",
      "1500/1500 [==============================] - 2s 1ms/step - loss: 0.1889 - accuracy: 0.9290 - val_loss: 0.3304 - val_accuracy: 0.8898\n",
      "Epoch 16/25\n",
      "1500/1500 [==============================] - 2s 1ms/step - loss: 0.1799 - accuracy: 0.9313 - val_loss: 0.3406 - val_accuracy: 0.8933\n",
      "Epoch 17/25\n",
      "1500/1500 [==============================] - 2s 1ms/step - loss: 0.1723 - accuracy: 0.9360 - val_loss: 0.3475 - val_accuracy: 0.8870\n",
      "Epoch 18/25\n",
      "1500/1500 [==============================] - 2s 1ms/step - loss: 0.1697 - accuracy: 0.9358 - val_loss: 0.3517 - val_accuracy: 0.8914\n",
      "Epoch 19/25\n",
      "1500/1500 [==============================] - 2s 1ms/step - loss: 0.1626 - accuracy: 0.9387 - val_loss: 0.3409 - val_accuracy: 0.8947\n",
      "Epoch 20/25\n",
      "1500/1500 [==============================] - 2s 1ms/step - loss: 0.1573 - accuracy: 0.9407 - val_loss: 0.3585 - val_accuracy: 0.8913\n",
      "Epoch 21/25\n",
      "1500/1500 [==============================] - 2s 1ms/step - loss: 0.1539 - accuracy: 0.9421 - val_loss: 0.3455 - val_accuracy: 0.8947\n",
      "Epoch 22/25\n",
      "1500/1500 [==============================] - 2s 1ms/step - loss: 0.1452 - accuracy: 0.9451 - val_loss: 0.3628 - val_accuracy: 0.8947\n",
      "Epoch 23/25\n",
      "1500/1500 [==============================] - 2s 1ms/step - loss: 0.1444 - accuracy: 0.9461 - val_loss: 0.3804 - val_accuracy: 0.8947\n",
      "Epoch 24/25\n",
      "1500/1500 [==============================] - 2s 1ms/step - loss: 0.1379 - accuracy: 0.9480 - val_loss: 0.3570 - val_accuracy: 0.8902\n",
      "Epoch 25/25\n",
      "1500/1500 [==============================] - 2s 1ms/step - loss: 0.1351 - accuracy: 0.9482 - val_loss: 0.3821 - val_accuracy: 0.8942\n"
     ]
    },
    {
     "data": {
      "text/plain": [
       "<keras.src.callbacks.History at 0x7d102eed6b10>"
      ]
     },
     "execution_count": 23,
     "metadata": {},
     "output_type": "execute_result"
    }
   ],
   "source": [
    "hypermodel = tuner.hypermodel.build(best_hps)\n",
    "\n",
    "# Treinar novamente o modelo\n",
    "hypermodel.fit(img_train, label_train, epochs=best_epoch, validation_split=0.2)"
   ]
  },
  {
   "cell_type": "markdown",
   "metadata": {
    "id": "MqU5ZVAaag2v"
   },
   "source": [
    "Para concluir este tutorial, avalie o hipermodelo nos dados de teste."
   ]
  },
  {
   "cell_type": "code",
   "execution_count": 24,
   "metadata": {
    "execution": {
     "iopub.execute_input": "2023-12-07T03:34:44.275340Z",
     "iopub.status.busy": "2023-12-07T03:34:44.274641Z",
     "iopub.status.idle": "2023-12-07T03:34:45.100071Z",
     "shell.execute_reply": "2023-12-07T03:34:45.099323Z"
    },
    "id": "9E0BTp9Ealjb"
   },
   "outputs": [
    {
     "name": "stdout",
     "output_type": "stream",
     "text": [
      "313/313 [==============================] - 0s 606us/step - loss: 0.4142 - accuracy: 0.8892\n",
      "[test loss, test accuracy]: [0.4141899049282074, 0.88919997215271]\n"
     ]
    }
   ],
   "source": [
    "eval_result = hypermodel.evaluate(img_test, label_test)\n",
    "print(\"[test loss, test accuracy]:\", eval_result)"
   ]
  },
  {
   "cell_type": "markdown",
   "metadata": {
    "id": "EQRpPHZsz-eC"
   },
   "source": [
    "O diretório `my_dir/intro_to_kt` contém registros detalhados e pontos de verificação(_checkpoints_) para cada tentativa (configuração de modelo) executada durante a pesquisa de hiperparâmetro. Se você executar novamente a pesquisa de hiperparâmetros, o Keras Tuner usará o estado existente desses registros para retomar a pesquisa. Para desativar esse comportamento, passe um argumento adicional `overwrite=True` ao instanciar o sintonizador."
   ]
  },
  {
   "cell_type": "markdown",
   "metadata": {
    "id": "sKwLOzKpFGAj"
   },
   "source": [
    "## Resumo\n",
    "\n",
    "Neste tutorial, você aprendeu a usar o Keras Tuner para ajustar os hiperparâmetros de um modelo. Para saber mais sobre o Keras Tuner, confira estes recursos adicionais:\n",
    "\n",
    "* [Keras Tuner no blog do TensorFlow](https://blog.tensorflow.org/2020/01/hyperparameter-tuning-with-keras-tuner.html)\n",
    "* Site do Keras Tuner](https://keras-team.github.io/keras-tuner/)\n",
    "\n",
    "Confira também o [HParams Dashboard](https://www.tensorflow.org/tensorboard/hyperparameter_tuning_with_hparams) no TensorBoard para ajustar interativamente os hiperparâmetros do modelo."
   ]
  }
 ],
 "metadata": {
  "accelerator": "GPU",
  "colab": {
   "collapsed_sections": [
    "Tce3stUlHN0L"
   ],
   "name": "keras_tuner.ipynb",
   "toc_visible": true
  },
  "kernelspec": {
   "display_name": "Python 3",
   "name": "python3"
  },
  "language_info": {
   "codemirror_mode": {
    "name": "ipython",
    "version": 3
   },
   "file_extension": ".py",
   "mimetype": "text/x-python",
   "name": "python",
   "nbconvert_exporter": "python",
   "pygments_lexer": "ipython3",
   "version": "3.11.0"
  }
 },
 "nbformat": 4,
 "nbformat_minor": 0
}
