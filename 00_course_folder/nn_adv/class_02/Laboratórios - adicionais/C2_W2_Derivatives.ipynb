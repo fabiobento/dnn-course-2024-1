{
 "cells": [
  {
   "cell_type": "markdown",
   "id": "61d36baf",
   "metadata": {},
   "source": [
    "[adaptado de [Programa de cursos integrados Aprendizado de máquina](https://www.coursera.org/specializations/machine-learning-introduction) de [Andrew Ng](https://www.coursera.org/instructor/andrewng)  ([Stanford University](http://online.stanford.edu/), [DeepLearning.AI](https://www.deeplearning.ai/) ) ]"
   ]
  },
  {
   "cell_type": "code",
   "execution_count": null,
   "id": "f4449721",
   "metadata": {},
   "outputs": [],
   "source": [
    "# Baixar arquivos adicionais para o laboratório\n",
    "!wget https://github.com/fabiobento/dnn-course-2024-1/raw/main/00_course_folder/nn_adv/class_02/Laborat%C3%B3rios/lab_utils_ml_adv_add_week_2\n",
    "      \n",
    "!unzip -n -q lab_utils_ml_adv_add_week_2"
   ]
  },
  {
   "cell_type": "code",
   "execution_count": null,
   "id": "2615b278",
   "metadata": {},
   "outputs": [],
   "source": [
    "# Testar se estamos no Google Colab\n",
    "# Necessário para ativar widgets\n",
    "try:\n",
    "  import google.colab\n",
    "  IN_COLAB = True\n",
    "  from google.colab import output\n",
    "  output.enable_custom_widget_manager()\n",
    "except:\n",
    "  IN_COLAB = False"
   ]
  },
  {
   "cell_type": "markdown",
   "metadata": {
    "tags": []
   },
   "source": [
    "# Derivadas\n",
    "Este laboratório lhe dará uma compreensão mais intuitiva das derivadas. Ele mostrará uma maneira simples de calcular derivadas aritmeticamente. Ele também apresentará a você uma biblioteca Python útil que permite calcular derivadas simbolicamente."
   ]
  },
  {
   "cell_type": "code",
   "execution_count": null,
   "id": "8df827b5",
   "metadata": {},
   "outputs": [],
   "source": [
    "from sympy import symbols, diff"
   ]
  },
  {
   "cell_type": "markdown",
   "metadata": {},
   "source": [
    "## Definição Informal de Derivadas"
   ]
  },
  {
   "cell_type": "markdown",
   "metadata": {},
   "source": [
    "A derivada de uma função descreve como a saída da função muda quando há uma pequena mudança em uma variável de entrada.\n",
    "\n",
    "Vamos usar a função de custo $J(w)$ como exemplo. O custo $J$ é o resultado e $w$ é a variável de entrada.  \n",
    "Vamos dar a uma \"pequena mudança\" o nome de *epsilon* ou $\\epsilon$. Usamos essas letras gregas porque é tradicional na matemática usar *epsilon* ($\\epsilon$) ou *delta* ($\\Delta$) para representar um valor pequeno. Você pode pensar nisso como se representasse 0,001 ou algum outro valor pequeno.  \n",
    "\n",
    "$$\n",
    "\\begin{equation}\n",
    "\\text{se } w \\uparrow \\epsilon \\text{ causa }J(w) \\uparrow \\text{em }k \\times \\epsilon \\text{ então}  \\\\\n",
    "\\frac{\\partial J(w)}{\\partial w} = k \\tag{1}\n",
    "\\end{equation}\n",
    "$$\n",
    "\n",
    "Isso significa que se você alterar a entrada da função $J(w)$ um pouco e a saída mudar $k$ vezes esse valor, então a derivada de $J(w)$ é igual a $k$.\n",
    "\n",
    "Vamos testar isso.  Vejamos a derivada da função $J(w) = w^2$ no ponto $w=3$ e $\\epsilon = 0,001$\n"
   ]
  },
  {
   "cell_type": "code",
   "execution_count": null,
   "id": "cf3757af",
   "metadata": {},
   "outputs": [],
   "source": [
    "J = (3)**2\n",
    "J_epsilon = (3 + 0.001)**2\n",
    "k = (J_epsilon - J)/0.001    # diferença dividida por epsilon\n",
    "print(f\"J = {J}, J_epsilon = {J_epsilon}, dJ_dw ~= k = {k:0.6f} \")"
   ]
  },
  {
   "cell_type": "markdown",
   "metadata": {},
   "source": [
    "Aumentamos um pouco o valor da entrada (0,001), fazendo com que a saída mude de 9 para 9,006001, um aumento de 6 vezes o aumento da entrada. Fazendo referência a (1) acima, isso diz que $k=6$, portanto $\\frac{\\partial J(w)}{\\partial w} \\approx 6$.\n",
    "\n",
    "Se você estiver familiarizado com cálculo, saberá que, escrito simbolicamente, $\\frac{\\partial J(w)}{\\partial w} = 2 w$. Com $w=3$, isso é 6. Nosso cálculo acima não é exatamente 6 porque, para ser exatamente correto, $\\epsilon$ precisaria ser [infinitesimalmente pequeno](https://www.dictionary.com/browse/infinitesimally) ou muito, muito pequeno. É por isso que usamos os símbolos $\\approx$ ou ~= em vez de =. Vamos ver o que acontece se tornarmos $\\epsilon$ menor."
   ]
  },
  {
   "cell_type": "code",
   "execution_count": null,
   "id": "16dcac03",
   "metadata": {},
   "outputs": [],
   "source": [
    "J = (3)**2\n",
    "J_epsilon = (3 + 0.000000001)**2\n",
    "k = (J_epsilon - J)/0.000000001\n",
    "print(f\"J = {J}, J_epsilon = {J_epsilon}, dJ_dw ~= k = {k} \")"
   ]
  },
  {
   "cell_type": "markdown",
   "metadata": {},
   "source": [
    "O valor se aproxima de exatamente 6 à medida que reduzimos o tamanho de $\\epsilon$.\n",
    "\n",
    "Sinta-se à vontade para tentar reduzir ainda mais o valor."
   ]
  },
  {
   "cell_type": "markdown",
   "metadata": {},
   "source": [
    "## Obtendo Derivadas Simbólicas\n",
    "No _backprop_, é útil conhecer a derivada de funções simples para qualquer valor de entrada. Em outras palavras, gostaríamos de conhecer a derivada \"simbólica\" em vez da derivada \"aritmética\". Um exemplo de uma derivada simbólica é $\\frac{\\partial J(w)}{\\partial w} = 2 w$, para $J(w) = w^2$.  Com a derivada simbólica, você pode encontrar o valor da derivada em qualquer valor de entrada $w$.  \n",
    "\n",
    "Se você fez um curso de cálculo, está familiarizado com as muitas [regras de diferenciação](https://en.wikipedia.org/wiki/Differentiation_rules#Power_laws,_polynomials,_quotients,_and_reciprocals) que os matemáticos desenvolveram para resolver a derivada de uma expressão. Bem, acontece que esse processo foi automatizado com programas de diferenciação simbólica. Um exemplo disso em python é a biblioteca [SymPy](https://www.sympy.org/en/index.html). Vamos dar uma olhada em como usá-la."
   ]
  },
  {
   "cell_type": "markdown",
   "metadata": {},
   "source": [
    "### $J = w^2$\n",
    "Defina as variáveis python e seus nomes simbólicos."
   ]
  },
  {
   "cell_type": "code",
   "execution_count": null,
   "id": "07640cf1",
   "metadata": {},
   "outputs": [],
   "source": [
    "J, w = symbols('J, w')"
   ]
  },
  {
   "cell_type": "markdown",
   "id": "2281aec6",
   "metadata": {},
   "source": [
    "Defina e imprima a expressão. Observe que o SymPy produz uma string [latex](https://en.wikibooks.org/wiki/LaTeX/Mathematics) que gera uma equação bem legível."
   ]
  },
  {
   "cell_type": "code",
   "execution_count": null,
   "id": "9338d0d1",
   "metadata": {},
   "outputs": [],
   "source": [
    "J=w**2\n",
    "J"
   ]
  },
  {
   "cell_type": "markdown",
   "metadata": {},
   "source": [
    "Use o `diff` do SymPy para diferenciar a expressão de $J$ com relação a $w$.\n",
    "\n",
    "Observe que o resultado corresponde ao nosso exemplo anterior."
   ]
  },
  {
   "cell_type": "code",
   "execution_count": null,
   "id": "0db60dc9",
   "metadata": {},
   "outputs": [],
   "source": [
    "dJ_dw = diff(J,w)\n",
    "dJ_dw"
   ]
  },
  {
   "cell_type": "markdown",
   "metadata": {},
   "source": [
    "Avalie a derivada em alguns pontos, \"substituindo\" os valores simbólicos por valores numéricos.\n",
    "\n",
    "No primeiro exemplo, $w$ é substituído por $2$."
   ]
  },
  {
   "cell_type": "code",
   "execution_count": null,
   "id": "bc5623c8",
   "metadata": {},
   "outputs": [],
   "source": [
    "dJ_dw.subs([(w,2)])    # derivada no ponto w = 2"
   ]
  },
  {
   "cell_type": "code",
   "execution_count": null,
   "id": "716192ee",
   "metadata": {
    "scrolled": true
   },
   "outputs": [],
   "source": [
    "dJ_dw.subs([(w,3)])    # derivada no ponto w = 3"
   ]
  },
  {
   "cell_type": "code",
   "execution_count": null,
   "id": "91df8207",
   "metadata": {},
   "outputs": [],
   "source": [
    "dJ_dw.subs([(w,-3)])    # derivada no ponto = -3"
   ]
  },
  {
   "cell_type": "markdown",
   "metadata": {},
   "source": [
    "## $J = 2w$"
   ]
  },
  {
   "cell_type": "code",
   "execution_count": null,
   "id": "2bd5782e",
   "metadata": {
    "tags": []
   },
   "outputs": [],
   "source": [
    "w, J = symbols('w, J')"
   ]
  },
  {
   "cell_type": "code",
   "execution_count": null,
   "id": "20a974b9",
   "metadata": {},
   "outputs": [],
   "source": [
    "J = 2 * w\n",
    "J"
   ]
  },
  {
   "cell_type": "code",
   "execution_count": null,
   "id": "30f6c6bf",
   "metadata": {
    "tags": []
   },
   "outputs": [],
   "source": [
    "dJ_dw = diff(J,w)\n",
    "dJ_dw"
   ]
  },
  {
   "cell_type": "code",
   "execution_count": null,
   "id": "6dfa80ae",
   "metadata": {},
   "outputs": [],
   "source": [
    "dJ_dw.subs([(w,-3)])    # derivada no ponto w = -3"
   ]
  },
  {
   "cell_type": "markdown",
   "metadata": {},
   "source": [
    "Compare isso com o cálculo aritmético"
   ]
  },
  {
   "cell_type": "code",
   "execution_count": null,
   "id": "de0ec998",
   "metadata": {},
   "outputs": [],
   "source": [
    "J = 2*3\n",
    "J_epsilon = 2*(3 + 0.001)\n",
    "k = (J_epsilon - J)/0.001\n",
    "print(f\"J = {J}, J_epsilon = {J_epsilon}, dJ_dw ~= k = {k} \")"
   ]
  },
  {
   "cell_type": "markdown",
   "metadata": {},
   "source": [
    "Para a função $J=2w$, é fácil ver que qualquer alteração em $w$ resultará em duas vezes essa quantidade de alteração no resultado $J$, independentemente do valor inicial de $w$. Nossos resultados aritméticos e do NumPy confirmam isso. "
   ]
  },
  {
   "cell_type": "markdown",
   "metadata": {},
   "source": [
    "## $J = w^3$"
   ]
  },
  {
   "cell_type": "code",
   "execution_count": null,
   "id": "088df18c",
   "metadata": {},
   "outputs": [],
   "source": [
    "J, w = symbols('J, w')"
   ]
  },
  {
   "cell_type": "code",
   "execution_count": null,
   "id": "4fe17045",
   "metadata": {},
   "outputs": [],
   "source": [
    "J=w**3\n",
    "J"
   ]
  },
  {
   "cell_type": "code",
   "execution_count": null,
   "id": "6a55c712",
   "metadata": {},
   "outputs": [],
   "source": [
    "dJ_dw = diff(J,w)\n",
    "dJ_dw"
   ]
  },
  {
   "cell_type": "code",
   "execution_count": null,
   "id": "30c88fb4",
   "metadata": {},
   "outputs": [],
   "source": [
    "dJ_dw.subs([(w,2)])   # derivada no ponto w=2"
   ]
  },
  {
   "cell_type": "markdown",
   "metadata": {},
   "source": [
    "Compare isso com o cálculo aritmético"
   ]
  },
  {
   "cell_type": "code",
   "execution_count": null,
   "id": "55aad0bb",
   "metadata": {},
   "outputs": [],
   "source": [
    "J = (2)**3\n",
    "J_epsilon = (2+0.001)**3\n",
    "k = (J_epsilon - J)/0.001\n",
    "print(f\"J = {J}, J_epsilon = {J_epsilon}, dJ_dw ~= k = {k} \")"
   ]
  },
  {
   "cell_type": "markdown",
   "metadata": {},
   "source": [
    "## $J = \\frac{1}{w}$"
   ]
  },
  {
   "cell_type": "code",
   "execution_count": null,
   "id": "45c07096",
   "metadata": {},
   "outputs": [],
   "source": [
    "J, w = symbols('J, w')"
   ]
  },
  {
   "cell_type": "code",
   "execution_count": null,
   "id": "c65dede2",
   "metadata": {},
   "outputs": [],
   "source": [
    "J= 1/w\n",
    "J"
   ]
  },
  {
   "cell_type": "code",
   "execution_count": null,
   "id": "cda5e7ea",
   "metadata": {},
   "outputs": [],
   "source": [
    "dJ_dw = diff(J,w)\n",
    "dJ_dw"
   ]
  },
  {
   "cell_type": "code",
   "execution_count": null,
   "id": "257ce7ec",
   "metadata": {},
   "outputs": [],
   "source": [
    "dJ_dw.subs([(w,2)])"
   ]
  },
  {
   "cell_type": "markdown",
   "metadata": {},
   "source": [
    "Compare isso com o cálculo aritmético"
   ]
  },
  {
   "cell_type": "code",
   "execution_count": null,
   "id": "f8a0d5af",
   "metadata": {},
   "outputs": [],
   "source": [
    "J = 1/2\n",
    "J_epsilon = 1/(2+0.001)\n",
    "k = (J_epsilon - J)/0.001\n",
    "print(f\"J = {J}, J_epsilon = {J_epsilon}, dJ_dw ~= k = {k} \")"
   ]
  },
  {
   "cell_type": "markdown",
   "id": "bbab3bd9",
   "metadata": {},
   "source": [
    "## $J = \\frac{1}{w^2}$"
   ]
  },
  {
   "cell_type": "code",
   "execution_count": null,
   "id": "e70210da",
   "metadata": {},
   "outputs": [],
   "source": [
    "J, w = symbols('J, w')"
   ]
  },
  {
   "cell_type": "markdown",
   "metadata": {},
   "source": [
    "Tente repetir as etapas acima na função $J = \\frac{1}{w^2}$ e avalie em w=4"
   ]
  },
  {
   "cell_type": "code",
   "execution_count": null,
   "metadata": {},
   "outputs": [],
   "source": []
  },
  {
   "cell_type": "code",
   "execution_count": null,
   "metadata": {},
   "outputs": [],
   "source": []
  },
  {
   "cell_type": "code",
   "execution_count": null,
   "metadata": {},
   "outputs": [],
   "source": []
  },
  {
   "cell_type": "markdown",
   "metadata": {},
   "source": [
    "Compare isso com o cálculo aritmético"
   ]
  },
  {
   "cell_type": "code",
   "execution_count": null,
   "id": "467d30a9",
   "metadata": {},
   "outputs": [],
   "source": [
    "J = 1/4**2\n",
    "J_epsilon = 1/(4+0.001)**2\n",
    "k = (J_epsilon - J)/0.001\n",
    "print(f\"J = {J}, J_epsilon = {J_epsilon}, dJ_dw ~= k = {k} \")"
   ]
  },
  {
   "cell_type": "markdown",
   "metadata": {},
   "source": [
    "<details>\n",
    "  <summary><font size=\"3\" color=\"darkgreen\"><b>Click para Dicas</b></font></summary>\n",
    "    \n",
    "```python \n",
    "J= 1/w**2\n",
    "dJ_dw = diff(J,w)\n",
    "dJ_dw.subs([(w,4)])\n",
    "```\n",
    "  \n",
    "\n",
    "</details>\n",
    "\n",
    "    \n"
   ]
  },
  {
   "cell_type": "markdown",
   "metadata": {},
   "source": [
    "## Parabéns!\n",
    "Se você já analisou os exemplos acima, entendeu que uma derivada descreve a alteração na saída de uma função que é resultado de uma pequena alteração em uma entrada para essa função. Você também pode usar o *SymPy* em python para encontrar a derivada simbólica de funções."
   ]
  }
 ],
 "metadata": {
  "kernelspec": {
   "display_name": "Python 3",
   "language": "python",
   "name": "python3"
  },
  "language_info": {
   "codemirror_mode": {
    "name": "ipython",
    "version": 3
   },
   "file_extension": ".py",
   "mimetype": "text/x-python",
   "name": "python",
   "nbconvert_exporter": "python",
   "pygments_lexer": "ipython3",
   "version": "3.11.0rc1"
  }
 },
 "nbformat": 4,
 "nbformat_minor": 5
}
