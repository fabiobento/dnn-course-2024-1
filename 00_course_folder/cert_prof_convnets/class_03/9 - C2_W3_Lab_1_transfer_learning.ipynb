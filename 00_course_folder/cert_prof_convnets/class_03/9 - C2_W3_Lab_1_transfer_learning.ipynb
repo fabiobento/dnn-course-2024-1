{
 "cells": [
  {
   "cell_type": "markdown",
   "metadata": {},
   "source": [
    "<a href=\"https://colab.research.google.com/github/fabiobento/dnn-course-2024-1/blob/main/00_course_folder/cert_prof_convnets/class_03/9%20-%20C2_W3_Lab_1_transfer_learning.ipynb\" target=\"_parent\"><img src=\"https://colab.research.google.com/assets/colab-badge.svg\" alt=\"Open In Colab\"/></a>"
   ]
  },
  {
   "cell_type": "markdown",
   "metadata": {},
   "source": [
    "adaptado de [Certificado Profissional Desenvolvedor do TensorFlow](https://www.coursera.org/professional-certificates/tensorflow-in-practice) de [Laurence Moroney](https://laurencemoroney.com/)"
   ]
  },
  {
   "cell_type": "markdown",
   "metadata": {
    "id": "bT0to3TL2q7H"
   },
   "source": [
    "# Aprendizagem por transferência(_Transfer Learning_)\n",
    "\n",
    "Neste laboratório, você verá como usar um modelo pré-treinado para obter bons resultados mesmo com um conjunto de dados de treinamento pequeno.\n",
    "\n",
    "Isso é chamado de _aprendizagem por transferência_ e você faz isso aproveitando as camadas treinadas de um modelo existente e adicionando suas próprias camadas para se adequar a sua aplicação.\n",
    "\n",
    "Por exemplo, você pode:\n",
    "\n",
    "1. obter apenas as camadas de convolução de um modelo\n",
    "2. anexar algumas camadas densas a ele\n",
    "3. treinar apenas a rede densa\n",
    "4. avaliar os resultados\n",
    "\n",
    "Com isso, você economizará tempo na criação do aplicativo porque, basicamente, pulará semanas de treinamento de redes muito profundas. Você usará apenas os recursos que ela aprendeu e os ajustará para o seu conjunto de dados. Vamos ver como isso é feito nas próximas seções."
   ]
  },
  {
   "cell_type": "markdown",
   "metadata": {
    "id": "-12slkPL6_JH"
   },
   "source": [
    "## Configurar o modelo pré-treinado\n",
    "\n",
    "Você precisará preparar o modelo pré-treinado e configurar as camadas necessárias. Para este exercício, você usará as camadas de convolução da arquitetura [InceptionV3](https://arxiv.org/abs/1512.00567) como modelo de base. Para fazer isso, você precisa:\n",
    "\n",
    "1. Definir a forma de entrada de acordo com sua aplicação. Nesse caso, defina-a como `150x150x3`, como você fez nos últimos laboratórios.\n",
    "\n",
    "2. Selecionar e congelar as camadas de convolução para aproveitar os recursos que já foram aprendidos.\n",
    "\n",
    "3. Adicione camadas densas que você treinará.\n",
    "\n",
    "Vamos ver como fazer isso nas próximas células."
   ]
  },
  {
   "cell_type": "markdown",
   "metadata": {
    "id": "3VqhFEK2Y-PK"
   },
   "source": [
    "Primeiro, ao preparar a entrada para o modelo, você deseja obter os pesos pré-treinados do modelo `InceptionV3` e remover a camada totalmente conectada no final, pois ela será substituída posteriormente.\n",
    "\n",
    "Você também especificará a forma de entrada que o modelo aceitará. Por fim, você deseja congelar os pesos dessas camadas porque elas já foram treinadas."
   ]
  },
  {
   "cell_type": "code",
   "execution_count": null,
   "metadata": {
    "id": "1xJZ5glPPCRz"
   },
   "outputs": [],
   "source": [
    "# Faça o download dos pesos pré-treinados.\n",
    "# Sem topo(no top) significa que ele exclui a camada totalmente conectada que usa para classificação.\n",
    "!wget --no-check-certificate \\\n",
    "    https://storage.googleapis.com/mledu-datasets/inception_v3_weights_tf_dim_ordering_tf_kernels_notop.h5 \\\n",
    "    -O /tmp/inception_v3_weights_tf_dim_ordering_tf_kernels_notop.h5"
   ]
  },
  {
   "cell_type": "code",
   "execution_count": null,
   "metadata": {
    "id": "KsiBCpQ1VvPp"
   },
   "outputs": [],
   "source": [
    "from tensorflow.keras.applications.inception_v3 import InceptionV3\n",
    "from tensorflow.keras import layers\n",
    "\n",
    "# Defina o arquivo de pesos que você baixou em uma variável\n",
    "local_weights_file = '/tmp/inception_v3_weights_tf_dim_ordering_tf_kernels_notop.h5'\n",
    "\n",
    "# Inicialize o modelo básico.\n",
    "# Defina a forma de entrada e remova as camadas densas.\n",
    "pre_trained_model = InceptionV3(input_shape = (150, 150, 3), \n",
    "                                include_top = False, \n",
    "                                weights = None)\n",
    "\n",
    "# Carregue os pesos pré-treinados que você baixou.\n",
    "pre_trained_model.load_weights(local_weights_file)\n",
    "\n",
    "# Congelar os pesos das camadas.\n",
    "for layer in pre_trained_model.layers:\n",
    "  layer.trainable = False"
   ]
  },
  {
   "cell_type": "markdown",
   "metadata": {
    "id": "1y2rEnqFaa9k"
   },
   "source": [
    "Você pode ver o resumo do modelo abaixo.\n",
    "\n",
    "Você pode ver que se trata de uma rede muito profunda. Você pode então selecionar até qual ponto da rede deseja usar.\n",
    "\n",
    "Você usará até `mixed7` como modelo de base.\n",
    "\n",
    "Isso se deve ao fato de que a última camada original pode ser muito especializada no que aprendeu e, portanto, pode não se adaptar bem a sua aplicação.\n",
    "\n",
    "O `mixed7`, por outro lado, será mais generalizado e você pode começar com ele para o seu problema.\n",
    "\n",
    "Após o exercício, sinta-se à vontade para modificar e usar outras camadas para ver os resultados que você obtém."
   ]
  },
  {
   "cell_type": "code",
   "execution_count": null,
   "metadata": {
    "id": "qeGP0Ust5kCR"
   },
   "outputs": [],
   "source": [
    "pre_trained_model.summary()\n"
   ]
  },
  {
   "cell_type": "code",
   "execution_count": null,
   "metadata": {
    "id": "jDmGO9tg5iPc"
   },
   "outputs": [],
   "source": [
    "# Escolha `mixed7` como a última camada de seu modelo básico\n",
    "last_layer = pre_trained_model.get_layer('mixed7')\n",
    "print('formato de saída da última camada: ', last_layer.output_shape)\n",
    "last_output = last_layer.output"
   ]
  },
  {
   "cell_type": "markdown",
   "metadata": {
    "id": "UXT9SDMK7Ioa"
   },
   "source": [
    "## Adicione camadas densas ao seu modelo\n",
    "\n",
    "Em seguida, você adicionará camadas densas ao seu modelo.\n",
    "\n",
    "Essas serão as camadas que você treinará e terão a tarefa de reconhecer cães e gatos.\n",
    "\n",
    "Você também adicionará uma camada [Dropout](https://www.tensorflow.org/api_docs/python/tf/keras/layers/Dropout) para regularizar a saída e evitar o ajuste excessivo."
   ]
  },
  {
   "cell_type": "code",
   "execution_count": null,
   "metadata": {
    "id": "BMXb913pbvFg"
   },
   "outputs": [],
   "source": [
    "from tensorflow.keras.optimizers import RMSprop\n",
    "from tensorflow.keras import Model\n",
    "\n",
    "# Achatar a camada de saída para uma dimensão\n",
    "x = layers.Flatten()(last_output)\n",
    "# Adicione uma camada totalmente conectada com 1.024 unidades ocultas e ativação ReLU\n",
    "x = layers.Dense(1024, activation='relu')(x)\n",
    "# Adicionar uma taxa de dropout de 0,2\n",
    "x = layers.Dropout(0.2)(x)                  \n",
    "# Adicionar uma camada sigmoide final para classificação\n",
    "x = layers.Dense  (1, activation='sigmoid')(x)           \n",
    "\n",
    "# Anexar a rede densa ao modelo básico\n",
    "model = Model(pre_trained_model.input, x) \n",
    "\n",
    "# Imprima o resumo do modelo. Veja sua rede densa conectada no final.\n",
    "model.summary()"
   ]
  },
  {
   "cell_type": "code",
   "execution_count": null,
   "metadata": {
    "id": "SAwTTkWr56uC"
   },
   "outputs": [],
   "source": [
    "# Definir os parâmetros de treinamento\n",
    "model.compile(optimizer = RMSprop(learning_rate=0.0001), \n",
    "              loss = 'binary_crossentropy', \n",
    "              metrics = ['accuracy'])"
   ]
  },
  {
   "cell_type": "markdown",
   "metadata": {
    "id": "aYLGw_RO7Z_X"
   },
   "source": [
    "## Preparar o conjunto de dados\n",
    "\n",
    "Agora você vai preparar o conjunto de dados.\n",
    "\n",
    "Esse código é basicamente o mesmo que você usou no laboratório de aumento de dados."
   ]
  },
  {
   "cell_type": "code",
   "execution_count": null,
   "metadata": {
    "id": "O4s8HckqGlnb"
   },
   "outputs": [],
   "source": [
    "# Baixar o conjunto de dados\n",
    "!wget https://storage.googleapis.com/tensorflow-1-public/course2/cats_and_dogs_filtered.zip"
   ]
  },
  {
   "cell_type": "code",
   "execution_count": null,
   "metadata": {
    "id": "WOV8jON3c3Jv"
   },
   "outputs": [],
   "source": [
    "import os\n",
    "import zipfile\n",
    "from tensorflow.keras.preprocessing.image import ImageDataGenerator\n",
    "\n",
    "# Extrair o arquivo\n",
    "zip_ref = zipfile.ZipFile(\"./cats_and_dogs_filtered.zip\", 'r')\n",
    "zip_ref.extractall(\"tmp/\")\n",
    "zip_ref.close()\n",
    "\n",
    "# Definir nossos diretórios e arquivos de exemplo\n",
    "base_dir = 'tmp/cats_and_dogs_filtered'\n",
    "\n",
    "train_dir = os.path.join( base_dir, 'train')\n",
    "validation_dir = os.path.join( base_dir, 'validation')\n",
    "\n",
    "# Diretório com fotos de treinamento de gatos\n",
    "train_cats_dir = os.path.join(train_dir, 'cats') \n",
    "\n",
    "# Diretório com fotos de treinamento de cães\n",
    "train_dogs_dir = os.path.join(train_dir, 'dogs') \n",
    "\n",
    "# Diretório com imagens de gatos para validação\n",
    "validation_cats_dir = os.path.join(validation_dir, 'cats') \n",
    "\n",
    "# Diretório com fotos de cães para validação\n",
    "validation_dogs_dir = os.path.join(validation_dir, 'dogs')\n",
    "\n",
    "# Adicione nossos parâmetros de aumento de dados ao ImageDataGenerator\n",
    "train_datagen = ImageDataGenerator(rescale = 1./255.,\n",
    "                                   rotation_range = 40,\n",
    "                                   width_shift_range = 0.2,\n",
    "                                   height_shift_range = 0.2,\n",
    "                                   shear_range = 0.2,\n",
    "                                   zoom_range = 0.2,\n",
    "                                   horizontal_flip = True)\n",
    "\n",
    "# Observe que os dados de validação não devem ser aumentados!\n",
    "test_datagen = ImageDataGenerator( rescale = 1.0/255. )\n",
    "\n",
    "# Fluxo de imagens de treinamento em lotes de 20 usando o gerador train_datagen\n",
    "train_generator = train_datagen.flow_from_directory(train_dir,\n",
    "                                                    batch_size = 20,\n",
    "                                                    class_mode = 'binary', \n",
    "                                                    target_size = (150, 150))     \n",
    "\n",
    "# Fluxo de imagens de validação em lotes de 20 usando o gerador test_datagen\n",
    "validation_generator =  test_datagen.flow_from_directory( validation_dir,\n",
    "                                                          batch_size  = 20,\n",
    "                                                          class_mode  = 'binary', \n",
    "                                                          target_size = (150, 150))"
   ]
  },
  {
   "cell_type": "markdown",
   "metadata": {
    "id": "3m3S6AZb7h-B"
   },
   "source": [
    "## Treinar o modelo\n",
    "\n",
    "Com isso, agora você pode treinar o modelo. Você fará 20 épocas e plotará os resultados depois."
   ]
  },
  {
   "cell_type": "code",
   "execution_count": null,
   "metadata": {
    "id": "Blhq2MAUeyGA"
   },
   "outputs": [],
   "source": [
    "# Treine o modelo.\n",
    "history = model.fit(\n",
    "            train_generator,\n",
    "            validation_data = validation_generator,\n",
    "            steps_per_epoch = 100,\n",
    "            epochs = 20,\n",
    "            validation_steps = 50,\n",
    "            verbose = 2)"
   ]
  },
  {
   "cell_type": "markdown",
   "metadata": {
    "id": "RwcB2bPj7lIx"
   },
   "source": [
    "## Avaliar os resultados\n",
    "\n",
    "Você usará o mesmo código para plotar os resultados.\n",
    "\n",
    "Como você pode ver, a precisão da validação também está tendendo para cima à medida que a precisão do treinamento melhora.\n",
    "\n",
    "Esse é um bom sinal de que seu modelo não está mais se ajustando demais!"
   ]
  },
  {
   "cell_type": "code",
   "execution_count": null,
   "metadata": {
    "id": "C2Fp6Se9rKuL"
   },
   "outputs": [],
   "source": [
    "import matplotlib.pyplot as plt\n",
    "acc = history.history['accuracy']\n",
    "val_acc = history.history['val_accuracy']\n",
    "loss = history.history['loss']\n",
    "val_loss = history.history['val_loss']\n",
    "\n",
    "epochs = range(len(acc))\n",
    "\n",
    "plt.plot(epochs, acc, 'r', label='Acurácia de Treino')\n",
    "plt.plot(epochs, val_acc, 'b', label='Acurácia de Validação')\n",
    "plt.title('Acurácia de Treino e Validação')\n",
    "plt.legend(loc=0)\n",
    "plt.figure()\n",
    "\n",
    "\n",
    "plt.show()"
   ]
  }
 ],
 "metadata": {
  "accelerator": "GPU",
  "colab": {
   "collapsed_sections": [],
   "name": "C2_W3_Lab_1_transfer_learning.ipynb",
   "private_outputs": true,
   "provenance": [
    {
     "file_id": "https://github.com/https-deeplearning-ai/tensorflow-1-public/blob/adding_C2/C2/W3/ungraded_labs/C2_W3_Lab_1_transfer_learning.ipynb",
     "timestamp": 1639668234563
    }
   ],
   "toc_visible": true
  },
  "kernelspec": {
   "display_name": "Python 3",
   "language": "python",
   "name": "python3"
  },
  "language_info": {
   "codemirror_mode": {
    "name": "ipython",
    "version": 3
   },
   "file_extension": ".py",
   "mimetype": "text/x-python",
   "name": "python",
   "nbconvert_exporter": "python",
   "pygments_lexer": "ipython3",
   "version": "3.7.4"
  }
 },
 "nbformat": 4,
 "nbformat_minor": 1
}
