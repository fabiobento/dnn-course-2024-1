{
 "cells": [
  {
   "cell_type": "markdown",
   "id": "55430f4a",
   "metadata": {},
   "source": [
    "<a href=\"https://colab.research.google.com/github/fabiobento/dnn-course-2024-1/blob/main/00_course_folder/cert_prof_convnets/class_01/14%20-%20Atividade%20Avaliativa/C2W1_Assignment.ipynb\" target=\"_parent\"><img src=\"https://colab.research.google.com/assets/colab-badge.svg\" alt=\"Open In Colab\"/></a>"
   ]
  },
  {
   "cell_type": "markdown",
   "id": "af91a127",
   "metadata": {},
   "source": [
    "adaptado de [Certificado Profissional Desenvolvedor do TensorFlow](https://www.coursera.org/professional-certificates/tensorflow-in-practice) de [Laurence Moroney](https://laurencemoroney.com/)"
   ]
  },
  {
   "cell_type": "markdown",
   "id": "a10bc2ee",
   "metadata": {
    "id": "AuW-xg_bTsaF"
   },
   "source": [
    "# Uso de CNNs com o conjunto de dados Cats vs Dogs\n",
    "\n",
    "Nesta atividade você usará o famoso conjunto de dados `Cats vs Dogs` para treinar um modelo que possa classificar imagens de cães de imagens de gatos. Para isso, você criará sua própria rede neural convolucional no Tensorflow e aproveitará os utilitários de pré-processamento de imagens do Keras.\n",
    "\n",
    "Você também criará algumas funções auxiliares para mover as imagens pelo sistema de arquivos, portanto, se não estiver familiarizado com o módulo `os`, não deixe de dar uma olhada em [_os — Miscellaneous operating system interfaces_](https://docs.python.org/3/library/os.html).\n",
    "\n",
    "Vamos começar!"
   ]
  },
  {
   "cell_type": "code",
   "execution_count": null,
   "id": "d43abc49",
   "metadata": {
    "id": "dn-6c02VmqiN",
    "tags": [
     "graded"
    ]
   },
   "outputs": [],
   "source": [
    "import os\n",
    "import zipfile\n",
    "import random\n",
    "import shutil\n",
    "import tensorflow as tf\n",
    "from tensorflow.keras.preprocessing.image import ImageDataGenerator\n",
    "from shutil import copyfile\n",
    "import matplotlib.pyplot as plt"
   ]
  },
  {
   "cell_type": "markdown",
   "id": "0000eebe",
   "metadata": {
    "id": "bLTQd84RUs1j"
   },
   "source": [
    "Faça o download do conjunto de dados de sua fonte original executando a célula abaixo. \n",
    "\n",
    "Observe que o arquivo `zip` que contém as imagens é descompactado no diretório `/tmp`."
   ]
  },
  {
   "cell_type": "code",
   "execution_count": null,
   "id": "dfe8528d",
   "metadata": {
    "id": "3sd9dQWa23aj",
    "lines_to_next_cell": 2,
    "tags": []
   },
   "outputs": [],
   "source": [
    "# Se o URL não funcionar, acesse https://www.microsoft.com/en-us/download/confirmation.aspx?id=54765\n",
    "# E clique com o botão direito do mouse no link \"Download Manually\" para obter um novo URL para o conjunto de dados\n",
    "\n",
    "# Observação: esse conjunto de dados é muito grande e o download levará algum tempo\n",
    "\n",
    "!wget --no-check-certificate \\\n",
    "    \"https://download.microsoft.com/download/3/E/1/3E1C3F21-ECDB-4869-8368-6DEBA77B919F/kagglecatsanddogs_5340.zip\" \\\n",
    "    -O \"/tmp/cats-and-dogs.zip\"\n",
    "\n",
    "local_zip = '/tmp/cats-and-dogs.zip'\n",
    "zip_ref   = zipfile.ZipFile(local_zip, 'r')\n",
    "zip_ref.extractall('/tmp')\n",
    "zip_ref.close()"
   ]
  },
  {
   "cell_type": "markdown",
   "id": "4dd9f52b",
   "metadata": {
    "id": "e_HsUV9WVJHL"
   },
   "source": [
    "Agora as imagens estão armazenadas no diretório `/tmp/PetImages`. Há um subdiretório para cada classe, portanto, um para cães e outro para gatos."
   ]
  },
  {
   "cell_type": "code",
   "execution_count": null,
   "id": "76034c9d",
   "metadata": {
    "id": "DM851ZmN28J3",
    "tags": [
     "graded"
    ]
   },
   "outputs": [],
   "source": [
    "\n",
    "source_path = '/tmp/PetImages'\n",
    "\n",
    "source_path_dogs = os.path.join(source_path, 'Dog')\n",
    "source_path_cats = os.path.join(source_path, 'Cat')\n",
    "\n",
    "# Exclui todos os arquivos que não sejam de imagem (há dois arquivos .db incluídos no conjunto de dados)\n",
    "!find /tmp/PetImages/ -type f ! -name \"*.jpg\" -exec rm {} +\n",
    "\n",
    "# os.listdir retorna uma lista contendo todos os arquivos sob o caminho fornecido\n",
    "print(f\"Há {len(os.listdir(source_path_dogs))} imagens de cães.\")\n",
    "print(f\"Há {len(os.listdir(source_path_cats))} imagens de gatos.\")"
   ]
  },
  {
   "cell_type": "markdown",
   "id": "1b32b528",
   "metadata": {
    "id": "G7dI86rmRGmC"
   },
   "source": [
    "**Resultado esperado:**\n",
    "\n",
    "```\n",
    "Há 12500 imagens de cães.\n",
    "Há 12500 imagens de gatos.\n",
    "```"
   ]
  },
  {
   "cell_type": "markdown",
   "id": "6753b45c",
   "metadata": {
    "id": "iFbMliudNIjW"
   },
   "source": [
    "Você precisará de um diretório para cats-v-dogs e subdiretórios para treinamento\n",
    "e validação. Esses, por sua vez, precisarão de subdiretórios para \"cats\" e \"dogs\". Para isso, complete o comando `create_train_val_dirs` abaixo:"
   ]
  },
  {
   "cell_type": "code",
   "execution_count": null,
   "id": "1e6c840a",
   "metadata": {
    "cellView": "code",
    "id": "F-QkLjxpmyK2",
    "tags": [
     "graded"
    ]
   },
   "outputs": [],
   "source": [
    "# Definir o diretório raiz\n",
    "root_dir = '/tmp/cats-v-dogs'\n",
    "\n",
    "# Diretório vazio para evitar FileExistsError se a função for executada várias vezes\n",
    "if os.path.exists(root_dir):\n",
    "  shutil.rmtree(root_dir)\n",
    "\n",
    "def create_train_val_dirs(root_path):\n",
    "  \"\"\"\n",
    "  Cria diretórios para os conjuntos de treinamento e teste\n",
    "  \n",
    "  Args:\n",
    "    root_path (string) - o caminho do diretório base para criar subdiretórios\n",
    "  \n",
    "  Retorna:\n",
    "    Nenhum\n",
    "  \"\"\"\n",
    "  ### COMECE O CÓDIGO AQUI\n",
    "\n",
    "  # DICA:\n",
    "  # Use os.makedirs para criar seus diretórios com subdiretórios intermediários\n",
    "  # Não codifique os caminhos. Use os.path.join para anexar os novos diretórios ao parâmetro root_path\n",
    "\n",
    "\n",
    "  pass\n",
    "  \n",
    "  ### TERMINE O CÓDIGO AQUI\n",
    "\n",
    "  \n",
    "try:\n",
    "  create_train_val_dirs(root_path=root_dir)\n",
    "except FileExistsError:\n",
    "  print(\"Você não deveria estar vendo isso, pois o diretório superior é removido antes\")"
   ]
  },
  {
   "cell_type": "code",
   "execution_count": null,
   "id": "08f735fe",
   "metadata": {
    "id": "5dhtL344OK00",
    "tags": [
     "graded"
    ]
   },
   "outputs": [],
   "source": [
    "# Teste sua função create_train_val_dirs\n",
    "\n",
    "for rootdir, dirs, files in os.walk(root_dir):\n",
    "    for subdir in dirs:\n",
    "        print(os.path.join(rootdir, subdir))"
   ]
  },
  {
   "cell_type": "markdown",
   "id": "09e13d4e",
   "metadata": {
    "id": "D7A0RK3IQsvg"
   },
   "source": [
    "**Saída esperada (a ordem dos diretórios pode variar):**\n",
    "\n",
    "``` txt\n",
    "/tmp/cats-v-dogs/training\n",
    "/tmp/cats-v-dogs/validation\n",
    "/tmp/cats-v-dogs/training/cats\n",
    "/tmp/cats-v-dogs/training/dogs\n",
    "/tmp/cats-v-dogs/validation/cats\n",
    "/tmp/cats-v-dogs/validation/dogs\n",
    "\n",
    "```"
   ]
  },
  {
   "cell_type": "markdown",
   "id": "4a42e0f5",
   "metadata": {},
   "source": [
    "Codifique a função `split_data` que recebe os seguintes argumentos:\n",
    "- SOURCE_DIR: diretório que contém os arquivos\n",
    "\n",
    "- TRAINING_DIR: diretório para o qual uma parte dos arquivos será copiada (será usado para treinamento)\n",
    "- VALIDATION_DIR: diretório para o qual uma parte dos arquivos será copiada (será usado para validação)\n",
    "- SPLIT_SIZE: determina a parte das imagens usadas para treinamento.\n",
    "\n",
    "Os arquivos devem ser randomizados, de modo que o conjunto de treinamento seja uma amostra aleatória dos arquivos e o conjunto de validação seja composto pelos arquivos restantes.\n",
    "\n",
    "Por exemplo, se `SOURCE_DIR` for `PetImages/Cat` e `SPLIT_SIZE` for .9, 90% das imagens em `PetImages/Cat` serão copiadas para o diretório `TRAINING_DIR\n",
    "e 10% das imagens serão copiadas para o diretório `VALIDATION_DIR`.\n",
    "\n",
    "Todas as imagens devem ser verificadas antes da cópia, portanto, se o tamanho do arquivo for zero, elas serão omitidas do processo de cópia. Se esse for o caso, sua função deverá imprimir uma mensagem como `\"<NOME DO ARQUIVO> tem tamanho zero, portanto será ignorada.\"`. **Você deve executar essa verificação antes da divisão para que apenas as imagens diferentes de zero sejam consideradas ao fazer a divisão real.**\n",
    "\n",
    "\n",
    "Dicas:\n",
    "\n",
    "- `os.listdir(DIRECTORY)` retorna uma lista com o conteúdo desse diretório.\n",
    "\n",
    "- `os.path.getsize(PATH)` retorna o tamanho do arquivo\n",
    "\n",
    "- `copyfile(source, destination)` copia um arquivo da origem para o destino\n",
    "\n",
    "- `random.sample(list, len(list))` embaralha uma lista"
   ]
  },
  {
   "cell_type": "code",
   "execution_count": null,
   "id": "e1c123a7",
   "metadata": {
    "cellView": "code",
    "id": "zvSODo0f9LaU",
    "tags": [
     "graded"
    ]
   },
   "outputs": [],
   "source": [
    "def split_data(SOURCE_DIR, TRAINING_DIR, VALIDATION_DIR, SPLIT_SIZE):\n",
    "  \"\"\"\n",
    "  Divide os dados em conjuntos de treinamento e teste\n",
    "  \n",
    "  Args:\n",
    "    SOURCE_DIR (string): caminho do diretório que contém as imagens\n",
    "    TRAINING_DIR (string): caminho do diretório a ser usado para treinamento\n",
    "    VALIDATION_DIR (string): caminho do diretório a ser usado para validação\n",
    "    SPLIT_SIZE (float): proporção do conjunto de dados a ser usado para treinamento\n",
    "    \n",
    "  Retorna:\n",
    "    Nenhum\n",
    "  \"\"\"\n",
    "\n",
    "  ### COMECE O CÓDIGO AQUI\n",
    "\n",
    "  pass\n",
    "\n",
    "  ### TERMINE O CÓDIGO AQUI"
   ]
  },
  {
   "cell_type": "code",
   "execution_count": null,
   "id": "7f488106",
   "metadata": {
    "id": "FlIdoUeX9S-9",
    "tags": [
     "graded"
    ]
   },
   "outputs": [],
   "source": [
    "# Teste sua função split_data\n",
    "\n",
    "# Definir caminhos\n",
    "CAT_SOURCE_DIR = \"/tmp/PetImages/Cat/\"\n",
    "DOG_SOURCE_DIR = \"/tmp/PetImages/Dog/\"\n",
    "\n",
    "TRAINING_DIR = \"/tmp/cats-v-dogs/training/\"\n",
    "VALIDATION_DIR = \"/tmp/cats-v-dogs/validation/\"\n",
    "\n",
    "TRAINING_CATS_DIR = os.path.join(TRAINING_DIR, \"cats/\")\n",
    "VALIDATION_CATS_DIR = os.path.join(VALIDATION_DIR, \"cats/\")\n",
    "\n",
    "TRAINING_DOGS_DIR = os.path.join(TRAINING_DIR, \"dogs/\")\n",
    "VALIDATION_DOGS_DIR = os.path.join(VALIDATION_DIR, \"dogs/\")\n",
    "\n",
    "# Diretórios vazios para o caso de você executar essa célula várias vezes\n",
    "if len(os.listdir(TRAINING_CATS_DIR)) > 0:\n",
    "  for file in os.scandir(TRAINING_CATS_DIR):\n",
    "    os.remove(file.path)\n",
    "if len(os.listdir(TRAINING_DOGS_DIR)) > 0:\n",
    "  for file in os.scandir(TRAINING_DOGS_DIR):\n",
    "    os.remove(file.path)\n",
    "if len(os.listdir(VALIDATION_CATS_DIR)) > 0:\n",
    "  for file in os.scandir(VALIDATION_CATS_DIR):\n",
    "    os.remove(file.path)\n",
    "if len(os.listdir(VALIDATION_DOGS_DIR)) > 0:\n",
    "  for file in os.scandir(VALIDATION_DOGS_DIR):\n",
    "    os.remove(file.path)\n",
    "\n",
    "# Definir a proporção de imagens usadas para treinamento\n",
    "split_size = .9\n",
    "\n",
    "# Executar a função\n",
    "# OBSERVAÇÃO: as mensagens sobre imagens de comprimento zero devem ser impressas\n",
    "split_data(CAT_SOURCE_DIR, TRAINING_CATS_DIR, VALIDATION_CATS_DIR, split_size)\n",
    "split_data(DOG_SOURCE_DIR, TRAINING_DOGS_DIR, VALIDATION_DOGS_DIR, split_size)\n",
    "\n",
    "# Verifique se o número de imagens corresponde à saída esperada\n",
    "\n",
    "# Sua função deve realizar cópias em vez de mover imagens, portanto, os diretórios originais devem conter imagens inalteradas\n",
    "print(f\"\\n\\nO diretório original de gatos tem {len(os.listdir(CAT_SOURCE_DIR))} imagens\")\n",
    "print(f\"O diretório original do cães tem {len(os.listdir(DOG_SOURCE_DIR))} images\\n\")\n",
    "\n",
    "# Training and validation splits\n",
    "print(f\"Há {len(os.listdir(TRAINING_CATS_DIR))} imagens de gatos para treinamento\")\n",
    "print(f\"Há {len(os.listdir(TRAINING_DOGS_DIR))} imagens de cães para treinamento\")\n",
    "print(f\"Há {len(os.listdir(VALIDATION_CATS_DIR))} imagens de gatos para validação\")\n",
    "print(f\"Há {len(os.listdir(VALIDATION_DOGS_DIR))} imagens de cães para validação\")"
   ]
  },
  {
   "cell_type": "markdown",
   "id": "dbb2aedc",
   "metadata": {
    "id": "hvskJNOFVSaz"
   },
   "source": [
    "**Saída Esperada:**\n",
    "\n",
    "```\n",
    "666.jpg tem tamanho zero, portanto será ignorada.\n",
    "11702.jpg tem tamanho zero, portanto será ignorada.\n",
    "\n",
    "\n",
    "O diretório original de gatos tem  12500 imagens\n",
    "O diretório original de cães tem 12500 imagens\n",
    "\n",
    "Há 11249 imagens de gatos para treinamento\n",
    "Há 11249 imagens de cães para treinamento\n",
    "Há 1250 imagens de gatos para validação\n",
    "Há 1250 imagens de cães para validação\n",
    "```"
   ]
  },
  {
   "cell_type": "markdown",
   "id": "32a30ba6",
   "metadata": {
    "id": "Zil4QmOD_mXF"
   },
   "source": [
    "Agora que você organizou os dados de uma forma que pode ser facilmente alimentada pelo `ImageDataGenerator` do Keras, é hora de codificar os geradores que produzirão lotes de imagens, tanto para treinamento quanto para validação. Para isso, complete a função `train_val_generators` abaixo.\n",
    "\n",
    "É importante observar que as imagens desse conjunto de dados vêm em uma variedade de resoluções. Felizmente, o método `flow_from_directory` permite que você padronize isso definindo uma tupla chamada `target_size` que será usada para converter cada imagem para essa resolução de destino. **Para este exercício, use um `target_size` de (150, 150)**.\n",
    "\n",
    "**Dica** \n",
    "\n",
    "Não use o aumento de dados definindo parâmetros extras ao instanciar a classe `ImageDataGenerator`. Isso fará com que o treinamento do seu modelo demore mais para atingir o limite de acurácia necessário para ser aprovado neste trabalho, e esse tópico será abordado na próxima atividade."
   ]
  },
  {
   "cell_type": "code",
   "execution_count": null,
   "id": "24714cb2",
   "metadata": {
    "cellView": "code",
    "id": "fQrZfVgz4j2g",
    "tags": [
     "graded"
    ]
   },
   "outputs": [],
   "source": [
    "def train_val_generators(TRAINING_DIR, VALIDATION_DIR):\n",
    "  \"\"\"\n",
    "  Cria os geradores de dados de treinamento e validação\n",
    "  \n",
    "  Args:\n",
    "    TRAINING_DIR (string): caminho do diretório que contém as imagens de treinamento\n",
    "    VALIDATION_DIR (string): caminho do diretório que contém as imagens de teste/validação\n",
    "    \n",
    "  Retorna:\n",
    "    train_generator, validation_generator - tupla contendo os geradores\n",
    "  \"\"\"\n",
    "  ### COMECE O CÓDIGO AQUI\n",
    "\n",
    "  # Instanciar a classe ImageDataGenerator (não se esqueça de definir o argumento rescale)\n",
    "  train_datagen = None\n",
    "\n",
    "  # Passe os argumentos apropriados para o método flow_from_directory\n",
    "  train_generator = train_datagen.flow_from_directory(directory=None,\n",
    "                                                      batch_size=None,\n",
    "                                                      class_mode=None,\n",
    "                                                      target_size=(None, None))\n",
    "\n",
    "  # Instanciar a classe ImageDataGenerator (não se esqueça de definir o argumento rescale)\n",
    "  validation_datagen = None\n",
    "\n",
    "  # Passe os argumentos apropriados para o método flow_from_directory\n",
    "  validation_generator = validation_datagen.flow_from_directory(directory=None,\n",
    "                                                                batch_size=None,\n",
    "                                                                class_mode=None,\n",
    "                                                                target_size=(None, None))\n",
    "  ### TERMINE O CÓDIGO AQUI\n",
    "  return train_generator, validation_generator"
   ]
  },
  {
   "cell_type": "code",
   "execution_count": null,
   "id": "0a13c894",
   "metadata": {
    "id": "qM7FxrjGiobD",
    "tags": [
     "graded"
    ]
   },
   "outputs": [],
   "source": [
    "# Teste seus geradores\n",
    "train_generator, validation_generator = train_val_generators(TRAINING_DIR, VALIDATION_DIR)"
   ]
  },
  {
   "cell_type": "markdown",
   "id": "2992173c",
   "metadata": {
    "id": "tiPNmSfZjHwJ"
   },
   "source": [
    "**Saída Esperada:**\n",
    "\n",
    "```\n",
    "Found 22498 images belonging to 2 classes.\n",
    "Found 2500 images belonging to 2 classes.\n",
    "```\n"
   ]
  },
  {
   "cell_type": "markdown",
   "id": "4b01ac22",
   "metadata": {
    "id": "TI3oEmyQCZoO"
   },
   "source": [
    "Uma última etapa antes do treinamento é definir a arquitetura do modelo que será treinado.\n",
    "\n",
    "Complete a função `create_model` abaixo, que deve retornar um modelo `Sequential` do Keras.\n",
    "\n",
    "Além de definir a arquitetura do modelo, você também deve compilá-lo. Portanto, certifique-se de usar uma função `loss` que seja compatível com o `class_mode` definido no exercício anterior, que também deve ser compatível com a saída da sua rede. Você poderá saber se elas não são compatíveis se receber um erro durante o treinamento.\n",
    "\n",
    "**Observe que você deve usar pelo menos 3 camadas de convolução para obter o desempenho desejado."
   ]
  },
  {
   "cell_type": "code",
   "execution_count": null,
   "id": "2141d195",
   "metadata": {
    "cellView": "code",
    "id": "oDPK8tUB_O9e",
    "lines_to_next_cell": 2,
    "tags": [
     "graded"
    ]
   },
   "outputs": [],
   "source": [
    "def create_model():\n",
    "  # DEFINIR UM MODELO KERAS PARA CLASSIFICAR GATOS E CACHORROS\n",
    "  # USE PELO MENOS 3 CAMADAS DE CONVOLUÇÃO\n",
    "\n",
    "  ### COMECE O CÓDIGO AQUI\n",
    "\n",
    "  model = tf.keras.models.Sequential([ \n",
    "      None,\n",
    "  ])\n",
    "\n",
    "  \n",
    "  model.compile(optimizer=None,\n",
    "                loss=None,\n",
    "                metrics=['accuracy']) \n",
    "    \n",
    "  ### TERMINE O CÓDIGO AQUI\n",
    "\n",
    "  return model"
   ]
  },
  {
   "cell_type": "markdown",
   "id": "5fe2ed9f",
   "metadata": {
    "id": "SMFNJZmTCZv6"
   },
   "source": [
    "Agora é hora de treinar seu modelo!\n",
    "\n",
    "**Nota:** Você pode ignorar os avisos `UserWarning: Possivelmente dados EXIF corrompidos.`."
   ]
  },
  {
   "cell_type": "code",
   "execution_count": null,
   "id": "87cbef80",
   "metadata": {
    "id": "5qE1G6JB4fMn",
    "tags": []
   },
   "outputs": [],
   "source": [
    "# Obter o modelo não treinado\n",
    "model = create_model()\n",
    "\n",
    "# Treinar o modelo\n",
    "# Observe que isso pode levar algum tempo.\n",
    "history = model.fit(train_generator,\n",
    "                    epochs=15,\n",
    "                    verbose=1,\n",
    "                    validation_data=validation_generator)"
   ]
  },
  {
   "cell_type": "markdown",
   "id": "80ccc14c",
   "metadata": {
    "id": "VGsaDMc-GMd4"
   },
   "source": [
    "Após o término do treinamento, você pode executar a seguinte célula para verificar a acurácia do treinamento e da validação obtida no final de cada época.\n",
    "\n",
    "**Para ser aprovado nesta tarefa, seu modelo deve atingir uma acurácia de treinamento de pelo menos 95% e uma acurácia de validação de pelo menos 80%**. Se o seu modelo não atingiu esses limites, tente treinar novamente com uma arquitetura de modelo diferente e lembre-se de usar pelo menos 3 camadas convolucionais."
   ]
  },
  {
   "cell_type": "code",
   "execution_count": null,
   "id": "32146607",
   "metadata": {
    "id": "MWZrJN4-65RC",
    "tags": []
   },
   "outputs": [],
   "source": [
    "#-----------------------------------------------------------\n",
    "# Recupere uma lista de resultados de lista em dados de treinamento e teste\n",
    "# conjuntos para cada época de treinamento\n",
    "#-----------------------------------------------------------\n",
    "acc=history.history['accuracy']\n",
    "val_acc=history.history['val_accuracy']\n",
    "loss=history.history['loss']\n",
    "val_loss=history.history['val_loss']\n",
    "\n",
    "epochs=range(len(acc)) # Obter o número de épocas\n",
    "\n",
    "#------------------------------------------------\n",
    "# Plotar a acurácia do treinamento e da validação por época\n",
    "#------------------------------------------------\n",
    "plt.plot(epochs, acc, 'r', \"Acurária de Treino\")\n",
    "plt.plot(epochs, val_acc, 'b', \"Acurácia de Validação\")\n",
    "plt.title('Acurácia do treinamento e da validação')\n",
    "plt.show()\n",
    "print(\"\")\n",
    "\n",
    "#------------------------------------------------\n",
    "# Plotar a perda de treinamento e validação por época\n",
    "#------------------------------------------------\n",
    "plt.plot(epochs, loss, 'r', \"Perda de treinamento\")\n",
    "plt.plot(epochs, val_loss, 'b', \"Perda de validação\")\n",
    "plt.show()"
   ]
  },
  {
   "cell_type": "markdown",
   "id": "3288957c",
   "metadata": {
    "id": "NYIaqsN2pav6"
   },
   "source": [
    "Você provavelmente perceberá que o modelo com _overfitting_, o que significa que ele está fazendo um ótimo trabalho na classificação das imagens no conjunto de treinamento, mas tem dificuldades com os novos dados. Isso é perfeitamente normal e você aprenderá a atenuar esse problema na próxima atividade."
   ]
  },
  {
   "cell_type": "markdown",
   "id": "e8787d3a",
   "metadata": {
    "id": "joAaZSWWpbOI"
   },
   "source": [
    "**Parabéns por terminar essa tarefa!**\n",
    "\n",
    "Você implementou com sucesso uma rede neural convolucional que classifica imagens de gatos e cachorros, juntamente com as funções auxiliares necessárias para pré-processar as imagens!\n",
    "\n",
    "**Continue assim!"
   ]
  }
 ],
 "metadata": {
  "accelerator": "GPU",
  "kernelspec": {
   "display_name": "Python 3",
   "language": "python",
   "name": "python3"
  },
  "language_info": {
   "codemirror_mode": {
    "name": "ipython",
    "version": 3
   },
   "file_extension": ".py",
   "mimetype": "text/x-python",
   "name": "python",
   "nbconvert_exporter": "python",
   "pygments_lexer": "ipython3",
   "version": "3.7.4"
  }
 },
 "nbformat": 4,
 "nbformat_minor": 5
}
