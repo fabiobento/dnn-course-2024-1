{
 "cells": [
  {
   "cell_type": "markdown",
   "id": "7c76c4c4",
   "metadata": {},
   "source": [
    "<a href=\"https://colab.research.google.com/github/fabiobento/dnn-course-2024-1/blob/main/00_course_folder/cert_prof_convnets/class_04/12%20-%20Atividade%20Avaliativa/C2W4_Assignment.ipynb\" target=\"_parent\"><img src=\"https://colab.research.google.com/assets/colab-badge.svg\" alt=\"Open In Colab\"/></a>"
   ]
  },
  {
   "cell_type": "markdown",
   "id": "04115089",
   "metadata": {},
   "source": [
    "adaptado de [Certificado Profissional Desenvolvedor do TensorFlow](https://www.coursera.org/professional-certificates/tensorflow-in-practice) de [Laurence Moroney](https://laurencemoroney.com/)"
   ]
  },
  {
   "cell_type": "markdown",
   "id": "55425ba6",
   "metadata": {
    "id": "0l5n9ToXGbRC"
   },
   "source": [
    "# Classificação multiclasse\n",
    "\n",
    "Nesta atividade, você terá a oportunidade de trabalhar em um problema de classificação multiclasse. Você usará o conjunto de dados [Sign Language MNIST](https://www.kaggle.com/datamunge/sign-language-mnist), que contém 28x28 imagens de mãos representando as 26 letras do alfabeto inglês. \n",
    "\n",
    "Você precisará pré-processar os dados para que possam ser inseridos em sua rede neural convolucional para classificar corretamente cada imagem como a letra que ela representa.\n",
    "\n",
    "\n",
    "Vamos começar!"
   ]
  },
  {
   "cell_type": "code",
   "execution_count": null,
   "id": "689f1257",
   "metadata": {
    "id": "wYtuKeK0dImp",
    "tags": [
     "graded"
    ]
   },
   "outputs": [],
   "source": [
    "import csv\n",
    "import string\n",
    "import numpy as np\n",
    "import tensorflow as tf\n",
    "import matplotlib.pyplot as plt\n",
    "from tensorflow.keras.preprocessing.image import ImageDataGenerator, array_to_img"
   ]
  },
  {
   "cell_type": "markdown",
   "id": "8e2ff6d2",
   "metadata": {
    "id": "-zwAPcriH40C"
   },
   "source": [
    "Faça o download dos conjuntos de treinamento e teste (o conjunto de teste será, na verdade, usado como um conjunto de validação):"
   ]
  },
  {
   "cell_type": "code",
   "execution_count": null,
   "id": "299f1a94",
   "metadata": {},
   "outputs": [],
   "source": [
    "!pip install gdown==5.1.0"
   ]
  },
  {
   "cell_type": "code",
   "execution_count": null,
   "id": "c2187066",
   "metadata": {
    "colab": {
     "base_uri": "https://localhost:8080/"
    },
    "id": "lydsaiTvaRhI",
    "outputId": "c93fb5cc-0194-43c6-afea-4260cdf6f0c3",
    "tags": []
   },
   "outputs": [],
   "source": [
    "# Sign_mnist_train.csv\n",
    "!gdown --id 1z0DkA9BytlLxO1C0BAWzknLyQmZAp0HR\n",
    "# sign_mnist_test.csv\n",
    "!gdown --id 1z1BIj4qmri59GWBG4ivMNFtpZ4AXIbzg"
   ]
  },
  {
   "cell_type": "markdown",
   "id": "7cb15ecc",
   "metadata": {
    "id": "tnVJZI96IMh0"
   },
   "source": [
    "Defina algumas variáveis globais com o caminho para os dois arquivos que você acabou de baixar:"
   ]
  },
  {
   "cell_type": "code",
   "execution_count": null,
   "id": "3b992532",
   "metadata": {
    "id": "N3fQlI99JPw9",
    "tags": [
     "graded"
    ]
   },
   "outputs": [],
   "source": [
    "TRAINING_FILE = './sign_mnist_train.csv'\n",
    "VALIDATION_FILE = './sign_mnist_test.csv'"
   ]
  },
  {
   "cell_type": "markdown",
   "id": "dd627a35",
   "metadata": {
    "id": "iybvOtoHISHV"
   },
   "source": [
    "Diferentemente das tarefas anteriores, você não terá as imagens reais fornecidas; em vez disso, terá os dados serializados como arquivos `csv`.\n",
    "\n",
    "Dê uma olhada na aparência dos dados no arquivo `csv`:"
   ]
  },
  {
   "cell_type": "code",
   "execution_count": null,
   "id": "3188a991",
   "metadata": {
    "colab": {
     "base_uri": "https://localhost:8080/"
    },
    "id": "ftfeq3JYagks",
    "outputId": "3ed1dd14-7483-425c-d172-b982aeca549c",
    "tags": [
     "graded"
    ]
   },
   "outputs": [],
   "source": [
    "with open(TRAINING_FILE) as training_file:\n",
    "  line = training_file.readline()\n",
    "  print(f\"First line (header) looks like this:\\n{line}\")\n",
    "  line = training_file.readline()\n",
    "  print(f\"Each subsequent line (data points) look like this:\\n{line}\")"
   ]
  },
  {
   "cell_type": "markdown",
   "id": "68d1eb72",
   "metadata": {
    "id": "RH23LS7RHA-U"
   },
   "source": [
    "Como você pode ver, cada arquivo inclui um cabeçalho (a primeira linha) e cada ponto de dados subsequente é representado como uma linha que contém 785 valores. \n",
    "\n",
    "O primeiro valor é o rótulo (a representação numérica de cada letra) e os outros 784 valores são o valor de cada pixel da imagem. \n",
    "\n",
    "Lembre-se de que as imagens originais têm uma resolução de 28x28, o que totaliza 784 pixels."
   ]
  },
  {
   "cell_type": "markdown",
   "id": "77af7d9f",
   "metadata": {
    "id": "_Slnchp3JkCk"
   },
   "source": [
    " ## Analisando o conjunto de dados\n",
    " \n",
    " Agora, complete a função `parse_data_from_input` abaixo.\n",
    "\n",
    " Essa função deve ser capaz de ler um arquivo passado como entrada e retornar 2 arrays numpy, um contendo os rótulos e outro contendo a representação 28x28 de cada imagem no arquivo. Esses arrays numéricos devem ser do tipo `float64`.\n",
    "\n",
    " Alguns aspectos a serem considerados:\n",
    " \n",
    "- A primeira linha contém os cabeçalhos das colunas, portanto, você deve ignorá-la.\n",
    "\n",
    "- Cada linha sucessiva contém 785 valores separados por vírgulas entre 0 e 255\n",
    "  - O primeiro valor é o rótulo\n",
    "\n",
    "  - Os demais são os valores de pixel para essa imagem\n",
    "  \n",
    "**Dica**:\n",
    "\n",
    "Você tem duas opções para resolver essa função. \n",
    "  \n",
    "   - 1. uma é usar `csv.reader` e criar um loop for que leia a partir dele; se você adotar essa abordagem, leve em consideração o seguinte:\n",
    "\n",
    "        - O `csv.reader` retorna um iterável que retorna uma linha do arquivo csv em cada iteração.\n",
    "    Seguindo essa convenção, row[0] tem o rótulo e row[1:] tem os 784 valores de pixel.\n",
    "\n",
    "        - Para remodelar os arrays (passando de 784 para 28x28), você pode usar funções como [`np.array_split`](https://numpy.org/doc/stable/reference/generated/numpy.array_split.html) ou [`np.reshape`](https://numpy.org/doc/stable/reference/generated/numpy.reshape.html).\n",
    "\n",
    "        - Para a conversão de tipo dos arrays numpy, use o método [`np.ndarray.astype`](https://numpy.org/doc/stable/reference/generated/numpy.ndarray.astype.html).\n",
    "\n",
    "\n",
    "   - 2) A outra opção é usar o `np.loadtxt`. Você pode encontrar a documentação [aqui](https://numpy.org/doc/stable/reference/generated/numpy.loadtxt.html).\n",
    "   \n",
    "   \n",
    "Independentemente do método escolhido, sua função deve terminar a execução em menos de 1 minuto. Se perceber que sua função está demorando muito para ser executada, tente alterar sua implementação. "
   ]
  },
  {
   "cell_type": "code",
   "execution_count": null,
   "id": "47096869",
   "metadata": {
    "cellView": "code",
    "id": "EO3u5NIhdNgE",
    "lines_to_next_cell": 2,
    "tags": [
     "graded"
    ]
   },
   "outputs": [],
   "source": [
    "def parse_data_from_input(filename):\n",
    "  \"\"\"\n",
    "  Analisa as imagens e os rótulos de um arquivo CSV\n",
    "  \n",
    "  Args:\n",
    "    filename (string): caminho para o arquivo CSV\n",
    "    \n",
    "  Retorna:\n",
    "    images, labels: tupla de matrizes numpy contendo as imagens e os rótulos\n",
    "  \"\"\"\n",
    "  with open(filename) as file:\n",
    "    ### COMECE O CÓDIGO AQUI\n",
    "\n",
    "    # Use csv.reader, passando o delimitador apropriado\n",
    "    # Lembre-se de que o csv.reader pode ser iterado e retorna uma linha em cada iteração\n",
    "    csv_reader = csv.reader(file, delimiter=None)\n",
    "    \n",
    "    labels = None\n",
    "    images = None\n",
    "\n",
    "    \n",
    "    ### TERMINE O CÓDIGO AQUI\n",
    "\n",
    "    return images, labels"
   ]
  },
  {
   "cell_type": "code",
   "execution_count": null,
   "id": "4ae53f24",
   "metadata": {
    "colab": {
     "base_uri": "https://localhost:8080/"
    },
    "id": "HeSMXBTUsnhl",
    "outputId": "820ed0cf-98ae-4f77-cfad-ca9b3cab98b9",
    "tags": [
     "graded"
    ]
   },
   "outputs": [],
   "source": [
    "# Teste sua função\n",
    "training_images, training_labels = parse_data_from_input(TRAINING_FILE)\n",
    "validation_images, validation_labels = parse_data_from_input(VALIDATION_FILE)\n",
    "\n",
    "print(f\"As imagens de treino tem o formato: {training_images.shape} e tipo: {training_images.dtype}\")\n",
    "print(f\"Os rótulos de treino tem o formato: {training_labels.shape} e tipo: {training_labels.dtype}\")\n",
    "print(f\"As imagens de validação tem o formato: {validation_images.shape} e tipo: {validation_images.dtype}\")\n",
    "print(f\"Os rótulos de validação tem o formato: {validation_labels.shape} e tipo: {validation_labels.dtype}\")"
   ]
  },
  {
   "cell_type": "markdown",
   "id": "1b949055",
   "metadata": {
    "id": "xwqJykm1JqvK"
   },
   "source": [
    "**Saída Esperada:**\n",
    "```\n",
    "As imagens de treino tem o formato: (27455, 28, 28) e tipo: float64\n",
    "Os rótulos de treino tem o formato: (27455,) e tipo: float64\n",
    "As imagens de validação tem o formato: (7172, 28, 28) e tipo: float64\n",
    "Os rótulos de validação tem o formato: (7172,) e tipo: float64\n",
    "```"
   ]
  },
  {
   "cell_type": "markdown",
   "id": "a04e8e23",
   "metadata": {
    "id": "tURDCvUKsXIw"
   },
   "source": [
    "## Visualizando as matrizes numpy\n",
    "\n",
    "Agora que você converteu os dados csv iniciais em um formato compatível com as tarefas de visão computacional, reserve um momento para ver como são as imagens do conjunto de dados:"
   ]
  },
  {
   "cell_type": "code",
   "execution_count": null,
   "id": "81605604",
   "metadata": {
    "colab": {
     "base_uri": "https://localhost:8080/",
     "height": 150
    },
    "id": "BsAH3kVWB1ye",
    "outputId": "18121aa6-4d65-4bd8-88dd-e061e94e0081",
    "tags": []
   },
   "outputs": [],
   "source": [
    "# Plote uma amostra de 10 imagens do conjunto de treinamento\n",
    "def plot_categories(training_images, training_labels):\n",
    "  fig, axes = plt.subplots(1, 10, figsize=(16, 15))\n",
    "  axes = axes.flatten()\n",
    "  letters = list(string.ascii_lowercase)\n",
    "\n",
    "  for k in range(10):\n",
    "    img = training_images[k]\n",
    "    img = np.expand_dims(img, axis=-1)\n",
    "    img = array_to_img(img)\n",
    "    ax = axes[k]\n",
    "    ax.imshow(img, cmap=\"Greys_r\")\n",
    "    ax.set_title(f\"{letters[int(training_labels[k])]}\")\n",
    "    ax.set_axis_off()\n",
    "\n",
    "  plt.tight_layout()\n",
    "  plt.show()\n",
    "\n",
    "plot_categories(training_images, training_labels)"
   ]
  },
  {
   "cell_type": "markdown",
   "id": "a77c3fae",
   "metadata": {
    "id": "0QNkjIRCN5Kg"
   },
   "source": [
    "## Criação dos geradores para a CNN\n",
    "\n",
    "Agora que você organizou com êxito os dados de uma forma que pode ser facilmente alimentada pelo `ImageDataGenerator` do Keras, é hora de codificar os geradores que produzirão lotes de imagens, tanto para treinamento quanto para validação. Para isso, complete a função `train_val_generators` abaixo.\n",
    "\n",
    "Algumas observações importantes:\n",
    "\n",
    "- As imagens desse conjunto de dados vêm com a mesma resolução, portanto, você não precisa definir um `target_size` personalizado nesse caso. Na verdade, você nem mesmo pode fazer isso porque, desta vez, não usará o método `flow_from_directory` (como nas atribuições anteriores). Em vez disso, você usará o método [`flow`](https://www.tensorflow.org/api_docs/python/tf/keras/preprocessing/image/ImageDataGenerator#flow).\n",
    "- Você precisa adicionar a dimensão \"color\" aos arrays numpy que codificam as imagens. Essas imagens são em preto e branco, portanto, essa nova dimensão deve ter um tamanho de 1 (em vez de 3, que é usado quando se lida com imagens coloridas). Para isso, dê uma olhada na função [`np.expand_dims`](https://numpy.org/doc/stable/reference/generated/numpy.expand_dims.html)."
   ]
  },
  {
   "cell_type": "code",
   "execution_count": null,
   "id": "42157a8c",
   "metadata": {
    "cellView": "code",
    "id": "9ZDIvKGtNISO",
    "lines_to_next_cell": 2,
    "tags": [
     "graded"
    ]
   },
   "outputs": [],
   "source": [
    "def train_val_generators(training_images, training_labels, validation_images, validation_labels):\n",
    "  \"\"\"\n",
    "  Cria os geradores de dados de treinamento e validação\n",
    "  \n",
    "  Args:\n",
    "    training_images (array): imagens analisadas do arquivo CSV de treinamento\n",
    "    training_labels (matriz): rótulos analisados do arquivo CSV de treinamento\n",
    "    validation_images (matriz): imagens analisadas do arquivo CSV de teste\n",
    "    validation_labels (matriz): rótulos analisados do arquivo CSV de teste\n",
    "    \n",
    "  Retorna:\n",
    "    train_generator, validation_generator - tupla contendo os geradores\n",
    "  \"\"\"\n",
    "  ### COMECE O CÓDIGO AQUI\n",
    "\n",
    "  # Nesta seção, você terá de adicionar outra dimensão aos dados\n",
    "  # Então, por exemplo, se sua matriz for (10000, 28, 28)\n",
    "  # Você precisará torná-lo (10000, 28, 28, 1)\n",
    "  # Dica: np.expand_dims\n",
    "\n",
    "  training_images = None\n",
    "  validation_images = None\n",
    "\n",
    "  # Instanciar a classe ImageDataGenerator \n",
    "  # Não se esqueça de normalizar os valores de pixel \n",
    "  # e definir argumentos para aumentar as imagens (se desejado)\n",
    "  train_datagen = None\n",
    "\n",
    "\n",
    "  # Passe os argumentos apropriados para o método de fluxo\n",
    "  train_generator = train_datagen.flow(x=None,\n",
    "                                       y=None,\n",
    "                                       batch_size=32) \n",
    "\n",
    "  \n",
    "  # Instanciar a classe ImageDataGenerator (não se esqueça de definir o argumento rescale)\n",
    "  # Lembre-se de que os dados de validação não devem ser aumentados\n",
    "  validation_datagen = None\n",
    "\n",
    "  # Passe os argumentos apropriados para o método de fluxo\n",
    "  validation_generator = validation_datagen.flow(x=None,\n",
    "                                                 y=None,\n",
    "                                                 batch_size=32) \n",
    "\n",
    "  ### TERMINE SEU CÓDIGO AQUI\n",
    "\n",
    "  return train_generator, validation_generator"
   ]
  },
  {
   "cell_type": "code",
   "execution_count": null,
   "id": "0225e001",
   "metadata": {
    "colab": {
     "base_uri": "https://localhost:8080/"
    },
    "id": "2oxxBZDwPozr",
    "outputId": "5f1a552b-652d-42f1-e3d1-9aa58c7423e1",
    "tags": [
     "graded"
    ]
   },
   "outputs": [],
   "source": [
    "# Teste seus geradores\n",
    "train_generator, validation_generator = train_val_generators(training_images, training_labels, validation_images, validation_labels)\n",
    "\n",
    "print(f\"As imagens de treino do gerador têm forma: {train_generator.x.shape}\")\n",
    "print(f\"Os rótulos de treino do gerador têm forma: {train_generator.y.shape}\")\n",
    "print(f\"As imagens de validação do gerador têm forma: {validation_generator.x.shape}\")\n",
    "print(f\"Os rótulos de validação do gerador têm forma: {validation_generator.y.shape}\")"
   ]
  },
  {
   "cell_type": "markdown",
   "id": "806fbddc",
   "metadata": {
    "id": "cok5oQa5Rknv"
   },
   "source": [
    "**Saída Esperada:**\n",
    "```\n",
    "As imagens de treino do gerador têm forma: (27455, 28, 28, 1)\n",
    "Os rótulos de treino do gerador têm forma: (27455,)\n",
    "Os rótulos de validação do gerador têm forma: (7172, 28, 28, 1)\n",
    "Os rótulos de validação do gerador têm forma: (7172,)\n",
    "```"
   ]
  },
  {
   "cell_type": "markdown",
   "id": "79415fd9",
   "metadata": {
    "id": "CkHUj4PsP_jT"
   },
   "source": [
    "## Codificação da CNN\n",
    "\n",
    "Uma última etapa antes do treinamento é definir a arquitetura do modelo.\n",
    "\n",
    "Complete a função `create_model` abaixo. Essa função deve retornar um modelo do Keras que use a API `Sequential` ou `Functional`.\n",
    "\n",
    "A última camada de seu modelo deve ter um número de unidades igual ao número de letras do alfabeto inglês. Ela também deve usar uma função de ativação que produzirá as probabilidades por letra.\n",
    "\n",
    "*Observação: A [documentation](https://www.kaggle.com/datamunge/sign-language-mnist) do conjunto de dados menciona que, na verdade, não há casos para a última letra, Z, e isso permitirá que você reduza em um o número recomendado de unidades de saída acima. Se ainda não estiver convencido, pode ignorar esse fato com segurança por enquanto e estudá-lo mais tarde. Você será aprovado no trabalho mesmo sem essa pequena otimização.*\n",
    "\n",
    "Além de definir a arquitetura do modelo, você também deve compilá-lo, portanto, certifique-se de usar uma função `loss` que seja adequada para classificação multiclasse.\n",
    "\n",
    "**Observe que você não deve usar mais do que 2 camadas Conv2D e 2 camadas MaxPooling2D para obter o desempenho desejado.**"
   ]
  },
  {
   "cell_type": "code",
   "execution_count": null,
   "id": "f9598ae6",
   "metadata": {
    "cellView": "code",
    "id": "Rmb7S32cgRqS",
    "tags": [
     "graded"
    ]
   },
   "outputs": [],
   "source": [
    "def create_model():\n",
    "\n",
    "  ### INICIE O CÓDIGO AQUI       \n",
    "\n",
    "  # Definir o modelo\n",
    "  # Não use mais do que 2 Conv2D e 2 MaxPooling2D\n",
    "\n",
    "  model = None\n",
    "  \n",
    "\n",
    "  model.compile(optimizer = None,\n",
    "                loss = None,\n",
    "                metrics=[None])\n",
    "\n",
    "  ### TERMINE SEU CÓDIGO AQUI\n",
    "  \n",
    "  return model"
   ]
  },
  {
   "cell_type": "code",
   "execution_count": null,
   "id": "125be6c8",
   "metadata": {
    "colab": {
     "base_uri": "https://localhost:8080/"
    },
    "id": "-e7ywtgZS5pU",
    "lines_to_next_cell": 2,
    "outputId": "5bc05d6f-91fe-4cbf-a6b4-1d7495b47bef",
    "tags": []
   },
   "outputs": [],
   "source": [
    "# Salve seu modelo\n",
    "model = create_model()\n",
    "\n",
    "# Treine seu modelo\n",
    "history = model.fit(train_generator,\n",
    "                    epochs=15,\n",
    "                    validation_data=validation_generator)"
   ]
  },
  {
   "cell_type": "markdown",
   "id": "05b02793",
   "metadata": {
    "id": "mmpadXR_WGbK"
   },
   "source": [
    "Agora, dê uma olhada no seu histórico de treinamento:"
   ]
  },
  {
   "cell_type": "code",
   "execution_count": null,
   "id": "f1567eef",
   "metadata": {
    "colab": {
     "base_uri": "https://localhost:8080/",
     "height": 545
    },
    "id": "_Q3Zpr46dsij",
    "outputId": "906d642c-da0f-4e8e-93af-77e38570fa9b",
    "tags": []
   },
   "outputs": [],
   "source": [
    "# Trace o gráfico de precisão e perda no treinamento e na validação\n",
    "acc = history.history['accuracy']\n",
    "val_acc = history.history['val_accuracy']\n",
    "loss = history.history['loss']\n",
    "val_loss = history.history['val_loss']\n",
    "\n",
    "epochs = range(len(acc))\n",
    "\n",
    "plt.plot(epochs, acc, 'r', label='Acurácia de Treino')\n",
    "plt.plot(epochs, val_acc, 'b', label='Acurácia de Validação')\n",
    "plt.title('Acurácia de Treino e Validação')\n",
    "plt.legend()\n",
    "plt.figure()\n",
    "\n",
    "plt.plot(epochs, loss, 'r', label='Perda de Treino')\n",
    "plt.plot(epochs, val_loss, 'b', label='Perda de Validação')\n",
    "plt.title('Perda de treino e validação')\n",
    "plt.legend()\n",
    "\n",
    "plt.show()"
   ]
  },
  {
   "cell_type": "markdown",
   "id": "c50a2587",
   "metadata": {
    "id": "PdWizvXnXAGz"
   },
   "source": [
    "Você não será avaliado com base na acurácia do seu modelo, mas tente torná-la a mais alta possível tanto para treinamento quanto para validação, como um exercício opcional, **após enviar seu notebook para avaliação**.\n",
    "\n",
    "Uma referência razoável é atingir mais de 99% de precisão para treinamento e mais de 95% de precisão para validação em 15 épocas. Tente ajustar a arquitetura do seu modelo ou as técnicas de aumento para ver se você consegue atingir esses níveis de acurácia."
   ]
  },
  {
   "cell_type": "markdown",
   "id": "36599144",
   "metadata": {
    "id": "DmHC02GaTuDg"
   },
   "source": [
    "**Parabéns por terminar concluir a tarefa!**\n",
    "\n",
    "Você implementou com sucesso uma rede neural convolucional que é capaz de executar tarefas de classificação multiclasse! Bom trabalho!"
   ]
  }
 ],
 "metadata": {
  "accelerator": "GPU",
  "kernelspec": {
   "display_name": "Python 3 (ipykernel)",
   "language": "python",
   "name": "python3"
  },
  "language_info": {
   "codemirror_mode": {
    "name": "ipython",
    "version": 3
   },
   "file_extension": ".py",
   "mimetype": "text/x-python",
   "name": "python",
   "nbconvert_exporter": "python",
   "pygments_lexer": "ipython3",
   "version": "3.9.13"
  }
 },
 "nbformat": 4,
 "nbformat_minor": 5
}
